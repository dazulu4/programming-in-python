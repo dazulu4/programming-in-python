{
 "cells": [
  {
   "cell_type": "markdown",
   "id": "e17475d7",
   "metadata": {},
   "source": [
    "Desarrollo de Aplicaciones Web con Django\n",
    "===\n",
    "\n",
    "Django es un framework de Python que se utiliza para crear aplicaciones web complejas. Crearemos una aplicación web completamente funcional y, en el camino, aprenderemos algunas de las características más importantes del framework.\n",
    "\n"
   ]
  },
  {
   "cell_type": "markdown",
   "id": "96e50661",
   "metadata": {},
   "source": [
    "## Contenido\n",
    ">- [Estableciendo una conexión](#Estableciendo-una-conexión)\n",
    ">- [Creación, modificación y eliminación de una tabla](#Creación,-modificación-y-eliminación-de-una-tabla)\n",
    ">- [Insertando registros en una tabla](#Insertando-registros-en-una-tabla)\n",
    ">- [Consultando registros de la base de datos](#Consultando-registros-de-la-base-de-datos)\n",
    ">- [Filtrando resultados usando ```where```](#Filtrando-resultados-usando-where)\n",
    ">- [Manejando múltiples tablas usando ```join```](#Manejando-múltiples-tablas-usando-join)\n",
    ">- [Actualización y eliminación de registros](#Actualización-y-eliminación-de-registros)\n",
    ">- [Otras formas de conectarse con MySQL](#Otras-formas-de-conectarse-con-MySQL)"
   ]
  },
  {
   "cell_type": "code",
   "execution_count": null,
   "id": "630fc02d",
   "metadata": {},
   "outputs": [],
   "source": []
  }
 ],
 "metadata": {
  "kernelspec": {
   "display_name": "Python 3 (ipykernel)",
   "language": "python",
   "name": "python3"
  },
  "language_info": {
   "codemirror_mode": {
    "name": "ipython",
    "version": 3
   },
   "file_extension": ".py",
   "mimetype": "text/x-python",
   "name": "python",
   "nbconvert_exporter": "python",
   "pygments_lexer": "ipython3",
   "version": "3.8.12"
  }
 },
 "nbformat": 4,
 "nbformat_minor": 5
}
