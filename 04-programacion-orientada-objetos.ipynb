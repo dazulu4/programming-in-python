{
 "cells": [
  {
   "cell_type": "markdown",
   "id": "bdf95219",
   "metadata": {},
   "source": [
    "Programación Orientada a Objetos\n",
    "===\n",
    "\n",
    "Es un paradigma de programación que se asocia con el concepto de clase, objetos y varios otros conceptos que giran en torno a estos dos, como herencia, polimorfismo, abstracción, encapsulación, etc.\n",
    "\n",
    "POO está diseñado de tal manera que uno debe enfocarse en un objeto mientras se programa y no en el procedimiento. Un objeto puede ser cualquier cosa que vemos a nuestro alrededor. Puede ser un ser humano (que tiene algunas propiedades como: nombre, dirección, fecha de nacimiento, etc.), una silla (representada por tamaño, material, costo, etc.), una escuela (representada por lugar, fortaleza de los estudiantes, resultados), etc.\n",
    "\n",
    "La programación orientada a objetos acerca la programación a la vida real, ya que siempre estamos tratando con un objeto, realizando operaciones en él, usando sus métodos y variables, etc.\n",
    "\n",
    "[Video Explicativo](https://youtu.be/tTPeP5dVuA4)"
   ]
  },
  {
   "cell_type": "markdown",
   "id": "28d782be",
   "metadata": {},
   "source": [
    "## Contenido\n",
    ">- [Generalidades](#Generalidades)\n",
    ">- [Clases en Python](#Clases-en-Python)\n",
    ">- [Constructores en Python](#Constructores-en-Python)\n",
    ">- [Destructores en Python](#Destructores-en-Python)\n",
    ">- [Herencia en Python](#Herencia-en-Python)\n",
    ">- [Encapsulación en Python](#Encapsulación-en-Python)\n",
    ">- [Polimorfismo en Python](#Polimorfismo-en-Python)\n",
    ">- [Variables de Clase o Estáticas](#Variables-de-Clase-o-Estáticas)\n",
    ">- [Método de Clase vs Método Estático](#Método-de-Clase-vs-Método-Estático)"
   ]
  },
  {
   "cell_type": "markdown",
   "id": "186b7864",
   "metadata": {},
   "source": [
    "## Generalidades\n",
    "\n",
    "### Clase\n",
    "Es una entidad que define una serie de elementos que determinan un estado (propiedades) y un comportamiento (funciones sobre los datos que modifican su estado). Si tomamos al **Ser Humano** como una clase, podemos considerar que las partes del cuerpo son las propiedades, y las acciones que realiza son las funciones.\n",
    "\n",
    "Por ejemplo, digamos que hay una clase llamada **Carro**, que tiene algunos datos básicos como: nombre, modelo, marca, fecha de fabricación, motor, etc., y algunas funciones como encender el motor, accionar los frenos, acelerar, cambiar de marcha, tocar la bocina, etc. Ahora que todas las características básicas están definidas en nuestra clase Carro, podemos crear sus objetos estableciendo valores para las propiedades nombre, modelo, etc., y el objeto de la clase Carro podrá usar las funciones definidas en él.\n",
    "\n",
    "![oops-in-python-1.webp](./images/oops-in-python-1.webp)\n",
    "\n",
    "Los datos dentro de las clases se pueden definir como **públicos, privados o protegidos**. Los datos o funciones privados son aquellos a los que no se puede acceder o ver desde fuera de la clase, mientras que los datos o funciones públicos se pueden acceder desde cualquier lugar. Los datos o funciones protegidos actúan más o menos como públicos, pero no se debe acceder a ellos desde el exterior.\n",
    "\n",
    "### Herencia\n",
    "Consideremos que **Ser Humano** es una clase, que tiene propiedades como manos, piernas, ojos, etc., y funciones como caminar, hablar, comer, ver, etc. Homnbre y Mujer también son clases, pero la mayoría de las propiedades y funciones están incluidas en Ser Humano, por lo que pueden heredar todo de la clase Ser Humano usando el concepto de Herencia.\n",
    "\n",
    "### Objetos\n",
    "Mi nombre es **Alexander** y soy una instancia/objeto de la clase Hombre. Cuando decimos Humano, Hombre o Mujer, sólo nos referimos al tipo; sin embargo, tú, tu amigo, yo, somos la materialización de estas clases. Tenemos una existencia física, mientras que una clase es solo una definición lógica. En este caso somos los objetos.\n",
    "Hay tres características importantes por las que se identifica un objeto, son:\n",
    "* **Identidad:** la identidad se refiere a alguna pieza de información que se puede usar para identificar el objeto de una clase. Puede ser el nombre del alumno, el nombre de la empresa, etc.\n",
    "* **Propiedades:** Los atributos de ese objeto se llaman propiedades. Como edad, sexo, fecha de nacimiento de un estudiante; o tipo de motor, número de marchas de un vehículo.\n",
    "* **Comportamiento:** El comportamiento de cualquier objeto es equivalente a las funciones que puede realizar. En POO es posible asignar algunas funciones a los objetos de una clase. Como ejemplo, un estudiante puede leer/escribir, un carro puede acelerar y así sucesivamente.\n",
    "\n",
    "### Abstracción\n",
    "Significa mostrar solo las cosas requeridas al mundo exterior mientras se ocultan los detalles. Continuando con nuestro ejemplo, el **Ser Humano** puede hablar, caminar, oír, comer, pero los detalles están ocultos al mundo exterior. Podemos tomar nuestra piel como factor de Abstracción en nuestro caso, ocultando el mecanismo interior.\n",
    "\n",
    "### Encapsulación\n",
    "Este concepto es un poco complicado de explicar con nuestro ejemplo de clase **Ser Humano**. Nuestras piernas están pegadas para ayudarnos a caminar. Nuestras manos, nos ayudan a sostener las cosas. Este enlace de las propiedades a las funciones se llama Encapsulación. En otras palabras, es la capacidad que tiene un objeto de ocultar sus propiedades, de manera que éstos solo se puedan modificar por medio de las funciones que ofrece.\n",
    "\n",
    "### Polimorfismo\n",
    "Es un concepto que nos permite redefinir la forma en que algo funciona, ya sea cambiando la forma en que se hace o cambiando las partes con las que se hace. Ambas formas tienen diferentes términos para ellos. O visto de otra forma, es la capacidad de una entidad de referenciar en tiempo de ejecución a instancias de diferentes clases.\n",
    "\n",
    "El polimorfismo se puede lograr de dos formas diferentes:\n",
    "* **Sobrecarga de funciones:** Es posible hacer que una función actúe de manera diferente usando la sobrecarga de funciones. Todo lo que tenemos que hacer es crear diferentes funciones con el mismo nombre y diferentes parámetros.\n",
    "* **Sobrecarga del operador:** Los operadores de suma, división, multiplicación, etc., se pueden utilizar en diferentes situaciones, modificando su comportamiento. Por ejemplo, el operador de **suma**, cuando se aplica para dos enteros se realiza la operación, pero cuando se aplica a dos cadenas de carácteres estas se concatenan."
   ]
  },
  {
   "cell_type": "markdown",
   "id": "001f38eb",
   "metadata": {},
   "source": [
    "## Clases en Python\n",
    "[Contenido](#Contenido)"
   ]
  },
  {
   "cell_type": "markdown",
   "id": "b3f55125",
   "metadata": {},
   "source": [
    "### Sintaxis para definir una clase\n",
    "De manera estándar el nombre de la clase inicia con una letra mayúscula y luego se aplica el estilo de mayúsculas y minúsculas [camel](https://es.wikipedia.org/wiki/Camel_case). Escribamos un pequeño programa en Python en el que definiremos una clase con una variable y dos métodos, y luego crearemos un objeto de esa clase e intentaremos acceder a las propiedades y funciones."
   ]
  },
  {
   "cell_type": "code",
   "execution_count": null,
   "id": "3e9da579",
   "metadata": {},
   "outputs": [],
   "source": [
    "class Apollo:\n",
    "    # define a variable\n",
    "    destination = \"moon\";\n",
    "    \n",
    "    # definig the member functions\n",
    "    def fly(self):\n",
    "        print(\"Spaceship flying...\");\n",
    "    \n",
    "    def get_destination(self):\n",
    "        print(\"Destination is: \" + self.destination)"
   ]
  },
  {
   "cell_type": "markdown",
   "id": "98d0527f",
   "metadata": {},
   "source": [
    "### Crear objeto para una clase\n",
    "La clase es simplemente un modelo o una plantilla. No se asigna almacenamiento cuando definimos una clase. Los objetos son instancias de clase, que contienen las variables de datos declaradas en la clase y las funciones miembro funcionan en estos objetos de clase."
   ]
  },
  {
   "cell_type": "code",
   "execution_count": null,
   "id": "cc76b102",
   "metadata": {},
   "outputs": [],
   "source": [
    "# 1st object\n",
    "objFirst = Apollo()\n",
    "# 2nd object\n",
    "objSecond = Apollo()"
   ]
  },
  {
   "cell_type": "code",
   "execution_count": null,
   "id": "d3fcbdef",
   "metadata": {},
   "outputs": [],
   "source": [
    "# lets change the destination for objFirst to mars\n",
    "objFirst.destination = \"mars\";"
   ]
  },
  {
   "cell_type": "code",
   "execution_count": null,
   "id": "7beef331",
   "metadata": {},
   "outputs": [],
   "source": [
    "# objFirst calling fly function\n",
    "objFirst.fly();\n",
    "# objFirst calling get_destination function\n",
    "objFirst.get_destination();\n",
    "\n",
    "# objSecond calling fly function\n",
    "objSecond.fly();\n",
    "# objSecond calling get_destination function\n",
    "objSecond.get_destination();"
   ]
  },
  {
   "cell_type": "markdown",
   "id": "663d0dc3",
   "metadata": {},
   "source": [
    "### Algunos puntos a tener en cuenta:\n",
    "- Agregamos el parámetro **self** cuando definimos una función miembro, pero no lo especificamos al llamar a la función.\n",
    "- Cuando llamamos a la función get_destination para objFirst, dio como resultado *Destination is: mars*, porque actualizamos el valor de la variable destino para el objeto objFirst.\n",
    "- Para acceder a una función miembro o una variable miembro usando un objeto, debemos utilizar el simbolo punto (.).\n",
    "- Para crear un objeto de cualquier clase, tenemos que llamar a la función con el mismo nombre que el de la clase."
   ]
  },
  {
   "cell_type": "markdown",
   "id": "0744a915",
   "metadata": {},
   "source": [
    "## Constructores en Python\n",
    "[Contenido](#Contenido)\n",
    "\n",
    "Constructor es un tipo especial de función que se llama automáticamente cada vez que se crea un objeto de esa clase. Por ejemplo:"
   ]
  },
  {
   "cell_type": "code",
   "execution_count": null,
   "id": "cf933ba8",
   "metadata": {},
   "outputs": [],
   "source": [
    "class Example:\n",
    "    def anotherFunction(self, parameter1):\n",
    "        self.myVariable = parameter1;\n",
    "        # or by calling for a user input\n",
    "        self.myVariable = input();\n",
    "\n",
    "# that is exactly when the constructor of that class is called\n",
    "myObject = Example()"
   ]
  },
  {
   "cell_type": "markdown",
   "id": "e43c505d",
   "metadata": {},
   "source": [
    "Generalmente, los constructores se usan para inicializar las variables de la clase para un objeto (instancia), aunque también pueden realizar otras tareas, como verificar si hay suficientes recursos, si el valor utilizado para inicializar cualquier variable es válido o no, etc."
   ]
  },
  {
   "cell_type": "markdown",
   "id": "16c50da4",
   "metadata": {},
   "source": [
    "### Definición del método Constructor\n",
    "En Python, la parte de creación de objetos se divide en dos partes:\n",
    "\n",
    "- Creación de objetos\n",
    "- Inicialización de objetos"
   ]
  },
  {
   "cell_type": "markdown",
   "id": "e3dba15a",
   "metadata": {},
   "source": [
    "### Creación de objetos"
   ]
  },
  {
   "cell_type": "code",
   "execution_count": null,
   "id": "1977ef15",
   "metadata": {},
   "outputs": [],
   "source": [
    "class Example:\n",
    "    def __new__(self):\n",
    "        return 'studytonight';\n",
    "\n",
    "# creating object of the class Example\n",
    "mutantObj = Example()\n",
    "\n",
    "# but this will return that our object \n",
    "# is of type str\n",
    "print(type(mutantObj))"
   ]
  },
  {
   "cell_type": "code",
   "execution_count": null,
   "id": "b4bd18d9",
   "metadata": {},
   "outputs": [],
   "source": [
    "class Example:\n",
    "    myVariable = \"some value\";\n",
    "\n",
    "simpleObj = Example()\n",
    "print(type(simpleObj))"
   ]
  },
  {
   "cell_type": "markdown",
   "id": "bc7aa41d",
   "metadata": {},
   "source": [
    "### Inicialización de objetos\n",
    "La inicialización del objeto está controlada por un método de instancia con el nombre *\\__init__*. Una vez que se crea el objeto, puede asegurarse de que cada variable en el objeto se inicialice correctamente definiendo un método \\__init__ en su clase."
   ]
  },
  {
   "cell_type": "code",
   "execution_count": null,
   "id": "d55a4f2e",
   "metadata": {},
   "outputs": [],
   "source": [
    "class Example:\n",
    "    def __init__(self, value1, value2):\n",
    "        self.myVariable1 = value1;\n",
    "        self.myVariable2 = value2;\n",
    "        print (\"All variable initialized\")"
   ]
  },
  {
   "cell_type": "code",
   "execution_count": null,
   "id": "7e0e40cf",
   "metadata": {},
   "outputs": [],
   "source": [
    "myObj = Example(\"first variable\", \"second variable\")"
   ]
  },
  {
   "cell_type": "markdown",
   "id": "e9d33c72",
   "metadata": {},
   "source": [
    "## Destructores en Python\n",
    "[Contenido](#Contenido)\n",
    "\n",
    "Al igual que se usa un constructor para crear e inicializar un objeto, se usa un destructor para destruir el objeto y realizar la limpieza final.\n",
    "\n",
    "A continuación tenemos un código simple, donde usamos el método *\\__init__* para inicializar nuestro objeto, mientras que hemos definido el método *\\__del__* para que actúe como destructor."
   ]
  },
  {
   "cell_type": "code",
   "execution_count": null,
   "id": "d735a4b5",
   "metadata": {},
   "outputs": [],
   "source": [
    "class Example:\n",
    "    def __init__(self):\n",
    "        print (\"Object created\");\n",
    "\n",
    "    # destructor\n",
    "    def __del__(self):\n",
    "        print (\"Object destroyed\");\n",
    "\n",
    "# creating an object\n",
    "myObj = Example();\n",
    "# to delete the object explicitly\n",
    "del myObj;"
   ]
  },
  {
   "cell_type": "markdown",
   "id": "278d1c10",
   "metadata": {},
   "source": [
    "### Algunos puntos a tener en cuenta\n",
    "- Al igual que Destructor es la contraparte de un Constructor, la función *\\__del__* es la contraparte de la función *\\__new__*. Porque *\\__new__* es la función que crea el objeto.\n",
    "- Se llama al método *\\__del__* para cualquier objeto cuando la cantidad de referencias para ese objeto se convierte en cero.\n",
    "- No es necesario que para un objeto se llame al método *\\__del__* si es que se sale de alcance. El método destructor igual se llamará cuando la cantidad de referencias sea cero."
   ]
  },
  {
   "cell_type": "markdown",
   "id": "64cf563b",
   "metadata": {},
   "source": [
    "### Excepción en el método *\\__init__*\n",
    "En la programación orientada a objetos, el destructor solo se llama en caso de que un objeto se cree con éxito, porque si ocurre alguna excepción en el constructor, el propio constructor destruye el objeto.\n",
    "\n",
    "Pero en Python, si se produce alguna excepción en el método *\\__init__* al inicializar el objeto, en ese caso también se llama al método *\\__del__*. Por lo tanto, aunque el objeto nunca se haya inicializado correctamente, el método *\\__del__* intentará vaciar todos los recursos y variables y, a su vez, puede generar otra excepción"
   ]
  },
  {
   "cell_type": "code",
   "execution_count": null,
   "id": "c0b4692d",
   "metadata": {},
   "outputs": [],
   "source": [
    "class Example():\n",
    "    def __init__(self, x):\n",
    "        # for x = 0, raise exception\n",
    "        if x == 0:\n",
    "            raise Exception();\n",
    "        self.x = x;\n",
    "\n",
    "    def __del__(self):\n",
    "        print(self.x)"
   ]
  },
  {
   "cell_type": "code",
   "execution_count": null,
   "id": "2efffd97",
   "metadata": {},
   "outputs": [],
   "source": [
    "# creating an object\n",
    "myObj = Example();\n",
    "# to delete the object explicitly\n",
    "del myObj"
   ]
  },
  {
   "cell_type": "code",
   "execution_count": null,
   "id": "b0ad9011",
   "metadata": {},
   "outputs": [],
   "source": [
    "# creating an object\n",
    "myObj = Example(0);\n",
    "# to delete the object explicitly\n",
    "del myObj"
   ]
  },
  {
   "cell_type": "code",
   "execution_count": null,
   "id": "9b56ab8a",
   "metadata": {},
   "outputs": [],
   "source": [
    "# creating an object\n",
    "myObj = Example(1);\n",
    "# to delete the object explicitly\n",
    "del myObj"
   ]
  },
  {
   "cell_type": "markdown",
   "id": "2af31811",
   "metadata": {},
   "source": [
    "## Herencia en Python\n",
    "[Contenido](#Contenido)\n",
    "\n",
    "La herencia es la capacidad de una clase para derivar o heredar las propiedades de otra clase. Los beneficios de la herencia son:\n",
    "- Representa bien las relaciones del mundo real.\n",
    "- Proporciona la reutilización de un código. No tenemos que escribir el mismo código una y otra vez. Además, nos permite agregar más características a una clase sin modificarla.\n",
    "- Es de naturaleza transitiva, lo que significa que si la clase B hereda de otra clase A, entonces todas las subclases de B heredarán automáticamente de la clase A."
   ]
  },
  {
   "cell_type": "code",
   "execution_count": null,
   "id": "6797361c",
   "metadata": {},
   "outputs": [],
   "source": [
    "# A Python program to demonstrate inheritance\n",
    "\n",
    "# Base or Super class. Note object in bracket.\n",
    "# (Generally, object is made ancestor of all classes)\n",
    "# In Python 3.x \"class Person\" is\n",
    "# equivalent to \"class Person(object)\"\n",
    "class Person(object):\n",
    "\n",
    "    # Constructor\n",
    "    def __init__(self, name):\n",
    "        self.name = name\n",
    "\n",
    "    # To get name\n",
    "    def getName(self):\n",
    "        return self.name\n",
    "\n",
    "    # To check if this person is an employee\n",
    "    def isEmployee(self):\n",
    "        return False\n",
    "\n",
    "\n",
    "# Inherited or Subclass (Note Person in bracket)\n",
    "class Employee(Person):\n",
    "\n",
    "    # Here we return true\n",
    "    def isEmployee(self):\n",
    "        return True\n",
    "\n",
    "# Driver code\n",
    "emp = Person(\"Geek1\") # An Object of Person\n",
    "print(emp.getName(), emp.isEmployee())\n",
    "\n",
    "emp = Employee(\"Geek2\") # An Object of Employee\n",
    "print(emp.getName(), emp.isEmployee())"
   ]
  },
  {
   "cell_type": "code",
   "execution_count": null,
   "id": "ea9fd2ef",
   "metadata": {},
   "outputs": [],
   "source": [
    "# Python program to demonstrate error if we\n",
    "# forget to invoke __init__() of the parent.\n",
    "\n",
    "class A:\n",
    "    def __init__(self, n = 'Rahul'):\n",
    "            self.name = n\n",
    "class B(A):\n",
    "    def __init__(self, roll):\n",
    "            self.roll = roll\n",
    "\n",
    "object = B(23)\n",
    "print (object.name)"
   ]
  },
  {
   "cell_type": "markdown",
   "id": "ff95d85e",
   "metadata": {},
   "source": [
    "### Tipos de Herencia\n",
    "Los tipos de herencia dependen del número de clases de padres e hijos involucradas. Hay cuatro tipos de herencia en Python."
   ]
  },
  {
   "cell_type": "markdown",
   "id": "fdec8692",
   "metadata": {},
   "source": [
    "#### Herencia única\n",
    "Permite que una clase derivada herede propiedades de una sola clase principal, lo que permite la reutilización del código y la adición de nuevas características al código existente."
   ]
  },
  {
   "cell_type": "code",
   "execution_count": null,
   "id": "da7245fc",
   "metadata": {},
   "outputs": [],
   "source": [
    "# Python program to demonstrate\n",
    "# single inheritance\n",
    "\n",
    "\n",
    "# Base class\n",
    "class Parent:\n",
    "    def func1(self):\n",
    "        print(\"This function is in parent class.\")\n",
    "\n",
    "# Derived class\n",
    "class Child(Parent):\n",
    "    def func2(self):\n",
    "        print(\"This function is in child class.\")\n",
    "\n",
    "# Driver's code\n",
    "object = Child()\n",
    "object.func1()\n",
    "object.func2()"
   ]
  },
  {
   "cell_type": "markdown",
   "id": "c0ab6301",
   "metadata": {},
   "source": [
    "#### Herencia múltiple\n",
    "Cuando una clase se puede derivar de más de una clase base. En la herencia múltiple, todas las características de las clases base se heredan en la clase derivada."
   ]
  },
  {
   "cell_type": "code",
   "execution_count": null,
   "id": "9244f3fc",
   "metadata": {},
   "outputs": [],
   "source": [
    "# Python program to demonstrate\n",
    "# multiple inheritance\n",
    "\n",
    "# Base class1\n",
    "class Mother:\n",
    "    mothername = \"\"\n",
    "    def mother(self):\n",
    "        print(self.mothername)\n",
    "\n",
    "# Base class2\n",
    "class Father:\n",
    "    fathername = \"\"\n",
    "    def father(self):\n",
    "        print(self.fathername)\n",
    "\n",
    "# Derived class\n",
    "class Son(Mother, Father):\n",
    "    def parents(self):\n",
    "        print(\"Father :\", self.fathername)\n",
    "        print(\"Mother :\", self.mothername)\n",
    "\n",
    "# Driver's code\n",
    "s1 = Son()\n",
    "s1.fathername = \"RAM\"\n",
    "s1.mothername = \"SITA\"\n",
    "s1.parents()"
   ]
  },
  {
   "cell_type": "markdown",
   "id": "00f9526e",
   "metadata": {},
   "source": [
    "#### Herencia multinivel\n",
    "En la herencia multinivel, las características de la clase base y la clase derivada se heredan en la nueva clase derivada. Esto es similar a una relación que representa a un hijo y un abuelo."
   ]
  },
  {
   "cell_type": "code",
   "execution_count": null,
   "id": "b5403eaa",
   "metadata": {},
   "outputs": [],
   "source": [
    "# Python program to demonstrate\n",
    "# multilevel inheritance\n",
    "\n",
    "# Base class\n",
    "class Grandfather:\n",
    "\n",
    "    def __init__(self, grandfathername):\n",
    "        self.grandfathername = grandfathername\n",
    "\n",
    "# Intermediate class\n",
    "class Father(Grandfather):\n",
    "    def __init__(self, fathername, grandfathername):\n",
    "        self.fathername = fathername\n",
    "\n",
    "        # invoking constructor of Grandfather class\n",
    "        Grandfather.__init__(self, grandfathername)\n",
    "\n",
    "# Derived class\n",
    "class Son(Father):\n",
    "    def __init__(self,sonname, fathername, grandfathername):\n",
    "        self.sonname = sonname\n",
    "\n",
    "        # invoking constructor of Father class\n",
    "        Father.__init__(self, fathername, grandfathername)\n",
    "\n",
    "    def print_name(self):\n",
    "        print('Grandfather name :', self.grandfathername)\n",
    "        print(\"Father name :\", self.fathername)\n",
    "        print(\"Son name :\", self.sonname)\n",
    "\n",
    "# Driver code\n",
    "s1 = Son('Prince', 'Rampal', 'Lal mani')\n",
    "print(s1.grandfathername)\n",
    "s1.print_name()"
   ]
  },
  {
   "cell_type": "markdown",
   "id": "7fa63710",
   "metadata": {},
   "source": [
    "#### Herencia jerárquica\n",
    "Cuando se crean más de una clase derivada a partir de una única base, este tipo de herencia se denomina herencia jerárquica. En este programa, tenemos una clase principal (base) y dos clases secundarias (derivadas)."
   ]
  },
  {
   "cell_type": "code",
   "execution_count": null,
   "id": "178aa360",
   "metadata": {},
   "outputs": [],
   "source": [
    "# Python program to demonstrate\n",
    "# Hierarchical inheritance\n",
    "\n",
    "\n",
    "# Base class\n",
    "class Parent:\n",
    "    def func1(self):\n",
    "        print(\"This function is in parent class.\")\n",
    "\n",
    "# Derived class1\n",
    "class Child1(Parent):\n",
    "    def func2(self):\n",
    "        print(\"This function is in child 1.\")\n",
    "\n",
    "# Derivied class2\n",
    "class Child2(Parent):\n",
    "    def func3(self):\n",
    "        print(\"This function is in child 2.\")\n",
    "\n",
    "# Driver's code\n",
    "object1 = Child1()\n",
    "object2 = Child2()\n",
    "object1.func1()\n",
    "object1.func2()\n",
    "object2.func1()\n",
    "object2.func3()"
   ]
  },
  {
   "cell_type": "markdown",
   "id": "17410efa",
   "metadata": {},
   "source": [
    "#### Herencia híbrida\n",
    "La herencia que consta de múltiples tipos de herencia se denomina herencia híbrida."
   ]
  },
  {
   "cell_type": "code",
   "execution_count": null,
   "id": "c1ed8a7b",
   "metadata": {},
   "outputs": [],
   "source": [
    "# Python program to demonstrate\n",
    "# hybrid inheritance\n",
    "\n",
    "\n",
    "class School:\n",
    "    def func1(self):\n",
    "        print(\"This function is in school.\")\n",
    "\n",
    "class Student1(School):\n",
    "    def func2(self):\n",
    "        print(\"This function is in student 1. \")\n",
    "\n",
    "class Student2(School):\n",
    "    def func3(self):\n",
    "        print(\"This function is in student 2.\")\n",
    "\n",
    "class Student3(Student1, School):\n",
    "    def func4(self):\n",
    "        print(\"This function is in student 3.\")\n",
    "\n",
    "# Driver's code\n",
    "object = Student3()\n",
    "object.func1()\n",
    "object.func2()"
   ]
  },
  {
   "cell_type": "markdown",
   "id": "feb4106f",
   "metadata": {},
   "source": [
    "## Encapsulación en Python\n",
    "[Contenido](#Contenido)\n",
    "\n",
    "La encapsulación es uno de los conceptos fundamentales en la programación orientada a objetos (POO). Describe la idea de envolver datos y los métodos que funcionan con datos dentro de una unidad. Esto pone restricciones en el acceso directo a variables y métodos y puede evitar la modificación accidental de datos. Para evitar cambios accidentales, la variable de un objeto solo puede cambiarse mediante el método de un objeto. Ese tipo de variables se conocen como privadas."
   ]
  },
  {
   "cell_type": "markdown",
   "id": "69eef0bd",
   "metadata": {},
   "source": [
    "### Variables miembro protegidas\n",
    "Los miembros protegidos son aquellos miembros de la clase a los que no se puede acceder desde fuera de la clase pero sí desde dentro de la clase y sus subclases. Para lograr esto en Python, solo siga la convención al anteponer el nombre del miembro con un solo guión bajo \"_\"."
   ]
  },
  {
   "cell_type": "code",
   "execution_count": null,
   "id": "b565136b",
   "metadata": {},
   "outputs": [],
   "source": [
    "# Python program to\n",
    "# demonstrate protected members\n",
    "\n",
    "# Creating a base class\n",
    "class Base:\n",
    "    def __init__(self):\n",
    "\n",
    "        # Protected member\n",
    "        self._a = 2\n",
    "\n",
    "# Creating a derived class\n",
    "class Derived(Base):\n",
    "    def __init__(self):\n",
    "\n",
    "        # Calling constructor of\n",
    "        # Base class\n",
    "        Base.__init__(self)\n",
    "        print(\"Calling protected member of base class: \",\n",
    "            self._a)\n",
    "\n",
    "        # Modify the protected variable:\n",
    "        self._a = 3\n",
    "        print(\"Calling modified protected member outside class: \",\n",
    "            self._a)\n",
    "\n",
    "\n",
    "obj1 = Derived()\n",
    "\n",
    "obj2 = Base()\n",
    "\n",
    "# Calling protected member\n",
    "# Can be accessed but should not be done due to convention\n",
    "print(\"Accessing protected member of obj1: \", obj1._a)\n",
    "\n",
    "# Accessing the protected variable outside\n",
    "print(\"Accessing protected member of obj2: \", obj2._a)"
   ]
  },
  {
   "cell_type": "markdown",
   "id": "271c56df",
   "metadata": {},
   "source": [
    "### Variables miembro privadas\n",
    "Los miembros privados son similares a los miembros protegidos, la diferencia es que los miembros de clase declarados privados no deben ser accedidos fuera de la clase ni por ninguna clase base. En Python, no existen variables de instancia privada a las que no se pueda acceder excepto dentro de una clase.\n",
    "\n",
    "Sin embargo, para definir un miembro privado, prefije el nombre del miembro con un guión bajo doble \"__\"."
   ]
  },
  {
   "cell_type": "code",
   "execution_count": null,
   "id": "fabf60b7",
   "metadata": {},
   "outputs": [],
   "source": [
    "# Python program to\n",
    "# demonstrate private members\n",
    "\n",
    "# Creating a Base class\n",
    "\n",
    "\n",
    "class Base:\n",
    "    def __init__(self):\n",
    "        self.a = \"GeeksforGeeks\"\n",
    "        self.__c = \"GeeksforGeeks\"\n",
    "\n",
    "# Creating a derived class\n",
    "class Derived(Base):\n",
    "    def __init__(self):\n",
    "\n",
    "        # Calling constructor of\n",
    "        # Base class\n",
    "        Base.__init__(self)\n",
    "        print(\"Calling private member of base class: \")\n",
    "        print(self.__c)\n",
    "\n",
    "\n",
    "# Driver code\n",
    "obj1 = Base()\n",
    "print(obj1.a)"
   ]
  },
  {
   "cell_type": "code",
   "execution_count": null,
   "id": "a5deb446",
   "metadata": {},
   "outputs": [],
   "source": [
    "# Uncommenting print(obj1.c) will\n",
    "# raise an AttributeError\n",
    "print(obj1.c)"
   ]
  },
  {
   "cell_type": "code",
   "execution_count": null,
   "id": "90c78545",
   "metadata": {},
   "outputs": [],
   "source": [
    "# Uncommenting obj2 = Derived() will\n",
    "# also raise an AtrributeError as\n",
    "# private member of base class\n",
    "# is called inside derived class\n",
    "obj2 = Derived()"
   ]
  },
  {
   "cell_type": "markdown",
   "id": "c542e652",
   "metadata": {},
   "source": [
    "## Polimorfismo en Python\n",
    "[Contenido](#Contenido)\n",
    "\n",
    "En programación, polimorfismo significa que se usa el mismo nombre de función (pero diferentes firmas) para diferentes tipos."
   ]
  },
  {
   "cell_type": "code",
   "execution_count": null,
   "id": "e4b00f23",
   "metadata": {},
   "outputs": [],
   "source": [
    "# Python program to demonstrate in-built poly-\n",
    "# morphic functions\n",
    "\n",
    "# len() being used for a string\n",
    "print(len(\"geeks\"))\n",
    "\n",
    "# len() being used for a list\n",
    "print(len([10, 20, 30]))"
   ]
  },
  {
   "cell_type": "code",
   "execution_count": null,
   "id": "bef0e214",
   "metadata": {},
   "outputs": [],
   "source": [
    "# A simple Python function to demonstrate\n",
    "# Polymorphism\n",
    "\n",
    "def add(x, y, z = 0):\n",
    "    return x + y + z\n",
    "\n",
    "# Driver code\n",
    "print(add(2, 3))\n",
    "print(add(2, 3, 4))"
   ]
  },
  {
   "cell_type": "markdown",
   "id": "2644d458",
   "metadata": {},
   "source": [
    "### Polimorfismo con métodos de clase\n",
    "El siguiente código muestra cómo Python puede usar dos tipos de clases diferentes, de la misma manera. Creamos un for que itera a través de una tupla de objetos. Luego llama a los métodos sin preocuparse por qué tipo de clase es cada objeto. Básicamente, suponemos que estos métodos realmente existen en cada clase."
   ]
  },
  {
   "cell_type": "code",
   "execution_count": null,
   "id": "56a45f84",
   "metadata": {},
   "outputs": [],
   "source": [
    "class India():\n",
    "    def capital(self):\n",
    "        print(\"New Delhi is the capital of India.\")\n",
    "\n",
    "    def language(self):\n",
    "        print(\"Hindi is the most widely spoken language of India.\")\n",
    "\n",
    "    def type(self):\n",
    "        print(\"India is a developing country.\")\n",
    "\n",
    "class USA():\n",
    "    def capital(self):\n",
    "        print(\"Washington, D.C. is the capital of USA.\")\n",
    "\n",
    "    def language(self):\n",
    "        print(\"English is the primary language of USA.\")\n",
    "\n",
    "    def type(self):\n",
    "        print(\"USA is a developed country.\")\n",
    "\n",
    "obj_ind = India()\n",
    "obj_usa = USA()\n",
    "for country in (obj_ind, obj_usa):\n",
    "    country.capital()\n",
    "    country.language()\n",
    "    country.type()"
   ]
  },
  {
   "cell_type": "markdown",
   "id": "27a2b95e",
   "metadata": {},
   "source": [
    "### Polimorfismo con herencia\n",
    "En Python, el polimorfismo nos permite definir métodos en la clase secundaria que tienen el mismo nombre que los métodos en la clase principal. En la herencia, la clase secundaria hereda los métodos de la clase principal. Sin embargo, es posible modificar un método en una clase secundaria que haya heredado de la clase principal. Esto es particularmente útil en los casos en que el método heredado de la clase principal no se ajusta del todo a la clase secundaria. En tales casos, volvemos a implementar el método en la clase secundaria. Este proceso de volver a implementar un método en la clase secundaria se conoce como **Sobreescritura de métodos**."
   ]
  },
  {
   "cell_type": "code",
   "execution_count": null,
   "id": "311fef7c",
   "metadata": {},
   "outputs": [],
   "source": [
    "class Bird:\n",
    "    def intro(self):\n",
    "        print(\"There are many types of birds.\")\n",
    "\n",
    "    def flight(self):\n",
    "        print(\"Most of the birds can fly but some cannot.\")\n",
    "\n",
    "class Sparrow(Bird):\n",
    "    def flight(self):\n",
    "        print(\"Sparrows can fly.\")\n",
    "\n",
    "class Ostrich(Bird):\n",
    "    def flight(self):\n",
    "        print(\"Ostriches cannot fly.\")\n",
    "\n",
    "obj_bird = Bird()\n",
    "obj_spr = Sparrow()\n",
    "obj_ost = Ostrich()\n",
    "\n",
    "obj_bird.intro()\n",
    "obj_bird.flight()\n",
    "\n",
    "obj_spr.intro()\n",
    "obj_spr.flight()\n",
    "\n",
    "obj_ost.intro()\n",
    "obj_ost.flight()"
   ]
  },
  {
   "cell_type": "markdown",
   "id": "fee9903b",
   "metadata": {},
   "source": [
    "### Polimorfismo con una Función y objetos\n",
    "También es posible crear una función que pueda tomar cualquier objeto, permitiendo el polimorfismo. En este ejemplo, vamos a crear una función llamada \"func()\" que tomará un objeto al que llamaremos \"obj\". Aunque estamos usando el nombre 'obj', cualquier objeto instanciado podrá ser llamado a esta función. A continuación, démosle a la función algo que hacer que use el objeto 'obj' que le pasamos. En este caso, llamemos a los tres métodos, a saber, capital(), language() y type(), cada uno de los cuales está definido en las dos clases 'India' y 'USA'. A continuación, creemos instancias de las clases 'India' y 'USA' si aún no las tenemos. Con esos, podemos llamar a su acción usando la misma función func()."
   ]
  },
  {
   "cell_type": "code",
   "execution_count": null,
   "id": "55568554",
   "metadata": {},
   "outputs": [],
   "source": [
    "def func(obj):\n",
    "    obj.capital()\n",
    "    obj.language()\n",
    "    obj.type()\n",
    "\n",
    "obj_ind = India()\n",
    "obj_usa = USA()\n",
    "\n",
    "func(obj_ind)\n",
    "func(obj_usa)"
   ]
  },
  {
   "cell_type": "markdown",
   "id": "0328ec43",
   "metadata": {},
   "source": [
    "## Variables de Clase o Estáticas\n",
    "[Contenido](#Contenido)\n",
    "\n",
    "Todas las variables a las que se les asigna un valor en la declaración de clase son variables de clase. Y las variables a las que se les asignan valores dentro de los métodos son variables de instancia."
   ]
  },
  {
   "cell_type": "code",
   "execution_count": null,
   "id": "771c524b",
   "metadata": {},
   "outputs": [],
   "source": [
    "# Python program to show that the variables with a value\n",
    "# assigned in class declaration, are class variables\n",
    "\n",
    "# Class for Computer Science Student\n",
    "class CSStudent:\n",
    "    stream = 'cse' # Class Variable\n",
    "    def __init__(self,name,roll):\n",
    "        self.name = name # Instance Variable\n",
    "        self.roll = roll # Instance Variable\n",
    "\n",
    "# Objects of CSStudent class\n",
    "a = CSStudent('Geek', 1)\n",
    "b = CSStudent('Nerd', 2)\n",
    "\n",
    "print(a.stream) # prints \"cse\"\n",
    "print(b.stream) # prints \"cse\"\n",
    "print(a.name) # prints \"Geek\"\n",
    "print(b.name) # prints \"Nerd\"\n",
    "print(a.roll) # prints \"1\"\n",
    "print(b.roll) # prints \"2\"\n",
    "\n",
    "# Class variables can be accessed using class\n",
    "# name also\n",
    "print(CSStudent.stream) # prints \"cse\"\n",
    "\n",
    "# Now if we change the stream for just a it won't be changed for b\n",
    "a.stream = 'ece'\n",
    "print(a.stream) # prints 'ece'\n",
    "print(b.stream) # prints 'cse'\n",
    "\n",
    "# To change the stream for all instances of the class we can change it\n",
    "# directly from the class\n",
    "CSStudent.stream = 'mech'\n",
    "\n",
    "print(a.stream) # prints 'ece'\n",
    "print(b.stream) # prints 'mech'"
   ]
  },
  {
   "cell_type": "markdown",
   "id": "b41efc11",
   "metadata": {},
   "source": [
    "## Método de Clase vs Método Estático\n",
    "[Contenido](#Contenido)\n",
    "\n",
    "### Método de Clase\n",
    "- Un método de clase es un método que está vinculado a la clase y no al objeto de la clase.\n",
    "- Tienen acceso al estado de la clase ya que toma un parámetro de clase que apunta a la clase y no a la instancia del objeto.\n",
    "- Puede modificar un estado de clase que se aplicaría en todas las instancias de la clase. Por ejemplo, puede modificar una variable de clase que será aplicable a todas las instancias.\n",
    "\n",
    "### Método Estático (Static)\n",
    "- Un método estático también es un método que está vinculado a la clase y no al objeto de la clase.\n",
    "- Un método estático no puede acceder ni modificar el estado de la clase.\n",
    "- Está presente en una clase porque tiene sentido que el método esté presente en la clase.\n",
    "\n",
    "### Método de clase vs método estático\n",
    "- Un método de clase toma **cls** como primer parámetro, mientras que un método estático no necesita parámetros específicos.\n",
    "- Usamos el decorador **@classmethod** en python para crear un método de clase y usamos el decorador **@staticmethod** para crear un método estático en python."
   ]
  },
  {
   "cell_type": "code",
   "execution_count": null,
   "id": "062c6bae",
   "metadata": {},
   "outputs": [],
   "source": [
    "# Python program to demonstrate\n",
    "# use of class method and static method.\n",
    "from datetime import date\n",
    "\n",
    "class Person:\n",
    "    def __init__(self, name, age):\n",
    "        self.name = name\n",
    "        self.age = age\n",
    "\n",
    "    # a class method to create a Person object by birth year.\n",
    "    @classmethod\n",
    "    def fromBirthYear(cls, name, year):\n",
    "        return cls(name, date.today().year - year)\n",
    "\n",
    "    # a static method to check if a Person is adult or not.\n",
    "    @staticmethod\n",
    "    def isAdult(age):\n",
    "        return age > 18\n",
    "\n",
    "person1 = Person('mayank', 21)\n",
    "person2 = Person.fromBirthYear('mayank', 1996)\n",
    "\n",
    "print (person1.age)\n",
    "print (person2.age)\n",
    "\n",
    "# print the result\n",
    "print (Person.isAdult(22))"
   ]
  },
  {
   "cell_type": "markdown",
   "id": "ac70f746",
   "metadata": {},
   "source": [
    "[Contenido](#Contenido)"
   ]
  }
 ],
 "metadata": {
  "kernelspec": {
   "display_name": "Python 3 (ipykernel)",
   "language": "python",
   "name": "python3"
  },
  "language_info": {
   "codemirror_mode": {
    "name": "ipython",
    "version": 3
   },
   "file_extension": ".py",
   "mimetype": "text/x-python",
   "name": "python",
   "nbconvert_exporter": "python",
   "pygments_lexer": "ipython3",
   "version": "3.8.12"
  }
 },
 "nbformat": 4,
 "nbformat_minor": 5
}
