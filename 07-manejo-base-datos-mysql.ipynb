{
 "cells": [
  {
   "cell_type": "markdown",
   "id": "389f0e0f",
   "metadata": {},
   "source": [
    "Introducción a Bases de Datos MySQL con Python\n",
    "===\n",
    "\n",
    "Usando las técnicas a continuación, podrá integrar de manera eficiente una base de datos MySQL con una aplicación de Python. Tendrá la posibilidad de construir una pequeña base de datos MySQL para un sistema de clasificación de películas y aprenderá a conectar, consultar y modificar sus datos.\n",
    "\n",
    "El primer paso es realizar la instalación MySQL en su entorno local:\n",
    "- [Installing and Upgrading MySQL](https://dev.mysql.com/doc/refman/5.7/en/installing.html)\n",
    "- [MySQL Community Downloads](https://dev.mysql.com/downloads/installer/)\n",
    "\n",
    "Como prerequisito final, debe instalar el [conector de MySQL para Python](https://github.com/mysql/mysql-connector-python):\n",
    "- Ejecute el comando ```pip install mysql-connector-python```en consola (bash, cmd, etc.)\n",
    "- Pruebe la instalación, ingrese por consola a ```python3``` y ejecute ```import mysql.connector```"
   ]
  },
  {
   "cell_type": "markdown",
   "id": "51f47c1a",
   "metadata": {},
   "source": [
    "## Contenido\n",
    ">- [Estableciendo una conexión](#Estableciendo-una-conexión)\n",
    ">- [Creación, modificación y eliminación de una tabla](#Creación,-modificación-y-eliminación-de-una-tabla)\n",
    ">- [Insertando registros en una tabla](#Insertando-registros-en-una-tabla)\n",
    ">- [Consultando registros de la base de datos](#Consultando-registros-de-la-base-de-datos)\n",
    ">- [Filtrando resultados usando ```where```](#Filtrando-resultados-usando-where)\n",
    ">- [Manejando múltiples tablas usando ```join```](#Manejando-múltiples-tablas-usando-join)\n",
    ">- [Actualización y eliminación de registros](#Actualización-y-eliminación-de-registros)\n",
    ">- [Otras formas de conectarse con MySQL](#Otras-formas-de-conectarse-con-MySQL)"
   ]
  },
  {
   "cell_type": "code",
   "execution_count": null,
   "id": "3d5a5d95",
   "metadata": {},
   "outputs": [],
   "source": [
    "from getpass import getpass\n",
    "from mysql.connector import connect, Error"
   ]
  },
  {
   "cell_type": "markdown",
   "id": "8d085e0c",
   "metadata": {},
   "source": [
    "## Estableciendo una conexión"
   ]
  },
  {
   "cell_type": "code",
   "execution_count": null,
   "id": "c5a5b408",
   "metadata": {},
   "outputs": [],
   "source": [
    "# Establecemos una conexión a la base de datos MySQL\n",
    "\n",
    "try:\n",
    "    with connect(\n",
    "        host=\"localhost\",\n",
    "        user=input(\"Enter username: \"),\n",
    "        password=getpass(\"Enter password: \"),\n",
    "    ) as connection:\n",
    "        print(connection)\n",
    "except Error as e:\n",
    "    print(e)"
   ]
  },
  {
   "cell_type": "code",
   "execution_count": null,
   "id": "f4679a9b",
   "metadata": {},
   "outputs": [],
   "source": [
    "# Eliminamos la base de datos en MySQL si esta existe\n",
    "\n",
    "try:\n",
    "    with connect(\n",
    "        host=\"localhost\",\n",
    "        user=input(\"Enter username: \"),\n",
    "        password=getpass(\"Enter password: \"),\n",
    "    ) as connection:\n",
    "        create_db_query = \"DROP DATABASE IF EXISTS online_movie_rating\"\n",
    "        with connection.cursor() as cursor:\n",
    "            cursor.execute(create_db_query)\n",
    "except Error as e:\n",
    "    print(e)"
   ]
  },
  {
   "cell_type": "code",
   "execution_count": null,
   "id": "672249d3",
   "metadata": {},
   "outputs": [],
   "source": [
    "# Creamos una nueva base de datos en MySQL\n",
    "\n",
    "try:\n",
    "    with connect(\n",
    "        host=\"localhost\",\n",
    "        user=input(\"Enter username: \"),\n",
    "        password=getpass(\"Enter password: \"),\n",
    "    ) as connection:\n",
    "        create_db_query = \"CREATE DATABASE online_movie_rating\"\n",
    "        with connection.cursor() as cursor:\n",
    "            cursor.execute(create_db_query)\n",
    "except Error as e:\n",
    "    print(e)"
   ]
  },
  {
   "cell_type": "code",
   "execution_count": null,
   "id": "801c79bd",
   "metadata": {},
   "outputs": [],
   "source": [
    "# Verificamos que la base de datos haya sido creada\n",
    "\n",
    "try:\n",
    "    with connect(\n",
    "        host=\"localhost\",\n",
    "        user=input(\"Enter username: \"),\n",
    "        password=getpass(\"Enter password: \"),\n",
    "    ) as connection:\n",
    "        show_db_query = \"SHOW DATABASES\"\n",
    "        with connection.cursor() as cursor:\n",
    "            cursor.execute(show_db_query)\n",
    "            print('online_movie_rating', \n",
    "                  'exists :)' if 'online_movie_rating' in [db[0] for db in cursor] \\\n",
    "                  else 'not exists :(')\n",
    "except Error as e:\n",
    "    print(e)"
   ]
  },
  {
   "cell_type": "code",
   "execution_count": null,
   "id": "8436faa7",
   "metadata": {},
   "outputs": [],
   "source": [
    "#  Creamos una conexión a la nueva base de datos\n",
    "\n",
    "try:\n",
    "    with connect(\n",
    "        host=\"localhost\",\n",
    "        user=input(\"Enter username: \"),\n",
    "        password=getpass(\"Enter password: \"),\n",
    "        database=\"online_movie_rating\",\n",
    "    ) as connection:\n",
    "        print(connection)\n",
    "except Error as e:\n",
    "    print(e)"
   ]
  },
  {
   "cell_type": "markdown",
   "id": "f547e1d1",
   "metadata": {},
   "source": [
    "## Creación, modificación y eliminación de una tabla\n",
    "\n",
    "![schema-movies.webp](./images/schema-movies.webp)"
   ]
  },
  {
   "cell_type": "code",
   "execution_count": null,
   "id": "8034c022",
   "metadata": {},
   "outputs": [],
   "source": [
    "# Creamos una variable con la conexión\n",
    "\n",
    "try:\n",
    "    connection = connect(\n",
    "        host=\"localhost\",\n",
    "        user=input(\"Enter username: \"),\n",
    "        password=getpass(\"Enter password: \"),\n",
    "        database=\"online_movie_rating\",\n",
    "    )\n",
    "    print(connection)\n",
    "except Error as e:\n",
    "    print(e)"
   ]
  },
  {
   "cell_type": "code",
   "execution_count": null,
   "id": "74aa30c1",
   "metadata": {},
   "outputs": [],
   "source": [
    "# Creamos la tabla \"movies\"\n",
    "\n",
    "create_movies_table_query = \"\"\"\n",
    "    CREATE TABLE movies(\n",
    "        id INT AUTO_INCREMENT PRIMARY KEY,\n",
    "        title VARCHAR(100),\n",
    "        release_year YEAR(4),\n",
    "        genre VARCHAR(100),\n",
    "        collection_in_mil INT\n",
    "    )\n",
    "\"\"\"\n",
    "with connection.cursor() as cursor:\n",
    "    cursor.execute(create_movies_table_query)\n",
    "    connection.commit()"
   ]
  },
  {
   "cell_type": "code",
   "execution_count": null,
   "id": "4737ef23",
   "metadata": {},
   "outputs": [],
   "source": [
    "# Creamos la tabla reviewers\n",
    "\n",
    "create_reviewers_table_query = \"\"\"\n",
    "    CREATE TABLE reviewers (\n",
    "        id INT AUTO_INCREMENT PRIMARY KEY,\n",
    "        first_name VARCHAR(100),\n",
    "        last_name VARCHAR(100)\n",
    "    )\n",
    "\"\"\"\n",
    "with connection.cursor() as cursor:\n",
    "    cursor.execute(create_reviewers_table_query)\n",
    "    connection.commit()"
   ]
  },
  {
   "cell_type": "code",
   "execution_count": null,
   "id": "27c78bf4",
   "metadata": {},
   "outputs": [],
   "source": [
    "# Creamos la tabla ratings\n",
    "\n",
    "create_ratings_table_query = \"\"\"\n",
    "    CREATE TABLE ratings (\n",
    "        movie_id INT,\n",
    "        reviewer_id INT,\n",
    "        rating DECIMAL(2,1),\n",
    "        FOREIGN KEY(movie_id) REFERENCES movies(id),\n",
    "        FOREIGN KEY(reviewer_id) REFERENCES reviewers(id),\n",
    "        PRIMARY KEY(movie_id, reviewer_id)\n",
    "    )\n",
    "\"\"\"\n",
    "with connection.cursor() as cursor:\n",
    "    cursor.execute(create_ratings_table_query)\n",
    "    connection.commit()"
   ]
  },
  {
   "cell_type": "code",
   "execution_count": null,
   "id": "863d5ee8",
   "metadata": {},
   "outputs": [],
   "source": [
    "# Creamos todas las tablas en secuencia\n",
    "\n",
    "with connection.cursor() as cursor:\n",
    "    try:\n",
    "        cursor.execute(create_movies_table_query)\n",
    "        cursor.execute(create_reviewers_table_query)\n",
    "        cursor.execute(create_ratings_table_query)\n",
    "        connection.commit()\n",
    "    except:\n",
    "        connection.rollback()"
   ]
  },
  {
   "cell_type": "code",
   "execution_count": null,
   "id": "095873a3",
   "metadata": {},
   "outputs": [],
   "source": [
    "# Vemos estructura de tabla con DESCRIBE\n",
    "\n",
    "show_table_query = \"DESCRIBE movies\"\n",
    "with connection.cursor() as cursor:\n",
    "    cursor.execute(show_table_query)\n",
    "    # Fetch rows from last executed query\n",
    "    result = cursor.fetchall()\n",
    "    for row in result:\n",
    "        print(row)"
   ]
  },
  {
   "cell_type": "code",
   "execution_count": null,
   "id": "03da6c99",
   "metadata": {},
   "outputs": [],
   "source": [
    "# Modificamos tipo de dato para un campo con ALTER\n",
    "\n",
    "alter_table_query = \"\"\"\n",
    "    ALTER TABLE movies\n",
    "        MODIFY COLUMN collection_in_mil DECIMAL(4,1)\n",
    "\"\"\"\n",
    "show_table_query = \"DESCRIBE movies\"\n",
    "with connection.cursor() as cursor:\n",
    "    cursor.execute(alter_table_query)\n",
    "    cursor.execute(show_table_query)\n",
    "    # Fetch rows from last executed query\n",
    "    result = cursor.fetchall()\n",
    "    print(\"Movie Table Schema after alteration:\")\n",
    "    for row in result:\n",
    "        print(row)"
   ]
  },
  {
   "cell_type": "code",
   "execution_count": null,
   "id": "1bed904a",
   "metadata": {},
   "outputs": [],
   "source": [
    "drop_table_query = \"DROP TABLE ratings\"\n",
    "with connection.cursor() as cursor:\n",
    "    cursor.execute(drop_table_query)"
   ]
  },
  {
   "cell_type": "code",
   "execution_count": null,
   "id": "cda22633",
   "metadata": {},
   "outputs": [],
   "source": [
    "show_table_query = \"DESCRIBE ratings\"\n",
    "with connection.cursor() as cursor:\n",
    "    try:\n",
    "        cursor.execute(show_table_query)\n",
    "        # Fetch rows from last executed query\n",
    "        result = cursor.fetchall()\n",
    "        for row in result:\n",
    "            print(row)\n",
    "    except Exception as e:\n",
    "        print(str(e))"
   ]
  },
  {
   "cell_type": "code",
   "execution_count": null,
   "id": "8acb664f",
   "metadata": {},
   "outputs": [],
   "source": [
    "# Creamos nuevamente la tabla ratings para el ejercicio\n",
    "\n",
    "with connection.cursor() as cursor:\n",
    "    cursor.execute(create_ratings_table_query)\n",
    "    connection.commit()"
   ]
  },
  {
   "cell_type": "markdown",
   "id": "c7c4f2fc",
   "metadata": {},
   "source": [
    "## Insertando registros en una tabla"
   ]
  },
  {
   "cell_type": "code",
   "execution_count": null,
   "id": "928ea5fa",
   "metadata": {},
   "outputs": [],
   "source": [
    "# Insertando registros en movies usando execute()\n",
    "\n",
    "insert_movies_query = \"\"\"\n",
    "    INSERT INTO movies (title, release_year, genre, collection_in_mil)\n",
    "    VALUES\n",
    "        (\"Forrest Gump\", 1994, \"Drama\", 330.2),\n",
    "        (\"3 Idiots\", 2009, \"Drama\", 2.4),\n",
    "        (\"Eternal Sunshine of the Spotless Mind\", 2004, \"Drama\", 34.5),\n",
    "        (\"Good Will Hunting\", 1997, \"Drama\", 138.1),\n",
    "        (\"Skyfall\", 2012, \"Action\", 304.6),\n",
    "        (\"Gladiator\", 2000, \"Action\", 188.7),\n",
    "        (\"Black\", 2005, \"Drama\", 3.0),\n",
    "        (\"Titanic\", 1997, \"Romance\", 659.2),\n",
    "        (\"The Shawshank Redemption\", 1994, \"Drama\",28.4),\n",
    "        (\"Udaan\", 2010, \"Drama\", 1.5),\n",
    "        (\"Home Alone\", 1990, \"Comedy\", 286.9),\n",
    "        (\"Casablanca\", 1942, \"Romance\", 1.0),\n",
    "        (\"Avengers: Endgame\", 2019, \"Action\", 858.8),\n",
    "        (\"Night of the Living Dead\", 1968, \"Horror\", 2.5),\n",
    "        (\"The Godfather\", 1972, \"Crime\", 135.6),\n",
    "        (\"Haider\", 2014, \"Action\", 4.2),\n",
    "        (\"Inception\", 2010, \"Adventure\", 293.7),\n",
    "        (\"Evil\", 2003, \"Horror\", 1.3),\n",
    "        (\"Toy Story 4\", 2019, \"Animation\", 434.9),\n",
    "        (\"Air Force One\", 1997, \"Drama\", 138.1),\n",
    "        (\"The Dark Knight\", 2008, \"Action\",535.4),\n",
    "        (\"Bhaag Milkha Bhaag\", 2013, \"Sport\", 4.1),\n",
    "        (\"The Lion King\", 1994, \"Animation\", 423.6),\n",
    "        (\"Pulp Fiction\", 1994, \"Crime\", 108.8),\n",
    "        (\"Kai Po Che\", 2013, \"Sport\", 6.0),\n",
    "        (\"Beasts of No Nation\", 2015, \"War\", 1.4),\n",
    "        (\"Andadhun\", 2018, \"Thriller\", 2.9),\n",
    "        (\"The Silence of the Lambs\", 1991, \"Crime\", 68.2),\n",
    "        (\"Deadpool\", 2016, \"Action\", 363.6),\n",
    "        (\"Drishyam\", 2015, \"Mystery\", 3.0)\n",
    "\"\"\"\n",
    "with connection.cursor() as cursor:\n",
    "    try:\n",
    "        cursor.execute(insert_movies_query)\n",
    "        connection.commit()\n",
    "    except:\n",
    "        connection.rollback()"
   ]
  },
  {
   "cell_type": "code",
   "execution_count": null,
   "id": "ad70711b",
   "metadata": {},
   "outputs": [],
   "source": [
    "# Insertando registros en reviewers usando executemany()\n",
    "\n",
    "insert_reviewers_query = \"\"\"\n",
    "    INSERT INTO reviewers (first_name, last_name)\n",
    "        VALUES ( %s, %s )\n",
    "\"\"\"\n",
    "reviewers_records = [\n",
    "    (\"Chaitanya\", \"Baweja\"),\n",
    "    (\"Mary\", \"Cooper\"),\n",
    "    (\"John\", \"Wayne\"),\n",
    "    (\"Thomas\", \"Stoneman\"),\n",
    "    (\"Penny\", \"Hofstadter\"),\n",
    "    (\"Mitchell\", \"Marsh\"),\n",
    "    (\"Wyatt\", \"Skaggs\"),\n",
    "    (\"Andre\", \"Veiga\"),\n",
    "    (\"Sheldon\", \"Cooper\"),\n",
    "    (\"Kimbra\", \"Masters\"),\n",
    "    (\"Kat\", \"Dennings\"),\n",
    "    (\"Bruce\", \"Wayne\"),\n",
    "    (\"Domingo\", \"Cortes\"),\n",
    "    (\"Rajesh\", \"Koothrappali\"),\n",
    "    (\"Ben\", \"Glocker\"),\n",
    "    (\"Mahinder\", \"Dhoni\"),\n",
    "    (\"Akbar\", \"Khan\"),\n",
    "    (\"Howard\", \"Wolowitz\"),\n",
    "    (\"Pinkie\", \"Petit\"),\n",
    "    (\"Gurkaran\", \"Singh\"),\n",
    "    (\"Amy\", \"Farah Fowler\"),\n",
    "    (\"Marlon\", \"Crafford\"),\n",
    "]\n",
    "with connection.cursor() as cursor:\n",
    "    try:\n",
    "        cursor.executemany(insert_reviewers_query, reviewers_records)\n",
    "        connection.commit()\n",
    "    except:\n",
    "        connection.rollback()"
   ]
  },
  {
   "cell_type": "code",
   "execution_count": null,
   "id": "e6baf23c",
   "metadata": {},
   "outputs": [],
   "source": [
    "# Insertando registros en ratings usando executemany()\n",
    "\n",
    "insert_ratings_query = \"\"\"\n",
    "    INSERT INTO ratings (rating, movie_id, reviewer_id)\n",
    "        VALUES ( %s, %s, %s)\n",
    "\"\"\"\n",
    "ratings_records = [\n",
    "    (6.4, 17, 5), (5.6, 19, 1), (6.3, 22, 14), (5.1, 21, 17),\n",
    "    (5.0, 5, 5), (6.5, 21, 5), (8.5, 30, 13), (9.7, 6, 4),\n",
    "    (8.5, 24, 12), (9.9, 14, 9), (8.7, 26, 14), (9.9, 6, 10),\n",
    "    (5.1, 30, 6), (5.4, 18, 16), (6.2, 6, 20), (7.3, 21, 19),\n",
    "    (8.1, 17, 18), (5.0, 7, 2), (9.8, 23, 3), (8.0, 22, 9),\n",
    "    (8.5, 11, 13), (5.0, 5, 11), (5.7, 8, 2), (7.6, 25, 19),\n",
    "    (5.2, 18, 15), (9.7, 13, 3), (5.8, 18, 8), (5.8, 30, 15),\n",
    "    (8.4, 21, 18), (6.2, 23, 16), (7.0, 10, 18), (9.5, 30, 20),\n",
    "    (8.9, 3, 19), (6.4, 12, 2), (7.8, 12, 22), (9.9, 15, 13),\n",
    "    (7.5, 20, 17), (9.0, 25, 6), (8.5, 23, 2), (5.3, 30, 17),\n",
    "    (6.4, 5, 10), (8.1, 5, 21), (5.7, 22, 1), (6.3, 28, 4),\n",
    "    (9.8, 13, 1)\n",
    "]\n",
    "with connection.cursor() as cursor:\n",
    "    try:\n",
    "        cursor.executemany(insert_ratings_query, ratings_records)\n",
    "        connection.commit()\n",
    "    except:\n",
    "        connection.rollback()"
   ]
  },
  {
   "cell_type": "markdown",
   "id": "3e3bbb21",
   "metadata": {},
   "source": [
    "## Consultando registros de la base de datos"
   ]
  },
  {
   "cell_type": "code",
   "execution_count": null,
   "id": "864fd256",
   "metadata": {},
   "outputs": [],
   "source": [
    "# Consulta de peliculas usando SELECT\n",
    "\n",
    "select_movies_query = \"SELECT * FROM movies LIMIT 5\"\n",
    "with connection.cursor() as cursor:\n",
    "    cursor.execute(select_movies_query)\n",
    "    result = cursor.fetchall()\n",
    "    for row in result:\n",
    "        print(row)"
   ]
  },
  {
   "cell_type": "code",
   "execution_count": null,
   "id": "adb2e913",
   "metadata": {},
   "outputs": [],
   "source": [
    "# Consulta de peliculas usando SELECT, agrega offset al limit\n",
    "\n",
    "select_movies_query = \"SELECT * FROM movies LIMIT 2,5\"\n",
    "with connection.cursor() as cursor:\n",
    "    cursor.execute(select_movies_query)\n",
    "    result = cursor.fetchall()\n",
    "    for row in result:\n",
    "        print(row)"
   ]
  },
  {
   "cell_type": "code",
   "execution_count": null,
   "id": "cd3412e5",
   "metadata": {},
   "outputs": [],
   "source": [
    "# Consulta de peliculas usando SELECT, retorna columnas especificas\n",
    "\n",
    "select_movies_query = \"SELECT title, release_year FROM movies LIMIT 5\"\n",
    "with connection.cursor() as cursor:\n",
    "    cursor.execute(select_movies_query)\n",
    "    for row in cursor.fetchall():\n",
    "        print(row)"
   ]
  },
  {
   "cell_type": "markdown",
   "id": "59de82a2",
   "metadata": {},
   "source": [
    "**Ejercicio:** Realice una consulta de películas desde la posición 5 y extraiga las siguientes 10. Muestre únicamente el nombre y género de la película."
   ]
  },
  {
   "cell_type": "markdown",
   "id": "63cafc9b",
   "metadata": {},
   "source": [
    "## Filtrando resultados usando ```where```"
   ]
  },
  {
   "cell_type": "code",
   "execution_count": null,
   "id": "6fc508d8",
   "metadata": {},
   "outputs": [],
   "source": [
    "# Consulta las peliculas con recaudación en taquilla > 300 millones\n",
    "\n",
    "select_movies_query = \"\"\"\n",
    "    SELECT title, collection_in_mil\n",
    "    FROM movies\n",
    "    WHERE collection_in_mil > 300\n",
    "    ORDER BY collection_in_mil DESC\n",
    "\"\"\"\n",
    "with connection.cursor() as cursor:\n",
    "    cursor.execute(select_movies_query)\n",
    "    for movie in cursor.fetchall():\n",
    "        print(movie)"
   ]
  },
  {
   "cell_type": "code",
   "execution_count": null,
   "id": "fbc0d229",
   "metadata": {},
   "outputs": [],
   "source": [
    "# Consulta peliculas y retorna concatenación de titulo y año\n",
    "\n",
    "select_movies_query = \"\"\"\n",
    "    SELECT CONCAT(title, \" (\", release_year, \")\"),\n",
    "          collection_in_mil\n",
    "    FROM movies\n",
    "    ORDER BY collection_in_mil DESC\n",
    "    LIMIT 5\n",
    "\"\"\"\n",
    "with connection.cursor() as cursor:\n",
    "    cursor.execute(select_movies_query)\n",
    "    for movie in cursor.fetchall():\n",
    "        print(movie)"
   ]
  },
  {
   "cell_type": "code",
   "execution_count": null,
   "id": "3c0cd5a5",
   "metadata": {},
   "outputs": [],
   "source": [
    "# Consulta peliculas y recupera únicamente 5 de ellas\n",
    "\n",
    "select_movies_query = \"\"\"\n",
    "    SELECT CONCAT(title, \" (\", release_year, \")\"),\n",
    "          collection_in_mil\n",
    "    FROM movies\n",
    "    ORDER BY collection_in_mil DESC\n",
    "\"\"\"\n",
    "with connection.cursor() as cursor:\n",
    "    cursor.execute(select_movies_query)\n",
    "    for movie in cursor.fetchmany(size=5):\n",
    "        print(movie)\n",
    "    cursor.fetchall()"
   ]
  },
  {
   "cell_type": "markdown",
   "id": "b2b4990b",
   "metadata": {},
   "source": [
    "**Ejercicio:** Consulte peliculas cuyo año de lanzamiento este por debajo de 2000 y ordene los resultados por recaudo en taquilla de mayor a menor valor."
   ]
  },
  {
   "cell_type": "markdown",
   "id": "cb3f334a",
   "metadata": {},
   "source": [
    "## Manejando múltiples tablas usando ```join```"
   ]
  },
  {
   "cell_type": "code",
   "execution_count": null,
   "id": "acadb0bb",
   "metadata": {},
   "outputs": [],
   "source": [
    "# Consultar el nombre de las cinco películas mejor calificadas:\n",
    "\n",
    "select_movies_query = \"\"\"\n",
    "    SELECT title, AVG(rating) as average_rating\n",
    "    FROM ratings\n",
    "    INNER JOIN movies\n",
    "        ON movies.id = ratings.movie_id\n",
    "    GROUP BY movie_id\n",
    "    ORDER BY average_rating DESC\n",
    "    LIMIT 5\n",
    "\"\"\"\n",
    "with connection.cursor() as cursor:\n",
    "    cursor.execute(select_movies_query)\n",
    "    for movie in cursor.fetchall():\n",
    "        print(movie)"
   ]
  },
  {
   "cell_type": "code",
   "execution_count": null,
   "id": "eb35428c",
   "metadata": {},
   "outputs": [],
   "source": [
    "# Consultar el nombre del critico que otorgó la mayor cantidad de calificaciones\n",
    "\n",
    "select_movies_query = \"\"\"\n",
    "    SELECT CONCAT(first_name, \" \", last_name), COUNT(*) as num\n",
    "    FROM reviewers\n",
    "    INNER JOIN ratings\n",
    "        ON reviewers.id = ratings.reviewer_id\n",
    "    GROUP BY reviewer_id\n",
    "    ORDER BY num DESC\n",
    "    LIMIT 1\n",
    "\"\"\"\n",
    "with connection.cursor() as cursor:\n",
    "    cursor.execute(select_movies_query)\n",
    "    for movie in cursor.fetchall():\n",
    "        print(movie)"
   ]
  },
  {
   "cell_type": "markdown",
   "id": "8c477e58",
   "metadata": {},
   "source": [
    "**Ejercicio.** Consultar el titulo, año de lanzamiento, cantidad de calificaciones y raiting de las peliculas top 10 en calificación."
   ]
  },
  {
   "cell_type": "markdown",
   "id": "1118dfdc",
   "metadata": {},
   "source": [
    "## Actualización y eliminación de registros"
   ]
  },
  {
   "cell_type": "markdown",
   "id": "6dd60a71",
   "metadata": {},
   "source": [
    "### Comando ```update```"
   ]
  },
  {
   "cell_type": "code",
   "execution_count": null,
   "id": "311a09af",
   "metadata": {},
   "outputs": [],
   "source": [
    "# Actualización del apellido de un critico con nombre 'Amy'\n",
    "\n",
    "update_query = \"\"\"\n",
    "    UPDATE reviewers\n",
    "    SET last_name = \"Cooper\"\n",
    "    WHERE first_name = \"Amy\"\n",
    "\"\"\"\n",
    "with connection.cursor() as cursor:\n",
    "    try:\n",
    "        cursor.execute(update_query)\n",
    "        connection.commit()\n",
    "    except Exception as e:\n",
    "        connection.rollback()\n",
    "        print(str(e))"
   ]
  },
  {
   "cell_type": "code",
   "execution_count": null,
   "id": "90400950",
   "metadata": {},
   "outputs": [],
   "source": [
    "# Actualización de rating de una pelicula y un critico especificos\n",
    "\n",
    "movie_id = input(\"Enter movie id: \")\n",
    "reviewer_id = input(\"Enter reviewer id: \")\n",
    "new_rating = input(\"Enter new rating: \")\n",
    "update_query = \"\"\"\n",
    "    UPDATE ratings\n",
    "    SET rating = \"%s\"\n",
    "    WHERE movie_id = \"%s\" AND reviewer_id = \"%s\";\n",
    "\n",
    "    SELECT *\n",
    "    FROM ratings\n",
    "    WHERE movie_id = \"%s\" AND reviewer_id = \"%s\"\n",
    "\"\"\" % (\n",
    "    new_rating,\n",
    "    movie_id,\n",
    "    reviewer_id,\n",
    "    movie_id,\n",
    "    reviewer_id,\n",
    ")\n",
    "\n",
    "try:\n",
    "    with connect(\n",
    "        host=\"localhost\",\n",
    "        user=input(\"Enter username: \"),\n",
    "        password=getpass(\"Enter password: \"),\n",
    "        database=\"online_movie_rating\",\n",
    "    ) as connection:\n",
    "        with connection.cursor() as cursor:\n",
    "            try:\n",
    "                for result in cursor.execute(update_query, multi=True):\n",
    "                    if result.with_rows:\n",
    "                        print(result.fetchall())\n",
    "                connection.commit()\n",
    "            except Exception as e:\n",
    "                connection.rollback()\n",
    "                print(str(e))\n",
    "except Error as e:\n",
    "    print(e)"
   ]
  },
  {
   "cell_type": "code",
   "execution_count": null,
   "id": "bfa7c002",
   "metadata": {},
   "outputs": [],
   "source": [
    "# Actualización de rating de una pelicula y un critico especificos pasando los argumentos\n",
    "\n",
    "movie_id = input(\"Enter movie id: \")\n",
    "reviewer_id = input(\"Enter reviewer id: \")\n",
    "new_rating = input(\"Enter new rating: \")\n",
    "update_query = \"\"\"\n",
    "    UPDATE ratings\n",
    "    SET rating = %s\n",
    "    WHERE movie_id = %s AND reviewer_id = %s;\n",
    "\n",
    "    SELECT *\n",
    "    FROM ratings\n",
    "    WHERE movie_id = %s AND reviewer_id = %s\n",
    "\"\"\"\n",
    "val_tuple = (\n",
    "    new_rating,\n",
    "    movie_id,\n",
    "    reviewer_id,\n",
    "    movie_id,\n",
    "    reviewer_id,\n",
    ")\n",
    "\n",
    "try:\n",
    "    with connect(\n",
    "        host=\"localhost\",\n",
    "        user=input(\"Enter username: \"),\n",
    "        password=getpass(\"Enter password: \"),\n",
    "        database=\"online_movie_rating\",\n",
    "    ) as connection:\n",
    "        with connection.cursor() as cursor:\n",
    "            try:\n",
    "                for result in cursor.execute(update_query, val_tuple, multi=True):\n",
    "                    if result.with_rows:\n",
    "                        print(result.fetchall())\n",
    "                connection.commit()\n",
    "            except Exception as e:\n",
    "                connection.rollback()\n",
    "                print(str(e))\n",
    "except Error as e:\n",
    "    print(e)"
   ]
  },
  {
   "cell_type": "markdown",
   "id": "d55c9dbd",
   "metadata": {},
   "source": [
    "### Comando ```delete```"
   ]
  },
  {
   "cell_type": "code",
   "execution_count": null,
   "id": "701306c3",
   "metadata": {},
   "outputs": [],
   "source": [
    "select_movies_query = \"\"\"\n",
    "    SELECT reviewer_id, movie_id FROM ratings\n",
    "    WHERE reviewer_id = 2\n",
    "\"\"\"\n",
    "with connection.cursor() as cursor:\n",
    "    cursor.execute(select_movies_query)\n",
    "    for movie in cursor.fetchall():\n",
    "        print(movie)"
   ]
  },
  {
   "cell_type": "code",
   "execution_count": null,
   "id": "88b7d665",
   "metadata": {},
   "outputs": [],
   "source": [
    "delete_query = \"DELETE FROM ratings WHERE reviewer_id = 2\"\n",
    "with connection.cursor() as cursor:\n",
    "    try:\n",
    "        cursor.execute(delete_query)\n",
    "        connection.commit()\n",
    "    except Exception as e:\n",
    "        connection.rollback()\n",
    "        print(str(e))"
   ]
  },
  {
   "cell_type": "code",
   "execution_count": null,
   "id": "13f35eb4",
   "metadata": {},
   "outputs": [],
   "source": [
    "select_movies_query = \"\"\"\n",
    "    SELECT reviewer_id, movie_id FROM ratings\n",
    "    WHERE reviewer_id = 2\n",
    "\"\"\"\n",
    "with connection.cursor() as cursor:\n",
    "    cursor.execute(select_movies_query)\n",
    "    for movie in cursor.fetchall():\n",
    "        print(movie)"
   ]
  },
  {
   "cell_type": "markdown",
   "id": "305393ba",
   "metadata": {},
   "source": [
    "## Otras formas de conectarse con MySQL\n",
    "\n",
    "**Mapeo objeto-relacional (ORM)** es una técnica que le permite consultar y manipular datos de una base de datos directamente utilizando un lenguaje orientado a objetos. Una biblioteca ORM encapsula el código necesario para manipular los datos, lo que elimina la necesidad de usar incluso un poquito de SQL. Estos son los ORM de Python más populares para bases de datos basadas en SQL:\n",
    "\n",
    "- **[SQLAlchemy](https://docs.sqlalchemy.org/en/13/index.html)** es un ORM que facilita la comunicación entre Python y otras bases de datos SQL. Puede conectarse a diferentes motores de bases de datos como MySQL, PostgreSQL, SQLite, etc. SQLAlchemy se usa comúnmente junto con *pandas* para proporcionar una funcionalidad completa de manejo de datos.\n",
    "\n",
    "- **[peewee](https://docs.peewee-orm.com/en/latest/)** es un ORM ligero y rápido que se configura rápidamente. Esto es bastante útil cuando su interacción con la base de datos se limita a extraer unos pocos registros. Por ejemplo, si necesita copiar registros seleccionados de una base de datos MySQL en un archivo CSV, entonces peewee podría ser su mejor opción.\n",
    "\n",
    "- **[Django ORM](https://books.agiliq.com/projects/django-orm-cookbook/en/latest/introduction.html)** es una de las características más potentes de Django. Puede interactuar con una gran variedad de bases de datos como SQLite, PostgreSQL y MySQL. Muchas aplicaciones basadas en Django usan Django ORM para el modelado de datos y consultas básicas, pero a menudo cambian a SQLAlchemy para requisitos más complejos."
   ]
  }
 ],
 "metadata": {
  "kernelspec": {
   "display_name": "Python 3 (ipykernel)",
   "language": "python",
   "name": "python3"
  },
  "language_info": {
   "codemirror_mode": {
    "name": "ipython",
    "version": 3
   },
   "file_extension": ".py",
   "mimetype": "text/x-python",
   "name": "python",
   "nbconvert_exporter": "python",
   "pygments_lexer": "ipython3",
   "version": "3.8.12"
  }
 },
 "nbformat": 4,
 "nbformat_minor": 5
}
