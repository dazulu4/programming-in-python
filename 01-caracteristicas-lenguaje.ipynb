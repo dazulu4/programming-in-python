{
 "cells": [
  {
   "cell_type": "markdown",
   "metadata": {
    "id": "BuLhWEc4tsdR"
   },
   "source": [
    "Lenguaje de Programación Python\n",
    "===\n",
    "\n",
    "Python es un lenguaje de programación de alto nivel, de propósito general y muy popular. Se está utilizando en el desarrollo web, aplicaciones de aprendizaje automático, junto con toda la tecnología de punta en la industria del software. Es muy adecuado para principiantes, también para programadores experimentados con otros lenguajes de programación como C++ y Java.\n",
    "\n",
    "A continuación se presentan algunos datos sobre Python:\n",
    "- Python es actualmente el lenguaje de programación de alto nivel y multipropósito más utilizado.\n",
    "- Python permite programar en paradigmas orientados a objetos y procedimentales.\n",
    "- Los programas de Python generalmente son más pequeños que otros lenguajes de programación como Java. Los programadores tienen que escribir relativamente menos y el requisito de sangría del lenguaje los hace legibles todo el tiempo.\n",
    "- Python está siendo utilizado por casi todas las empresas tecnológicas más grandes como: Google, Amazon, Facebook, Instagram, Dropbox, Uber, etc.\n",
    "- La mayor fortaleza de Python es su enorme lista de bibliotecas estándar, las cuales se pueden usar para lo siguiente:\n",
    " - Aprendizaje automático\n",
    " - Aplicaciones gráficas (como Kivy, Tkinter, PyQt, etc.)\n",
    " - Framework web como Django (usado por YouTube, Instagram, Dropbox)\n",
    " - Procesamiento de imágenes (como OpenCV, Pillow)\n",
    " - Web scraping (como Scrapy, BeautifulSoup, Selenium)\n",
    " - Framework de pruebas\n",
    " - Multimedia\n",
    " - Computación científica\n",
    " - Procesamiento de textos y muchos más.."
   ]
  },
  {
   "cell_type": "markdown",
   "metadata": {
    "id": "48qDL5Yuu3P_"
   },
   "source": [
    "## Introducción\n",
    "\n",
    "Python fue creado por Guido van Rossum en 1991 y desarrollado por Python Software Foundation. Fue diseñado con énfasis en la legibilidad del código y su sintaxis permite a los programadores expresar sus conceptos en menos líneas de código. Python es un lenguaje de programación que le permite trabajar rápidamente e integrar sistemas de manera más eficiente. Hay dos versiones principales de Python: Python 2 y Python 3. Ambas son bastante diferentes.\n",
    "\n",
    "### 1. Encontrar un intérprete:\n",
    "\n",
    "Antes de comenzar a programar en Python, necesitamos tener un intérprete para interpretar y ejecutar nuestros programas. Hay ciertos intérpretes en línea como https://ide.geeksforgeeks.org/, http://ideone.com/ o http://codepad.org/ que se pueden usar para ejecutar programas de Python sin instalar un intérprete.\n",
    "\n",
    "En Windows hay muchos intérpretes disponibles gratuitamente para ejecutar secuencias de comandos de Python como IDE (Entorno de desarrollo integrado) que viene incluido con el software de Python descargado de http://python.org/.\n",
    "\n",
    "### 2) Escribiendo nuestro primer programa:\n",
    "\n",
    "Ejecute la siguiente celda presionando CTRL+Enter:"
   ]
  },
  {
   "cell_type": "code",
   "execution_count": null,
   "metadata": {
    "colab": {
     "base_uri": "https://localhost:8080/"
    },
    "executionInfo": {
     "elapsed": 199,
     "status": "ok",
     "timestamp": 1646262040575,
     "user": {
      "displayName": "Alexander Zuluaga Quintero",
      "photoUrl": "https://lh3.googleusercontent.com/a-/AOh14Gi5bptZVpT8uPV-rsu1k3GPYeG1CXzkWxwYtJ_160M=s64",
      "userId": "06106219622026670571"
     },
     "user_tz": 300
    },
    "id": "vcCmyisUs3uE",
    "outputId": "761c24ac-deef-457b-ca77-5828a60b4e3f"
   },
   "outputs": [],
   "source": [
    "# Script Begins\n",
    "print(\"Hello World\")\n",
    "# Script Ends"
   ]
  },
  {
   "cell_type": "markdown",
   "metadata": {
    "id": "ZPdkIQRvxFJs"
   },
   "source": [
    "**Línea 1: [# Script Begins]** En Python, los comentarios comienzan con #. Esta declaración es ignorada por el intérprete y sirve como documentación para nuestro código.\n",
    "\n",
    "**Línea 2: [print(\"Hello World\")]** Para imprimir algo en la consola, se utiliza la función print(). Esta función también agrega una nueva línea después de imprimir nuestro mensaje (a diferencia de C). Tenga en cuenta que en Python 2, \"imprimir\" no es una función sino una palabra clave y, por lo tanto, se puede usar sin paréntesis. Sin embargo, en Python 3, es una función y debe invocarse entre paréntesis.\n",
    "\n",
    "**Línea 3: [# Script Ends]** Este es solo otro comentario como en la Línea 1."
   ]
  },
  {
   "cell_type": "markdown",
   "metadata": {
    "id": "WKKwmzDMxoBn"
   },
   "source": [
    "## Ventajas y Aplicaciones\n",
    "\n",
    "Python se encuentra entre los lenguajes más populares y de más rápido crecimiento en el mundo. Python es un lenguaje poderoso, flexible y fácil de usar. Además, la comunidad es muy activa allí. Se utiliza en muchas organizaciones ya que admite múltiples paradigmas de programación. También realiza una gestión automática de la memoria.\n",
    " \n",
    "### Ventajas:\n",
    "- Admite módulos de terceros\n",
    "- Muchas librerías de soporte (NumPy para cálculos numéricos, Pandas para análisis de datos, etc.)\n",
    "- Código abierto y desarrollo en comunidad\n",
    "- Versátil, fácil de leer, aprender y escribir\n",
    "- Estructuras de datos fáciles de usar\n",
    "- Lenguaje de alto nivel\n",
    "- Tipado dinámico (no es necesario asignar el tipo de datos, tiene la capacidad de inferirlo)\n",
    "- Lenguaje interpretado\n",
    "- Lenguaje orientado a objetos\n",
    "- Ideal para prototipado: proporciona más funcionalidad con menos codificación\n",
    "- Altamente eficiente (el diseño limpio y orientado a objetos de Python proporciona un control de procesos mejorado, y está equipado con excelentes capacidades de integración y procesamiento de texto, así como su propio framework de pruebas unitarias, lo que lo hace más eficiente).\n",
    "- Oportunidades para Internet de las cosas (IoT)\n",
    "- Portable en todos los sistemas operativos\n",
    " \n",
    "### Aplicaciones:\n",
    "- Aplicaciones de escritorio basadas en GUI\n",
    "- Diseño gráfico, aplicaciones de procesamiento de imágenes, juegos y aplicaciones científicas/computacionales\n",
    "- Frameworks y aplicaciones web\n",
    "- Aplicaciones empresariales y comerciales\n",
    "- Sistemas operativos\n",
    "- Educación\n",
    "- Acceso a bases de datos\n",
    "- Desarrollo del habla\n",
    "- Prototipos\n",
    "- Desarrollo de software"
   ]
  },
  {
   "cell_type": "markdown",
   "metadata": {
    "id": "z5uU0n8X0eyU"
   },
   "source": [
    "## Instalación y Configuración\n",
    "\n",
    "Dado que Windows no viene con Python preinstalado, debe instalarse explícitamente. Aquí definiremos un tutorial paso a paso sobre cómo instalar Python en Windows.\n",
    "\n",
    "### Descargue la última versión de Python 3:\n",
    "\n",
    "- Abra un navegador y explore https://www.python.org/downloads/windows/\n",
    "- Debajo de las versiones de Python para Windows, busque la última versión: 3.10.2.\n",
    "- En esta página, vaya a *Archivos* y haga clic en el instalador ejecutable de Windows x86-64 para 64 bits.\n",
    "- Siga los pasos de instalación. Cuando se le pregunte si desea agregar Python en el PATH, acepte esta consideración.\n",
    "\n",
    "### Descarga la última versión de Visual Studio:\n",
    "\n",
    "- Navegue a la página https://code.visualstudio.com/download y descargue la versión para Windows.\n",
    "- Siga los pasos de instalación y abra el entorno de desarrollo. Para programación Python se recomienda instalar los siguientes Plugins o Extensiones:\n",
    " - Python (Microsoft)\n",
    " - Pylance (Microsoft)\n",
    " - MagicPython (MagicStack Inc.)\n",
    " - Code Runner (Jun Han)"
   ]
  },
  {
   "cell_type": "markdown",
   "metadata": {
    "id": "eFQ4jh0eE4_W"
   },
   "source": [
    "## Palabras Clave\n",
    "\n",
    "Son palabras reservadas que no se pueden usar como nombre de variable, nombre de función o cualquier otro identificador en un programa.\n",
    "\n",
    "Ejemplo de palabras clave en Python:"
   ]
  },
  {
   "cell_type": "code",
   "execution_count": null,
   "metadata": {
    "colab": {
     "base_uri": "https://localhost:8080/"
    },
    "executionInfo": {
     "elapsed": 309,
     "status": "ok",
     "timestamp": 1646282471749,
     "user": {
      "displayName": "Alexander Zuluaga Quintero",
      "photoUrl": "https://lh3.googleusercontent.com/a-/AOh14Gi5bptZVpT8uPV-rsu1k3GPYeG1CXzkWxwYtJ_160M=s64",
      "userId": "06106219622026670571"
     },
     "user_tz": 300
    },
    "id": "nM5p7K-5FJKM",
    "outputId": "7272cbfe-6093-4603-8e3e-cf09d591fd05"
   },
   "outputs": [],
   "source": [
    "# Python code to demonstrate working of iskeyword()\n",
    "\n",
    "# importing \"keyword\" for keyword operations\n",
    "import keyword\n",
    "\n",
    "# printing all keywords at once using \"kwlist()\"\n",
    "print(\"The list of keywords is : \")\n",
    "print(keyword.kwlist)"
   ]
  },
  {
   "cell_type": "markdown",
   "metadata": {
    "id": "GNPYSfhbFWxl"
   },
   "source": [
    "### True, False, None\n",
    "- **True:** se utiliza para representar un valor booleano verdadero. Si una afirmación es verdadera, se imprime \"True\".\n",
    "- **False:** se utiliza para representar un valor booleano falso. Si una declaración es falsa, se imprime \"False\".\n",
    "- **None:** esta es una constante especial que se usa para indicar un valor nulo o un vacío."
   ]
  },
  {
   "cell_type": "code",
   "execution_count": null,
   "metadata": {
    "colab": {
     "base_uri": "https://localhost:8080/"
    },
    "executionInfo": {
     "elapsed": 211,
     "status": "ok",
     "timestamp": 1646283026873,
     "user": {
      "displayName": "Alexander Zuluaga Quintero",
      "photoUrl": "https://lh3.googleusercontent.com/a-/AOh14Gi5bptZVpT8uPV-rsu1k3GPYeG1CXzkWxwYtJ_160M=s64",
      "userId": "06106219622026670571"
     },
     "user_tz": 300
    },
    "id": "UYOlt9vbFLff",
    "outputId": "0dd39640-218d-463c-baca-89a245744a37"
   },
   "outputs": [],
   "source": [
    "print(False == 0)\n",
    "print(True == 1)\n",
    "\n",
    "print(True + True + True)\n",
    "print(True + False + False)\n",
    "\n",
    "print(None == 0)\n",
    "print(None == [])"
   ]
  },
  {
   "cell_type": "markdown",
   "metadata": {
    "id": "1a58iILVGN0_"
   },
   "source": [
    "### and, or, not, in, is\n",
    "- **and:** Retorna el primer valor falso. Si no se encuentra, devuelve el último.\n",
    "- **or:** Retorna el primer valor verdadero. Si no se encuentra, devuelve el último.\n",
    "- **not:** Este operador lógico invierte el valor de verdad.\n",
    "- **in:** se utiliza para comprobar si una colección contiene un valor. Esta palabra clave también se usa para recorrer la colección.\n",
    "- **is:** se usa para probar la identidad del objeto, es decir, para verificar si ambos objetos ocupan la misma ubicación de memoria o no."
   ]
  },
  {
   "cell_type": "code",
   "execution_count": null,
   "metadata": {
    "colab": {
     "base_uri": "https://localhost:8080/"
    },
    "executionInfo": {
     "elapsed": 299,
     "status": "ok",
     "timestamp": 1646283029316,
     "user": {
      "displayName": "Alexander Zuluaga Quintero",
      "photoUrl": "https://lh3.googleusercontent.com/a-/AOh14Gi5bptZVpT8uPV-rsu1k3GPYeG1CXzkWxwYtJ_160M=s64",
      "userId": "06106219622026670571"
     },
     "user_tz": 300
    },
    "id": "8i4MtWBbFzEu",
    "outputId": "1956d51c-b656-4bab-be0f-9c9834b5174e"
   },
   "outputs": [],
   "source": [
    "# showing logical operation\n",
    "# or (returns True)\n",
    "print(True or False)\n",
    "\n",
    "# showing logical operation\n",
    "# and (returns False)\n",
    "print(False and True)\n",
    "\n",
    "# showing logical operation\n",
    "# not (returns False)\n",
    "print(not True)\n",
    "\n",
    "# using \"in\" to check\n",
    "if 's' in 'geeksforgeeks':\n",
    "\tprint(\"s is part of geeksforgeeks\")\n",
    "else:\n",
    "\tprint(\"s is not part of geeksforgeeks\")\n",
    "\n",
    "# using \"in\" to loop through\n",
    "for i in 'geeksforgeeks':\n",
    "\tprint(i, end=\" \")\n",
    "\n",
    "print(\"\\r\")\n",
    "\n",
    "# using is to check object identity\n",
    "# string is immutable( cannot be changed once allocated)\n",
    "# hence occupy same memory location\n",
    "print(' ' is ' ')\n",
    "\n",
    "# using is to check object identity\n",
    "# dictionary is mutable( can be changed once allocated)\n",
    "# hence occupy different memory location\n",
    "print({} is {})"
   ]
  },
  {
   "cell_type": "markdown",
   "metadata": {
    "id": "w__gSjbeHTGv"
   },
   "source": [
    "### Palabras clave de iteración – for, while, break, continue\n",
    "\n",
    "- **for:** se utiliza para controlar flujo y para ciclos.\n",
    "- **while:** tiene un funcionamiento similar a \"for\".\n",
    "- **break:** se utiliza para controlar flujo del ciclo. Se usa para salir del ciclo y pasa el control a la instrucción que sigue inmediatamente después de éste.\n",
    "- **continue:** también se usa para controlar el flujo de código. Salta a la siguiente iteración del ciclo pero no finaliza éste."
   ]
  },
  {
   "cell_type": "code",
   "execution_count": null,
   "metadata": {
    "colab": {
     "base_uri": "https://localhost:8080/"
    },
    "executionInfo": {
     "elapsed": 319,
     "status": "ok",
     "timestamp": 1646283243947,
     "user": {
      "displayName": "Alexander Zuluaga Quintero",
      "photoUrl": "https://lh3.googleusercontent.com/a-/AOh14Gi5bptZVpT8uPV-rsu1k3GPYeG1CXzkWxwYtJ_160M=s64",
      "userId": "06106219622026670571"
     },
     "user_tz": 300
    },
    "id": "3G_YY7tLHQQO",
    "outputId": "1e537ba5-9398-4e2f-b5b1-0865a2282e92"
   },
   "outputs": [],
   "source": [
    "# Using for loop\n",
    "for i in range(10):\n",
    "\n",
    "\tprint(i, end = \" \")\n",
    "\t\n",
    "\t# break the loop as soon it sees 6\n",
    "\tif i == 6:\n",
    "\t\tbreak\n",
    "\t\n",
    "print()\n",
    "\t\n",
    "# loop from 1 to 10\n",
    "i = 0\n",
    "while i <10:\n",
    "\t\n",
    "\t# If i is equals to 6,\n",
    "\t# continue to next iteration\n",
    "\t# without printing\n",
    "\tif i == 6:\n",
    "\t\ti+= 1\n",
    "\t\tcontinue\n",
    "\telse:\n",
    "\t\t# otherwise print the value\n",
    "\t\t# of i\n",
    "\t\tprint(i, end = \" \")\n",
    "\t\t\n",
    "\ti += 1"
   ]
  },
  {
   "cell_type": "markdown",
   "metadata": {
    "id": "s8eqMI9MINKc"
   },
   "source": [
    "### Palabras clave condicionales: if, else, elif\n",
    "- **if:** Es una declaración de control para la toma de decisiones. La expresión de verdad obliga al control a entrar en el bloque de declaraciones \"if\".\n",
    "- **else:** Es una declaración de control para la toma de decisiones. La expresión falsa obliga al control a entrar en el bloque de declaraciones \"else\".\n",
    "- **elif:** Es una declaración de control para la toma de decisiones. Es la abreviatura de \"else if\""
   ]
  },
  {
   "cell_type": "code",
   "execution_count": null,
   "metadata": {
    "colab": {
     "base_uri": "https://localhost:8080/"
    },
    "executionInfo": {
     "elapsed": 307,
     "status": "ok",
     "timestamp": 1646283413715,
     "user": {
      "displayName": "Alexander Zuluaga Quintero",
      "photoUrl": "https://lh3.googleusercontent.com/a-/AOh14Gi5bptZVpT8uPV-rsu1k3GPYeG1CXzkWxwYtJ_160M=s64",
      "userId": "06106219622026670571"
     },
     "user_tz": 300
    },
    "id": "L7UHNVm1IL5L",
    "outputId": "161608d0-a691-4aa2-97ee-b50b7fce643a"
   },
   "outputs": [],
   "source": [
    "# Python program to illustrate if-elif-else ladder\n",
    "\n",
    "i = 20\n",
    "if (i == 10):\n",
    "\tprint (\"i is 10\")\n",
    "elif (i == 20):\n",
    "\tprint (\"i is 20\")\n",
    "else:\n",
    "\tprint (\"i is not present\")"
   ]
  },
  {
   "cell_type": "markdown",
   "metadata": {
    "id": "fCxtaef5JLpm"
   },
   "source": [
    "¡Existen muchas otras palabras reservadas que podrás ir explorando con el tiempo!"
   ]
  },
  {
   "cell_type": "markdown",
   "metadata": {
    "id": "jO37IxzdJV_S"
   },
   "source": [
    "## Sentencias\n",
    "Las instrucciones escritas en código fuente se denominan sentencias. Hay diferentes tipos de sentencias en Python: asignación, condicionales, ciclos, etc. Todas ayudan al usuario a obtener el resultado requerido. Por ejemplo, n = 50 es una instrucción de asignación.\n",
    "> **Sentencias de varias líneas:** las sentencias en Python se pueden extender a una o más líneas usando paréntesis (), llaves {}, corchetes \\[\\], punto y coma (;), barra oblicua de carácter de continuación (\\). Cuando el programador necesita hacer cálculos largos y no puede encajar sus declaraciones en una línea, puede hacer uso de estos caracteres."
   ]
  },
  {
   "cell_type": "code",
   "execution_count": null,
   "metadata": {
    "executionInfo": {
     "elapsed": 253,
     "status": "ok",
     "timestamp": 1646283725367,
     "user": {
      "displayName": "Alexander Zuluaga Quintero",
      "photoUrl": "https://lh3.googleusercontent.com/a-/AOh14Gi5bptZVpT8uPV-rsu1k3GPYeG1CXzkWxwYtJ_160M=s64",
      "userId": "06106219622026670571"
     },
     "user_tz": 300
    },
    "id": "KyUvDcwHIwei"
   },
   "outputs": [],
   "source": [
    "# Declared using Continuation Character (\\):\n",
    "s = 1 + 2 + 3 + \\\n",
    "    4 + 5 + 6 + \\\n",
    "    7 + 8 + 9\n",
    "\n",
    "# Declared using parentheses ():\n",
    "n = (1 * 2 * 3 + 7 + 8 + 9)\n",
    "\n",
    "# Declared using square brackets []:\n",
    "footballer = ['MESSI',\n",
    "          'NEYMAR',\n",
    "          'SUAREZ']\n",
    "\n",
    "# Declared using braces {}:\n",
    "x = {1 + 2 + 3 + 4 + 5 + 6 +\n",
    "     7 + 8 + 9}\n",
    "\n",
    "# Declared using semicolons(;):\n",
    "flag = 2; ropes = 3; pole = 4"
   ]
  },
  {
   "cell_type": "markdown",
   "metadata": {
    "id": "ioy8CrbfKIeF"
   },
   "source": [
    "## Indentación (Sangría)\n",
    "Un bloque es una combinación de varias sentencias. Un bloque puede considerarse como la agrupación de sentencias para un propósito específico. La mayoría de los lenguajes de programación como C, C++, Java usan llaves { } para definir un bloque de código. Una de las características distintivas de Python es el uso de la sangría para resaltar los bloques de código. Los espacios en blanco se utilizan para la sangría en Python. Todas las setencias con la misma distancia a la derecha pertenecen al mismo bloque de código. Si un bloque tiene que anidarse más profundamente, simplemente se indenta más a la derecha. Puedes entenderlo mejor mirando las siguientes líneas de código:"
   ]
  },
  {
   "cell_type": "code",
   "execution_count": null,
   "metadata": {
    "colab": {
     "base_uri": "https://localhost:8080/"
    },
    "executionInfo": {
     "elapsed": 10,
     "status": "ok",
     "timestamp": 1646283852950,
     "user": {
      "displayName": "Alexander Zuluaga Quintero",
      "photoUrl": "https://lh3.googleusercontent.com/a-/AOh14Gi5bptZVpT8uPV-rsu1k3GPYeG1CXzkWxwYtJ_160M=s64",
      "userId": "06106219622026670571"
     },
     "user_tz": 300
    },
    "id": "lWj0_B7dKHFQ",
    "outputId": "fa607925-ea5b-49f0-dc06-6bb9de37516d"
   },
   "outputs": [],
   "source": [
    "# Python program showing\n",
    "# indentation\n",
    "\n",
    "site = 'gfg'\n",
    "\n",
    "if site == 'gfg':\n",
    "\tprint('Logging on to geeksforgeeks...')\n",
    "else:\n",
    "\tprint('retype the URL.')\n",
    "print('All set !')"
   ]
  },
  {
   "cell_type": "code",
   "execution_count": null,
   "metadata": {
    "colab": {
     "base_uri": "https://localhost:8080/"
    },
    "executionInfo": {
     "elapsed": 3,
     "status": "ok",
     "timestamp": 1646283866366,
     "user": {
      "displayName": "Alexander Zuluaga Quintero",
      "photoUrl": "https://lh3.googleusercontent.com/a-/AOh14Gi5bptZVpT8uPV-rsu1k3GPYeG1CXzkWxwYtJ_160M=s64",
      "userId": "06106219622026670571"
     },
     "user_tz": 300
    },
    "id": "gtFOoTpzKBdd",
    "outputId": "7b6969ca-3154-40b7-d39c-873443ece343"
   },
   "outputs": [],
   "source": [
    "j = 1\n",
    "while(j<= 5):\n",
    "\tprint(j)\n",
    "\tj = j + 1"
   ]
  },
  {
   "cell_type": "markdown",
   "metadata": {
    "id": "lLnRFoqXKnMG"
   },
   "source": [
    "## Comentarios\n",
    "Los desarrolladores de Python a menudo hacen uso del sistema de comentarios ya que, sin él, las cosas pueden volverse muy confusas. Los comentarios son información útil que los desarrolladores proporcionan para que el lector entienda el código fuente. Explica la lógica o una parte de ella utilizada en el código. Los comentarios suelen ser útiles para alguien que mantiene o mejora su código cuando ya no está disponible para responder preguntas al respecto. Estos se citan a menudo como una convención de programación útil que no forma parte de la salida del programa pero mejora la legibilidad de todo el programa. Hay dos tipos de comentarios en Python:\n",
    "- **Comentarios de una sola línea:** el comentario de una sola línea de Python comienza con el símbolo de hashtag sin espacios en blanco (#) y dura hasta el final de la línea. Si el comentario excede una línea, coloque un hashtag en la siguiente línea y continúe con el comentario. Los comentarios de una sola línea de Python resultan útiles para proporcionar explicaciones breves de variables, declaraciones de funciones y expresiones. Ejemplo:"
   ]
  },
  {
   "cell_type": "code",
   "execution_count": null,
   "metadata": {
    "colab": {
     "base_uri": "https://localhost:8080/"
    },
    "executionInfo": {
     "elapsed": 309,
     "status": "ok",
     "timestamp": 1646283996120,
     "user": {
      "displayName": "Alexander Zuluaga Quintero",
      "photoUrl": "https://lh3.googleusercontent.com/a-/AOh14Gi5bptZVpT8uPV-rsu1k3GPYeG1CXzkWxwYtJ_160M=s64",
      "userId": "06106219622026670571"
     },
     "user_tz": 300
    },
    "id": "y37-qpgiKj9u",
    "outputId": "67b8ef10-ee66-426a-c2f7-e264e2192b86"
   },
   "outputs": [],
   "source": [
    "# This is a comment\n",
    "# Print “GeeksforGeeks !” to console\n",
    "print(\"Hola Mundo\")"
   ]
  },
  {
   "cell_type": "markdown",
   "metadata": {
    "id": "AraX_ztFLIJa"
   },
   "source": [
    "- **Cadena de varias líneas como comentario:** el comentario de varias líneas es un fragmento de texto encerrado en un delimitador (\"\"\") en cada extremo del comentario. Nuevamente, no debe haber espacios en blanco entre el delimitador (\"\"\"). Son útiles cuando el texto del comentario no cabe en una sola línea; por lo tanto, es necesario abarcar líneas. Los comentarios o párrafos de varias líneas sirven como documentación para otras personas que leen su código. Ejemplo:"
   ]
  },
  {
   "cell_type": "code",
   "execution_count": null,
   "metadata": {
    "colab": {
     "base_uri": "https://localhost:8080/"
    },
    "executionInfo": {
     "elapsed": 10,
     "status": "ok",
     "timestamp": 1646284084927,
     "user": {
      "displayName": "Alexander Zuluaga Quintero",
      "photoUrl": "https://lh3.googleusercontent.com/a-/AOh14Gi5bptZVpT8uPV-rsu1k3GPYeG1CXzkWxwYtJ_160M=s64",
      "userId": "06106219622026670571"
     },
     "user_tz": 300
    },
    "id": "W9_tlvChLDh6",
    "outputId": "b14146f4-fd91-4bc8-eca9-f1c86db70412"
   },
   "outputs": [],
   "source": [
    "\"\"\"\n",
    "This would be a multiline comment in Python that\n",
    "spans several lines and describes geeksforgeeks.\n",
    "A Computer Science portal for geeks. It contains\n",
    "well written, well thought\n",
    "and well-explained computer science\n",
    "and programming articles,\n",
    "quizzes and more.\n",
    "…\n",
    "\"\"\"\n",
    "print(\"Hola Mundo\")"
   ]
  },
  {
   "cell_type": "code",
   "execution_count": null,
   "metadata": {
    "colab": {
     "base_uri": "https://localhost:8080/"
    },
    "executionInfo": {
     "elapsed": 6,
     "status": "ok",
     "timestamp": 1646284101993,
     "user": {
      "displayName": "Alexander Zuluaga Quintero",
      "photoUrl": "https://lh3.googleusercontent.com/a-/AOh14Gi5bptZVpT8uPV-rsu1k3GPYeG1CXzkWxwYtJ_160M=s64",
      "userId": "06106219622026670571"
     },
     "user_tz": 300
    },
    "id": "JgSYzEM3LXr-",
    "outputId": "9ba4bec6-71f0-4f02-c64f-4e5eeff7476b"
   },
   "outputs": [],
   "source": [
    "'''This article on geeksforgeeks gives you a\n",
    "perfect example of\n",
    "multi-line comments'''\n",
    " \n",
    "print(\"Hola Mundo\")"
   ]
  },
  {
   "cell_type": "markdown",
   "metadata": {
    "id": "QxFAJmsFMy-C"
   },
   "source": [
    "¡Hora de empezar con el uso interactivo y programación en Python!"
   ]
  }
 ],
 "metadata": {
  "colab": {
   "authorship_tag": "ABX9TyMBmrv4TLIElCRiTk24g9K2",
   "collapsed_sections": [],
   "name": "01-caracteristicas-lenguaje.ipynb",
   "provenance": []
  },
  "kernelspec": {
   "display_name": "Python 3 (ipykernel)",
   "language": "python",
   "name": "python3"
  },
  "language_info": {
   "codemirror_mode": {
    "name": "ipython",
    "version": 3
   },
   "file_extension": ".py",
   "mimetype": "text/x-python",
   "name": "python",
   "nbconvert_exporter": "python",
   "pygments_lexer": "ipython3",
   "version": "3.8.12"
  }
 },
 "nbformat": 4,
 "nbformat_minor": 1
}
