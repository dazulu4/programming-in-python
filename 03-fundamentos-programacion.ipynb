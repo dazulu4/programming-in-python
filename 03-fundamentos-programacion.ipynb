{
 "cells": [
  {
   "cell_type": "markdown",
   "metadata": {
    "id": "z_oecfGdOnZi"
   },
   "source": [
    "Programación\n",
    "==="
   ]
  },
  {
   "cell_type": "markdown",
   "metadata": {
    "id": "C8mqfeQIOnZk"
   },
   "source": [
    "#### Contenido"
   ]
  },
  {
   "cell_type": "markdown",
   "metadata": {
    "id": "UlfCksoFOnZk"
   },
   "source": [
    "> * [Estructuras de Control](#Estructuras-de-Control)\n",
    "    * [Estructura  if](#Estructura-if)\n",
    "    * [ Estructura for](#Estructura-for)\n",
    "    * [Comandos break y continue](#Comandos-break-y-continue)\n",
    "    * [Estructura while](#Estructura-while)\n",
    "    * [Comando else en estructuras for y while](#Comando-else-en-estructuras-for-y-while)\n",
    "* [Funciones de usuario](#Funciones-de-usuario)\n",
    "* [Estructuras de datos](#Estructuras-de-datos)\n",
    "    * [Listas](#Listas)\n",
    "      * [Funciones filter y  map](#Funciones-filter-y--map)\n",
    "      * [Desempaquetado de listas](#Desempaquetado-de-listas)\n",
    "      * [Uso de listas como stacks (pilas)](#Uso-de-listas-como-stacks)\n",
    "      * [Uso de listas como colas (queue)](#Uso-de-listas-como-colas)\n",
    "      * [List comprenhensions](#List-comprenhensions)\n",
    "      * [Comando del](#Comando-del)\n",
    "    * [Tuplas y secuencias](#Tuplas-y-secuencias)\n",
    "    * [Conjuntos](#Conjuntos)\n",
    "    * [Diccionarios](#Diccionarios)\n",
    "    * [Comparación de secuencias y otros tipos de datos](#Comparación-de-secuencias-y-otros-tipos-de-datos)\n",
    "* [Impresión con formato](#Impresión-con-formato)\n",
    "* [Ejecución de R dentro de Python](#Ejecución-de-R-dentro-de-Python)"
   ]
  },
  {
   "cell_type": "markdown",
   "metadata": {
    "id": "qsbR7WC6OnZl"
   },
   "source": [
    "# Estructuras de Control"
   ]
  },
  {
   "cell_type": "markdown",
   "metadata": {
    "id": "3p_F4hsIOnZl"
   },
   "source": [
    "## Estructura `if`"
   ]
  },
  {
   "cell_type": "markdown",
   "metadata": {
    "id": "TAAk5IrYOnZl"
   },
   "source": [
    "[Contenido](#Contenido)"
   ]
  },
  {
   "cell_type": "markdown",
   "metadata": {
    "id": "9WF4_MNCOnZl"
   },
   "source": [
    "La identación usando espacios en blanco es el mecanismo definido en Python para delimitar el cuerpo asociado a las estructuras de control y a las funciones de usuario. \n",
    "\n",
    "En el siguiente ejemplo, la estructura `else if` es reemplazada comunmente por la palabra reservada `elif`. El uso del caracter `:` es obligatorio."
   ]
  },
  {
   "cell_type": "code",
   "execution_count": null,
   "metadata": {
    "colab": {
     "base_uri": "https://localhost:8080/"
    },
    "executionInfo": {
     "elapsed": 5942,
     "status": "ok",
     "timestamp": 1646284957910,
     "user": {
      "displayName": "Alexander Zuluaga Quintero",
      "photoUrl": "https://lh3.googleusercontent.com/a-/AOh14Gi5bptZVpT8uPV-rsu1k3GPYeG1CXzkWxwYtJ_160M=s64",
      "userId": "06106219622026670571"
     },
     "user_tz": 300
    },
    "id": "rt470032OnZm",
    "outputId": "6aa031f2-255e-444b-e3e0-7e743c4ed139"
   },
   "outputs": [],
   "source": [
    "# este código es mucho más dificil de leer.\n",
    "x = int(input(\"Please enter an integer: \"))\n",
    "if x < 0:\n",
    "    x = 0\n",
    "    print('Negative changed to zero')\n",
    "else:\n",
    "    if x == 0:\n",
    "        print('Zero')\n",
    "    else:\n",
    "        if x == 1:\n",
    "            print('Single')\n",
    "        else:\n",
    "            print('More')"
   ]
  },
  {
   "cell_type": "code",
   "execution_count": null,
   "metadata": {
    "colab": {
     "base_uri": "https://localhost:8080/"
    },
    "executionInfo": {
     "elapsed": 5392,
     "status": "ok",
     "timestamp": 1646284963289,
     "user": {
      "displayName": "Alexander Zuluaga Quintero",
      "photoUrl": "https://lh3.googleusercontent.com/a-/AOh14Gi5bptZVpT8uPV-rsu1k3GPYeG1CXzkWxwYtJ_160M=s64",
      "userId": "06106219622026670571"
     },
     "user_tz": 300
    },
    "id": "uSXzGMzUOnZn",
    "outputId": "fec5cc3f-1fc3-41a8-e32c-8869e7847a6f"
   },
   "outputs": [],
   "source": [
    "# código mucho más legible\n",
    "x = int(input(\"Please enter an integer: \"))\n",
    "if x < 0:\n",
    "    x = 0\n",
    "    print('Negative changed to zero')\n",
    "elif x == 0:\n",
    "    print('Zero')\n",
    "elif x == 1:\n",
    "    print('Single')\n",
    "else:\n",
    "    print('More')"
   ]
  },
  {
   "cell_type": "code",
   "execution_count": null,
   "metadata": {
    "colab": {
     "base_uri": "https://localhost:8080/"
    },
    "executionInfo": {
     "elapsed": 58,
     "status": "ok",
     "timestamp": 1646284963290,
     "user": {
      "displayName": "Alexander Zuluaga Quintero",
      "photoUrl": "https://lh3.googleusercontent.com/a-/AOh14Gi5bptZVpT8uPV-rsu1k3GPYeG1CXzkWxwYtJ_160M=s64",
      "userId": "06106219622026670571"
     },
     "user_tz": 300
    },
    "id": "nt9uO9qfOnZo",
    "outputId": "1da98161-0756-41e7-f907-4fd692820ed8"
   },
   "outputs": [],
   "source": [
    "x"
   ]
  },
  {
   "cell_type": "code",
   "execution_count": null,
   "metadata": {
    "colab": {
     "base_uri": "https://localhost:8080/"
    },
    "executionInfo": {
     "elapsed": 48,
     "status": "ok",
     "timestamp": 1646284963291,
     "user": {
      "displayName": "Alexander Zuluaga Quintero",
      "photoUrl": "https://lh3.googleusercontent.com/a-/AOh14Gi5bptZVpT8uPV-rsu1k3GPYeG1CXzkWxwYtJ_160M=s64",
      "userId": "06106219622026670571"
     },
     "user_tz": 300
    },
    "id": "7p9ssPfpOnZo",
    "outputId": "8e07a683-5380-447f-d2c3-2f40cb155562"
   },
   "outputs": [],
   "source": [
    "x1 = 1 if x == 0 else 0\n",
    "x1"
   ]
  },
  {
   "cell_type": "code",
   "execution_count": null,
   "metadata": {
    "colab": {
     "base_uri": "https://localhost:8080/"
    },
    "executionInfo": {
     "elapsed": 41,
     "status": "ok",
     "timestamp": 1646284963292,
     "user": {
      "displayName": "Alexander Zuluaga Quintero",
      "photoUrl": "https://lh3.googleusercontent.com/a-/AOh14Gi5bptZVpT8uPV-rsu1k3GPYeG1CXzkWxwYtJ_160M=s64",
      "userId": "06106219622026670571"
     },
     "user_tz": 300
    },
    "id": "6IwH1ttgOnZo",
    "outputId": "a187142a-8bbd-4634-eb3d-4462d07d9063"
   },
   "outputs": [],
   "source": [
    "x2 = 1 if x > 0 else 0\n",
    "x2"
   ]
  },
  {
   "cell_type": "code",
   "execution_count": null,
   "metadata": {
    "colab": {
     "base_uri": "https://localhost:8080/"
    },
    "executionInfo": {
     "elapsed": 37,
     "status": "ok",
     "timestamp": 1646284963293,
     "user": {
      "displayName": "Alexander Zuluaga Quintero",
      "photoUrl": "https://lh3.googleusercontent.com/a-/AOh14Gi5bptZVpT8uPV-rsu1k3GPYeG1CXzkWxwYtJ_160M=s64",
      "userId": "06106219622026670571"
     },
     "user_tz": 300
    },
    "id": "T9gkwP0UOnZp",
    "outputId": "14bb61ff-d6ac-4a6d-d6dc-8ea001d1db22"
   },
   "outputs": [],
   "source": [
    "v = [1,2,3,4]\n",
    "v"
   ]
  },
  {
   "cell_type": "code",
   "execution_count": null,
   "metadata": {
    "colab": {
     "base_uri": "https://localhost:8080/"
    },
    "executionInfo": {
     "elapsed": 33,
     "status": "ok",
     "timestamp": 1646284963293,
     "user": {
      "displayName": "Alexander Zuluaga Quintero",
      "photoUrl": "https://lh3.googleusercontent.com/a-/AOh14Gi5bptZVpT8uPV-rsu1k3GPYeG1CXzkWxwYtJ_160M=s64",
      "userId": "06106219622026670571"
     },
     "user_tz": 300
    },
    "id": "X5DF3O5hOnZp",
    "outputId": "62030b59-9b12-4d3e-dc00-344815ffd334"
   },
   "outputs": [],
   "source": [
    "v[2:3] = []\n",
    "v"
   ]
  },
  {
   "cell_type": "code",
   "execution_count": null,
   "metadata": {
    "colab": {
     "base_uri": "https://localhost:8080/"
    },
    "executionInfo": {
     "elapsed": 30,
     "status": "ok",
     "timestamp": 1646284963294,
     "user": {
      "displayName": "Alexander Zuluaga Quintero",
      "photoUrl": "https://lh3.googleusercontent.com/a-/AOh14Gi5bptZVpT8uPV-rsu1k3GPYeG1CXzkWxwYtJ_160M=s64",
      "userId": "06106219622026670571"
     },
     "user_tz": 300
    },
    "id": "Nwb0JUJ9OnZp",
    "outputId": "66b8f78b-e548-4612-f696-e5a2da254fb3"
   },
   "outputs": [],
   "source": [
    "del v[2]\n",
    "v"
   ]
  },
  {
   "cell_type": "markdown",
   "metadata": {
    "id": "4iio2YaqOnZq"
   },
   "source": [
    "**Ejercicio.** Escriba una función en Python que implemente la siguiente función matemática:\n",
    "\n",
    "$$ \\text{absval}(x) = \\left\\{ \n",
    "  \\begin{array}{rr} \n",
    "    x  & \\text{if } x > 0 \\\\\n",
    "    0  & \\text{if } x = 0 \\\\\n",
    "    -x & \\text{if } x < 0 \n",
    "  \\end{array}\n",
    "   \\right. $$"
   ]
  },
  {
   "cell_type": "markdown",
   "metadata": {
    "id": "vZRVcI0dOnZq"
   },
   "source": [
    "**Ejercicio.** Escriba la función $f(n)$ definida como:\n",
    "$$ f(n) = \\left\\{ \n",
    "  \\begin{array}{lr} \n",
    "    1            & \\text{if } n = 0 \\\\\n",
    "    n * f(n - 1) & \\text{if } n > 0 \n",
    "  \\end{array}\n",
    "   \\right. $$"
   ]
  },
  {
   "cell_type": "markdown",
   "metadata": {
    "id": "Oat1DYMxOnZq"
   },
   "source": [
    "Mediante el uso de funciones recursivas es posible implementar tanto cálculos recursivos como iterativos, tal como se ejemplifica a continuación. Suponga que se desea calcular la suma de los primeros $n$ números naturales, definida como:"
   ]
  },
  {
   "cell_type": "markdown",
   "metadata": {
    "id": "O9HkChd_OnZq"
   },
   "source": [
    "$$f(n) = 1 + 2 + 3 + ... + (n-2) + (n-1) + n $$"
   ]
  },
  {
   "cell_type": "markdown",
   "metadata": {
    "id": "_Z9VHnW6OnZr"
   },
   "source": [
    "Agrupando los primeros $(n-1)$ términos se obtiene que:"
   ]
  },
  {
   "cell_type": "markdown",
   "metadata": {
    "id": "yXJjc-IxOnZr"
   },
   "source": [
    "$$ f(n) = [1 + 2 + 3 + ...+ (n-2) + (n-1)] + n $$"
   ]
  },
  {
   "cell_type": "markdown",
   "metadata": {
    "id": "q_36eP0yOnZr"
   },
   "source": [
    "Pero la cantidad entre corchetes es $f(n-1)$, es decir:"
   ]
  },
  {
   "cell_type": "markdown",
   "metadata": {
    "id": "tx3EeT08OnZr"
   },
   "source": [
    "$$ f(n) = f(n-1) + n$$"
   ]
  },
  {
   "cell_type": "markdown",
   "metadata": {
    "id": "gzaqRcyFOnZr"
   },
   "source": [
    "y a su vez:"
   ]
  },
  {
   "cell_type": "markdown",
   "metadata": {
    "id": "i1fqzEUeOnZr"
   },
   "source": [
    "$$ f(n-1) = f(n-2) + (n-1)$$"
   ]
  },
  {
   "cell_type": "markdown",
   "metadata": {
    "id": "oSq2PwmzOnZr"
   },
   "source": [
    "El proceso puede repetirse hasta que $n=0$, es dcir, $f(0) = 0$. Por consiguiente, la función puede definirse como:  "
   ]
  },
  {
   "cell_type": "markdown",
   "metadata": {
    "id": "4PoaeangOnZs"
   },
   "source": [
    "$$ f(n) = \\left\\{ \n",
    "  \\begin{array}{lr} \n",
    "    0            & \\text{if } n = 0 \\\\\n",
    "    n + f(n - 1) & \\text{if } n > 0 \n",
    "  \\end{array}\n",
    "   \\right. $$"
   ]
  },
  {
   "cell_type": "markdown",
   "metadata": {
    "id": "FxbRCEONOnZs"
   },
   "source": [
    "**Ejercicio.** Implemente la función anterior en Python. "
   ]
  },
  {
   "cell_type": "markdown",
   "metadata": {
    "id": "Bf1bSay1OnZs"
   },
   "source": [
    "**Ejercicio.** Escriba la función `listLength(x)` que calcula la longitud de la lista `x`. _Ayuda_: esta función puede definirse como `listLength(x) = 1 + listLenth(x')` donde `x'` es la lista original `x` sin el primer elemento. La recursión se detiene cuando `x` es la lista vacía.  \n",
    "\n",
    "```\n",
    "listLength([1, 2, 3, 4]) ==> 4\n",
    "listLength([['a', 'b', 'c'], [1, 2, 3]]) ==> 2\n",
    "```"
   ]
  },
  {
   "cell_type": "markdown",
   "metadata": {
    "id": "L6MR9ObEOnZt"
   },
   "source": [
    "**Ejercicio.** Escriba la función `listDeepLength(x)` que calcula la totalidad de elementos que contiene `x`, por ejemplo: \n",
    "\n",
    "```\n",
    "listDeepLength([1, 2, 3, 4]) ==> 4\n",
    "listLength([['a', 'b', 'c'], [1, 2, 3]]) ==> 7\n",
    "```"
   ]
  },
  {
   "cell_type": "markdown",
   "metadata": {
    "id": "Qz71nrkIOnZt"
   },
   "source": [
    "**Ejercicio.** Escriba la función `list2(x)` que devuelve la lista `x` con sus elementos elevados al cuadrado. "
   ]
  },
  {
   "cell_type": "markdown",
   "metadata": {
    "id": "ZhfkctilOnZt"
   },
   "source": [
    "**Ejercicio.** Escriba la función `listExpand(x)` que 'rompe' las listas que son elementos de la lista `x`, es decir:\n",
    "\n",
    "```\n",
    "listExpand([1, 2, 3, 4]) ==> [1, 2, 3, 4]\n",
    "listExpand([['a', ['b', 'c']], [1, 2, 3]]) ==> ['a', 'b', 'c', 1, 2, 3]\n",
    "```"
   ]
  },
  {
   "cell_type": "markdown",
   "metadata": {
    "id": "26RJl_X2OnZt"
   },
   "source": [
    "**Ejercicio.** Escriba la función `listUpper(x)` que recibe la lista de strings `x` y devuelve una lista de strings en que la primera letra de cada string está  en mayúsculas."
   ]
  },
  {
   "cell_type": "markdown",
   "metadata": {
    "id": "T77cBcMOOnZt"
   },
   "source": [
    "**Ejercicio.** Escriba la función `listFilter(f, x)` donde `f` es una función booleana que se le aplica a cada elemento de la lista `x`. `listFilter` devuelve la lista conformada por los elementos de `x` para los cuales `f` devuelve verdadero."
   ]
  },
  {
   "cell_type": "markdown",
   "metadata": {
    "id": "847PBXcMOnZu"
   },
   "source": [
    "**Ejercicio.** Escriba la función `sequence(n)` que devuelve una lista conformada por los enteros desde cero hasta `(n-1)`."
   ]
  },
  {
   "cell_type": "markdown",
   "metadata": {
    "id": "3pg-sE45OnZu"
   },
   "source": [
    "##  Estructura `for`"
   ]
  },
  {
   "cell_type": "markdown",
   "metadata": {
    "id": "5vurI-xJOnZu"
   },
   "source": [
    "[Contenido](#Contenido)"
   ]
  },
  {
   "cell_type": "markdown",
   "metadata": {
    "id": "fQne4LxoOnZu"
   },
   "source": [
    "El comando `for` permite iterar sobre los elementos de una lista."
   ]
  },
  {
   "cell_type": "code",
   "execution_count": null,
   "metadata": {
    "colab": {
     "base_uri": "https://localhost:8080/"
    },
    "executionInfo": {
     "elapsed": 418,
     "status": "ok",
     "timestamp": 1646285005073,
     "user": {
      "displayName": "Alexander Zuluaga Quintero",
      "photoUrl": "https://lh3.googleusercontent.com/a-/AOh14Gi5bptZVpT8uPV-rsu1k3GPYeG1CXzkWxwYtJ_160M=s64",
      "userId": "06106219622026670571"
     },
     "user_tz": 300
    },
    "id": "BWfYg3XdOnZu",
    "outputId": "e730330c-c81b-43bf-b2a2-35f1b9023788"
   },
   "outputs": [],
   "source": [
    "words = ['cat', 'window', 'door', 'abcdefg']\n",
    "for w in words:\n",
    "    print(w, len(w))"
   ]
  },
  {
   "cell_type": "code",
   "execution_count": null,
   "metadata": {
    "colab": {
     "base_uri": "https://localhost:8080/"
    },
    "executionInfo": {
     "elapsed": 447,
     "status": "ok",
     "timestamp": 1646285006123,
     "user": {
      "displayName": "Alexander Zuluaga Quintero",
      "photoUrl": "https://lh3.googleusercontent.com/a-/AOh14Gi5bptZVpT8uPV-rsu1k3GPYeG1CXzkWxwYtJ_160M=s64",
      "userId": "06106219622026670571"
     },
     "user_tz": 300
    },
    "id": "NwiHSzOOOnZu",
    "outputId": "bcb05d22-2b31-4a2b-9e1d-ff4e70547f40"
   },
   "outputs": [],
   "source": [
    "for w in words[:]:  # words[:] genera una nueva lista diferente a la contenida en words.\n",
    "    if len(w) > 6:\n",
    "        words.insert(0, w)\n",
    "\n",
    "words"
   ]
  },
  {
   "cell_type": "code",
   "execution_count": null,
   "metadata": {
    "colab": {
     "base_uri": "https://localhost:8080/"
    },
    "executionInfo": {
     "elapsed": 50,
     "status": "ok",
     "timestamp": 1646285006124,
     "user": {
      "displayName": "Alexander Zuluaga Quintero",
      "photoUrl": "https://lh3.googleusercontent.com/a-/AOh14Gi5bptZVpT8uPV-rsu1k3GPYeG1CXzkWxwYtJ_160M=s64",
      "userId": "06106219622026670571"
     },
     "user_tz": 300
    },
    "id": "yRRijO_sOnZv",
    "outputId": "9a510ddf-a2d0-4d71-83c9-4cf39cfccac1"
   },
   "outputs": [],
   "source": [
    "words.append('final')\n",
    "words"
   ]
  },
  {
   "cell_type": "markdown",
   "metadata": {
    "id": "zZ4-spVYOnZv"
   },
   "source": [
    "La función `range(n)` devuelve un objeto cuyos elementos son los enteros consecutivos desde `0` hasta `n-1`."
   ]
  },
  {
   "cell_type": "code",
   "execution_count": null,
   "metadata": {
    "colab": {
     "base_uri": "https://localhost:8080/"
    },
    "executionInfo": {
     "elapsed": 47,
     "status": "ok",
     "timestamp": 1646285006124,
     "user": {
      "displayName": "Alexander Zuluaga Quintero",
      "photoUrl": "https://lh3.googleusercontent.com/a-/AOh14Gi5bptZVpT8uPV-rsu1k3GPYeG1CXzkWxwYtJ_160M=s64",
      "userId": "06106219622026670571"
     },
     "user_tz": 300
    },
    "id": "2cJN_1aXOnZv",
    "outputId": "a2046600-6a83-4dc0-8711-0734abba2887"
   },
   "outputs": [],
   "source": [
    "for i in range(5):\n",
    "    print(i)"
   ]
  },
  {
   "cell_type": "code",
   "execution_count": null,
   "metadata": {
    "colab": {
     "base_uri": "https://localhost:8080/"
    },
    "executionInfo": {
     "elapsed": 45,
     "status": "ok",
     "timestamp": 1646285006125,
     "user": {
      "displayName": "Alexander Zuluaga Quintero",
      "photoUrl": "https://lh3.googleusercontent.com/a-/AOh14Gi5bptZVpT8uPV-rsu1k3GPYeG1CXzkWxwYtJ_160M=s64",
      "userId": "06106219622026670571"
     },
     "user_tz": 300
    },
    "id": "Hq8TvFG8OnZv",
    "outputId": "b0493f2f-995d-46a9-81fb-cb5b64c5f487"
   },
   "outputs": [],
   "source": [
    "range(5)"
   ]
  },
  {
   "cell_type": "code",
   "execution_count": null,
   "metadata": {
    "colab": {
     "base_uri": "https://localhost:8080/"
    },
    "executionInfo": {
     "elapsed": 42,
     "status": "ok",
     "timestamp": 1646285006125,
     "user": {
      "displayName": "Alexander Zuluaga Quintero",
      "photoUrl": "https://lh3.googleusercontent.com/a-/AOh14Gi5bptZVpT8uPV-rsu1k3GPYeG1CXzkWxwYtJ_160M=s64",
      "userId": "06106219622026670571"
     },
     "user_tz": 300
    },
    "id": "t3VhYiysOnZv",
    "outputId": "e9f7a72c-816c-45bc-c04f-f3cf8b362148"
   },
   "outputs": [],
   "source": [
    "list(range(5))  # un rango puede convertirse en una lista"
   ]
  },
  {
   "cell_type": "code",
   "execution_count": null,
   "metadata": {
    "colab": {
     "base_uri": "https://localhost:8080/"
    },
    "executionInfo": {
     "elapsed": 39,
     "status": "ok",
     "timestamp": 1646285006125,
     "user": {
      "displayName": "Alexander Zuluaga Quintero",
      "photoUrl": "https://lh3.googleusercontent.com/a-/AOh14Gi5bptZVpT8uPV-rsu1k3GPYeG1CXzkWxwYtJ_160M=s64",
      "userId": "06106219622026670571"
     },
     "user_tz": 300
    },
    "id": "v4txw2u-OnZw",
    "outputId": "caffcb7c-147f-484f-c00c-447053f24d52"
   },
   "outputs": [],
   "source": [
    "for i in range(5, 10):\n",
    "    print(i, end = ', ') # el argumento end indica que al final del print se imprime ', ' y no retorno de carro"
   ]
  },
  {
   "cell_type": "code",
   "execution_count": null,
   "metadata": {
    "colab": {
     "base_uri": "https://localhost:8080/"
    },
    "executionInfo": {
     "elapsed": 37,
     "status": "ok",
     "timestamp": 1646285006126,
     "user": {
      "displayName": "Alexander Zuluaga Quintero",
      "photoUrl": "https://lh3.googleusercontent.com/a-/AOh14Gi5bptZVpT8uPV-rsu1k3GPYeG1CXzkWxwYtJ_160M=s64",
      "userId": "06106219622026670571"
     },
     "user_tz": 300
    },
    "id": "Jwh-xrjyOnZw",
    "outputId": "9940bb1a-ab71-479e-c4fc-0b68e240786b"
   },
   "outputs": [],
   "source": [
    "for i in range(0, 10, 3):\n",
    "    print(i, end = ', ')"
   ]
  },
  {
   "cell_type": "code",
   "execution_count": null,
   "metadata": {
    "colab": {
     "base_uri": "https://localhost:8080/"
    },
    "executionInfo": {
     "elapsed": 35,
     "status": "ok",
     "timestamp": 1646285006126,
     "user": {
      "displayName": "Alexander Zuluaga Quintero",
      "photoUrl": "https://lh3.googleusercontent.com/a-/AOh14Gi5bptZVpT8uPV-rsu1k3GPYeG1CXzkWxwYtJ_160M=s64",
      "userId": "06106219622026670571"
     },
     "user_tz": 300
    },
    "id": "KzjQTP6nOnZw",
    "outputId": "fa30d1fd-409e-43d6-b498-ee82f367fd5d"
   },
   "outputs": [],
   "source": [
    "for i in range(-10, -100, -30):\n",
    "    print(i, end = ', ')"
   ]
  },
  {
   "cell_type": "code",
   "execution_count": null,
   "metadata": {
    "colab": {
     "base_uri": "https://localhost:8080/"
    },
    "executionInfo": {
     "elapsed": 32,
     "status": "ok",
     "timestamp": 1646285006126,
     "user": {
      "displayName": "Alexander Zuluaga Quintero",
      "photoUrl": "https://lh3.googleusercontent.com/a-/AOh14Gi5bptZVpT8uPV-rsu1k3GPYeG1CXzkWxwYtJ_160M=s64",
      "userId": "06106219622026670571"
     },
     "user_tz": 300
    },
    "id": "T2lk13VoOnZw",
    "outputId": "63f28d84-324e-45fd-bb5e-1003ac5ae534"
   },
   "outputs": [],
   "source": [
    "print('hola', 'soy', 'Pauli', sep=' --- ')"
   ]
  },
  {
   "cell_type": "markdown",
   "metadata": {
    "id": "epyQeK7YOnZw"
   },
   "source": [
    "En el comando `for` existen dos formas para obtener un elemento de una lista y su posición. La primera es generar los indices usando `range` y con ellos obtener los elementos:"
   ]
  },
  {
   "cell_type": "code",
   "execution_count": null,
   "metadata": {
    "colab": {
     "base_uri": "https://localhost:8080/"
    },
    "executionInfo": {
     "elapsed": 30,
     "status": "ok",
     "timestamp": 1646285006127,
     "user": {
      "displayName": "Alexander Zuluaga Quintero",
      "photoUrl": "https://lh3.googleusercontent.com/a-/AOh14Gi5bptZVpT8uPV-rsu1k3GPYeG1CXzkWxwYtJ_160M=s64",
      "userId": "06106219622026670571"
     },
     "user_tz": 300
    },
    "id": "lPO7RFpQOnZx",
    "outputId": "3d4bd734-b563-4ae7-d5e8-e0f9d992dff5"
   },
   "outputs": [],
   "source": [
    "a = ['a', 'b', 'c', 'd', 'e']\n",
    "for i in range(len(a)):\n",
    "    print(i, a[i])"
   ]
  },
  {
   "cell_type": "markdown",
   "metadata": {
    "id": "dnnyOhSZOnZx"
   },
   "source": [
    "La segunda forma es enumerar los elementos de la lista usando la función `enumerate`."
   ]
  },
  {
   "cell_type": "code",
   "execution_count": null,
   "metadata": {
    "colab": {
     "base_uri": "https://localhost:8080/"
    },
    "executionInfo": {
     "elapsed": 28,
     "status": "ok",
     "timestamp": 1646285006127,
     "user": {
      "displayName": "Alexander Zuluaga Quintero",
      "photoUrl": "https://lh3.googleusercontent.com/a-/AOh14Gi5bptZVpT8uPV-rsu1k3GPYeG1CXzkWxwYtJ_160M=s64",
      "userId": "06106219622026670571"
     },
     "user_tz": 300
    },
    "id": "SipLYareOnZx",
    "outputId": "e60e2196-3fa1-4810-8ef7-97c29598fd4a"
   },
   "outputs": [],
   "source": [
    "a = ['a', 'b', 'c', 'd', 'e']\n",
    "for (i, x) in enumerate(a):\n",
    "    print(i, x)"
   ]
  },
  {
   "cell_type": "code",
   "execution_count": null,
   "metadata": {
    "colab": {
     "base_uri": "https://localhost:8080/"
    },
    "executionInfo": {
     "elapsed": 26,
     "status": "ok",
     "timestamp": 1646285006128,
     "user": {
      "displayName": "Alexander Zuluaga Quintero",
      "photoUrl": "https://lh3.googleusercontent.com/a-/AOh14Gi5bptZVpT8uPV-rsu1k3GPYeG1CXzkWxwYtJ_160M=s64",
      "userId": "06106219622026670571"
     },
     "user_tz": 300
    },
    "id": "4_aF5ys0OnZx",
    "outputId": "2a132b89-5a49-4d0b-81e6-64617aae5d9a"
   },
   "outputs": [],
   "source": [
    "t = (1, 'Pauli', 'Bi')\n",
    "t"
   ]
  },
  {
   "cell_type": "code",
   "execution_count": null,
   "metadata": {
    "colab": {
     "base_uri": "https://localhost:8080/"
    },
    "executionInfo": {
     "elapsed": 24,
     "status": "ok",
     "timestamp": 1646285006128,
     "user": {
      "displayName": "Alexander Zuluaga Quintero",
      "photoUrl": "https://lh3.googleusercontent.com/a-/AOh14Gi5bptZVpT8uPV-rsu1k3GPYeG1CXzkWxwYtJ_160M=s64",
      "userId": "06106219622026670571"
     },
     "user_tz": 300
    },
    "id": "de8XVT8KOnZx",
    "outputId": "5cbd10a1-1d25-4979-cc5e-27eac0c11a5a"
   },
   "outputs": [],
   "source": [
    "n, m, d = t\n",
    "print(n,m,d,sep='\\t')"
   ]
  },
  {
   "cell_type": "markdown",
   "metadata": {
    "id": "mmTHIWIWOnZx"
   },
   "source": [
    "**Ejercicio.** Escriba la función `stringsLength(x)` que recibe la lista de strings `x` y devuelve una lista de enteros con las longitudes de los strings. Haga una función usando un ciclo `for` y otra usando recursión. "
   ]
  },
  {
   "cell_type": "markdown",
   "metadata": {
    "id": "xYj947UQOnZy"
   },
   "source": [
    "**Ejercicio.** Escriba la función `listLength(x)` que calcula la longitud de la lista `x` usando un ciclo `for`. _Ayuda_: esta función puede definirse como un ciclo `for` que recorre los elementos de la lista `x` y le suma 1 a un contador por cada elemento.  "
   ]
  },
  {
   "cell_type": "markdown",
   "metadata": {
    "id": "DU3tP1qeOnZy"
   },
   "source": [
    "**Ejercicio.** Escriba la función `list2(x)` que devuelve la lista `x` con sus elementos elevados al cuadrado. Use un ciclo `for` en vez de recursión para su implementación."
   ]
  },
  {
   "cell_type": "markdown",
   "metadata": {
    "id": "l6k4i25DOnZy"
   },
   "source": [
    "**Ejercicio.** Escriba la función `listUpper(x)` que recibe la lista de strings `x` y devuelve una lista de strings en que la primera letra de cada string está  en mayúsculas. Use un ciclo `for` para su implementación en vez de recursión."
   ]
  },
  {
   "cell_type": "markdown",
   "metadata": {
    "id": "krxmbDjEOnZy"
   },
   "source": [
    "**Ejercicio.** Escriba la función `listFilter(f, x)` donde `f` es una función booleana que se le aplica a cada elemento de la lista `x`. `listFilter` devuelve la lista conformada por los elementos de `x` para los cuales `f` devuelve verdadero. Use un ciclo `for` en vez de recursión."
   ]
  },
  {
   "cell_type": "markdown",
   "metadata": {
    "id": "OEATF93nOnZy"
   },
   "source": [
    "**Ejercicio.** Escriba la función `listSort(x)` que ordena los elementos de la lista `x` usando el método de la burbuja."
   ]
  },
  {
   "cell_type": "markdown",
   "metadata": {
    "id": "RWo6uBNbOnZy"
   },
   "source": [
    "## Comandos `break` y `continue`"
   ]
  },
  {
   "cell_type": "markdown",
   "metadata": {
    "id": "tKS8r8biOnZy"
   },
   "source": [
    "[Contenido](#Contenido)"
   ]
  },
  {
   "cell_type": "markdown",
   "metadata": {
    "id": "9nRD5c2xOnZy"
   },
   "source": [
    "El comando `continue` causa que se ejecute una nueva iteración del ciclo `for` sin pasar por el resto del código que hace parte del cuerpo del ciclo `for`. El comando `break` causa la salida del cuerpo del ciclo `for`."
   ]
  },
  {
   "cell_type": "code",
   "execution_count": null,
   "metadata": {
    "colab": {
     "base_uri": "https://localhost:8080/"
    },
    "executionInfo": {
     "elapsed": 21,
     "status": "ok",
     "timestamp": 1646285006128,
     "user": {
      "displayName": "Alexander Zuluaga Quintero",
      "photoUrl": "https://lh3.googleusercontent.com/a-/AOh14Gi5bptZVpT8uPV-rsu1k3GPYeG1CXzkWxwYtJ_160M=s64",
      "userId": "06106219622026670571"
     },
     "user_tz": 300
    },
    "id": "hFCcKM0VOnZz",
    "outputId": "46549eb1-253f-4963-f610-e02135396f06"
   },
   "outputs": [],
   "source": [
    "for n in range(1, 10):\n",
    "    if n < 4:\n",
    "        continue \n",
    "    print(n)   # solo pasa por aca cuando n >= 4.\n",
    "    if n > 6:\n",
    "        break  # interrupe el ciclo cuando n > 6."
   ]
  },
  {
   "cell_type": "code",
   "execution_count": null,
   "metadata": {
    "colab": {
     "base_uri": "https://localhost:8080/"
    },
    "executionInfo": {
     "elapsed": 22,
     "status": "ok",
     "timestamp": 1646285006131,
     "user": {
      "displayName": "Alexander Zuluaga Quintero",
      "photoUrl": "https://lh3.googleusercontent.com/a-/AOh14Gi5bptZVpT8uPV-rsu1k3GPYeG1CXzkWxwYtJ_160M=s64",
      "userId": "06106219622026670571"
     },
     "user_tz": 300
    },
    "id": "Gbk-Zwg0OnZz",
    "outputId": "9bda26f9-4399-4b8f-d33d-b68496bf0da7"
   },
   "outputs": [],
   "source": [
    "try:\n",
    "    x = 10/0\n",
    "    print('Fun')\n",
    "except:\n",
    "    pass\n",
    "    #print('Fallo')\n",
    "    \n",
    "print('Termino')"
   ]
  },
  {
   "cell_type": "code",
   "execution_count": null,
   "metadata": {
    "executionInfo": {
     "elapsed": 22,
     "status": "ok",
     "timestamp": 1646285006132,
     "user": {
      "displayName": "Alexander Zuluaga Quintero",
      "photoUrl": "https://lh3.googleusercontent.com/a-/AOh14Gi5bptZVpT8uPV-rsu1k3GPYeG1CXzkWxwYtJ_160M=s64",
      "userId": "06106219622026670571"
     },
     "user_tz": 300
    },
    "id": "1lLwajPROnZz"
   },
   "outputs": [],
   "source": [
    "def fun1():\n",
    "    pass"
   ]
  },
  {
   "cell_type": "markdown",
   "metadata": {
    "collapsed": true,
    "id": "lNvQmfC3OnZz"
   },
   "source": [
    "## Estructura `while`"
   ]
  },
  {
   "cell_type": "markdown",
   "metadata": {
    "id": "UG6Lh-7ROnZz"
   },
   "source": [
    "[Contenido](#Contenido)"
   ]
  },
  {
   "cell_type": "markdown",
   "metadata": {
    "id": "bn7bEXZpOnZz"
   },
   "source": [
    "El comando `while` permite iterar mientras se cumpla una condición. Al igual que en un ciclo `for`, el código perteneciente al cuerpo del `while` se identifica por identación. "
   ]
  },
  {
   "cell_type": "code",
   "execution_count": null,
   "metadata": {
    "colab": {
     "base_uri": "https://localhost:8080/"
    },
    "executionInfo": {
     "elapsed": 21,
     "status": "ok",
     "timestamp": 1646285006132,
     "user": {
      "displayName": "Alexander Zuluaga Quintero",
      "photoUrl": "https://lh3.googleusercontent.com/a-/AOh14Gi5bptZVpT8uPV-rsu1k3GPYeG1CXzkWxwYtJ_160M=s64",
      "userId": "06106219622026670571"
     },
     "user_tz": 300
    },
    "id": "GIu7-49pOnZ0",
    "outputId": "69f2b017-0021-4003-a22b-aaa36260ca8e"
   },
   "outputs": [],
   "source": [
    "n = 0\n",
    "while n < 5:  # se ejecuta mientras se cumpla que n < 5\n",
    "    print(n)\n",
    "    n = n + 1\n",
    "    \n",
    "print('fin')"
   ]
  },
  {
   "cell_type": "markdown",
   "metadata": {
    "id": "bTnzltRAOnZ0"
   },
   "source": [
    "**Ejercicio.** Escriba la función `stringsLength(x)` que recibe la lista de strings `x` y devuelve una lista de enteros con las longitudes de los strings. Implemente su función usando un ciclo `while`."
   ]
  },
  {
   "cell_type": "markdown",
   "metadata": {
    "id": "wyEJekC8OnZ0"
   },
   "source": [
    "**Ejercicio.** Escriba la función `list2(x)` que devuelve la lista `x` con sus elementos elevados al cuadrado. Use un ciclo `while` en vez de un ciclo `for` o recursión para su implementación."
   ]
  },
  {
   "cell_type": "markdown",
   "metadata": {
    "id": "5XeIRidUOnZ0"
   },
   "source": [
    "**Ejercicio.** Escriba la función `listUpper(x)` que recibe la lista de strings `x` y devuelve una lista de strings en que la primera letra de cada string está  en mayúsculas. Use un ciclo `while` para su implementación en vez de un ciclo `for` o de recursión."
   ]
  },
  {
   "cell_type": "markdown",
   "metadata": {
    "id": "I6zhlDPDOnZ0"
   },
   "source": [
    "## Comando `else` en estructuras `for` y `while`"
   ]
  },
  {
   "cell_type": "markdown",
   "metadata": {
    "id": "X_NGYzs4OnZ0"
   },
   "source": [
    "[Contenido](#Contenido)"
   ]
  },
  {
   "cell_type": "markdown",
   "metadata": {
    "id": "Jttj_qcgOnZ1"
   },
   "source": [
    "Los ciclos creados usando los comandos `for` y `while` pueden contener un comando `else`. En el caso de los ciclos `for`, el cuerpo del `else` se ejecuta cuando se termina el ciclo; para los ciclos `while`, el cuerpo del `else` se ejecuta cuando el condicional se hace falso."
   ]
  },
  {
   "cell_type": "code",
   "execution_count": null,
   "metadata": {
    "colab": {
     "base_uri": "https://localhost:8080/"
    },
    "executionInfo": {
     "elapsed": 21,
     "status": "ok",
     "timestamp": 1646285006133,
     "user": {
      "displayName": "Alexander Zuluaga Quintero",
      "photoUrl": "https://lh3.googleusercontent.com/a-/AOh14Gi5bptZVpT8uPV-rsu1k3GPYeG1CXzkWxwYtJ_160M=s64",
      "userId": "06106219622026670571"
     },
     "user_tz": 300
    },
    "id": "9y1LiFxTOnZ1",
    "outputId": "3fcefe6a-eac2-47c1-dd6c-4b87eb40ed37"
   },
   "outputs": [],
   "source": [
    "n = 0\n",
    "while n < 5:  # se ejecuta mientras se cumpla que n < 5\n",
    "    print(n)\n",
    "    n = n + 1\n",
    "else:\n",
    "    print('cuerpo else')\n",
    "    \n",
    "print('fin')"
   ]
  },
  {
   "cell_type": "code",
   "execution_count": null,
   "metadata": {
    "colab": {
     "base_uri": "https://localhost:8080/"
    },
    "executionInfo": {
     "elapsed": 20,
     "status": "ok",
     "timestamp": 1646285006133,
     "user": {
      "displayName": "Alexander Zuluaga Quintero",
      "photoUrl": "https://lh3.googleusercontent.com/a-/AOh14Gi5bptZVpT8uPV-rsu1k3GPYeG1CXzkWxwYtJ_160M=s64",
      "userId": "06106219622026670571"
     },
     "user_tz": 300
    },
    "id": "VHNSliOnOnZ1",
    "outputId": "748b5a04-930a-4663-ad09-f209ccb7685a"
   },
   "outputs": [],
   "source": [
    "for n in range(5):  # se ejecuta mientras se cumpla que n < 5\n",
    "    print(n)\n",
    "    n = n + 1\n",
    "else:\n",
    "    print('cuerpo else')\n",
    "    \n",
    "print('fin')"
   ]
  },
  {
   "cell_type": "markdown",
   "metadata": {
    "id": "TAImdKKjOnZ1"
   },
   "source": [
    "# Funciones de usuario"
   ]
  },
  {
   "cell_type": "markdown",
   "metadata": {
    "id": "QBZGv0eDOnZ1"
   },
   "source": [
    "[Contenido](#Contenido)"
   ]
  },
  {
   "cell_type": "markdown",
   "metadata": {
    "id": "gA4uNhtNOnZ1"
   },
   "source": [
    "Las funciones son definidas mediante la palabra reservada `def`. En el siguiente ejemplo se presenta una función que calcula la serie de Fibonnaci. "
   ]
  },
  {
   "cell_type": "code",
   "execution_count": null,
   "metadata": {
    "colab": {
     "base_uri": "https://localhost:8080/"
    },
    "executionInfo": {
     "elapsed": 19,
     "status": "ok",
     "timestamp": 1646285006133,
     "user": {
      "displayName": "Alexander Zuluaga Quintero",
      "photoUrl": "https://lh3.googleusercontent.com/a-/AOh14Gi5bptZVpT8uPV-rsu1k3GPYeG1CXzkWxwYtJ_160M=s64",
      "userId": "06106219622026670571"
     },
     "user_tz": 300
    },
    "id": "P_ywYuJQOnZ1",
    "outputId": "cb91b955-1a6d-4534-e5b6-6ecd39d4931f"
   },
   "outputs": [],
   "source": [
    "def fib(n):    \n",
    "    \"\"\"Imprime los términos de la serie de Fibbonaci que son menores que n.\"\"\"\n",
    "    a, b = 0, 1  # esto equivale a hacer a = 0 y b = 1\n",
    "    while a < n:\n",
    "        print(a, end=' ')\n",
    "        a, b = b, a+b  # equivale a: a = b y b = a + b\n",
    "    print()\n",
    "\n",
    "# Llama la función\n",
    "fib(2000)"
   ]
  },
  {
   "cell_type": "code",
   "execution_count": null,
   "metadata": {
    "colab": {
     "base_uri": "https://localhost:8080/"
    },
    "executionInfo": {
     "elapsed": 18,
     "status": "ok",
     "timestamp": 1646285006133,
     "user": {
      "displayName": "Alexander Zuluaga Quintero",
      "photoUrl": "https://lh3.googleusercontent.com/a-/AOh14Gi5bptZVpT8uPV-rsu1k3GPYeG1CXzkWxwYtJ_160M=s64",
      "userId": "06106219622026670571"
     },
     "user_tz": 300
    },
    "id": "vJaAeXdXOnZ2",
    "outputId": "3ed4d5e5-4d2f-4eda-ec98-5de206295675"
   },
   "outputs": [],
   "source": [
    "fib  # la función es un objeto."
   ]
  },
  {
   "cell_type": "code",
   "execution_count": null,
   "metadata": {
    "colab": {
     "base_uri": "https://localhost:8080/"
    },
    "executionInfo": {
     "elapsed": 18,
     "status": "ok",
     "timestamp": 1646285006134,
     "user": {
      "displayName": "Alexander Zuluaga Quintero",
      "photoUrl": "https://lh3.googleusercontent.com/a-/AOh14Gi5bptZVpT8uPV-rsu1k3GPYeG1CXzkWxwYtJ_160M=s64",
      "userId": "06106219622026670571"
     },
     "user_tz": 300
    },
    "id": "7FisyPkFOnZ2",
    "outputId": "af8f74c0-cebd-4fc2-daf6-eeba6743d754"
   },
   "outputs": [],
   "source": [
    "help(fib)  # invoca la ayuda de fib"
   ]
  },
  {
   "cell_type": "code",
   "execution_count": null,
   "metadata": {
    "executionInfo": {
     "elapsed": 17,
     "status": "ok",
     "timestamp": 1646285006134,
     "user": {
      "displayName": "Alexander Zuluaga Quintero",
      "photoUrl": "https://lh3.googleusercontent.com/a-/AOh14Gi5bptZVpT8uPV-rsu1k3GPYeG1CXzkWxwYtJ_160M=s64",
      "userId": "06106219622026670571"
     },
     "user_tz": 300
    },
    "id": "njIEhOTSOnZ2"
   },
   "outputs": [],
   "source": [
    "f = fib # se almacena el objeto en la variable f"
   ]
  },
  {
   "cell_type": "code",
   "execution_count": null,
   "metadata": {
    "colab": {
     "base_uri": "https://localhost:8080/"
    },
    "executionInfo": {
     "elapsed": 517,
     "status": "ok",
     "timestamp": 1646285006634,
     "user": {
      "displayName": "Alexander Zuluaga Quintero",
      "photoUrl": "https://lh3.googleusercontent.com/a-/AOh14Gi5bptZVpT8uPV-rsu1k3GPYeG1CXzkWxwYtJ_160M=s64",
      "userId": "06106219622026670571"
     },
     "user_tz": 300
    },
    "id": "R1p1OjU4OnZ2",
    "outputId": "775463a4-59c7-43de-e1ce-590effe5bce0"
   },
   "outputs": [],
   "source": [
    "f(100)  # terminos de la serie de Fibbonaci menores que 100"
   ]
  },
  {
   "cell_type": "code",
   "execution_count": null,
   "metadata": {
    "colab": {
     "base_uri": "https://localhost:8080/"
    },
    "executionInfo": {
     "elapsed": 46,
     "status": "ok",
     "timestamp": 1646285006635,
     "user": {
      "displayName": "Alexander Zuluaga Quintero",
      "photoUrl": "https://lh3.googleusercontent.com/a-/AOh14Gi5bptZVpT8uPV-rsu1k3GPYeG1CXzkWxwYtJ_160M=s64",
      "userId": "06106219622026670571"
     },
     "user_tz": 300
    },
    "id": "WoDhluWeOnZ2",
    "outputId": "d7db1b94-0f4e-4061-ff6e-3784c83104b9"
   },
   "outputs": [],
   "source": [
    "# en vez de imprimir, devuelve los términos de la serie en una lista.\n",
    "def fib2(n):\n",
    "    \"\"\"Retorna los términos de la serie de Fibbonaci que son menores que n en una lista.\"\"\"\n",
    "    result = []  # se crea una lista vacia\n",
    "    a, b = 0, 1\n",
    "    while a < n:\n",
    "        result.append(a)    # se agrega a al final de la lista (opera como un stack)\n",
    "        a, b = b, a+b\n",
    "    return result\n",
    "\n",
    "f100 = fib2(100)    # llama la función\n",
    "f100                # imprime el resultado"
   ]
  },
  {
   "cell_type": "markdown",
   "metadata": {
    "id": "UheVEdNFOnZ3"
   },
   "source": [
    "**Ejercicio.** Escriba la función recursiva de la serie de Fibbonacci definida como:"
   ]
  },
  {
   "cell_type": "markdown",
   "metadata": {
    "id": "0YQqoyGrOnZ3"
   },
   "source": [
    "$$ f(n) = \\left\\{ \n",
    "  \\begin{array}{lr} \n",
    "    0               & \\text{if } n = 0 \\\\\n",
    "    1               & \\text{if } n = 1 \\\\\n",
    "    f(n-1) + f(n-2) & \\text{if } n > 1 \n",
    "  \\end{array}\n",
    "   \\right. $$"
   ]
  },
  {
   "cell_type": "markdown",
   "metadata": {
    "id": "KGnXEPhpOnZ3"
   },
   "source": [
    "El valor por defecto de los argumentos (en este caso `L=[]` para el siguiente ejemplo) se evalua solamente la primera vez; entonces, la primera vez que se invoca `f` se hace `L=[]` (lista vacía), pero esto no ocurre en las llamadas posteriores.  "
   ]
  },
  {
   "cell_type": "code",
   "execution_count": null,
   "metadata": {
    "colab": {
     "base_uri": "https://localhost:8080/"
    },
    "executionInfo": {
     "elapsed": 45,
     "status": "ok",
     "timestamp": 1646285006635,
     "user": {
      "displayName": "Alexander Zuluaga Quintero",
      "photoUrl": "https://lh3.googleusercontent.com/a-/AOh14Gi5bptZVpT8uPV-rsu1k3GPYeG1CXzkWxwYtJ_160M=s64",
      "userId": "06106219622026670571"
     },
     "user_tz": 300
    },
    "id": "TeA1wLJfOnZ3",
    "outputId": "b207b209-6820-4978-b227-b51dde4a5604"
   },
   "outputs": [],
   "source": [
    "def f(a, L=[]):\n",
    "    L.append(a)\n",
    "    return L\n",
    "\n",
    "print(f(1))\n",
    "print(f(2))\n",
    "print(f(3))"
   ]
  },
  {
   "cell_type": "markdown",
   "metadata": {
    "id": "Xq0fng3eOnZ3"
   },
   "source": [
    "Para solucionar este comportamiento, se hace `L=None` y en el cuerpo se hace `L=[]`."
   ]
  },
  {
   "cell_type": "code",
   "execution_count": null,
   "metadata": {
    "colab": {
     "base_uri": "https://localhost:8080/"
    },
    "executionInfo": {
     "elapsed": 44,
     "status": "ok",
     "timestamp": 1646285006635,
     "user": {
      "displayName": "Alexander Zuluaga Quintero",
      "photoUrl": "https://lh3.googleusercontent.com/a-/AOh14Gi5bptZVpT8uPV-rsu1k3GPYeG1CXzkWxwYtJ_160M=s64",
      "userId": "06106219622026670571"
     },
     "user_tz": 300
    },
    "id": "aHSR0wK7OnZ3",
    "outputId": "664c58b2-03e3-4931-e7c0-b2b8f42b82a9"
   },
   "outputs": [],
   "source": [
    "def f(a, L=None):\n",
    "    if L is None:\n",
    "        L = []\n",
    "    L.append(a)\n",
    "    return L\n",
    "\n",
    "print(f(1))\n",
    "print(f(2))\n",
    "print(f(3))"
   ]
  },
  {
   "cell_type": "markdown",
   "metadata": {
    "id": "vEf20nEPOnZ4"
   },
   "source": [
    "Las funciones pueden ser invocadas con una cantidad variable de argumentos. En el siguiente ejemplo, los argumentos son guardados como una tupla en la variable `args`. Con el  `*` se indica cual es el argumento que guarda la tupla.   "
   ]
  },
  {
   "cell_type": "code",
   "execution_count": null,
   "metadata": {
    "colab": {
     "base_uri": "https://localhost:8080/"
    },
    "executionInfo": {
     "elapsed": 44,
     "status": "ok",
     "timestamp": 1646285006636,
     "user": {
      "displayName": "Alexander Zuluaga Quintero",
      "photoUrl": "https://lh3.googleusercontent.com/a-/AOh14Gi5bptZVpT8uPV-rsu1k3GPYeG1CXzkWxwYtJ_160M=s64",
      "userId": "06106219622026670571"
     },
     "user_tz": 300
    },
    "id": "tr2xCVCfOnZ4",
    "outputId": "8d0c7aab-3dbd-4f81-a08c-13302aba4438"
   },
   "outputs": [],
   "source": [
    "def f(*args): # simplemente imprime los argumentos con que se invoca\n",
    "    print(args)\n",
    "    \n",
    "f(1, 2, 3)"
   ]
  },
  {
   "cell_type": "markdown",
   "metadata": {
    "id": "2mmQlZ8UOnZ4"
   },
   "source": [
    "En el siguiente ejemplo, se está dando un valor por defecto al argumento `c`, tal que cuando la función es invocada, la variable `c` toma el valor especificado. "
   ]
  },
  {
   "cell_type": "code",
   "execution_count": null,
   "metadata": {
    "colab": {
     "base_uri": "https://localhost:8080/"
    },
    "executionInfo": {
     "elapsed": 42,
     "status": "ok",
     "timestamp": 1646285006636,
     "user": {
      "displayName": "Alexander Zuluaga Quintero",
      "photoUrl": "https://lh3.googleusercontent.com/a-/AOh14Gi5bptZVpT8uPV-rsu1k3GPYeG1CXzkWxwYtJ_160M=s64",
      "userId": "06106219622026670571"
     },
     "user_tz": 300
    },
    "id": "YvMJ2k59OnZ4",
    "outputId": "3cc65002-13ab-41fd-ae30-65c733e4e288"
   },
   "outputs": [],
   "source": [
    "def f(a, *b, c = 'hola'): \n",
    "    print(a)\n",
    "    print(b)\n",
    "    print(c)\n",
    "    \n",
    "f(1, 2, 3, 4, 5) # el 5 no se asigna a la variable c"
   ]
  },
  {
   "cell_type": "markdown",
   "metadata": {
    "id": "xD9uvMDeOnZ4"
   },
   "source": [
    "Note que a diferencia del caso anterior, en el cual se hacia la llamada `f(1, 2, 3, 4, 5) `, en el siguiente ejemplo se hace explicita la asignación a la variable `c`."
   ]
  },
  {
   "cell_type": "code",
   "execution_count": null,
   "metadata": {
    "colab": {
     "base_uri": "https://localhost:8080/"
    },
    "executionInfo": {
     "elapsed": 41,
     "status": "ok",
     "timestamp": 1646285006636,
     "user": {
      "displayName": "Alexander Zuluaga Quintero",
      "photoUrl": "https://lh3.googleusercontent.com/a-/AOh14Gi5bptZVpT8uPV-rsu1k3GPYeG1CXzkWxwYtJ_160M=s64",
      "userId": "06106219622026670571"
     },
     "user_tz": 300
    },
    "id": "1Mtow4y7OnZ4",
    "outputId": "ad504cad-4b35-468f-a571-6d864c4d9274"
   },
   "outputs": [],
   "source": [
    "f(1, 2, 3, 4, c=5) # se debe indicar explicitamente que `c = 5`."
   ]
  },
  {
   "cell_type": "markdown",
   "metadata": {
    "id": "7yQeHt7cOnZ4"
   },
   "source": [
    "**Ejercicio.**  Escriba la función `magicsum` que puede recibir un número variable de argumentos. Los argumentos son números o listas de numeros. La función devuelve la suma de sus argumentos.\n",
    "\n",
    "```\n",
    "magicsum([1, 2, 3]) ==> 6\n",
    "magicsum([1, 2, 3], 4) ==> 10\n",
    "magicsum(4, [1, 2, 3]) == > 10\n",
    "magicsum(1, 2, 3, 4) ==> 10\n",
    "```"
   ]
  },
  {
   "cell_type": "markdown",
   "metadata": {
    "id": "X-vLgtt7OnZ5"
   },
   "source": [
    "Python permite la definición de funciones anónimas (que no tienen nombre) usando la palabra reservada `lambda`. En el siguiente ejemplo, se define la función `incr` la cual incrementa en la unidad su argumento."
   ]
  },
  {
   "cell_type": "code",
   "execution_count": null,
   "metadata": {
    "colab": {
     "base_uri": "https://localhost:8080/"
    },
    "executionInfo": {
     "elapsed": 41,
     "status": "ok",
     "timestamp": 1646285006637,
     "user": {
      "displayName": "Alexander Zuluaga Quintero",
      "photoUrl": "https://lh3.googleusercontent.com/a-/AOh14Gi5bptZVpT8uPV-rsu1k3GPYeG1CXzkWxwYtJ_160M=s64",
      "userId": "06106219622026670571"
     },
     "user_tz": 300
    },
    "id": "JIvWTEEvOnZ5",
    "outputId": "700d0fa7-ee4c-4d77-d04b-132ec0e47c0d"
   },
   "outputs": [],
   "source": [
    "def incr(x):\n",
    "    return(x + 1)\n",
    "\n",
    "incr(1)"
   ]
  },
  {
   "cell_type": "markdown",
   "metadata": {
    "id": "HZSVIOSDOnZ5"
   },
   "source": [
    "Esto es equivalente a asignar una función anónima a una variable:"
   ]
  },
  {
   "cell_type": "code",
   "execution_count": null,
   "metadata": {
    "colab": {
     "base_uri": "https://localhost:8080/"
    },
    "executionInfo": {
     "elapsed": 39,
     "status": "ok",
     "timestamp": 1646285006637,
     "user": {
      "displayName": "Alexander Zuluaga Quintero",
      "photoUrl": "https://lh3.googleusercontent.com/a-/AOh14Gi5bptZVpT8uPV-rsu1k3GPYeG1CXzkWxwYtJ_160M=s64",
      "userId": "06106219622026670571"
     },
     "user_tz": 300
    },
    "id": "Sl_Q1AvuOnZ5",
    "outputId": "2eda66b7-f08e-425c-d46b-d9370f40ba01"
   },
   "outputs": [],
   "source": [
    "incr0 = lambda x,y: x + y + 1\n",
    "\n",
    "incr0(x=1,y=6)"
   ]
  },
  {
   "cell_type": "markdown",
   "metadata": {
    "id": "KEfo-I-POnZ5"
   },
   "source": [
    "En el código anterior, el código `lambda x:` indica que hay una función anónima con un solo argumento llamado `x`. El código `x + 1` es lo que retorna la función. "
   ]
  },
  {
   "cell_type": "markdown",
   "metadata": {
    "id": "UYS8Rvf2OnZ5"
   },
   "source": [
    "No es necesario realizar la asignación de la función anónima a una variable; la función anónima puede ser usada directamente, tal como se ilustra en el siguiente ejemplo. "
   ]
  },
  {
   "cell_type": "code",
   "execution_count": null,
   "metadata": {
    "colab": {
     "base_uri": "https://localhost:8080/"
    },
    "executionInfo": {
     "elapsed": 37,
     "status": "ok",
     "timestamp": 1646285006637,
     "user": {
      "displayName": "Alexander Zuluaga Quintero",
      "photoUrl": "https://lh3.googleusercontent.com/a-/AOh14Gi5bptZVpT8uPV-rsu1k3GPYeG1CXzkWxwYtJ_160M=s64",
      "userId": "06106219622026670571"
     },
     "user_tz": 300
    },
    "id": "eJTwhMaiOnZ5",
    "outputId": "d9616cf2-3350-4ae2-9847-545a545e892e"
   },
   "outputs": [],
   "source": [
    "(lambda x:x + 1)(2)"
   ]
  },
  {
   "cell_type": "markdown",
   "metadata": {
    "id": "pJZHoX0lOnZ6"
   },
   "source": [
    "**Ejercicio.** Escriba una función anónima que reciba dos argumetnos y devuelva su suma."
   ]
  },
  {
   "cell_type": "markdown",
   "metadata": {
    "id": "81e0CO0zOnZ6"
   },
   "source": [
    "Las funciones pueden retornar funciones, tal como es el caso presentado a continuación donde `return` devuelve una función anónima. Note que el valor de `n` persiste, tal que la función `f` suma `42` a su argumento y `g` suma `1` a su argumento.  "
   ]
  },
  {
   "cell_type": "code",
   "execution_count": null,
   "metadata": {
    "colab": {
     "base_uri": "https://localhost:8080/"
    },
    "executionInfo": {
     "elapsed": 37,
     "status": "ok",
     "timestamp": 1646285006638,
     "user": {
      "displayName": "Alexander Zuluaga Quintero",
      "photoUrl": "https://lh3.googleusercontent.com/a-/AOh14Gi5bptZVpT8uPV-rsu1k3GPYeG1CXzkWxwYtJ_160M=s64",
      "userId": "06106219622026670571"
     },
     "user_tz": 300
    },
    "id": "TVwidT88OnZ6",
    "outputId": "c147eaf0-bc55-4236-b563-12208b3a6a4d"
   },
   "outputs": [],
   "source": [
    "def make_incrementor(n):\n",
    "    return lambda x: x + n\n",
    "\n",
    "f = make_incrementor(42)\n",
    "f(0)"
   ]
  },
  {
   "cell_type": "code",
   "execution_count": null,
   "metadata": {
    "colab": {
     "base_uri": "https://localhost:8080/"
    },
    "executionInfo": {
     "elapsed": 35,
     "status": "ok",
     "timestamp": 1646285006638,
     "user": {
      "displayName": "Alexander Zuluaga Quintero",
      "photoUrl": "https://lh3.googleusercontent.com/a-/AOh14Gi5bptZVpT8uPV-rsu1k3GPYeG1CXzkWxwYtJ_160M=s64",
      "userId": "06106219622026670571"
     },
     "user_tz": 300
    },
    "id": "QW26_EJ1OnZ6",
    "outputId": "c097b78d-4efd-4942-d4ef-1197dca6d97e"
   },
   "outputs": [],
   "source": [
    "f(1)"
   ]
  },
  {
   "cell_type": "code",
   "execution_count": null,
   "metadata": {
    "colab": {
     "base_uri": "https://localhost:8080/"
    },
    "executionInfo": {
     "elapsed": 34,
     "status": "ok",
     "timestamp": 1646285006638,
     "user": {
      "displayName": "Alexander Zuluaga Quintero",
      "photoUrl": "https://lh3.googleusercontent.com/a-/AOh14Gi5bptZVpT8uPV-rsu1k3GPYeG1CXzkWxwYtJ_160M=s64",
      "userId": "06106219622026670571"
     },
     "user_tz": 300
    },
    "id": "jiCWx0NvOnZ6",
    "outputId": "1d21aa7c-f736-42d0-93fa-b429ced00018"
   },
   "outputs": [],
   "source": [
    "g = make_incrementor(1)\n",
    "g(1)"
   ]
  },
  {
   "cell_type": "code",
   "execution_count": null,
   "metadata": {
    "colab": {
     "base_uri": "https://localhost:8080/"
    },
    "executionInfo": {
     "elapsed": 34,
     "status": "ok",
     "timestamp": 1646285006639,
     "user": {
      "displayName": "Alexander Zuluaga Quintero",
      "photoUrl": "https://lh3.googleusercontent.com/a-/AOh14Gi5bptZVpT8uPV-rsu1k3GPYeG1CXzkWxwYtJ_160M=s64",
      "userId": "06106219622026670571"
     },
     "user_tz": 300
    },
    "id": "D6f_1mVmOnZ7",
    "outputId": "51348914-e62e-4968-88aa-6d8aced25613"
   },
   "outputs": [],
   "source": [
    "f = make_incrementor(10)\n",
    "x = 0\n",
    "for i in range(1,6):\n",
    "    x = f(i)\n",
    "\n",
    "x"
   ]
  },
  {
   "cell_type": "markdown",
   "metadata": {
    "id": "drm-sOX1OnZ7"
   },
   "source": [
    "Cuando una estructura de control (`if`, `for`, `while`, ...) o una función no tiene código asignado a su cuerpo se usa el comando `pass`."
   ]
  },
  {
   "cell_type": "code",
   "execution_count": null,
   "metadata": {
    "executionInfo": {
     "elapsed": 32,
     "status": "ok",
     "timestamp": 1646285006639,
     "user": {
      "displayName": "Alexander Zuluaga Quintero",
      "photoUrl": "https://lh3.googleusercontent.com/a-/AOh14Gi5bptZVpT8uPV-rsu1k3GPYeG1CXzkWxwYtJ_160M=s64",
      "userId": "06106219622026670571"
     },
     "user_tz": 300
    },
    "id": "1FFyfCvzOnZ7"
   },
   "outputs": [],
   "source": [
    "def my_function():\n",
    "    \"\"\"Do nothing, but document it.\n",
    "\n",
    "    No, really, it doesn't do anything.\n",
    "    \"\"\"\n",
    "    pass"
   ]
  },
  {
   "cell_type": "markdown",
   "metadata": {
    "id": "zd4N9X_DOnZ7"
   },
   "source": [
    "Por último, el string que sigue al nombre de la función se usa para su documentación. Este puede ser accesado directamente por el comando `help` o mediante `print`."
   ]
  },
  {
   "cell_type": "code",
   "execution_count": null,
   "metadata": {
    "colab": {
     "base_uri": "https://localhost:8080/"
    },
    "executionInfo": {
     "elapsed": 32,
     "status": "ok",
     "timestamp": 1646285006639,
     "user": {
      "displayName": "Alexander Zuluaga Quintero",
      "photoUrl": "https://lh3.googleusercontent.com/a-/AOh14Gi5bptZVpT8uPV-rsu1k3GPYeG1CXzkWxwYtJ_160M=s64",
      "userId": "06106219622026670571"
     },
     "user_tz": 300
    },
    "id": "rVR4TC09OnZ7",
    "outputId": "a48aab85-c68a-42b7-9047-94b354437e76"
   },
   "outputs": [],
   "source": [
    "print(my_function.__doc__)"
   ]
  },
  {
   "cell_type": "code",
   "execution_count": null,
   "metadata": {
    "colab": {
     "base_uri": "https://localhost:8080/"
    },
    "executionInfo": {
     "elapsed": 30,
     "status": "ok",
     "timestamp": 1646285006639,
     "user": {
      "displayName": "Alexander Zuluaga Quintero",
      "photoUrl": "https://lh3.googleusercontent.com/a-/AOh14Gi5bptZVpT8uPV-rsu1k3GPYeG1CXzkWxwYtJ_160M=s64",
      "userId": "06106219622026670571"
     },
     "user_tz": 300
    },
    "id": "FJ6dSwSDOnZ7",
    "outputId": "491d2454-4717-429f-ec93-fd203d21177e"
   },
   "outputs": [],
   "source": [
    "help(my_function)"
   ]
  },
  {
   "cell_type": "markdown",
   "metadata": {
    "id": "g664XogJOnZ7"
   },
   "source": [
    "# Estructuras de datos"
   ]
  },
  {
   "cell_type": "markdown",
   "metadata": {
    "id": "41ZD3PlkOnZ8"
   },
   "source": [
    "## Listas"
   ]
  },
  {
   "cell_type": "markdown",
   "metadata": {
    "id": "e9TSU9YvOnZ8"
   },
   "source": [
    "[Contenido](#Contenido)"
   ]
  },
  {
   "cell_type": "markdown",
   "metadata": {
    "id": "7vDXf7p7OnZ8"
   },
   "source": [
    "Las principales funciones de las listas son las siguientes:\n",
    "\n",
    "* `list.`**`append`**`(`*`x`*`)`  -- agrega el elemento `x` al final de la lista. \n",
    "* `list.`**`extend`**`(`*`L`*`)`  -- agrega la lista `L` al final de la lista.\n",
    "* `list.`**`insert`**`(`*`i`*`,`*`x`*`)` -- inserta el elemento `x` en la posición `i`.\n",
    "* `list.`**`remove`**`(`*`x`*`)`  -- remueve el elemento `x`.\n",
    "* `list.`**`pop`**`([`*`j`*`])`   -- remueve el elemento en la posición `j` de la lista. \n",
    "* `list.`**`clear`**`()`  -- borra la lista; elimina todos los elementos de la lista.\n",
    "* `list.`**`index`**`(`*`x`*`)`  -- devuelve el indice del elemento `x`\n",
    "* `list.`**`count`**`(`*`x`*`)`  -- Cuenta las veces que aparece el elemento `x`.\n",
    "* `list.`**`sort`**`(`*`key=None`*`, `*`reverse=False`*`)` -- ordena los elementos de la lista.\n",
    "* `list.`**`copy`**`()` -- crea una copia de la lista."
   ]
  },
  {
   "cell_type": "code",
   "execution_count": null,
   "metadata": {
    "colab": {
     "base_uri": "https://localhost:8080/"
    },
    "executionInfo": {
     "elapsed": 30,
     "status": "ok",
     "timestamp": 1646285006640,
     "user": {
      "displayName": "Alexander Zuluaga Quintero",
      "photoUrl": "https://lh3.googleusercontent.com/a-/AOh14Gi5bptZVpT8uPV-rsu1k3GPYeG1CXzkWxwYtJ_160M=s64",
      "userId": "06106219622026670571"
     },
     "user_tz": 300
    },
    "id": "n3PGgc3KOnZ8",
    "outputId": "a7121693-c3f3-4d5d-b508-4d178582a0d5"
   },
   "outputs": [],
   "source": [
    "a = [1, 2, 3, 4, 5] # creación de la lista\n",
    "a"
   ]
  },
  {
   "cell_type": "code",
   "execution_count": null,
   "metadata": {
    "colab": {
     "base_uri": "https://localhost:8080/"
    },
    "executionInfo": {
     "elapsed": 29,
     "status": "ok",
     "timestamp": 1646285006640,
     "user": {
      "displayName": "Alexander Zuluaga Quintero",
      "photoUrl": "https://lh3.googleusercontent.com/a-/AOh14Gi5bptZVpT8uPV-rsu1k3GPYeG1CXzkWxwYtJ_160M=s64",
      "userId": "06106219622026670571"
     },
     "user_tz": 300
    },
    "id": "ACkyJRUIOnZ8",
    "outputId": "7a5b8441-8156-4d60-fde4-d381081b6e26"
   },
   "outputs": [],
   "source": [
    "a.append(6) # agrega el elemento al final\n",
    "a"
   ]
  },
  {
   "cell_type": "code",
   "execution_count": null,
   "metadata": {
    "colab": {
     "base_uri": "https://localhost:8080/"
    },
    "executionInfo": {
     "elapsed": 27,
     "status": "ok",
     "timestamp": 1646285006640,
     "user": {
      "displayName": "Alexander Zuluaga Quintero",
      "photoUrl": "https://lh3.googleusercontent.com/a-/AOh14Gi5bptZVpT8uPV-rsu1k3GPYeG1CXzkWxwYtJ_160M=s64",
      "userId": "06106219622026670571"
     },
     "user_tz": 300
    },
    "id": "YUcTBYVsOnZ8",
    "outputId": "c1ed0d63-a3da-4294-9d12-5e4e8bb7f7c8"
   },
   "outputs": [],
   "source": [
    "b = [7, 8, 9]  # crea una nueva lista\n",
    "a.extend(b)    # pega la nueva lista al final de la anterior\n",
    "a"
   ]
  },
  {
   "cell_type": "code",
   "execution_count": null,
   "metadata": {
    "executionInfo": {
     "elapsed": 27,
     "status": "ok",
     "timestamp": 1646285006641,
     "user": {
      "displayName": "Alexander Zuluaga Quintero",
      "photoUrl": "https://lh3.googleusercontent.com/a-/AOh14Gi5bptZVpT8uPV-rsu1k3GPYeG1CXzkWxwYtJ_160M=s64",
      "userId": "06106219622026670571"
     },
     "user_tz": 300
    },
    "id": "fO1wEVJwOnZ8"
   },
   "outputs": [],
   "source": [
    "b.extend([8])"
   ]
  },
  {
   "cell_type": "code",
   "execution_count": null,
   "metadata": {
    "colab": {
     "base_uri": "https://localhost:8080/"
    },
    "executionInfo": {
     "elapsed": 27,
     "status": "ok",
     "timestamp": 1646285006641,
     "user": {
      "displayName": "Alexander Zuluaga Quintero",
      "photoUrl": "https://lh3.googleusercontent.com/a-/AOh14Gi5bptZVpT8uPV-rsu1k3GPYeG1CXzkWxwYtJ_160M=s64",
      "userId": "06106219622026670571"
     },
     "user_tz": 300
    },
    "id": "8HxQcPjAOnZ9",
    "outputId": "e15d453c-35af-4a63-b562-7d1ca1dd1d95"
   },
   "outputs": [],
   "source": [
    "b"
   ]
  },
  {
   "cell_type": "code",
   "execution_count": null,
   "metadata": {
    "colab": {
     "base_uri": "https://localhost:8080/"
    },
    "executionInfo": {
     "elapsed": 25,
     "status": "ok",
     "timestamp": 1646285006641,
     "user": {
      "displayName": "Alexander Zuluaga Quintero",
      "photoUrl": "https://lh3.googleusercontent.com/a-/AOh14Gi5bptZVpT8uPV-rsu1k3GPYeG1CXzkWxwYtJ_160M=s64",
      "userId": "06106219622026670571"
     },
     "user_tz": 300
    },
    "id": "A1XpyfeMOnZ9",
    "outputId": "02f9328e-c0e5-4c20-ab1a-a2a3501be789"
   },
   "outputs": [],
   "source": [
    "a.insert(0, 'a')  # las listas pueden contener elementos con diferentes tipos de datos\n",
    "a"
   ]
  },
  {
   "cell_type": "code",
   "execution_count": null,
   "metadata": {
    "colab": {
     "base_uri": "https://localhost:8080/"
    },
    "executionInfo": {
     "elapsed": 24,
     "status": "ok",
     "timestamp": 1646285006641,
     "user": {
      "displayName": "Alexander Zuluaga Quintero",
      "photoUrl": "https://lh3.googleusercontent.com/a-/AOh14Gi5bptZVpT8uPV-rsu1k3GPYeG1CXzkWxwYtJ_160M=s64",
      "userId": "06106219622026670571"
     },
     "user_tz": 300
    },
    "id": "99BYcEyiOnZ9",
    "outputId": "3b7adafa-f24c-44a2-f908-d99233c1d9bc"
   },
   "outputs": [],
   "source": [
    "x = ['a', 'b', 'b', 'c', 'c', 'c', 'd', 'd', 'd', 'd'] # cuenta la cantidad de veces que aparece cada elemento\n",
    "print(x.count('a'), x.count('b'), x.count('c'), x.count('d'))"
   ]
  },
  {
   "cell_type": "code",
   "execution_count": null,
   "metadata": {
    "colab": {
     "base_uri": "https://localhost:8080/"
    },
    "executionInfo": {
     "elapsed": 23,
     "status": "ok",
     "timestamp": 1646285006642,
     "user": {
      "displayName": "Alexander Zuluaga Quintero",
      "photoUrl": "https://lh3.googleusercontent.com/a-/AOh14Gi5bptZVpT8uPV-rsu1k3GPYeG1CXzkWxwYtJ_160M=s64",
      "userId": "06106219622026670571"
     },
     "user_tz": 300
    },
    "id": "iLum3r1sOnZ9",
    "outputId": "12d879f8-64bd-4159-bf5f-a562b779e022"
   },
   "outputs": [],
   "source": [
    "x.remove('c')  # borra una de las veces que aparece el elemento\n",
    "x"
   ]
  },
  {
   "cell_type": "code",
   "execution_count": null,
   "metadata": {
    "colab": {
     "base_uri": "https://localhost:8080/"
    },
    "executionInfo": {
     "elapsed": 22,
     "status": "ok",
     "timestamp": 1646285006642,
     "user": {
      "displayName": "Alexander Zuluaga Quintero",
      "photoUrl": "https://lh3.googleusercontent.com/a-/AOh14Gi5bptZVpT8uPV-rsu1k3GPYeG1CXzkWxwYtJ_160M=s64",
      "userId": "06106219622026670571"
     },
     "user_tz": 300
    },
    "id": "zkWmtlmjOnZ9",
    "outputId": "74f17d76-5dd4-4d6d-c541-3cb43dbfd5c0"
   },
   "outputs": [],
   "source": [
    "a.reverse()  # invierte la lista\n",
    "a"
   ]
  },
  {
   "cell_type": "code",
   "execution_count": null,
   "metadata": {
    "colab": {
     "base_uri": "https://localhost:8080/"
    },
    "executionInfo": {
     "elapsed": 20,
     "status": "ok",
     "timestamp": 1646285006642,
     "user": {
      "displayName": "Alexander Zuluaga Quintero",
      "photoUrl": "https://lh3.googleusercontent.com/a-/AOh14Gi5bptZVpT8uPV-rsu1k3GPYeG1CXzkWxwYtJ_160M=s64",
      "userId": "06106219622026670571"
     },
     "user_tz": 300
    },
    "id": "_Z7TXAXNOnZ9",
    "outputId": "3d887812-ec41-42bc-b9b5-4eab2579f018"
   },
   "outputs": [],
   "source": [
    "v = [2, 4, 1, 5, 3]  \n",
    "v.sort()  # ordena la lista\n",
    "v"
   ]
  },
  {
   "cell_type": "code",
   "execution_count": null,
   "metadata": {
    "colab": {
     "base_uri": "https://localhost:8080/"
    },
    "executionInfo": {
     "elapsed": 20,
     "status": "ok",
     "timestamp": 1646285006643,
     "user": {
      "displayName": "Alexander Zuluaga Quintero",
      "photoUrl": "https://lh3.googleusercontent.com/a-/AOh14Gi5bptZVpT8uPV-rsu1k3GPYeG1CXzkWxwYtJ_160M=s64",
      "userId": "06106219622026670571"
     },
     "user_tz": 300
    },
    "id": "k_5oZ3poOnZ-",
    "outputId": "88ab28cc-d6a7-4d9d-ddb8-91c1c3268b66"
   },
   "outputs": [],
   "source": [
    "sorted([2, 4, 1, 5, 3])  # devuelve una copia ordenada de la lista original"
   ]
  },
  {
   "cell_type": "code",
   "execution_count": null,
   "metadata": {
    "colab": {
     "base_uri": "https://localhost:8080/"
    },
    "executionInfo": {
     "elapsed": 19,
     "status": "ok",
     "timestamp": 1646285006643,
     "user": {
      "displayName": "Alexander Zuluaga Quintero",
      "photoUrl": "https://lh3.googleusercontent.com/a-/AOh14Gi5bptZVpT8uPV-rsu1k3GPYeG1CXzkWxwYtJ_160M=s64",
      "userId": "06106219622026670571"
     },
     "user_tz": 300
    },
    "id": "bcTKGCExOnZ-",
    "outputId": "39afb2ac-7aa6-4f18-884b-4b32a6dd1c42"
   },
   "outputs": [],
   "source": [
    "v.pop() # remueve el último elemento de la lista (extremo derecho).\n",
    "v"
   ]
  },
  {
   "cell_type": "code",
   "execution_count": null,
   "metadata": {
    "colab": {
     "base_uri": "https://localhost:8080/"
    },
    "executionInfo": {
     "elapsed": 18,
     "status": "ok",
     "timestamp": 1646285006643,
     "user": {
      "displayName": "Alexander Zuluaga Quintero",
      "photoUrl": "https://lh3.googleusercontent.com/a-/AOh14Gi5bptZVpT8uPV-rsu1k3GPYeG1CXzkWxwYtJ_160M=s64",
      "userId": "06106219622026670571"
     },
     "user_tz": 300
    },
    "id": "oEMM--OBOnZ-",
    "outputId": "5294b1bf-47b1-49d1-91a8-adb8d6bd83c3"
   },
   "outputs": [],
   "source": [
    "a.pop(2) # remueve el elemento en la posición 2 de la lista\n",
    "a"
   ]
  },
  {
   "cell_type": "code",
   "execution_count": null,
   "metadata": {
    "colab": {
     "base_uri": "https://localhost:8080/"
    },
    "executionInfo": {
     "elapsed": 443,
     "status": "ok",
     "timestamp": 1646285007070,
     "user": {
      "displayName": "Alexander Zuluaga Quintero",
      "photoUrl": "https://lh3.googleusercontent.com/a-/AOh14Gi5bptZVpT8uPV-rsu1k3GPYeG1CXzkWxwYtJ_160M=s64",
      "userId": "06106219622026670571"
     },
     "user_tz": 300
    },
    "id": "GG5pE0tjOnZ-",
    "outputId": "596374ca-742f-42c3-b6d8-26397993a0cf"
   },
   "outputs": [],
   "source": [
    "x = list(range(10)) # convierte un objeto rango en lista\n",
    "x"
   ]
  },
  {
   "cell_type": "code",
   "execution_count": null,
   "metadata": {
    "colab": {
     "base_uri": "https://localhost:8080/"
    },
    "executionInfo": {
     "elapsed": 33,
     "status": "ok",
     "timestamp": 1646285007070,
     "user": {
      "displayName": "Alexander Zuluaga Quintero",
      "photoUrl": "https://lh3.googleusercontent.com/a-/AOh14Gi5bptZVpT8uPV-rsu1k3GPYeG1CXzkWxwYtJ_160M=s64",
      "userId": "06106219622026670571"
     },
     "user_tz": 300
    },
    "id": "3NJpJsYnOnZ-",
    "outputId": "80919405-6f0a-4fdb-8a11-a381cb79a668"
   },
   "outputs": [],
   "source": [
    "y = x  # `y` apunta en memoria a la misma lista que `x`.\n",
    "y"
   ]
  },
  {
   "cell_type": "code",
   "execution_count": null,
   "metadata": {
    "colab": {
     "base_uri": "https://localhost:8080/"
    },
    "executionInfo": {
     "elapsed": 33,
     "status": "ok",
     "timestamp": 1646285007071,
     "user": {
      "displayName": "Alexander Zuluaga Quintero",
      "photoUrl": "https://lh3.googleusercontent.com/a-/AOh14Gi5bptZVpT8uPV-rsu1k3GPYeG1CXzkWxwYtJ_160M=s64",
      "userId": "06106219622026670571"
     },
     "user_tz": 300
    },
    "id": "CJQyb2GVOnZ-",
    "outputId": "c3d6bac6-2357-4293-d34c-0ca678dadb40"
   },
   "outputs": [],
   "source": [
    "y.pop()  # si se remueve un elemento en la lista `y`, también se remueve en la lista `x`\n",
    "x"
   ]
  },
  {
   "cell_type": "code",
   "execution_count": null,
   "metadata": {
    "colab": {
     "base_uri": "https://localhost:8080/"
    },
    "executionInfo": {
     "elapsed": 32,
     "status": "ok",
     "timestamp": 1646285007071,
     "user": {
      "displayName": "Alexander Zuluaga Quintero",
      "photoUrl": "https://lh3.googleusercontent.com/a-/AOh14Gi5bptZVpT8uPV-rsu1k3GPYeG1CXzkWxwYtJ_160M=s64",
      "userId": "06106219622026670571"
     },
     "user_tz": 300
    },
    "id": "9tr7mgakOnZ_",
    "outputId": "82479599-9296-48e7-f476-87123f44cec0"
   },
   "outputs": [],
   "source": [
    "x = list(range(10))  \n",
    "y = x.copy()         # para evitar el problema anterior se usa `copy()`\n",
    "x.pop()\n",
    "y"
   ]
  },
  {
   "cell_type": "code",
   "execution_count": null,
   "metadata": {
    "colab": {
     "base_uri": "https://localhost:8080/"
    },
    "executionInfo": {
     "elapsed": 32,
     "status": "ok",
     "timestamp": 1646285007071,
     "user": {
      "displayName": "Alexander Zuluaga Quintero",
      "photoUrl": "https://lh3.googleusercontent.com/a-/AOh14Gi5bptZVpT8uPV-rsu1k3GPYeG1CXzkWxwYtJ_160M=s64",
      "userId": "06106219622026670571"
     },
     "user_tz": 300
    },
    "id": "82PBQlk0OnZ_",
    "outputId": "22b8e9ee-3842-42c0-ff42-23a45821da01"
   },
   "outputs": [],
   "source": [
    "x"
   ]
  },
  {
   "cell_type": "markdown",
   "metadata": {
    "id": "cJIqXcYqOnZ_"
   },
   "source": [
    "### Funciones `filter` y  `map` "
   ]
  },
  {
   "cell_type": "markdown",
   "metadata": {
    "id": "qSTQbFIEOnZ_"
   },
   "source": [
    "[Contenido](#Contenido)"
   ]
  },
  {
   "cell_type": "code",
   "execution_count": null,
   "metadata": {
    "colab": {
     "base_uri": "https://localhost:8080/"
    },
    "executionInfo": {
     "elapsed": 32,
     "status": "ok",
     "timestamp": 1646285007072,
     "user": {
      "displayName": "Alexander Zuluaga Quintero",
      "photoUrl": "https://lh3.googleusercontent.com/a-/AOh14Gi5bptZVpT8uPV-rsu1k3GPYeG1CXzkWxwYtJ_160M=s64",
      "userId": "06106219622026670571"
     },
     "user_tz": 300
    },
    "id": "3qVaWvS7OnZ_",
    "outputId": "2135eda7-6cc8-4fad-afb5-43fc8c8ddbbb"
   },
   "outputs": [],
   "source": [
    "# Filtra los elementos mayores que 4\n",
    "# MAL\n",
    "a = [3, 4, 5]\n",
    "b = []\n",
    "for i in a:\n",
    "    if i > 4:\n",
    "        b.append(i)\n",
    "print(b)"
   ]
  },
  {
   "cell_type": "code",
   "execution_count": null,
   "metadata": {
    "executionInfo": {
     "elapsed": 31,
     "status": "ok",
     "timestamp": 1646285007072,
     "user": {
      "displayName": "Alexander Zuluaga Quintero",
      "photoUrl": "https://lh3.googleusercontent.com/a-/AOh14Gi5bptZVpT8uPV-rsu1k3GPYeG1CXzkWxwYtJ_160M=s64",
      "userId": "06106219622026670571"
     },
     "user_tz": 300
    },
    "id": "fOdIVjAlOnZ_"
   },
   "outputs": [],
   "source": [
    "# BIEN\n",
    "a = [3, 4, 5]\n",
    "b = [i for i in a if i > 4]\n",
    "# O:\n",
    "b = filter(lambda x: x > 4, a)"
   ]
  },
  {
   "cell_type": "code",
   "execution_count": null,
   "metadata": {
    "colab": {
     "base_uri": "https://localhost:8080/"
    },
    "executionInfo": {
     "elapsed": 31,
     "status": "ok",
     "timestamp": 1646285007072,
     "user": {
      "displayName": "Alexander Zuluaga Quintero",
      "photoUrl": "https://lh3.googleusercontent.com/a-/AOh14Gi5bptZVpT8uPV-rsu1k3GPYeG1CXzkWxwYtJ_160M=s64",
      "userId": "06106219622026670571"
     },
     "user_tz": 300
    },
    "id": "yrklK2xwOnaA",
    "outputId": "519526eb-28c8-474d-d283-5cf6fa3b03ee"
   },
   "outputs": [],
   "source": [
    "list(b)"
   ]
  },
  {
   "cell_type": "code",
   "execution_count": null,
   "metadata": {
    "colab": {
     "base_uri": "https://localhost:8080/"
    },
    "executionInfo": {
     "elapsed": 31,
     "status": "ok",
     "timestamp": 1646285007073,
     "user": {
      "displayName": "Alexander Zuluaga Quintero",
      "photoUrl": "https://lh3.googleusercontent.com/a-/AOh14Gi5bptZVpT8uPV-rsu1k3GPYeG1CXzkWxwYtJ_160M=s64",
      "userId": "06106219622026670571"
     },
     "user_tz": 300
    },
    "id": "l5VQdSRGOnaA",
    "outputId": "e4fea0b0-c575-4134-cc6c-daf4a244f018"
   },
   "outputs": [],
   "source": [
    "# Sume 3 a todos los elementos de una lista\n",
    "# MAL\n",
    "a = [3, 4, 5]\n",
    "for i in range(len(a)):\n",
    "    a[i] += 3\n",
    "print(a)"
   ]
  },
  {
   "cell_type": "code",
   "execution_count": null,
   "metadata": {
    "colab": {
     "base_uri": "https://localhost:8080/"
    },
    "executionInfo": {
     "elapsed": 30,
     "status": "ok",
     "timestamp": 1646285007073,
     "user": {
      "displayName": "Alexander Zuluaga Quintero",
      "photoUrl": "https://lh3.googleusercontent.com/a-/AOh14Gi5bptZVpT8uPV-rsu1k3GPYeG1CXzkWxwYtJ_160M=s64",
      "userId": "06106219622026670571"
     },
     "user_tz": 300
    },
    "id": "D6tPqaiFOnaA",
    "outputId": "9223d409-b647-4a77-f1e4-b289394a2582"
   },
   "outputs": [],
   "source": [
    "# BIEN\n",
    "a = [3, 4, 5]\n",
    "a = [i + 3 for i in a]\n",
    "a"
   ]
  },
  {
   "cell_type": "code",
   "execution_count": null,
   "metadata": {
    "colab": {
     "base_uri": "https://localhost:8080/"
    },
    "executionInfo": {
     "elapsed": 30,
     "status": "ok",
     "timestamp": 1646285007073,
     "user": {
      "displayName": "Alexander Zuluaga Quintero",
      "photoUrl": "https://lh3.googleusercontent.com/a-/AOh14Gi5bptZVpT8uPV-rsu1k3GPYeG1CXzkWxwYtJ_160M=s64",
      "userId": "06106219622026670571"
     },
     "user_tz": 300
    },
    "id": "oyJnrjjXOnaB",
    "outputId": "b43de777-1972-4045-c2a8-682283fead8c"
   },
   "outputs": [],
   "source": [
    "# BIEN\n",
    "a = [3, 4, 5]\n",
    "a = map(lambda i: i + 3, a)\n",
    "list(a)"
   ]
  },
  {
   "cell_type": "markdown",
   "metadata": {
    "id": "zwvHPv3LOnaB"
   },
   "source": [
    "### Desempaquetado de listas"
   ]
  },
  {
   "cell_type": "markdown",
   "metadata": {
    "id": "L4BQU_t3OnaB"
   },
   "source": [
    "[Contenido](#Contenido)"
   ]
  },
  {
   "cell_type": "code",
   "execution_count": null,
   "metadata": {
    "colab": {
     "base_uri": "https://localhost:8080/"
    },
    "executionInfo": {
     "elapsed": 30,
     "status": "ok",
     "timestamp": 1646285007074,
     "user": {
      "displayName": "Alexander Zuluaga Quintero",
      "photoUrl": "https://lh3.googleusercontent.com/a-/AOh14Gi5bptZVpT8uPV-rsu1k3GPYeG1CXzkWxwYtJ_160M=s64",
      "userId": "06106219622026670571"
     },
     "user_tz": 300
    },
    "id": "DbA36qzmOnaB",
    "outputId": "a68d6d2e-8a60-4b5a-f2d6-3a701abeef23"
   },
   "outputs": [],
   "source": [
    "a, *rest = [1, 2, 3, 4, 5]    # a = 1, rest = [2, 3]\n",
    "print(rest)"
   ]
  },
  {
   "cell_type": "code",
   "execution_count": null,
   "metadata": {
    "colab": {
     "base_uri": "https://localhost:8080/"
    },
    "executionInfo": {
     "elapsed": 29,
     "status": "ok",
     "timestamp": 1646285007074,
     "user": {
      "displayName": "Alexander Zuluaga Quintero",
      "photoUrl": "https://lh3.googleusercontent.com/a-/AOh14Gi5bptZVpT8uPV-rsu1k3GPYeG1CXzkWxwYtJ_160M=s64",
      "userId": "06106219622026670571"
     },
     "user_tz": 300
    },
    "id": "855OLT9jOnaB",
    "outputId": "b304d66f-11ef-4e56-a8a0-cd44dfd1847c"
   },
   "outputs": [],
   "source": [
    "a, *middle, c = [1, 2, 3, 4, 5, 6] # a = 1, middle = [2, 3], c = 4\n",
    "print(middle)"
   ]
  },
  {
   "cell_type": "markdown",
   "metadata": {
    "id": "PuKP1-1NOnaE"
   },
   "source": [
    "### Uso de listas como stacks"
   ]
  },
  {
   "cell_type": "markdown",
   "metadata": {
    "id": "m6c1_rJlOnaF"
   },
   "source": [
    "[Contenido](#Contenido)"
   ]
  },
  {
   "cell_type": "markdown",
   "metadata": {
    "id": "A-lKb99rOnaF"
   },
   "source": [
    "Una lista es una estructura de datos LIFO (Last In First Out): el último elemento en entrar es el primer elemento en salir. Para simular este funcionamiento se usan las funciones `append` y `pop`."
   ]
  },
  {
   "cell_type": "code",
   "execution_count": null,
   "metadata": {
    "colab": {
     "base_uri": "https://localhost:8080/"
    },
    "executionInfo": {
     "elapsed": 29,
     "status": "ok",
     "timestamp": 1646285007075,
     "user": {
      "displayName": "Alexander Zuluaga Quintero",
      "photoUrl": "https://lh3.googleusercontent.com/a-/AOh14Gi5bptZVpT8uPV-rsu1k3GPYeG1CXzkWxwYtJ_160M=s64",
      "userId": "06106219622026670571"
     },
     "user_tz": 300
    },
    "id": "zr89ykd0OnaF",
    "outputId": "434ce82e-caed-404b-9c49-28261c50f499"
   },
   "outputs": [],
   "source": [
    "stack = [3, 4, 5] # se crea una lista con elementos\n",
    "stack.append(6)   # se agrega el 6 al final de la lista\n",
    "stack.append(7)   # se agrega el 7 al final de la lista\n",
    "stack"
   ]
  },
  {
   "cell_type": "code",
   "execution_count": null,
   "metadata": {
    "colab": {
     "base_uri": "https://localhost:8080/"
    },
    "executionInfo": {
     "elapsed": 28,
     "status": "ok",
     "timestamp": 1646285007075,
     "user": {
      "displayName": "Alexander Zuluaga Quintero",
      "photoUrl": "https://lh3.googleusercontent.com/a-/AOh14Gi5bptZVpT8uPV-rsu1k3GPYeG1CXzkWxwYtJ_160M=s64",
      "userId": "06106219622026670571"
     },
     "user_tz": 300
    },
    "id": "vk_Hc8dYOnaF",
    "outputId": "17657fe9-571f-41d4-f041-8396838c2ee4"
   },
   "outputs": [],
   "source": [
    "stack.pop()  # al llamar a `pop` sale primero el 7 que fue el último elemento en entrar."
   ]
  },
  {
   "cell_type": "code",
   "execution_count": null,
   "metadata": {
    "colab": {
     "base_uri": "https://localhost:8080/"
    },
    "executionInfo": {
     "elapsed": 28,
     "status": "ok",
     "timestamp": 1646285007075,
     "user": {
      "displayName": "Alexander Zuluaga Quintero",
      "photoUrl": "https://lh3.googleusercontent.com/a-/AOh14Gi5bptZVpT8uPV-rsu1k3GPYeG1CXzkWxwYtJ_160M=s64",
      "userId": "06106219622026670571"
     },
     "user_tz": 300
    },
    "id": "BC1LdNPNOnaF",
    "outputId": "6d573de3-406c-442f-b329-c6526dc3e588"
   },
   "outputs": [],
   "source": [
    "stack"
   ]
  },
  {
   "cell_type": "code",
   "execution_count": null,
   "metadata": {
    "colab": {
     "base_uri": "https://localhost:8080/"
    },
    "executionInfo": {
     "elapsed": 28,
     "status": "ok",
     "timestamp": 1646285007076,
     "user": {
      "displayName": "Alexander Zuluaga Quintero",
      "photoUrl": "https://lh3.googleusercontent.com/a-/AOh14Gi5bptZVpT8uPV-rsu1k3GPYeG1CXzkWxwYtJ_160M=s64",
      "userId": "06106219622026670571"
     },
     "user_tz": 300
    },
    "id": "mpv0VwimOnaF",
    "outputId": "4bb4eb73-23a2-4f22-c73e-870c86c6de59"
   },
   "outputs": [],
   "source": [
    "stack.pop()"
   ]
  },
  {
   "cell_type": "code",
   "execution_count": null,
   "metadata": {
    "colab": {
     "base_uri": "https://localhost:8080/"
    },
    "executionInfo": {
     "elapsed": 27,
     "status": "ok",
     "timestamp": 1646285007076,
     "user": {
      "displayName": "Alexander Zuluaga Quintero",
      "photoUrl": "https://lh3.googleusercontent.com/a-/AOh14Gi5bptZVpT8uPV-rsu1k3GPYeG1CXzkWxwYtJ_160M=s64",
      "userId": "06106219622026670571"
     },
     "user_tz": 300
    },
    "id": "G3DU7boHOnaG",
    "outputId": "8659c75d-6fd3-4214-f3c3-fb1b36b53b81"
   },
   "outputs": [],
   "source": [
    "stack.pop()"
   ]
  },
  {
   "cell_type": "code",
   "execution_count": null,
   "metadata": {
    "colab": {
     "base_uri": "https://localhost:8080/"
    },
    "executionInfo": {
     "elapsed": 26,
     "status": "ok",
     "timestamp": 1646285007076,
     "user": {
      "displayName": "Alexander Zuluaga Quintero",
      "photoUrl": "https://lh3.googleusercontent.com/a-/AOh14Gi5bptZVpT8uPV-rsu1k3GPYeG1CXzkWxwYtJ_160M=s64",
      "userId": "06106219622026670571"
     },
     "user_tz": 300
    },
    "id": "aZA4mqnxOnaG",
    "outputId": "5a20b06a-2a93-439c-966c-8b85eec3c330"
   },
   "outputs": [],
   "source": [
    "stack"
   ]
  },
  {
   "cell_type": "markdown",
   "metadata": {
    "id": "JlsRz9svOnaG"
   },
   "source": [
    "### Uso de listas como colas"
   ]
  },
  {
   "cell_type": "markdown",
   "metadata": {
    "id": "X5A4rxn5OnaG"
   },
   "source": [
    "[Contenido](#Contenido)"
   ]
  },
  {
   "cell_type": "markdown",
   "metadata": {
    "id": "Q1R6pWpbOnaG"
   },
   "source": [
    "Esta estructura de datos simula la cola de un supermercado. Los elementos entran por la cola y salen por la cabeza (popleft -- pop() por el inicio de la lista). Para ello, se debe importar la función `deque` de la librería `collections`."
   ]
  },
  {
   "cell_type": "code",
   "execution_count": null,
   "metadata": {
    "colab": {
     "base_uri": "https://localhost:8080/",
     "height": 35
    },
    "executionInfo": {
     "elapsed": 25,
     "status": "ok",
     "timestamp": 1646285007077,
     "user": {
      "displayName": "Alexander Zuluaga Quintero",
      "photoUrl": "https://lh3.googleusercontent.com/a-/AOh14Gi5bptZVpT8uPV-rsu1k3GPYeG1CXzkWxwYtJ_160M=s64",
      "userId": "06106219622026670571"
     },
     "user_tz": 300
    },
    "id": "XfYR7HklOnaG",
    "outputId": "e468d806-3807-4381-96ee-026e0c66f72b"
   },
   "outputs": [],
   "source": [
    "from collections import deque\n",
    "queue = deque([\"a\", \"b\", \"c\"])  # se crea una cola con elementos.\n",
    "queue.append(\"d\")               # la `d` entra por el extremo derecho\n",
    "queue.append(\"e\")               # la `e` entra por el extremo derecho\n",
    "queue.popleft()                 # la `a` sale por el extremo izquierdo."
   ]
  },
  {
   "cell_type": "code",
   "execution_count": null,
   "metadata": {
    "colab": {
     "base_uri": "https://localhost:8080/",
     "height": 35
    },
    "executionInfo": {
     "elapsed": 24,
     "status": "ok",
     "timestamp": 1646285007077,
     "user": {
      "displayName": "Alexander Zuluaga Quintero",
      "photoUrl": "https://lh3.googleusercontent.com/a-/AOh14Gi5bptZVpT8uPV-rsu1k3GPYeG1CXzkWxwYtJ_160M=s64",
      "userId": "06106219622026670571"
     },
     "user_tz": 300
    },
    "id": "iHIptoN_OnaH",
    "outputId": "c15d6b7d-5b6b-4d42-ec1d-93ee5cba24d4"
   },
   "outputs": [],
   "source": [
    "queue.popleft()                 # la `b` sale por el extremo izquierdo"
   ]
  },
  {
   "cell_type": "code",
   "execution_count": null,
   "metadata": {
    "colab": {
     "base_uri": "https://localhost:8080/"
    },
    "executionInfo": {
     "elapsed": 23,
     "status": "ok",
     "timestamp": 1646285007077,
     "user": {
      "displayName": "Alexander Zuluaga Quintero",
      "photoUrl": "https://lh3.googleusercontent.com/a-/AOh14Gi5bptZVpT8uPV-rsu1k3GPYeG1CXzkWxwYtJ_160M=s64",
      "userId": "06106219622026670571"
     },
     "user_tz": 300
    },
    "id": "4j84lqjROnaH",
    "outputId": "4e5eaf8d-cfa2-448a-9b9c-d03e4387a2b3"
   },
   "outputs": [],
   "source": [
    "queue                           # imprime el contenido de la variable queue"
   ]
  },
  {
   "cell_type": "markdown",
   "metadata": {
    "id": "eEhLv7YDOnaH"
   },
   "source": [
    "### List comprenhensions"
   ]
  },
  {
   "cell_type": "markdown",
   "metadata": {
    "id": "r2FrfEhqOnaH"
   },
   "source": [
    "[Contenido](#Contenido)"
   ]
  },
  {
   "cell_type": "markdown",
   "metadata": {
    "id": "cKe4iXiOOnaH"
   },
   "source": [
    "Este es un mecanismo para definir la composición de una lista de forma compacta. En el siguiente ejemplo se crea una lista con los cuadrados de los números del 0 al 9."
   ]
  },
  {
   "cell_type": "code",
   "execution_count": null,
   "metadata": {
    "colab": {
     "base_uri": "https://localhost:8080/"
    },
    "executionInfo": {
     "elapsed": 23,
     "status": "ok",
     "timestamp": 1646285007078,
     "user": {
      "displayName": "Alexander Zuluaga Quintero",
      "photoUrl": "https://lh3.googleusercontent.com/a-/AOh14Gi5bptZVpT8uPV-rsu1k3GPYeG1CXzkWxwYtJ_160M=s64",
      "userId": "06106219622026670571"
     },
     "user_tz": 300
    },
    "id": "LSXsrURGOnaH",
    "outputId": "e2f9127e-b413-4cce-db2b-8be0538d90c2"
   },
   "outputs": [],
   "source": [
    "squares = []\n",
    "for x in range(10):\n",
    "    squares.append(x**2)\n",
    "    \n",
    "squares"
   ]
  },
  {
   "cell_type": "markdown",
   "metadata": {
    "id": "mFgHFanrOnaH"
   },
   "source": [
    "Un mecanismo más simple consiste en aplicar la función `lambda x:x**2` a los elementos de la lista `[0, ..., 9]`. Para que la función anónima sea aplicada a cada elemento de la lista se usa la función `map`. "
   ]
  },
  {
   "cell_type": "code",
   "execution_count": null,
   "metadata": {
    "colab": {
     "base_uri": "https://localhost:8080/"
    },
    "executionInfo": {
     "elapsed": 23,
     "status": "ok",
     "timestamp": 1646285007078,
     "user": {
      "displayName": "Alexander Zuluaga Quintero",
      "photoUrl": "https://lh3.googleusercontent.com/a-/AOh14Gi5bptZVpT8uPV-rsu1k3GPYeG1CXzkWxwYtJ_160M=s64",
      "userId": "06106219622026670571"
     },
     "user_tz": 300
    },
    "id": "Tr9HTJFuOnaH",
    "outputId": "e83f7a68-c4c7-44f0-d449-60bca2a7b82c"
   },
   "outputs": [],
   "source": [
    "squares = list(map(lambda x: x**2, range(10)))\n",
    "squares"
   ]
  },
  {
   "cell_type": "markdown",
   "metadata": {
    "id": "eFz-71DxOnaI"
   },
   "source": [
    "Un mecanismo mucho más simple es integrar la definición de los elementos de la lista en el ciclo `for`: "
   ]
  },
  {
   "cell_type": "code",
   "execution_count": null,
   "metadata": {
    "colab": {
     "base_uri": "https://localhost:8080/"
    },
    "executionInfo": {
     "elapsed": 23,
     "status": "ok",
     "timestamp": 1646285007079,
     "user": {
      "displayName": "Alexander Zuluaga Quintero",
      "photoUrl": "https://lh3.googleusercontent.com/a-/AOh14Gi5bptZVpT8uPV-rsu1k3GPYeG1CXzkWxwYtJ_160M=s64",
      "userId": "06106219622026670571"
     },
     "user_tz": 300
    },
    "id": "Y3fHoY-yOnaI",
    "outputId": "5ebbc090-a3bf-4b33-853a-bd97426fdd99"
   },
   "outputs": [],
   "source": [
    "squares = [x**2 for x in range(10)]\n",
    "squares"
   ]
  },
  {
   "cell_type": "markdown",
   "metadata": {
    "id": "l4thpSGoOnaI"
   },
   "source": [
    "En una comprenhension, se pueden anidar ciclos `for` tal como se muestra a continuación. Adicionalmente, se pueden agregar condiciones usando la palabra reservada `if`."
   ]
  },
  {
   "cell_type": "code",
   "execution_count": null,
   "metadata": {
    "colab": {
     "base_uri": "https://localhost:8080/"
    },
    "executionInfo": {
     "elapsed": 22,
     "status": "ok",
     "timestamp": 1646285007079,
     "user": {
      "displayName": "Alexander Zuluaga Quintero",
      "photoUrl": "https://lh3.googleusercontent.com/a-/AOh14Gi5bptZVpT8uPV-rsu1k3GPYeG1CXzkWxwYtJ_160M=s64",
      "userId": "06106219622026670571"
     },
     "user_tz": 300
    },
    "id": "iY3JjBBPOnaI",
    "outputId": "2f6c6a73-15fe-4def-d5f4-5e826ac1af74"
   },
   "outputs": [],
   "source": [
    "[(x, y) for x in [1,2,3] for y in [3,1,4] if x != y]"
   ]
  },
  {
   "cell_type": "markdown",
   "metadata": {
    "id": "s3f15yjGOnaI"
   },
   "source": [
    "Note que el codigo anterior es mucho más simple que el equivalente usando ciclos `for` anidados como se ilustra en el siguiente código."
   ]
  },
  {
   "cell_type": "code",
   "execution_count": null,
   "metadata": {
    "colab": {
     "base_uri": "https://localhost:8080/"
    },
    "executionInfo": {
     "elapsed": 22,
     "status": "ok",
     "timestamp": 1646285007079,
     "user": {
      "displayName": "Alexander Zuluaga Quintero",
      "photoUrl": "https://lh3.googleusercontent.com/a-/AOh14Gi5bptZVpT8uPV-rsu1k3GPYeG1CXzkWxwYtJ_160M=s64",
      "userId": "06106219622026670571"
     },
     "user_tz": 300
    },
    "id": "DTlSN_uFOnaI",
    "outputId": "2344f543-0e00-4145-e02d-bc23299c2ff6"
   },
   "outputs": [],
   "source": [
    "combs = []\n",
    "for x in [1,2,3]:\n",
    "    for y in [3,1,4]:\n",
    "        if x != y:\n",
    "            combs.append((x, y))\n",
    "\n",
    "combs"
   ]
  },
  {
   "cell_type": "markdown",
   "metadata": {
    "id": "tYxxE78-OnaJ"
   },
   "source": [
    "Ya que este es un mecanismo para crear listas, tambien puede ser aplicado sobre elementos del tipo string. En el siguiente ejemplo, la función `strip` elimina los espacio en blanco al principio y al final de la cadena de caracteres."
   ]
  },
  {
   "cell_type": "code",
   "execution_count": null,
   "metadata": {
    "colab": {
     "base_uri": "https://localhost:8080/"
    },
    "executionInfo": {
     "elapsed": 22,
     "status": "ok",
     "timestamp": 1646285007080,
     "user": {
      "displayName": "Alexander Zuluaga Quintero",
      "photoUrl": "https://lh3.googleusercontent.com/a-/AOh14Gi5bptZVpT8uPV-rsu1k3GPYeG1CXzkWxwYtJ_160M=s64",
      "userId": "06106219622026670571"
     },
     "user_tz": 300
    },
    "id": "VfEBGSgrOnaJ",
    "outputId": "d68c5886-7c5e-4a82-d0c7-d53de168a156"
   },
   "outputs": [],
   "source": [
    "# llamada de un metodo sobre cada elemento\n",
    "x = ['  a a', '  a a  ', 'a a  ']\n",
    "[y.strip() for y in x]  # elimina los espacios en blanco que delimitan la cadena"
   ]
  },
  {
   "cell_type": "code",
   "execution_count": null,
   "metadata": {
    "colab": {
     "base_uri": "https://localhost:8080/"
    },
    "executionInfo": {
     "elapsed": 21,
     "status": "ok",
     "timestamp": 1646285007080,
     "user": {
      "displayName": "Alexander Zuluaga Quintero",
      "photoUrl": "https://lh3.googleusercontent.com/a-/AOh14Gi5bptZVpT8uPV-rsu1k3GPYeG1CXzkWxwYtJ_160M=s64",
      "userId": "06106219622026670571"
     },
     "user_tz": 300
    },
    "id": "r-EDSTRcOnaJ",
    "outputId": "f1f82419-1f5a-48dc-dc7a-d9a2e0be415c"
   },
   "outputs": [],
   "source": [
    "['linea ' + str(i) for i in range(1, 6)]"
   ]
  },
  {
   "cell_type": "code",
   "execution_count": null,
   "metadata": {
    "colab": {
     "base_uri": "https://localhost:8080/"
    },
    "executionInfo": {
     "elapsed": 21,
     "status": "ok",
     "timestamp": 1646285007081,
     "user": {
      "displayName": "Alexander Zuluaga Quintero",
      "photoUrl": "https://lh3.googleusercontent.com/a-/AOh14Gi5bptZVpT8uPV-rsu1k3GPYeG1CXzkWxwYtJ_160M=s64",
      "userId": "06106219622026670571"
     },
     "user_tz": 300
    },
    "id": "RYNlVaLsOnaJ",
    "outputId": "0c3e93b4-f0df-453e-c3c0-4e2e3f4136d5"
   },
   "outputs": [],
   "source": [
    "for x in ['linea ' + str(i) for i in range(1, 6)]: print(x)"
   ]
  },
  {
   "cell_type": "code",
   "execution_count": null,
   "metadata": {
    "colab": {
     "base_uri": "https://localhost:8080/"
    },
    "executionInfo": {
     "elapsed": 473,
     "status": "ok",
     "timestamp": 1646285007534,
     "user": {
      "displayName": "Alexander Zuluaga Quintero",
      "photoUrl": "https://lh3.googleusercontent.com/a-/AOh14Gi5bptZVpT8uPV-rsu1k3GPYeG1CXzkWxwYtJ_160M=s64",
      "userId": "06106219622026670571"
     },
     "user_tz": 300
    },
    "id": "s3oSK-4rOnaJ",
    "outputId": "960126be-b998-424d-fd4d-8eb3f15e5372"
   },
   "outputs": [],
   "source": [
    "# numeros del 1 al 20 que contienen un '1'\n",
    "import re\n",
    "[str(x) for x in range(1,21) if re.search('1', str(x))]"
   ]
  },
  {
   "cell_type": "code",
   "execution_count": null,
   "metadata": {
    "colab": {
     "base_uri": "https://localhost:8080/"
    },
    "executionInfo": {
     "elapsed": 43,
     "status": "ok",
     "timestamp": 1646285007534,
     "user": {
      "displayName": "Alexander Zuluaga Quintero",
      "photoUrl": "https://lh3.googleusercontent.com/a-/AOh14Gi5bptZVpT8uPV-rsu1k3GPYeG1CXzkWxwYtJ_160M=s64",
      "userId": "06106219622026670571"
     },
     "user_tz": 300
    },
    "id": "CNCnFeKROnaJ",
    "outputId": "30c6515b-8a66-428b-c316-209e7b4c680e"
   },
   "outputs": [],
   "source": [
    "# cantidad de números del 1 al 20 que contienen un '1'\n",
    "import re\n",
    "len([str(x) for x in range(1,21) if re.search('1', str(x))])"
   ]
  },
  {
   "cell_type": "code",
   "execution_count": null,
   "metadata": {
    "colab": {
     "base_uri": "https://localhost:8080/"
    },
    "executionInfo": {
     "elapsed": 43,
     "status": "ok",
     "timestamp": 1646285007535,
     "user": {
      "displayName": "Alexander Zuluaga Quintero",
      "photoUrl": "https://lh3.googleusercontent.com/a-/AOh14Gi5bptZVpT8uPV-rsu1k3GPYeG1CXzkWxwYtJ_160M=s64",
      "userId": "06106219622026670571"
     },
     "user_tz": 300
    },
    "id": "676SBVhEOnaK",
    "outputId": "8943ccf4-e57e-4f23-cbbc-d959d8d0c86c"
   },
   "outputs": [],
   "source": [
    "# extrae los caracteres en las posiciones 2, 3 y 4\n",
    "x = [\"123456790\", \"abcdefghi\", \"jklmnopqr\"]\n",
    "[m[2:5] for m in x]"
   ]
  },
  {
   "cell_type": "code",
   "execution_count": null,
   "metadata": {
    "colab": {
     "base_uri": "https://localhost:8080/"
    },
    "executionInfo": {
     "elapsed": 42,
     "status": "ok",
     "timestamp": 1646285007536,
     "user": {
      "displayName": "Alexander Zuluaga Quintero",
      "photoUrl": "https://lh3.googleusercontent.com/a-/AOh14Gi5bptZVpT8uPV-rsu1k3GPYeG1CXzkWxwYtJ_160M=s64",
      "userId": "06106219622026670571"
     },
     "user_tz": 300
    },
    "id": "DQwtlvf0OnaK",
    "outputId": "6c82ac59-8f9b-4c68-dc05-5db1975e9319"
   },
   "outputs": [],
   "source": [
    "# extrae los caracteres entre corchetes `[` y `]`.\n",
    "x = [\"-->[456]<--\",\n",
    "     \"-->[def]<--\",\n",
    "     \"-->[nop]<--\",\n",
    "    \"-------->[123456]<---------\"]\n",
    "[m[(m.find('[')+1):m.find(']')] for m in x]"
   ]
  },
  {
   "cell_type": "code",
   "execution_count": null,
   "metadata": {
    "colab": {
     "base_uri": "https://localhost:8080/"
    },
    "executionInfo": {
     "elapsed": 40,
     "status": "ok",
     "timestamp": 1646285007536,
     "user": {
      "displayName": "Alexander Zuluaga Quintero",
      "photoUrl": "https://lh3.googleusercontent.com/a-/AOh14Gi5bptZVpT8uPV-rsu1k3GPYeG1CXzkWxwYtJ_160M=s64",
      "userId": "06106219622026670571"
     },
     "user_tz": 300
    },
    "id": "luJsCDO8OnaK",
    "outputId": "b4577639-bea4-4485-d0c5-e69c67ce8ce0"
   },
   "outputs": [],
   "source": [
    "# extrae la segunda palabra de cada línea\n",
    "x = [\"Bash is a Unix shell and command language\",\n",
    "     \"written by Brian Fox for the \", \n",
    "     \"GNU Project as a free software\",\n",
    "     \"replacement for the Bourne shell.\"]\n",
    "[m.split(' ')[1] for m in x]"
   ]
  },
  {
   "cell_type": "markdown",
   "metadata": {
    "id": "PCwQWVPpOnaK"
   },
   "source": [
    "A continuación se presentan varios ejemplos de iteración sobre strings."
   ]
  },
  {
   "cell_type": "code",
   "execution_count": null,
   "metadata": {
    "colab": {
     "base_uri": "https://localhost:8080/"
    },
    "executionInfo": {
     "elapsed": 39,
     "status": "ok",
     "timestamp": 1646285007537,
     "user": {
      "displayName": "Alexander Zuluaga Quintero",
      "photoUrl": "https://lh3.googleusercontent.com/a-/AOh14Gi5bptZVpT8uPV-rsu1k3GPYeG1CXzkWxwYtJ_160M=s64",
      "userId": "06106219622026670571"
     },
     "user_tz": 300
    },
    "id": "IwKT-pgSOnaK",
    "outputId": "10f316f3-bf5e-4bcc-90b0-b2acd8cad022"
   },
   "outputs": [],
   "source": [
    "# iteracción sobre strings -- MAL\n",
    "nums = \"\"\n",
    "for n in range(20):\n",
    "    nums += str(n)   # Lento e ineficiente\n",
    "print(nums)"
   ]
  },
  {
   "cell_type": "code",
   "execution_count": null,
   "metadata": {
    "colab": {
     "base_uri": "https://localhost:8080/"
    },
    "executionInfo": {
     "elapsed": 37,
     "status": "ok",
     "timestamp": 1646285007537,
     "user": {
      "displayName": "Alexander Zuluaga Quintero",
      "photoUrl": "https://lh3.googleusercontent.com/a-/AOh14Gi5bptZVpT8uPV-rsu1k3GPYeG1CXzkWxwYtJ_160M=s64",
      "userId": "06106219622026670571"
     },
     "user_tz": 300
    },
    "id": "rJFlH65GOnaK",
    "outputId": "ed00d27e-2e0b-4a03-ad0e-d4c141de8def"
   },
   "outputs": [],
   "source": [
    "# iteración sobre strings -- BIEN\n",
    "nums = []\n",
    "for n in range(20):\n",
    "    nums.append(str(n))\n",
    "print(\"\".join(nums))  # más eficiente"
   ]
  },
  {
   "cell_type": "code",
   "execution_count": null,
   "metadata": {
    "colab": {
     "base_uri": "https://localhost:8080/"
    },
    "executionInfo": {
     "elapsed": 37,
     "status": "ok",
     "timestamp": 1646285007538,
     "user": {
      "displayName": "Alexander Zuluaga Quintero",
      "photoUrl": "https://lh3.googleusercontent.com/a-/AOh14Gi5bptZVpT8uPV-rsu1k3GPYeG1CXzkWxwYtJ_160M=s64",
      "userId": "06106219622026670571"
     },
     "user_tz": 300
    },
    "id": "yPMap7JyOnaL",
    "outputId": "21db5004-2343-4c3a-9d63-d498e02220ec"
   },
   "outputs": [],
   "source": [
    "# iteración sobre strings -- MEJOR\n",
    "nums = [str(n) for n in range(20)]\n",
    "print(\"\".join(nums))"
   ]
  },
  {
   "cell_type": "code",
   "execution_count": null,
   "metadata": {
    "colab": {
     "base_uri": "https://localhost:8080/"
    },
    "executionInfo": {
     "elapsed": 35,
     "status": "ok",
     "timestamp": 1646285007538,
     "user": {
      "displayName": "Alexander Zuluaga Quintero",
      "photoUrl": "https://lh3.googleusercontent.com/a-/AOh14Gi5bptZVpT8uPV-rsu1k3GPYeG1CXzkWxwYtJ_160M=s64",
      "userId": "06106219622026670571"
     },
     "user_tz": 300
    },
    "id": "EVd9XyrCOnaL",
    "outputId": "1ddfe43d-e7c3-4f3a-f10a-250aa4be4698"
   },
   "outputs": [],
   "source": [
    "# también se pueden crear tuplas.\n",
    "[(x, x**2) for x in range(6)]"
   ]
  },
  {
   "cell_type": "markdown",
   "metadata": {
    "id": "3xHZY5d1OnaL"
   },
   "source": [
    "En el siguiente ejemplo, el primer `for` recorre los elementos de la lista `vec` mientras que el segundo ciclo `for` recorre las componentes de dicho elemento."
   ]
  },
  {
   "cell_type": "code",
   "execution_count": null,
   "metadata": {
    "colab": {
     "base_uri": "https://localhost:8080/"
    },
    "executionInfo": {
     "elapsed": 33,
     "status": "ok",
     "timestamp": 1646285007538,
     "user": {
      "displayName": "Alexander Zuluaga Quintero",
      "photoUrl": "https://lh3.googleusercontent.com/a-/AOh14Gi5bptZVpT8uPV-rsu1k3GPYeG1CXzkWxwYtJ_160M=s64",
      "userId": "06106219622026670571"
     },
     "user_tz": 300
    },
    "id": "YBBVm7ueOnaL",
    "outputId": "68d42e2d-c8cb-43f6-c368-82fb987bb6ce"
   },
   "outputs": [],
   "source": [
    "vec = [[1,2,3], [4,5,6], [7,8,9]]\n",
    "[num for elem in vec for num in elem]"
   ]
  },
  {
   "cell_type": "code",
   "execution_count": null,
   "metadata": {
    "colab": {
     "base_uri": "https://localhost:8080/"
    },
    "executionInfo": {
     "elapsed": 32,
     "status": "ok",
     "timestamp": 1646285007539,
     "user": {
      "displayName": "Alexander Zuluaga Quintero",
      "photoUrl": "https://lh3.googleusercontent.com/a-/AOh14Gi5bptZVpT8uPV-rsu1k3GPYeG1CXzkWxwYtJ_160M=s64",
      "userId": "06106219622026670571"
     },
     "user_tz": 300
    },
    "id": "sbJTUj2pOnaL",
    "outputId": "2ac16196-038f-4613-afa2-4610e6cb6e17"
   },
   "outputs": [],
   "source": [
    "from math import pi  # otro ejemplo\n",
    "[str(round(pi, i)) for i in range(1, 6)]"
   ]
  },
  {
   "cell_type": "code",
   "execution_count": null,
   "metadata": {
    "executionInfo": {
     "elapsed": 31,
     "status": "ok",
     "timestamp": 1646285007539,
     "user": {
      "displayName": "Alexander Zuluaga Quintero",
      "photoUrl": "https://lh3.googleusercontent.com/a-/AOh14Gi5bptZVpT8uPV-rsu1k3GPYeG1CXzkWxwYtJ_160M=s64",
      "userId": "06106219622026670571"
     },
     "user_tz": 300
    },
    "id": "e42D6YVBOnaL"
   },
   "outputs": [],
   "source": [
    "# se simula una matriz como una lista cuyos elementos son listas de números.\n",
    "matrix = [\n",
    "    [1, 2, 3, 4],\n",
    "    [5, 6, 7, 8],\n",
    "    [9, 10, 11, 12],\n",
    "]"
   ]
  },
  {
   "cell_type": "code",
   "execution_count": null,
   "metadata": {
    "colab": {
     "base_uri": "https://localhost:8080/"
    },
    "executionInfo": {
     "elapsed": 31,
     "status": "ok",
     "timestamp": 1646285007540,
     "user": {
      "displayName": "Alexander Zuluaga Quintero",
      "photoUrl": "https://lh3.googleusercontent.com/a-/AOh14Gi5bptZVpT8uPV-rsu1k3GPYeG1CXzkWxwYtJ_160M=s64",
      "userId": "06106219622026670571"
     },
     "user_tz": 300
    },
    "id": "BREm0keHOnaL",
    "outputId": "6ab34367-c984-4d6d-b241-4ce41c58c076"
   },
   "outputs": [],
   "source": [
    "# se calcula la transpuesta \n",
    "[[row[i] for row in matrix] for i in range(4)]"
   ]
  },
  {
   "cell_type": "code",
   "execution_count": null,
   "metadata": {
    "colab": {
     "base_uri": "https://localhost:8080/"
    },
    "executionInfo": {
     "elapsed": 30,
     "status": "ok",
     "timestamp": 1646285007540,
     "user": {
      "displayName": "Alexander Zuluaga Quintero",
      "photoUrl": "https://lh3.googleusercontent.com/a-/AOh14Gi5bptZVpT8uPV-rsu1k3GPYeG1CXzkWxwYtJ_160M=s64",
      "userId": "06106219622026670571"
     },
     "user_tz": 300
    },
    "id": "sif4VLtKOnaM",
    "outputId": "705dfbb1-8e29-4c11-ef4e-22f153311a4a"
   },
   "outputs": [],
   "source": [
    "# este es el codigo equivalente tradicional.\n",
    "transposed = []\n",
    "for i in range(4):\n",
    "    transposed.append([row[i] for row in matrix])\n",
    "\n",
    "transposed"
   ]
  },
  {
   "cell_type": "code",
   "execution_count": null,
   "metadata": {
    "colab": {
     "base_uri": "https://localhost:8080/"
    },
    "executionInfo": {
     "elapsed": 30,
     "status": "ok",
     "timestamp": 1646285007541,
     "user": {
      "displayName": "Alexander Zuluaga Quintero",
      "photoUrl": "https://lh3.googleusercontent.com/a-/AOh14Gi5bptZVpT8uPV-rsu1k3GPYeG1CXzkWxwYtJ_160M=s64",
      "userId": "06106219622026670571"
     },
     "user_tz": 300
    },
    "id": "ZFg2YAifOnaM",
    "outputId": "9ba3cb72-f1a5-4962-bdab-d1f77dabea73"
   },
   "outputs": [],
   "source": [
    "# otro codigo equivalente.\n",
    "transposed = []\n",
    "for i in range(4):\n",
    "    # the following 3 lines implement the nested listcomp\n",
    "    transposed_row = []\n",
    "    for row in matrix:\n",
    "        transposed_row.append(row[i])\n",
    "    transposed.append(transposed_row)\n",
    "\n",
    "transposed"
   ]
  },
  {
   "cell_type": "code",
   "execution_count": null,
   "metadata": {
    "colab": {
     "base_uri": "https://localhost:8080/"
    },
    "executionInfo": {
     "elapsed": 29,
     "status": "ok",
     "timestamp": 1646285007541,
     "user": {
      "displayName": "Alexander Zuluaga Quintero",
      "photoUrl": "https://lh3.googleusercontent.com/a-/AOh14Gi5bptZVpT8uPV-rsu1k3GPYeG1CXzkWxwYtJ_160M=s64",
      "userId": "06106219622026670571"
     },
     "user_tz": 300
    },
    "id": "8qKmJED7OnaM",
    "outputId": "ddf8fa42-09ac-4c06-8e59-a78d7ec9ca24"
   },
   "outputs": [],
   "source": [
    "# otra forma\n",
    "list(zip(*matrix))"
   ]
  },
  {
   "cell_type": "markdown",
   "metadata": {
    "id": "4Ckh4XDUOnaM"
   },
   "source": [
    "### Comando `del`"
   ]
  },
  {
   "cell_type": "markdown",
   "metadata": {
    "id": "BYj8NzztOnaM"
   },
   "source": [
    "[Contenido](#Contenido)"
   ]
  },
  {
   "cell_type": "markdown",
   "metadata": {
    "id": "PTJvm1OuOnaM"
   },
   "source": [
    "El comando `del` permite borrar elementos de una lista."
   ]
  },
  {
   "cell_type": "code",
   "execution_count": null,
   "metadata": {
    "colab": {
     "base_uri": "https://localhost:8080/"
    },
    "executionInfo": {
     "elapsed": 29,
     "status": "ok",
     "timestamp": 1646285007542,
     "user": {
      "displayName": "Alexander Zuluaga Quintero",
      "photoUrl": "https://lh3.googleusercontent.com/a-/AOh14Gi5bptZVpT8uPV-rsu1k3GPYeG1CXzkWxwYtJ_160M=s64",
      "userId": "06106219622026670571"
     },
     "user_tz": 300
    },
    "id": "3GJsu98POnaM",
    "outputId": "71b15433-ce4d-4374-d73b-ac8df06fc6ae"
   },
   "outputs": [],
   "source": [
    "a = [-1, 1, 66.25, 333, 333, 1234.5]\n",
    "del a[0]\n",
    "a"
   ]
  },
  {
   "cell_type": "code",
   "execution_count": null,
   "metadata": {
    "colab": {
     "base_uri": "https://localhost:8080/"
    },
    "executionInfo": {
     "elapsed": 27,
     "status": "ok",
     "timestamp": 1646285007542,
     "user": {
      "displayName": "Alexander Zuluaga Quintero",
      "photoUrl": "https://lh3.googleusercontent.com/a-/AOh14Gi5bptZVpT8uPV-rsu1k3GPYeG1CXzkWxwYtJ_160M=s64",
      "userId": "06106219622026670571"
     },
     "user_tz": 300
    },
    "id": "08U9TzuQOnaN",
    "outputId": "50c312e1-cf87-4621-cf49-e402088f4169"
   },
   "outputs": [],
   "source": [
    "del a[2:4]\n",
    "a"
   ]
  },
  {
   "cell_type": "code",
   "execution_count": null,
   "metadata": {
    "colab": {
     "base_uri": "https://localhost:8080/"
    },
    "executionInfo": {
     "elapsed": 26,
     "status": "ok",
     "timestamp": 1646285007542,
     "user": {
      "displayName": "Alexander Zuluaga Quintero",
      "photoUrl": "https://lh3.googleusercontent.com/a-/AOh14Gi5bptZVpT8uPV-rsu1k3GPYeG1CXzkWxwYtJ_160M=s64",
      "userId": "06106219622026670571"
     },
     "user_tz": 300
    },
    "id": "c5zqQ5m7OnaN",
    "outputId": "e1bd20a0-f07b-4efe-a688-d73c3b511a6a"
   },
   "outputs": [],
   "source": [
    "del a[:]\n",
    "a"
   ]
  },
  {
   "cell_type": "code",
   "execution_count": null,
   "metadata": {
    "executionInfo": {
     "elapsed": 26,
     "status": "ok",
     "timestamp": 1646285007543,
     "user": {
      "displayName": "Alexander Zuluaga Quintero",
      "photoUrl": "https://lh3.googleusercontent.com/a-/AOh14Gi5bptZVpT8uPV-rsu1k3GPYeG1CXzkWxwYtJ_160M=s64",
      "userId": "06106219622026670571"
     },
     "user_tz": 300
    },
    "id": "7edm1zX1OnaN"
   },
   "outputs": [],
   "source": [
    "del a"
   ]
  },
  {
   "cell_type": "markdown",
   "metadata": {
    "id": "jwIVWN04OnaN"
   },
   "source": [
    "## Tuplas y secuencias"
   ]
  },
  {
   "cell_type": "markdown",
   "metadata": {
    "id": "Kg4FOsCuOnaN"
   },
   "source": [
    "[Contenido](#Contenido)"
   ]
  },
  {
   "cell_type": "markdown",
   "metadata": {
    "id": "ndj6PmkTOnaN"
   },
   "source": [
    "Una tupla es una secuencia de elementos separados por comas. "
   ]
  },
  {
   "cell_type": "code",
   "execution_count": null,
   "metadata": {
    "colab": {
     "base_uri": "https://localhost:8080/"
    },
    "executionInfo": {
     "elapsed": 357,
     "status": "ok",
     "timestamp": 1646285047104,
     "user": {
      "displayName": "Alexander Zuluaga Quintero",
      "photoUrl": "https://lh3.googleusercontent.com/a-/AOh14Gi5bptZVpT8uPV-rsu1k3GPYeG1CXzkWxwYtJ_160M=s64",
      "userId": "06106219622026670571"
     },
     "user_tz": 300
    },
    "id": "umyv_qZpOnaO",
    "outputId": "37fd1855-d6e7-448d-b7b9-4d6b2839ebc0"
   },
   "outputs": [],
   "source": [
    "t = 12345, 54321, 'hello!'\n",
    "t[0]"
   ]
  },
  {
   "cell_type": "code",
   "execution_count": null,
   "metadata": {
    "colab": {
     "base_uri": "https://localhost:8080/"
    },
    "executionInfo": {
     "elapsed": 10,
     "status": "ok",
     "timestamp": 1646285047414,
     "user": {
      "displayName": "Alexander Zuluaga Quintero",
      "photoUrl": "https://lh3.googleusercontent.com/a-/AOh14Gi5bptZVpT8uPV-rsu1k3GPYeG1CXzkWxwYtJ_160M=s64",
      "userId": "06106219622026670571"
     },
     "user_tz": 300
    },
    "id": "GU3iY6pVOnaO",
    "outputId": "dd1c2fbb-8611-4788-93c1-2e6d3feaf4ad"
   },
   "outputs": [],
   "source": [
    "t  # una tupla se diferencia de una lista porque se imprime entre paréntesis. "
   ]
  },
  {
   "cell_type": "code",
   "execution_count": null,
   "metadata": {
    "colab": {
     "base_uri": "https://localhost:8080/"
    },
    "executionInfo": {
     "elapsed": 8,
     "status": "ok",
     "timestamp": 1646285047414,
     "user": {
      "displayName": "Alexander Zuluaga Quintero",
      "photoUrl": "https://lh3.googleusercontent.com/a-/AOh14Gi5bptZVpT8uPV-rsu1k3GPYeG1CXzkWxwYtJ_160M=s64",
      "userId": "06106219622026670571"
     },
     "user_tz": 300
    },
    "id": "Fu0_3v46OnaO",
    "outputId": "be9edb92-67e0-4c40-a955-ff3c28f4df43"
   },
   "outputs": [],
   "source": [
    "# Las tuplas pueden anidarse.\n",
    "u = t, (1, 2, 3, 4, 5)\n",
    "u"
   ]
  },
  {
   "cell_type": "code",
   "execution_count": null,
   "metadata": {
    "executionInfo": {
     "elapsed": 527,
     "status": "ok",
     "timestamp": 1646285047937,
     "user": {
      "displayName": "Alexander Zuluaga Quintero",
      "photoUrl": "https://lh3.googleusercontent.com/a-/AOh14Gi5bptZVpT8uPV-rsu1k3GPYeG1CXzkWxwYtJ_160M=s64",
      "userId": "06106219622026670571"
     },
     "user_tz": 300
    },
    "id": "Vlir6HWsOnaO"
   },
   "outputs": [],
   "source": [
    "x, y, z = t # asignación de los elementos de una tupla."
   ]
  },
  {
   "cell_type": "code",
   "execution_count": null,
   "metadata": {
    "colab": {
     "base_uri": "https://localhost:8080/"
    },
    "executionInfo": {
     "elapsed": 63,
     "status": "ok",
     "timestamp": 1646285047937,
     "user": {
      "displayName": "Alexander Zuluaga Quintero",
      "photoUrl": "https://lh3.googleusercontent.com/a-/AOh14Gi5bptZVpT8uPV-rsu1k3GPYeG1CXzkWxwYtJ_160M=s64",
      "userId": "06106219622026670571"
     },
     "user_tz": 300
    },
    "id": "UfrMMghZOnaO",
    "outputId": "afc7cae6-8e30-4665-8a03-35b28328a43d"
   },
   "outputs": [],
   "source": [
    "x"
   ]
  },
  {
   "cell_type": "code",
   "execution_count": null,
   "metadata": {
    "colab": {
     "base_uri": "https://localhost:8080/"
    },
    "executionInfo": {
     "elapsed": 61,
     "status": "ok",
     "timestamp": 1646285047938,
     "user": {
      "displayName": "Alexander Zuluaga Quintero",
      "photoUrl": "https://lh3.googleusercontent.com/a-/AOh14Gi5bptZVpT8uPV-rsu1k3GPYeG1CXzkWxwYtJ_160M=s64",
      "userId": "06106219622026670571"
     },
     "user_tz": 300
    },
    "id": "PyLnR0TOOnaO",
    "outputId": "fafda6da-e670-46a0-ef1f-2bdebf489222"
   },
   "outputs": [],
   "source": [
    "y"
   ]
  },
  {
   "cell_type": "code",
   "execution_count": null,
   "metadata": {
    "colab": {
     "base_uri": "https://localhost:8080/",
     "height": 35
    },
    "executionInfo": {
     "elapsed": 46,
     "status": "ok",
     "timestamp": 1646285047938,
     "user": {
      "displayName": "Alexander Zuluaga Quintero",
      "photoUrl": "https://lh3.googleusercontent.com/a-/AOh14Gi5bptZVpT8uPV-rsu1k3GPYeG1CXzkWxwYtJ_160M=s64",
      "userId": "06106219622026670571"
     },
     "user_tz": 300
    },
    "id": "MrUz0FCJOnaP",
    "outputId": "bc0be791-4750-42e8-f1d6-bc0e20c47883"
   },
   "outputs": [],
   "source": [
    "z"
   ]
  },
  {
   "cell_type": "markdown",
   "metadata": {
    "id": "rlKyHOgDOnaP"
   },
   "source": [
    "## Conjuntos"
   ]
  },
  {
   "cell_type": "markdown",
   "metadata": {
    "id": "I2fStNykOnaP"
   },
   "source": [
    "[Contenido](#Contenido)"
   ]
  },
  {
   "cell_type": "markdown",
   "metadata": {
    "id": "VRiyzCQEOnaP"
   },
   "source": [
    "Un conjunto es una estructura de datos cuyos elementos no se repiten."
   ]
  },
  {
   "cell_type": "code",
   "execution_count": null,
   "metadata": {
    "colab": {
     "base_uri": "https://localhost:8080/"
    },
    "executionInfo": {
     "elapsed": 43,
     "status": "ok",
     "timestamp": 1646285047939,
     "user": {
      "displayName": "Alexander Zuluaga Quintero",
      "photoUrl": "https://lh3.googleusercontent.com/a-/AOh14Gi5bptZVpT8uPV-rsu1k3GPYeG1CXzkWxwYtJ_160M=s64",
      "userId": "06106219622026670571"
     },
     "user_tz": 300
    },
    "id": "IN4y574gOnaP",
    "outputId": "a5b3c4e0-a676-4031-aa0c-1281d4133f89"
   },
   "outputs": [],
   "source": [
    "basket = {'apple', 'orange', 'apple', 'pear', 'orange', 'banana'}\n",
    "print(basket)                      # los elmentos duplicados se removieron."
   ]
  },
  {
   "cell_type": "code",
   "execution_count": null,
   "metadata": {
    "colab": {
     "base_uri": "https://localhost:8080/"
    },
    "executionInfo": {
     "elapsed": 32,
     "status": "ok",
     "timestamp": 1646285047939,
     "user": {
      "displayName": "Alexander Zuluaga Quintero",
      "photoUrl": "https://lh3.googleusercontent.com/a-/AOh14Gi5bptZVpT8uPV-rsu1k3GPYeG1CXzkWxwYtJ_160M=s64",
      "userId": "06106219622026670571"
     },
     "user_tz": 300
    },
    "id": "-O87ozvDOnaP",
    "outputId": "7111dafe-19fa-43b9-dd0b-3b85ef15b949"
   },
   "outputs": [],
   "source": [
    "'orange' in basket # `in` se usa para determinar si el elemento está en el conjunto"
   ]
  },
  {
   "cell_type": "code",
   "execution_count": null,
   "metadata": {
    "colab": {
     "base_uri": "https://localhost:8080/"
    },
    "executionInfo": {
     "elapsed": 30,
     "status": "ok",
     "timestamp": 1646285047939,
     "user": {
      "displayName": "Alexander Zuluaga Quintero",
      "photoUrl": "https://lh3.googleusercontent.com/a-/AOh14Gi5bptZVpT8uPV-rsu1k3GPYeG1CXzkWxwYtJ_160M=s64",
      "userId": "06106219622026670571"
     },
     "user_tz": 300
    },
    "id": "MfwsqByKOnaP",
    "outputId": "ba84517f-35bb-4bf0-db5c-c1514727249c"
   },
   "outputs": [],
   "source": [
    "'crabgrass' in basket"
   ]
  },
  {
   "cell_type": "code",
   "execution_count": null,
   "metadata": {
    "colab": {
     "base_uri": "https://localhost:8080/"
    },
    "executionInfo": {
     "elapsed": 30,
     "status": "ok",
     "timestamp": 1646285047940,
     "user": {
      "displayName": "Alexander Zuluaga Quintero",
      "photoUrl": "https://lh3.googleusercontent.com/a-/AOh14Gi5bptZVpT8uPV-rsu1k3GPYeG1CXzkWxwYtJ_160M=s64",
      "userId": "06106219622026670571"
     },
     "user_tz": 300
    },
    "id": "k7dUTS7uOnaP",
    "outputId": "22500eb6-0485-48d6-a8aa-e2dd16988bea"
   },
   "outputs": [],
   "source": [
    "a = set('abracadabra')    # el string se descompone en sus letras.\n",
    "b = set('alacazam')\n",
    "a                         # letras únicas en el string `a`."
   ]
  },
  {
   "cell_type": "code",
   "execution_count": null,
   "metadata": {
    "colab": {
     "base_uri": "https://localhost:8080/"
    },
    "executionInfo": {
     "elapsed": 29,
     "status": "ok",
     "timestamp": 1646285047940,
     "user": {
      "displayName": "Alexander Zuluaga Quintero",
      "photoUrl": "https://lh3.googleusercontent.com/a-/AOh14Gi5bptZVpT8uPV-rsu1k3GPYeG1CXzkWxwYtJ_160M=s64",
      "userId": "06106219622026670571"
     },
     "user_tz": 300
    },
    "id": "EXjxgKQqOnaQ",
    "outputId": "0a8928d5-08bc-404a-bbff-ceb8d1c56c80"
   },
   "outputs": [],
   "source": [
    "b"
   ]
  },
  {
   "cell_type": "markdown",
   "metadata": {
    "id": "njINIF54OnaQ"
   },
   "source": [
    "A continuación se presentan las principales operaciones entre conjuntos."
   ]
  },
  {
   "cell_type": "code",
   "execution_count": null,
   "metadata": {
    "colab": {
     "base_uri": "https://localhost:8080/"
    },
    "executionInfo": {
     "elapsed": 28,
     "status": "ok",
     "timestamp": 1646285047940,
     "user": {
      "displayName": "Alexander Zuluaga Quintero",
      "photoUrl": "https://lh3.googleusercontent.com/a-/AOh14Gi5bptZVpT8uPV-rsu1k3GPYeG1CXzkWxwYtJ_160M=s64",
      "userId": "06106219622026670571"
     },
     "user_tz": 300
    },
    "id": "kqJkgXL1OnaQ",
    "outputId": "b73b8934-b84c-41c0-a7e4-add476cfeb7a"
   },
   "outputs": [],
   "source": [
    "a - b                              # letras en a pero no en b (diferencia)"
   ]
  },
  {
   "cell_type": "code",
   "execution_count": null,
   "metadata": {
    "colab": {
     "base_uri": "https://localhost:8080/"
    },
    "executionInfo": {
     "elapsed": 28,
     "status": "ok",
     "timestamp": 1646285047941,
     "user": {
      "displayName": "Alexander Zuluaga Quintero",
      "photoUrl": "https://lh3.googleusercontent.com/a-/AOh14Gi5bptZVpT8uPV-rsu1k3GPYeG1CXzkWxwYtJ_160M=s64",
      "userId": "06106219622026670571"
     },
     "user_tz": 300
    },
    "id": "DpA8Z-NnOnaQ",
    "outputId": "7ed76dda-9da0-4215-ed4d-738c69d8b58f"
   },
   "outputs": [],
   "source": [
    "a | b                              # letras en a o en b (OR, union)"
   ]
  },
  {
   "cell_type": "code",
   "execution_count": null,
   "metadata": {
    "colab": {
     "base_uri": "https://localhost:8080/"
    },
    "executionInfo": {
     "elapsed": 27,
     "status": "ok",
     "timestamp": 1646285047941,
     "user": {
      "displayName": "Alexander Zuluaga Quintero",
      "photoUrl": "https://lh3.googleusercontent.com/a-/AOh14Gi5bptZVpT8uPV-rsu1k3GPYeG1CXzkWxwYtJ_160M=s64",
      "userId": "06106219622026670571"
     },
     "user_tz": 300
    },
    "id": "QTko27ZvOnaQ",
    "outputId": "c65791c4-ec1a-4e0f-a5d9-e9f2c88723e4"
   },
   "outputs": [],
   "source": [
    "a & b                              # letras en a y en b (intersección)"
   ]
  },
  {
   "cell_type": "code",
   "execution_count": null,
   "metadata": {
    "colab": {
     "base_uri": "https://localhost:8080/"
    },
    "executionInfo": {
     "elapsed": 26,
     "status": "ok",
     "timestamp": 1646285047941,
     "user": {
      "displayName": "Alexander Zuluaga Quintero",
      "photoUrl": "https://lh3.googleusercontent.com/a-/AOh14Gi5bptZVpT8uPV-rsu1k3GPYeG1CXzkWxwYtJ_160M=s64",
      "userId": "06106219622026670571"
     },
     "user_tz": 300
    },
    "id": "8t6KvC6mOnaQ",
    "outputId": "a7a762c6-7a43-4931-a95d-246f5a0f9835"
   },
   "outputs": [],
   "source": [
    "a ^ b                              # letras en a o en b pero no en ambos"
   ]
  },
  {
   "cell_type": "code",
   "execution_count": null,
   "metadata": {
    "colab": {
     "base_uri": "https://localhost:8080/"
    },
    "executionInfo": {
     "elapsed": 26,
     "status": "ok",
     "timestamp": 1646285047942,
     "user": {
      "displayName": "Alexander Zuluaga Quintero",
      "photoUrl": "https://lh3.googleusercontent.com/a-/AOh14Gi5bptZVpT8uPV-rsu1k3GPYeG1CXzkWxwYtJ_160M=s64",
      "userId": "06106219622026670571"
     },
     "user_tz": 300
    },
    "id": "3Qh7W7TfOnaQ",
    "outputId": "0f08c39e-aa16-4e63-e006-f6b59c5ac91d"
   },
   "outputs": [],
   "source": [
    "# List comprenhensions en conjuntos\n",
    "a = {x for x in 'abracadabra' if x not in 'abc'} # letras que estan en `abracadabra` y no están en `abc`.\n",
    "a"
   ]
  },
  {
   "cell_type": "markdown",
   "metadata": {
    "id": "nsj6H4GJOnaR"
   },
   "source": [
    "## Diccionarios"
   ]
  },
  {
   "cell_type": "markdown",
   "metadata": {
    "id": "SiGWWqwfOnaR"
   },
   "source": [
    "[Contenido](#Contenido)"
   ]
  },
  {
   "cell_type": "markdown",
   "metadata": {
    "id": "36LWry1nOnaR"
   },
   "source": [
    "Un dicionario es una estructura de datos en que cada elemento contiene una clave y un valor. Los diccionarios pueden crearse usando `{` y `}`."
   ]
  },
  {
   "cell_type": "code",
   "execution_count": null,
   "metadata": {
    "colab": {
     "base_uri": "https://localhost:8080/"
    },
    "executionInfo": {
     "elapsed": 24,
     "status": "ok",
     "timestamp": 1646285047942,
     "user": {
      "displayName": "Alexander Zuluaga Quintero",
      "photoUrl": "https://lh3.googleusercontent.com/a-/AOh14Gi5bptZVpT8uPV-rsu1k3GPYeG1CXzkWxwYtJ_160M=s64",
      "userId": "06106219622026670571"
     },
     "user_tz": 300
    },
    "id": "4d4FYNZCOnaR",
    "outputId": "a33f3a86-4262-4892-c1a0-532f55b08cef"
   },
   "outputs": [],
   "source": [
    "x = {'b': 2, 'a': 1} # 'a'  y 'b'  son las claves y 1 y 2 son los valores\n",
    "x['c'] = 3  # se agrega un neuvo elemento al dicicionario.\n",
    "x"
   ]
  },
  {
   "cell_type": "code",
   "execution_count": null,
   "metadata": {
    "colab": {
     "base_uri": "https://localhost:8080/"
    },
    "executionInfo": {
     "elapsed": 24,
     "status": "ok",
     "timestamp": 1646285047943,
     "user": {
      "displayName": "Alexander Zuluaga Quintero",
      "photoUrl": "https://lh3.googleusercontent.com/a-/AOh14Gi5bptZVpT8uPV-rsu1k3GPYeG1CXzkWxwYtJ_160M=s64",
      "userId": "06106219622026670571"
     },
     "user_tz": 300
    },
    "id": "GBn6gYtLOnaR",
    "outputId": "f88a2a31-26ee-4c67-ed01-d9ddab24d9c2"
   },
   "outputs": [],
   "source": [
    "x['b']  # se obtiene el valor asociado a la clave 'b'"
   ]
  },
  {
   "cell_type": "code",
   "execution_count": null,
   "metadata": {
    "colab": {
     "base_uri": "https://localhost:8080/"
    },
    "executionInfo": {
     "elapsed": 23,
     "status": "ok",
     "timestamp": 1646285047943,
     "user": {
      "displayName": "Alexander Zuluaga Quintero",
      "photoUrl": "https://lh3.googleusercontent.com/a-/AOh14Gi5bptZVpT8uPV-rsu1k3GPYeG1CXzkWxwYtJ_160M=s64",
      "userId": "06106219622026670571"
     },
     "user_tz": 300
    },
    "id": "-10bKd4aOnaR",
    "outputId": "68ce4488-f050-4d6a-aa65-4d2e23156341"
   },
   "outputs": [],
   "source": [
    "del x['b']      # se elimina el elemento.\n",
    "x['d'] = 4    # se agrega un nuevo elemento.\n",
    "x"
   ]
  },
  {
   "cell_type": "code",
   "execution_count": null,
   "metadata": {
    "colab": {
     "base_uri": "https://localhost:8080/"
    },
    "executionInfo": {
     "elapsed": 22,
     "status": "ok",
     "timestamp": 1646285047943,
     "user": {
      "displayName": "Alexander Zuluaga Quintero",
      "photoUrl": "https://lh3.googleusercontent.com/a-/AOh14Gi5bptZVpT8uPV-rsu1k3GPYeG1CXzkWxwYtJ_160M=s64",
      "userId": "06106219622026670571"
     },
     "user_tz": 300
    },
    "id": "NNjNwXpqOnaR",
    "outputId": "955af8da-8628-48a3-a56f-f3570a7c897c"
   },
   "outputs": [],
   "source": [
    "list(x.keys())    # la función `keys` imprime las claves."
   ]
  },
  {
   "cell_type": "code",
   "execution_count": null,
   "metadata": {
    "colab": {
     "base_uri": "https://localhost:8080/"
    },
    "executionInfo": {
     "elapsed": 23,
     "status": "ok",
     "timestamp": 1646285047944,
     "user": {
      "displayName": "Alexander Zuluaga Quintero",
      "photoUrl": "https://lh3.googleusercontent.com/a-/AOh14Gi5bptZVpT8uPV-rsu1k3GPYeG1CXzkWxwYtJ_160M=s64",
      "userId": "06106219622026670571"
     },
     "user_tz": 300
    },
    "id": "W9v57PvbOnaR",
    "outputId": "1f69668e-4b54-4871-e418-f2744b27ceea"
   },
   "outputs": [],
   "source": [
    "sorted(x.keys())  # claves ordenadas."
   ]
  },
  {
   "cell_type": "code",
   "execution_count": null,
   "metadata": {
    "colab": {
     "base_uri": "https://localhost:8080/"
    },
    "executionInfo": {
     "elapsed": 22,
     "status": "ok",
     "timestamp": 1646285047944,
     "user": {
      "displayName": "Alexander Zuluaga Quintero",
      "photoUrl": "https://lh3.googleusercontent.com/a-/AOh14Gi5bptZVpT8uPV-rsu1k3GPYeG1CXzkWxwYtJ_160M=s64",
      "userId": "06106219622026670571"
     },
     "user_tz": 300
    },
    "id": "O-HnxAfTOnaS",
    "outputId": "6b74b627-a740-45ab-cba7-1d7264d38839"
   },
   "outputs": [],
   "source": [
    "'a' in x  # "
   ]
  },
  {
   "cell_type": "code",
   "execution_count": null,
   "metadata": {
    "colab": {
     "base_uri": "https://localhost:8080/"
    },
    "executionInfo": {
     "elapsed": 28,
     "status": "ok",
     "timestamp": 1646285047945,
     "user": {
      "displayName": "Alexander Zuluaga Quintero",
      "photoUrl": "https://lh3.googleusercontent.com/a-/AOh14Gi5bptZVpT8uPV-rsu1k3GPYeG1CXzkWxwYtJ_160M=s64",
      "userId": "06106219622026670571"
     },
     "user_tz": 300
    },
    "id": "uvOf5SsXOnaS",
    "outputId": "052daa0d-40f4-4d63-bf6f-af347834fd70"
   },
   "outputs": [],
   "source": [
    "'a' not in x"
   ]
  },
  {
   "cell_type": "code",
   "execution_count": null,
   "metadata": {
    "colab": {
     "base_uri": "https://localhost:8080/"
    },
    "executionInfo": {
     "elapsed": 28,
     "status": "ok",
     "timestamp": 1646285047952,
     "user": {
      "displayName": "Alexander Zuluaga Quintero",
      "photoUrl": "https://lh3.googleusercontent.com/a-/AOh14Gi5bptZVpT8uPV-rsu1k3GPYeG1CXzkWxwYtJ_160M=s64",
      "userId": "06106219622026670571"
     },
     "user_tz": 300
    },
    "id": "aoy0hDxYOnaS",
    "outputId": "9ff5e540-4491-40dd-9adf-cb2e732db89d"
   },
   "outputs": [],
   "source": [
    "# un diccionario también puee crearse con `dict` a partir de una lista de tuplas.\n",
    "dict([('d', 4), ('a', 1), ('b', 2)]) "
   ]
  },
  {
   "cell_type": "code",
   "execution_count": null,
   "metadata": {
    "colab": {
     "base_uri": "https://localhost:8080/"
    },
    "executionInfo": {
     "elapsed": 28,
     "status": "ok",
     "timestamp": 1646285047952,
     "user": {
      "displayName": "Alexander Zuluaga Quintero",
      "photoUrl": "https://lh3.googleusercontent.com/a-/AOh14Gi5bptZVpT8uPV-rsu1k3GPYeG1CXzkWxwYtJ_160M=s64",
      "userId": "06106219622026670571"
     },
     "user_tz": 300
    },
    "id": "mSmJizbeOnaS",
    "outputId": "71a30bb8-1a90-42b4-bfae-a87da355fd8a"
   },
   "outputs": [],
   "source": [
    "# también se pueden crear diccionarios usando comprenhensions\n",
    "{x: x**2 for x in (2, 4, 6)}"
   ]
  },
  {
   "cell_type": "code",
   "execution_count": null,
   "metadata": {
    "colab": {
     "base_uri": "https://localhost:8080/"
    },
    "executionInfo": {
     "elapsed": 28,
     "status": "ok",
     "timestamp": 1646285047953,
     "user": {
      "displayName": "Alexander Zuluaga Quintero",
      "photoUrl": "https://lh3.googleusercontent.com/a-/AOh14Gi5bptZVpT8uPV-rsu1k3GPYeG1CXzkWxwYtJ_160M=s64",
      "userId": "06106219622026670571"
     },
     "user_tz": 300
    },
    "id": "_bnRCdN3OnaS",
    "outputId": "d7cd1aa5-aeab-4dbe-ea6b-2f89d7a335eb"
   },
   "outputs": [],
   "source": [
    "dict(c=3, b=2, a=1) # creación del diccionario usando `=`"
   ]
  },
  {
   "cell_type": "code",
   "execution_count": null,
   "metadata": {
    "colab": {
     "base_uri": "https://localhost:8080/"
    },
    "executionInfo": {
     "elapsed": 28,
     "status": "ok",
     "timestamp": 1646285047954,
     "user": {
      "displayName": "Alexander Zuluaga Quintero",
      "photoUrl": "https://lh3.googleusercontent.com/a-/AOh14Gi5bptZVpT8uPV-rsu1k3GPYeG1CXzkWxwYtJ_160M=s64",
      "userId": "06106219622026670571"
     },
     "user_tz": 300
    },
    "id": "ILPwTie4OnaS",
    "outputId": "3e220e13-e803-4d41-c2e3-8b5f75611eb9"
   },
   "outputs": [],
   "source": [
    "x.copy()  # devuelve una copia del diccionario"
   ]
  },
  {
   "cell_type": "code",
   "execution_count": null,
   "metadata": {
    "colab": {
     "base_uri": "https://localhost:8080/"
    },
    "executionInfo": {
     "elapsed": 27,
     "status": "ok",
     "timestamp": 1646285047954,
     "user": {
      "displayName": "Alexander Zuluaga Quintero",
      "photoUrl": "https://lh3.googleusercontent.com/a-/AOh14Gi5bptZVpT8uPV-rsu1k3GPYeG1CXzkWxwYtJ_160M=s64",
      "userId": "06106219622026670571"
     },
     "user_tz": 300
    },
    "id": "PpMZMvfVOnaS",
    "outputId": "8a1948ac-8c8e-48be-c4dd-846461caf964"
   },
   "outputs": [],
   "source": [
    "x.items() # retorna una nueva vista de los items en el diccionario."
   ]
  },
  {
   "cell_type": "code",
   "execution_count": null,
   "metadata": {
    "colab": {
     "base_uri": "https://localhost:8080/"
    },
    "executionInfo": {
     "elapsed": 26,
     "status": "ok",
     "timestamp": 1646285047954,
     "user": {
      "displayName": "Alexander Zuluaga Quintero",
      "photoUrl": "https://lh3.googleusercontent.com/a-/AOh14Gi5bptZVpT8uPV-rsu1k3GPYeG1CXzkWxwYtJ_160M=s64",
      "userId": "06106219622026670571"
     },
     "user_tz": 300
    },
    "id": "aEYFHM9_OnaT",
    "outputId": "76eec875-6fcf-40b2-c195-1697cda67695"
   },
   "outputs": [],
   "source": [
    "list(x.items())"
   ]
  },
  {
   "cell_type": "markdown",
   "metadata": {
    "id": "pYHZFqoNOnaT"
   },
   "source": [
    "## Comparación de secuencias y otros tipos de datos"
   ]
  },
  {
   "cell_type": "markdown",
   "metadata": {
    "id": "sP5A7YJYOnaT"
   },
   "source": [
    "[Contenido](#Contenido)"
   ]
  },
  {
   "cell_type": "markdown",
   "metadata": {
    "id": "djg6p3NvOnaT"
   },
   "source": [
    "A continuación se presentan varios ejemplos de comparación entre secuencias."
   ]
  },
  {
   "cell_type": "code",
   "execution_count": null,
   "metadata": {
    "colab": {
     "base_uri": "https://localhost:8080/"
    },
    "executionInfo": {
     "elapsed": 27,
     "status": "ok",
     "timestamp": 1646285047955,
     "user": {
      "displayName": "Alexander Zuluaga Quintero",
      "photoUrl": "https://lh3.googleusercontent.com/a-/AOh14Gi5bptZVpT8uPV-rsu1k3GPYeG1CXzkWxwYtJ_160M=s64",
      "userId": "06106219622026670571"
     },
     "user_tz": 300
    },
    "id": "rPIJKaffOnaT",
    "outputId": "0fb88db7-bb31-401f-d9f5-e23bd57378b3"
   },
   "outputs": [],
   "source": [
    "(1, 2, 3) < (1, 2, 4)"
   ]
  },
  {
   "cell_type": "code",
   "execution_count": null,
   "metadata": {
    "colab": {
     "base_uri": "https://localhost:8080/"
    },
    "executionInfo": {
     "elapsed": 44,
     "status": "ok",
     "timestamp": 1646285048340,
     "user": {
      "displayName": "Alexander Zuluaga Quintero",
      "photoUrl": "https://lh3.googleusercontent.com/a-/AOh14Gi5bptZVpT8uPV-rsu1k3GPYeG1CXzkWxwYtJ_160M=s64",
      "userId": "06106219622026670571"
     },
     "user_tz": 300
    },
    "id": "TyqwDuJKOnaT",
    "outputId": "adfaa46f-5d6e-4e1e-eb58-b6a21b2e9d1b"
   },
   "outputs": [],
   "source": [
    "[1, 2, 3] < [1, 2, 4]"
   ]
  },
  {
   "cell_type": "code",
   "execution_count": null,
   "metadata": {
    "colab": {
     "base_uri": "https://localhost:8080/"
    },
    "executionInfo": {
     "elapsed": 44,
     "status": "ok",
     "timestamp": 1646285048341,
     "user": {
      "displayName": "Alexander Zuluaga Quintero",
      "photoUrl": "https://lh3.googleusercontent.com/a-/AOh14Gi5bptZVpT8uPV-rsu1k3GPYeG1CXzkWxwYtJ_160M=s64",
      "userId": "06106219622026670571"
     },
     "user_tz": 300
    },
    "id": "SDoDt4MEOnaT",
    "outputId": "79c6fb78-f663-4e6b-e611-0fc5bf034a8a"
   },
   "outputs": [],
   "source": [
    "'ABC' < 'C' < 'Pascal' < 'Python'"
   ]
  },
  {
   "cell_type": "code",
   "execution_count": null,
   "metadata": {
    "colab": {
     "base_uri": "https://localhost:8080/"
    },
    "executionInfo": {
     "elapsed": 43,
     "status": "ok",
     "timestamp": 1646285048341,
     "user": {
      "displayName": "Alexander Zuluaga Quintero",
      "photoUrl": "https://lh3.googleusercontent.com/a-/AOh14Gi5bptZVpT8uPV-rsu1k3GPYeG1CXzkWxwYtJ_160M=s64",
      "userId": "06106219622026670571"
     },
     "user_tz": 300
    },
    "id": "pbmkzWE1OnaT",
    "outputId": "6d38ddcc-2e11-469f-946c-9554439f73c6"
   },
   "outputs": [],
   "source": [
    "(1, 2, 3, 4) < (1, 2, 4)"
   ]
  },
  {
   "cell_type": "code",
   "execution_count": null,
   "metadata": {
    "colab": {
     "base_uri": "https://localhost:8080/"
    },
    "executionInfo": {
     "elapsed": 43,
     "status": "ok",
     "timestamp": 1646285048342,
     "user": {
      "displayName": "Alexander Zuluaga Quintero",
      "photoUrl": "https://lh3.googleusercontent.com/a-/AOh14Gi5bptZVpT8uPV-rsu1k3GPYeG1CXzkWxwYtJ_160M=s64",
      "userId": "06106219622026670571"
     },
     "user_tz": 300
    },
    "id": "BR5kCSreOnaU",
    "outputId": "d51dbc89-456f-4a58-9d46-c8b25a1dab30"
   },
   "outputs": [],
   "source": [
    "(1, 2) < (1, 2, -1)"
   ]
  },
  {
   "cell_type": "code",
   "execution_count": null,
   "metadata": {
    "colab": {
     "base_uri": "https://localhost:8080/"
    },
    "executionInfo": {
     "elapsed": 42,
     "status": "ok",
     "timestamp": 1646285048343,
     "user": {
      "displayName": "Alexander Zuluaga Quintero",
      "photoUrl": "https://lh3.googleusercontent.com/a-/AOh14Gi5bptZVpT8uPV-rsu1k3GPYeG1CXzkWxwYtJ_160M=s64",
      "userId": "06106219622026670571"
     },
     "user_tz": 300
    },
    "id": "s8NMdJQLOnaU",
    "outputId": "b9a0109e-bdf5-4eb7-dbe2-f6dd3a0d41e4"
   },
   "outputs": [],
   "source": [
    "(1, 2, 3) == (1.0, 2.0, 3.0)"
   ]
  },
  {
   "cell_type": "code",
   "execution_count": null,
   "metadata": {
    "colab": {
     "base_uri": "https://localhost:8080/"
    },
    "executionInfo": {
     "elapsed": 41,
     "status": "ok",
     "timestamp": 1646285048343,
     "user": {
      "displayName": "Alexander Zuluaga Quintero",
      "photoUrl": "https://lh3.googleusercontent.com/a-/AOh14Gi5bptZVpT8uPV-rsu1k3GPYeG1CXzkWxwYtJ_160M=s64",
      "userId": "06106219622026670571"
     },
     "user_tz": 300
    },
    "id": "1aGemgy3OnaU",
    "outputId": "409a8f8c-8468-40a4-a0ab-c9b46d55ed4a"
   },
   "outputs": [],
   "source": [
    "(1, 2, ('aa', 'ab')) < (1, 2, ('abc', 'a'), 4)"
   ]
  },
  {
   "cell_type": "markdown",
   "metadata": {
    "id": "GKBSXvFpOnaU"
   },
   "source": [
    "# Impresión con formato"
   ]
  },
  {
   "cell_type": "markdown",
   "metadata": {
    "id": "XkgrtYD3OnaU"
   },
   "source": [
    "[Contenido](#Contenido)"
   ]
  },
  {
   "cell_type": "markdown",
   "metadata": {
    "id": "O6dMwYApOnaU"
   },
   "source": [
    "La función `repr()` produce la representación de un objeto en forma de string para su impresión. La función `str()` convierte un objeto a una cadena de caracteres."
   ]
  },
  {
   "cell_type": "code",
   "execution_count": null,
   "metadata": {
    "colab": {
     "base_uri": "https://localhost:8080/"
    },
    "executionInfo": {
     "elapsed": 41,
     "status": "ok",
     "timestamp": 1646285048344,
     "user": {
      "displayName": "Alexander Zuluaga Quintero",
      "photoUrl": "https://lh3.googleusercontent.com/a-/AOh14Gi5bptZVpT8uPV-rsu1k3GPYeG1CXzkWxwYtJ_160M=s64",
      "userId": "06106219622026670571"
     },
     "user_tz": 300
    },
    "id": "0as3rW2wOnaU",
    "outputId": "ef7a8a22-196b-4c21-bec4-9a65176dcf95"
   },
   "outputs": [],
   "source": [
    "s = 'Hola, mundo.'\n",
    "print(s) # note que aca lo imprime sin las comillas"
   ]
  },
  {
   "cell_type": "code",
   "execution_count": null,
   "metadata": {
    "colab": {
     "base_uri": "https://localhost:8080/",
     "height": 35
    },
    "executionInfo": {
     "elapsed": 40,
     "status": "ok",
     "timestamp": 1646285048344,
     "user": {
      "displayName": "Alexander Zuluaga Quintero",
      "photoUrl": "https://lh3.googleusercontent.com/a-/AOh14Gi5bptZVpT8uPV-rsu1k3GPYeG1CXzkWxwYtJ_160M=s64",
      "userId": "06106219622026670571"
     },
     "user_tz": 300
    },
    "id": "4q89NUY2OnaU",
    "outputId": "a69d00fd-a34c-44c6-b22b-43fb9863ef86"
   },
   "outputs": [],
   "source": [
    "str(s) # imprime las comillas"
   ]
  },
  {
   "cell_type": "code",
   "execution_count": null,
   "metadata": {
    "colab": {
     "base_uri": "https://localhost:8080/",
     "height": 35
    },
    "executionInfo": {
     "elapsed": 39,
     "status": "ok",
     "timestamp": 1646285048345,
     "user": {
      "displayName": "Alexander Zuluaga Quintero",
      "photoUrl": "https://lh3.googleusercontent.com/a-/AOh14Gi5bptZVpT8uPV-rsu1k3GPYeG1CXzkWxwYtJ_160M=s64",
      "userId": "06106219622026670571"
     },
     "user_tz": 300
    },
    "id": "9tW_2mDnOnaV",
    "outputId": "1f93caed-d937-4ee9-9a64-33f62c090673"
   },
   "outputs": [],
   "source": [
    "repr(s) # note las comillas dobles"
   ]
  },
  {
   "cell_type": "code",
   "execution_count": null,
   "metadata": {
    "colab": {
     "base_uri": "https://localhost:8080/"
    },
    "executionInfo": {
     "elapsed": 38,
     "status": "ok",
     "timestamp": 1646285048345,
     "user": {
      "displayName": "Alexander Zuluaga Quintero",
      "photoUrl": "https://lh3.googleusercontent.com/a-/AOh14Gi5bptZVpT8uPV-rsu1k3GPYeG1CXzkWxwYtJ_160M=s64",
      "userId": "06106219622026670571"
     },
     "user_tz": 300
    },
    "id": "KK55eK2qOnaV",
    "outputId": "42799b4b-438c-4a54-d80f-fd071ea40070"
   },
   "outputs": [],
   "source": [
    "print(repr(s))"
   ]
  },
  {
   "cell_type": "code",
   "execution_count": null,
   "metadata": {
    "colab": {
     "base_uri": "https://localhost:8080/",
     "height": 35
    },
    "executionInfo": {
     "elapsed": 38,
     "status": "ok",
     "timestamp": 1646285048346,
     "user": {
      "displayName": "Alexander Zuluaga Quintero",
      "photoUrl": "https://lh3.googleusercontent.com/a-/AOh14Gi5bptZVpT8uPV-rsu1k3GPYeG1CXzkWxwYtJ_160M=s64",
      "userId": "06106219622026670571"
     },
     "user_tz": 300
    },
    "id": "CiomJIjkOnaV",
    "outputId": "10b34eb4-3faf-4330-ca88-94b3db47155f"
   },
   "outputs": [],
   "source": [
    "a = 1  \n",
    "str(a)  # convierte al 1 de número a string."
   ]
  },
  {
   "cell_type": "code",
   "execution_count": null,
   "metadata": {
    "colab": {
     "base_uri": "https://localhost:8080/",
     "height": 35
    },
    "executionInfo": {
     "elapsed": 38,
     "status": "ok",
     "timestamp": 1646285048347,
     "user": {
      "displayName": "Alexander Zuluaga Quintero",
      "photoUrl": "https://lh3.googleusercontent.com/a-/AOh14Gi5bptZVpT8uPV-rsu1k3GPYeG1CXzkWxwYtJ_160M=s64",
      "userId": "06106219622026670571"
     },
     "user_tz": 300
    },
    "id": "IKlKNM6rOnaV",
    "outputId": "23930e5f-1da3-4565-b761-5ab1b2033b98"
   },
   "outputs": [],
   "source": [
    "str(1/7)"
   ]
  },
  {
   "cell_type": "markdown",
   "metadata": {
    "id": "mj9l8HPMOnaV"
   },
   "source": [
    "La función `repr()` es usualmente usada para impresión, tal como se ilustra en el siguiente ejemplo."
   ]
  },
  {
   "cell_type": "code",
   "execution_count": null,
   "metadata": {
    "colab": {
     "base_uri": "https://localhost:8080/"
    },
    "executionInfo": {
     "elapsed": 36,
     "status": "ok",
     "timestamp": 1646285048347,
     "user": {
      "displayName": "Alexander Zuluaga Quintero",
      "photoUrl": "https://lh3.googleusercontent.com/a-/AOh14Gi5bptZVpT8uPV-rsu1k3GPYeG1CXzkWxwYtJ_160M=s64",
      "userId": "06106219622026670571"
     },
     "user_tz": 300
    },
    "id": "lCdPXSlEOnaV",
    "outputId": "00499581-6509-46ca-82f2-02e5fcd0e16c"
   },
   "outputs": [],
   "source": [
    "x = 10 * 3.25\n",
    "y = 200 * 200\n",
    "s = 'El valor de \"x\" es ' + repr(x) + ', y el de \"y\" es ' + repr(y) + '...'\n",
    "print(s)"
   ]
  },
  {
   "cell_type": "code",
   "execution_count": null,
   "metadata": {
    "colab": {
     "base_uri": "https://localhost:8080/"
    },
    "executionInfo": {
     "elapsed": 36,
     "status": "ok",
     "timestamp": 1646285048348,
     "user": {
      "displayName": "Alexander Zuluaga Quintero",
      "photoUrl": "https://lh3.googleusercontent.com/a-/AOh14Gi5bptZVpT8uPV-rsu1k3GPYeG1CXzkWxwYtJ_160M=s64",
      "userId": "06106219622026670571"
     },
     "user_tz": 300
    },
    "id": "KoWN6zKWOnaW",
    "outputId": "0052dc8e-16b8-4da8-adb3-77855c717052"
   },
   "outputs": [],
   "source": [
    "hello = 'hola, mundo, feliz\\n' \n",
    "hellos = repr(hello) # agrega comillas\n",
    "print(hellos)"
   ]
  },
  {
   "cell_type": "code",
   "execution_count": null,
   "metadata": {
    "colab": {
     "base_uri": "https://localhost:8080/"
    },
    "executionInfo": {
     "elapsed": 35,
     "status": "ok",
     "timestamp": 1646285048348,
     "user": {
      "displayName": "Alexander Zuluaga Quintero",
      "photoUrl": "https://lh3.googleusercontent.com/a-/AOh14Gi5bptZVpT8uPV-rsu1k3GPYeG1CXzkWxwYtJ_160M=s64",
      "userId": "06106219622026670571"
     },
     "user_tz": 300
    },
    "id": "Rwj9gosvOnaW",
    "outputId": "2602cfd0-85ee-4d32-a960-db1893dca4f1"
   },
   "outputs": [],
   "source": [
    "hello = 'hola, mundo, feliz\\\\n' \n",
    "print(hello)"
   ]
  },
  {
   "cell_type": "code",
   "execution_count": null,
   "metadata": {
    "colab": {
     "base_uri": "https://localhost:8080/",
     "height": 35
    },
    "executionInfo": {
     "elapsed": 35,
     "status": "ok",
     "timestamp": 1646285048349,
     "user": {
      "displayName": "Alexander Zuluaga Quintero",
      "photoUrl": "https://lh3.googleusercontent.com/a-/AOh14Gi5bptZVpT8uPV-rsu1k3GPYeG1CXzkWxwYtJ_160M=s64",
      "userId": "06106219622026670571"
     },
     "user_tz": 300
    },
    "id": "x2DcPMkSOnaW",
    "outputId": "20b0cd69-2224-436e-cba2-cde023f1873c"
   },
   "outputs": [],
   "source": [
    "repr((x, y, ('a', 'b')))  # la función `repr()` recibe cualquier objeto de Python"
   ]
  },
  {
   "cell_type": "code",
   "execution_count": null,
   "metadata": {
    "colab": {
     "base_uri": "https://localhost:8080/"
    },
    "executionInfo": {
     "elapsed": 34,
     "status": "ok",
     "timestamp": 1646285048349,
     "user": {
      "displayName": "Alexander Zuluaga Quintero",
      "photoUrl": "https://lh3.googleusercontent.com/a-/AOh14Gi5bptZVpT8uPV-rsu1k3GPYeG1CXzkWxwYtJ_160M=s64",
      "userId": "06106219622026670571"
     },
     "user_tz": 300
    },
    "id": "-nfkXDQAOnaW",
    "outputId": "e9cd68e5-d993-4e45-9f16-63f053a64284"
   },
   "outputs": [],
   "source": [
    "for x in range(1, 11):\n",
    "    print(repr(x).rjust(2), repr(x*x).rjust(3), end=' ') # imprime las dos primeras columnas\n",
    "    print(repr(x*x*x).rjust(4))                          # imprime la tercera columna"
   ]
  },
  {
   "cell_type": "code",
   "execution_count": null,
   "metadata": {
    "colab": {
     "base_uri": "https://localhost:8080/"
    },
    "executionInfo": {
     "elapsed": 34,
     "status": "ok",
     "timestamp": 1646285048350,
     "user": {
      "displayName": "Alexander Zuluaga Quintero",
      "photoUrl": "https://lh3.googleusercontent.com/a-/AOh14Gi5bptZVpT8uPV-rsu1k3GPYeG1CXzkWxwYtJ_160M=s64",
      "userId": "06106219622026670571"
     },
     "user_tz": 300
    },
    "id": "FCEZkawBOnaW",
    "outputId": "b9776748-e465-464d-9eee-eee96fd14535"
   },
   "outputs": [],
   "source": [
    "# forma alternativa\n",
    "for x in range(1, 11): \n",
    "    print('{0:2d} {1:3d} {2:4d}'.format(x, x*x, x*x*x))"
   ]
  },
  {
   "cell_type": "markdown",
   "metadata": {
    "id": "J_9x5LfnOnaW"
   },
   "source": [
    "La función `zfill()` permite rellenar un número con ceros a la izquierda."
   ]
  },
  {
   "cell_type": "code",
   "execution_count": null,
   "metadata": {
    "colab": {
     "base_uri": "https://localhost:8080/",
     "height": 35
    },
    "executionInfo": {
     "elapsed": 34,
     "status": "ok",
     "timestamp": 1646285048350,
     "user": {
      "displayName": "Alexander Zuluaga Quintero",
      "photoUrl": "https://lh3.googleusercontent.com/a-/AOh14Gi5bptZVpT8uPV-rsu1k3GPYeG1CXzkWxwYtJ_160M=s64",
      "userId": "06106219622026670571"
     },
     "user_tz": 300
    },
    "id": "w9LxiId1OnaW",
    "outputId": "af6a3353-72f6-4822-9054-0a103648a5cd"
   },
   "outputs": [],
   "source": [
    "'12'.zfill(5)  # el número debe tener 5 caracteres de longitud en total"
   ]
  },
  {
   "cell_type": "code",
   "execution_count": null,
   "metadata": {
    "colab": {
     "base_uri": "https://localhost:8080/",
     "height": 35
    },
    "executionInfo": {
     "elapsed": 34,
     "status": "ok",
     "timestamp": 1646285048351,
     "user": {
      "displayName": "Alexander Zuluaga Quintero",
      "photoUrl": "https://lh3.googleusercontent.com/a-/AOh14Gi5bptZVpT8uPV-rsu1k3GPYeG1CXzkWxwYtJ_160M=s64",
      "userId": "06106219622026670571"
     },
     "user_tz": 300
    },
    "id": "U0wbg71tOnaX",
    "outputId": "aa789da2-e9b2-4f7d-ac02-b44815b8c73e"
   },
   "outputs": [],
   "source": [
    "'-3.14'.zfill(7) # el número debe tener 7 caracteres de longitud en total, teniendo en cuenta el signo - "
   ]
  },
  {
   "cell_type": "code",
   "execution_count": null,
   "metadata": {
    "colab": {
     "base_uri": "https://localhost:8080/",
     "height": 35
    },
    "executionInfo": {
     "elapsed": 34,
     "status": "ok",
     "timestamp": 1646285048352,
     "user": {
      "displayName": "Alexander Zuluaga Quintero",
      "photoUrl": "https://lh3.googleusercontent.com/a-/AOh14Gi5bptZVpT8uPV-rsu1k3GPYeG1CXzkWxwYtJ_160M=s64",
      "userId": "06106219622026670571"
     },
     "user_tz": 300
    },
    "id": "2qobBC90OnaX",
    "outputId": "8d69369d-3704-4681-e1d2-275b819d9bfb"
   },
   "outputs": [],
   "source": [
    "'3.14159265359'.zfill(5) # si la cadena ya excede la longitud, zfill() no la recorta."
   ]
  },
  {
   "cell_type": "markdown",
   "metadata": {
    "id": "pyyj_NAhOnaX"
   },
   "source": [
    "La función `print()` admite argumentos para la impresión. En su forma más simple, los argumentos son impresos en orden y su lugar se indica mediante los caracteres `{}`."
   ]
  },
  {
   "cell_type": "code",
   "execution_count": null,
   "metadata": {
    "colab": {
     "base_uri": "https://localhost:8080/"
    },
    "executionInfo": {
     "elapsed": 33,
     "status": "ok",
     "timestamp": 1646285048352,
     "user": {
      "displayName": "Alexander Zuluaga Quintero",
      "photoUrl": "https://lh3.googleusercontent.com/a-/AOh14Gi5bptZVpT8uPV-rsu1k3GPYeG1CXzkWxwYtJ_160M=s64",
      "userId": "06106219622026670571"
     },
     "user_tz": 300
    },
    "id": "eDA3arDBOnaX",
    "outputId": "1a6c8d02-9ef4-425e-a94c-6c66f5778bef"
   },
   "outputs": [],
   "source": [
    "print('Este es el argumento {} y este el \"{}\"'.format('-1-', '-2-'))"
   ]
  },
  {
   "cell_type": "markdown",
   "metadata": {
    "id": "Yhr0l93mOnaX"
   },
   "source": [
    "En los ejemplos anteriores, los argumentos se imprimen por posición: el primer argumento de format se imprime en el primer `{}` y asi sucesivamente. Python permite numerar o dar nombre a los argumentos para su impresión."
   ]
  },
  {
   "cell_type": "code",
   "execution_count": null,
   "metadata": {
    "colab": {
     "base_uri": "https://localhost:8080/"
    },
    "executionInfo": {
     "elapsed": 33,
     "status": "ok",
     "timestamp": 1646285048353,
     "user": {
      "displayName": "Alexander Zuluaga Quintero",
      "photoUrl": "https://lh3.googleusercontent.com/a-/AOh14Gi5bptZVpT8uPV-rsu1k3GPYeG1CXzkWxwYtJ_160M=s64",
      "userId": "06106219622026670571"
     },
     "user_tz": 300
    },
    "id": "1QG2KycOOnaX",
    "outputId": "de9e72e1-153e-453e-f42e-8c4b781d5d16"
   },
   "outputs": [],
   "source": [
    "print('{0} y {1}'.format('-0-', '-1-'))  # {0} es '-0-'  y {1} es '-1-'"
   ]
  },
  {
   "cell_type": "code",
   "execution_count": null,
   "metadata": {
    "colab": {
     "base_uri": "https://localhost:8080/"
    },
    "executionInfo": {
     "elapsed": 32,
     "status": "ok",
     "timestamp": 1646285048353,
     "user": {
      "displayName": "Alexander Zuluaga Quintero",
      "photoUrl": "https://lh3.googleusercontent.com/a-/AOh14Gi5bptZVpT8uPV-rsu1k3GPYeG1CXzkWxwYtJ_160M=s64",
      "userId": "06106219622026670571"
     },
     "user_tz": 300
    },
    "id": "ag8vgLPwOnaX",
    "outputId": "ac2df836-6f3a-4f7d-bbc3-f75e2a95520d"
   },
   "outputs": [],
   "source": [
    "print('{1} y {0}'.format('-0-', '-1-')) # {0} es '-0-'  y {1} es '-1-'"
   ]
  },
  {
   "cell_type": "code",
   "execution_count": null,
   "metadata": {
    "colab": {
     "base_uri": "https://localhost:8080/"
    },
    "executionInfo": {
     "elapsed": 32,
     "status": "ok",
     "timestamp": 1646285048354,
     "user": {
      "displayName": "Alexander Zuluaga Quintero",
      "photoUrl": "https://lh3.googleusercontent.com/a-/AOh14Gi5bptZVpT8uPV-rsu1k3GPYeG1CXzkWxwYtJ_160M=s64",
      "userId": "06106219622026670571"
     },
     "user_tz": 300
    },
    "id": "v_kavD04OnaX",
    "outputId": "40033a84-3ba5-43ee-e4cb-93237ac0248a"
   },
   "outputs": [],
   "source": [
    "print('{arg0} y {arg1}.'.format(arg1='-1-', arg0='-0-')) # se da nombre a los argumentos "
   ]
  },
  {
   "cell_type": "code",
   "execution_count": null,
   "metadata": {
    "colab": {
     "base_uri": "https://localhost:8080/"
    },
    "executionInfo": {
     "elapsed": 32,
     "status": "ok",
     "timestamp": 1646285048354,
     "user": {
      "displayName": "Alexander Zuluaga Quintero",
      "photoUrl": "https://lh3.googleusercontent.com/a-/AOh14Gi5bptZVpT8uPV-rsu1k3GPYeG1CXzkWxwYtJ_160M=s64",
      "userId": "06106219622026670571"
     },
     "user_tz": 300
    },
    "id": "Kwlx3jwPOnaY",
    "outputId": "734088d8-1228-4c18-d256-3380224d307a"
   },
   "outputs": [],
   "source": [
    "print('{0}, {1}, y {a}.'.format('-0-', '-1-', a='-2-'))"
   ]
  },
  {
   "cell_type": "code",
   "execution_count": null,
   "metadata": {
    "colab": {
     "base_uri": "https://localhost:8080/"
    },
    "executionInfo": {
     "elapsed": 32,
     "status": "ok",
     "timestamp": 1646285048355,
     "user": {
      "displayName": "Alexander Zuluaga Quintero",
      "photoUrl": "https://lh3.googleusercontent.com/a-/AOh14Gi5bptZVpT8uPV-rsu1k3GPYeG1CXzkWxwYtJ_160M=s64",
      "userId": "06106219622026670571"
     },
     "user_tz": 300
    },
    "id": "uepJ4wzkOnaY",
    "outputId": "ec1a8662-7692-4084-a720-21130c633b00"
   },
   "outputs": [],
   "source": [
    "x = '-0-'\n",
    "print('Este es el argumento {}.'.format(x))"
   ]
  },
  {
   "cell_type": "code",
   "execution_count": null,
   "metadata": {
    "colab": {
     "base_uri": "https://localhost:8080/"
    },
    "executionInfo": {
     "elapsed": 31,
     "status": "ok",
     "timestamp": 1646285048355,
     "user": {
      "displayName": "Alexander Zuluaga Quintero",
      "photoUrl": "https://lh3.googleusercontent.com/a-/AOh14Gi5bptZVpT8uPV-rsu1k3GPYeG1CXzkWxwYtJ_160M=s64",
      "userId": "06106219622026670571"
     },
     "user_tz": 300
    },
    "id": "s94kzMpKOnaY",
    "outputId": "30724257-2edb-4cf0-a364-8c62679015fd"
   },
   "outputs": [],
   "source": [
    "print('Este es el argumento {!r}.'.format(x)) # aca agrega comillas alrededor de x"
   ]
  },
  {
   "cell_type": "markdown",
   "metadata": {
    "id": "fAkwbxHbOnaY"
   },
   "source": [
    "El formato `{0:.3f}`indica lo siguiente: `0` es el número del argumento; `.3f` indica un número en punto flotante (un real) con tres decimales después del punto."
   ]
  },
  {
   "cell_type": "code",
   "execution_count": null,
   "metadata": {
    "colab": {
     "base_uri": "https://localhost:8080/"
    },
    "executionInfo": {
     "elapsed": 31,
     "status": "ok",
     "timestamp": 1646285048355,
     "user": {
      "displayName": "Alexander Zuluaga Quintero",
      "photoUrl": "https://lh3.googleusercontent.com/a-/AOh14Gi5bptZVpT8uPV-rsu1k3GPYeG1CXzkWxwYtJ_160M=s64",
      "userId": "06106219622026670571"
     },
     "user_tz": 300
    },
    "id": "cy5RLEGcOnaY",
    "outputId": "f6974ac5-6464-432b-b8cb-b1c2665f7e89"
   },
   "outputs": [],
   "source": [
    "import math\n",
    "print('Valor de PI con tres decimales: {0:.3f}.'.format(math.pi))"
   ]
  },
  {
   "cell_type": "code",
   "execution_count": null,
   "metadata": {
    "colab": {
     "base_uri": "https://localhost:8080/"
    },
    "executionInfo": {
     "elapsed": 31,
     "status": "ok",
     "timestamp": 1646285048356,
     "user": {
      "displayName": "Alexander Zuluaga Quintero",
      "photoUrl": "https://lh3.googleusercontent.com/a-/AOh14Gi5bptZVpT8uPV-rsu1k3GPYeG1CXzkWxwYtJ_160M=s64",
      "userId": "06106219622026670571"
     },
     "user_tz": 300
    },
    "id": "nh7ZeFhfOnaY",
    "outputId": "1d11e618-8d5f-40e7-9621-966549da9abe"
   },
   "outputs": [],
   "source": [
    "print('{} ---- {}'.format('hola mundo', 1.23456789))"
   ]
  },
  {
   "cell_type": "code",
   "execution_count": null,
   "metadata": {
    "colab": {
     "base_uri": "https://localhost:8080/"
    },
    "executionInfo": {
     "elapsed": 11,
     "status": "ok",
     "timestamp": 1646285048634,
     "user": {
      "displayName": "Alexander Zuluaga Quintero",
      "photoUrl": "https://lh3.googleusercontent.com/a-/AOh14Gi5bptZVpT8uPV-rsu1k3GPYeG1CXzkWxwYtJ_160M=s64",
      "userId": "06106219622026670571"
     },
     "user_tz": 300
    },
    "id": "tsrcQXqDOnaY",
    "outputId": "9bc9b8fb-387a-458c-c4bb-a2242652e40e"
   },
   "outputs": [],
   "source": [
    "print('{0:15s} ---- {1:8.2f}'.format('hola mundo', 1.23456789))"
   ]
  },
  {
   "cell_type": "code",
   "execution_count": null,
   "metadata": {
    "colab": {
     "base_uri": "https://localhost:8080/"
    },
    "executionInfo": {
     "elapsed": 11,
     "status": "ok",
     "timestamp": 1646285048635,
     "user": {
      "displayName": "Alexander Zuluaga Quintero",
      "photoUrl": "https://lh3.googleusercontent.com/a-/AOh14Gi5bptZVpT8uPV-rsu1k3GPYeG1CXzkWxwYtJ_160M=s64",
      "userId": "06106219622026670571"
     },
     "user_tz": 300
    },
    "id": "9v7ktCnkOnaZ",
    "outputId": "4da4425c-7232-44a5-aaae-35ae4c3c2c96"
   },
   "outputs": [],
   "source": [
    "print('{0:>15s} ---- {1:8.2f}'.format('hola mundo', 1.23456789))"
   ]
  },
  {
   "cell_type": "markdown",
   "metadata": {
    "id": "JbBpA5VQOnaZ"
   },
   "source": [
    "En el siguiente ejemplo se ilustra la ipmpresión de un diccionario. El formato `{0:10}` indica que el argumento `0` tiene diez caracteres de longitud; la cadena de caracteres se alinea por la izquierda. El formato `{1:10d}` señala que el argumento 1 es entero ('d') y tiene diez caracteres de longitud; se hace la alineación por la derecha. "
   ]
  },
  {
   "cell_type": "code",
   "execution_count": null,
   "metadata": {
    "colab": {
     "base_uri": "https://localhost:8080/"
    },
    "executionInfo": {
     "elapsed": 10,
     "status": "ok",
     "timestamp": 1646285048635,
     "user": {
      "displayName": "Alexander Zuluaga Quintero",
      "photoUrl": "https://lh3.googleusercontent.com/a-/AOh14Gi5bptZVpT8uPV-rsu1k3GPYeG1CXzkWxwYtJ_160M=s64",
      "userId": "06106219622026670571"
     },
     "user_tz": 300
    },
    "id": "8fjzWXvCOnaZ",
    "outputId": "1b6c77a5-2db2-4958-da59-56676e585629"
   },
   "outputs": [],
   "source": [
    "z = {'a': 100, 'b': 101, 'c': 102}\n",
    "for x, y in z.items():\n",
    "    print('{0:10} ---> {1:10d}'.format(x, y))"
   ]
  },
  {
   "cell_type": "code",
   "execution_count": null,
   "metadata": {
    "colab": {
     "base_uri": "https://localhost:8080/"
    },
    "executionInfo": {
     "elapsed": 9,
     "status": "ok",
     "timestamp": 1646285048635,
     "user": {
      "displayName": "Alexander Zuluaga Quintero",
      "photoUrl": "https://lh3.googleusercontent.com/a-/AOh14Gi5bptZVpT8uPV-rsu1k3GPYeG1CXzkWxwYtJ_160M=s64",
      "userId": "06106219622026670571"
     },
     "user_tz": 300
    },
    "id": "EHrEwYk-OnaZ",
    "outputId": "52150232-ed63-4ce8-e8a1-0ea7f9aec603"
   },
   "outputs": [],
   "source": [
    "# este ejemplo muestra como imprimir un diccionario.\n",
    "z = {'a': 100, 'b': 101, 'c': 102}\n",
    "print('a: {0[a]:d}; '\n",
    "      'b: {0[b]:d}; '\n",
    "      'c: {0[c]:d}'.format(z))"
   ]
  },
  {
   "cell_type": "code",
   "execution_count": null,
   "metadata": {
    "colab": {
     "base_uri": "https://localhost:8080/"
    },
    "executionInfo": {
     "elapsed": 9,
     "status": "ok",
     "timestamp": 1646285048636,
     "user": {
      "displayName": "Alexander Zuluaga Quintero",
      "photoUrl": "https://lh3.googleusercontent.com/a-/AOh14Gi5bptZVpT8uPV-rsu1k3GPYeG1CXzkWxwYtJ_160M=s64",
      "userId": "06106219622026670571"
     },
     "user_tz": 300
    },
    "id": "TG_nQLi3OnaZ",
    "outputId": "42739cf8-fe6b-40c2-ef7e-dbd61888702f"
   },
   "outputs": [],
   "source": [
    "# otra forma de imprimir un diccionario.\n",
    "z = {'a': 100, 'b': 101, 'c': 102}\n",
    "print('a: {a:d}; b: {b:d}; c: {c:d}'.format(**z))"
   ]
  },
  {
   "cell_type": "code",
   "execution_count": null,
   "metadata": {
    "colab": {
     "base_uri": "https://localhost:8080/"
    },
    "executionInfo": {
     "elapsed": 8,
     "status": "ok",
     "timestamp": 1646285048636,
     "user": {
      "displayName": "Alexander Zuluaga Quintero",
      "photoUrl": "https://lh3.googleusercontent.com/a-/AOh14Gi5bptZVpT8uPV-rsu1k3GPYeG1CXzkWxwYtJ_160M=s64",
      "userId": "06106219622026670571"
     },
     "user_tz": 300
    },
    "id": "JaRYMYeMOnaZ",
    "outputId": "f69fc64f-b514-4630-98bd-4113621f0da3"
   },
   "outputs": [],
   "source": [
    "h = 'hola mundo'\n",
    "n = 1.23456789\n",
    "print(f'{h} ---- {n}')"
   ]
  },
  {
   "cell_type": "markdown",
   "metadata": {
    "id": "eL3-aBEzOnaZ"
   },
   "source": [
    "Por compatibilidad con versiones anteriores, Python conserva la impresión usando el operador `%`. En el siguiente ejemplo, la especificación `%5.3f` indica que se imprimirá un número real de cinco caracteres de longitud y tres posiciones decimales."
   ]
  },
  {
   "cell_type": "code",
   "execution_count": null,
   "metadata": {
    "colab": {
     "base_uri": "https://localhost:8080/"
    },
    "executionInfo": {
     "elapsed": 8,
     "status": "ok",
     "timestamp": 1646285048636,
     "user": {
      "displayName": "Alexander Zuluaga Quintero",
      "photoUrl": "https://lh3.googleusercontent.com/a-/AOh14Gi5bptZVpT8uPV-rsu1k3GPYeG1CXzkWxwYtJ_160M=s64",
      "userId": "06106219622026670571"
     },
     "user_tz": 300
    },
    "id": "MpMHq3MyOnaa",
    "outputId": "4242a667-0760-49d6-dadb-5dacc2961934"
   },
   "outputs": [],
   "source": [
    "import math\n",
    "print('--> %5.3f <--' % math.pi)"
   ]
  },
  {
   "cell_type": "markdown",
   "metadata": {
    "id": "ZFYiTMYhOnaa"
   },
   "source": [
    "[Contenido](#Contenido)"
   ]
  }
 ],
 "metadata": {
  "colab": {
   "collapsed_sections": [
    "RWo6uBNbOnZy",
    "lNvQmfC3OnZz",
    "I6zhlDPDOnZ0",
    "TAImdKKjOnZ1"
   ],
   "name": "03-fundamentos-programacion.ipynb",
   "provenance": []
  },
  "kernelspec": {
   "display_name": "Python 3 (ipykernel)",
   "language": "python",
   "name": "python3"
  },
  "language_info": {
   "codemirror_mode": {
    "name": "ipython",
    "version": 3
   },
   "file_extension": ".py",
   "mimetype": "text/x-python",
   "name": "python",
   "nbconvert_exporter": "python",
   "pygments_lexer": "ipython3",
   "version": "3.8.12"
  }
 },
 "nbformat": 4,
 "nbformat_minor": 1
}
