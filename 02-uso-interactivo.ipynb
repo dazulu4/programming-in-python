{
 "cells": [
  {
   "cell_type": "markdown",
   "metadata": {
    "id": "DJ1djge3NiBV"
   },
   "source": [
    "Uso interactivo\n",
    "==="
   ]
  },
  {
   "cell_type": "markdown",
   "metadata": {
    "id": "0BONgGsyNiBa"
   },
   "source": [
    "#### Contenido"
   ]
  },
  {
   "cell_type": "markdown",
   "metadata": {
    "id": "l9n5A8JSNiBb"
   },
   "source": [
    "> * [Uso interactivo](#Uso-interactivo)\n",
    "    * [Cálculos numéricos](#Cálculos-numéricos)\n",
    "    * [Funciones de usuario](#Funciones-de-usuario)\n",
    "    * [Funciones matemáticas](#Funciones-matemáticas)\n",
    "    * [Cadenas de caracteres (strings)](#Cadenas-de-caracteres)\n",
    "    * [Listas](#Listas)"
   ]
  },
  {
   "cell_type": "markdown",
   "metadata": {
    "id": "7E_emrIaNiBc"
   },
   "source": [
    "# Cálculos numéricos"
   ]
  },
  {
   "cell_type": "markdown",
   "metadata": {
    "id": "utSZlkGJNiBc"
   },
   "source": [
    "[Contenido](#Contenido)"
   ]
  },
  {
   "cell_type": "markdown",
   "metadata": {
    "id": "e85OPr4eNiBd"
   },
   "source": [
    "IPython puede ser usado de forma interactiva como una calculadora. Esto permite que el análisis de datos pueda ser realizado de forma interactiva, de forma similar a como pueden usarse otras herramientas como el lenguaje R o Matlab. A continuación se ejemplifican los cálculos aritméticos básicos."
   ]
  },
  {
   "cell_type": "code",
   "execution_count": null,
   "metadata": {
    "colab": {
     "base_uri": "https://localhost:8080/"
    },
    "executionInfo": {
     "elapsed": 53,
     "status": "ok",
     "timestamp": 1646284699398,
     "user": {
      "displayName": "Alexander Zuluaga Quintero",
      "photoUrl": "https://lh3.googleusercontent.com/a-/AOh14Gi5bptZVpT8uPV-rsu1k3GPYeG1CXzkWxwYtJ_160M=s64",
      "userId": "06106219622026670571"
     },
     "user_tz": 300
    },
    "id": "oMA0dr8vNiBd",
    "outputId": "30ee2001-25d7-43a2-ad22-cf98c50beb65"
   },
   "outputs": [],
   "source": [
    "2 + 2 + 1"
   ]
  },
  {
   "cell_type": "code",
   "execution_count": null,
   "metadata": {
    "colab": {
     "base_uri": "https://localhost:8080/"
    },
    "executionInfo": {
     "elapsed": 50,
     "status": "ok",
     "timestamp": 1646284699400,
     "user": {
      "displayName": "Alexander Zuluaga Quintero",
      "photoUrl": "https://lh3.googleusercontent.com/a-/AOh14Gi5bptZVpT8uPV-rsu1k3GPYeG1CXzkWxwYtJ_160M=s64",
      "userId": "06106219622026670571"
     },
     "user_tz": 300
    },
    "id": "jt_hNnHiNiBg",
    "outputId": "cac82013-ccbd-430b-cce9-a6f3c4344b5d"
   },
   "outputs": [],
   "source": [
    "50 - 5 * 6 + 8"
   ]
  },
  {
   "cell_type": "code",
   "execution_count": null,
   "metadata": {
    "colab": {
     "base_uri": "https://localhost:8080/"
    },
    "executionInfo": {
     "elapsed": 48,
     "status": "ok",
     "timestamp": 1646284699400,
     "user": {
      "displayName": "Alexander Zuluaga Quintero",
      "photoUrl": "https://lh3.googleusercontent.com/a-/AOh14Gi5bptZVpT8uPV-rsu1k3GPYeG1CXzkWxwYtJ_160M=s64",
      "userId": "06106219622026670571"
     },
     "user_tz": 300
    },
    "id": "5pu5fQZyNiBg",
    "outputId": "c7bc1c1a-8bbe-4900-eebc-91cc4ecb04df"
   },
   "outputs": [],
   "source": [
    "(50 - 5 * 6) / 4"
   ]
  },
  {
   "cell_type": "code",
   "execution_count": null,
   "metadata": {
    "colab": {
     "base_uri": "https://localhost:8080/"
    },
    "executionInfo": {
     "elapsed": 48,
     "status": "ok",
     "timestamp": 1646284699401,
     "user": {
      "displayName": "Alexander Zuluaga Quintero",
      "photoUrl": "https://lh3.googleusercontent.com/a-/AOh14Gi5bptZVpT8uPV-rsu1k3GPYeG1CXzkWxwYtJ_160M=s64",
      "userId": "06106219622026670571"
     },
     "user_tz": 300
    },
    "id": "ahmEZtUVNiBh",
    "outputId": "b8bde0d6-d73a-44fb-9c9e-b330af4aa122"
   },
   "outputs": [],
   "source": [
    "0"
   ]
  },
  {
   "cell_type": "code",
   "execution_count": null,
   "metadata": {
    "colab": {
     "base_uri": "https://localhost:8080/"
    },
    "executionInfo": {
     "elapsed": 46,
     "status": "ok",
     "timestamp": 1646284699401,
     "user": {
      "displayName": "Alexander Zuluaga Quintero",
      "photoUrl": "https://lh3.googleusercontent.com/a-/AOh14Gi5bptZVpT8uPV-rsu1k3GPYeG1CXzkWxwYtJ_160M=s64",
      "userId": "06106219622026670571"
     },
     "user_tz": 300
    },
    "id": "jOzRatfcNiBi",
    "outputId": "2ac2f127-f1ae-403c-860f-3ccfb7cf2636"
   },
   "outputs": [],
   "source": [
    "8 / 5  # resultado real"
   ]
  },
  {
   "cell_type": "code",
   "execution_count": null,
   "metadata": {
    "colab": {
     "base_uri": "https://localhost:8080/"
    },
    "executionInfo": {
     "elapsed": 46,
     "status": "ok",
     "timestamp": 1646284699402,
     "user": {
      "displayName": "Alexander Zuluaga Quintero",
      "photoUrl": "https://lh3.googleusercontent.com/a-/AOh14Gi5bptZVpT8uPV-rsu1k3GPYeG1CXzkWxwYtJ_160M=s64",
      "userId": "06106219622026670571"
     },
     "user_tz": 300
    },
    "id": "fr4E0Fu8NiBi",
    "outputId": "87405485-0386-48b9-854b-c7e0cb344fdd"
   },
   "outputs": [],
   "source": [
    "8 // 5 # parte entera de la division"
   ]
  },
  {
   "cell_type": "code",
   "execution_count": null,
   "metadata": {
    "colab": {
     "base_uri": "https://localhost:8080/"
    },
    "executionInfo": {
     "elapsed": 45,
     "status": "ok",
     "timestamp": 1646284699403,
     "user": {
      "displayName": "Alexander Zuluaga Quintero",
      "photoUrl": "https://lh3.googleusercontent.com/a-/AOh14Gi5bptZVpT8uPV-rsu1k3GPYeG1CXzkWxwYtJ_160M=s64",
      "userId": "06106219622026670571"
     },
     "user_tz": 300
    },
    "id": "Y-7QstLXNiBj",
    "outputId": "c48fb609-ceca-43d9-b616-495afc4c131d"
   },
   "outputs": [],
   "source": [
    "8 % 5  # residuo de la división"
   ]
  },
  {
   "cell_type": "code",
   "execution_count": null,
   "metadata": {
    "colab": {
     "base_uri": "https://localhost:8080/"
    },
    "executionInfo": {
     "elapsed": 43,
     "status": "ok",
     "timestamp": 1646284699403,
     "user": {
      "displayName": "Alexander Zuluaga Quintero",
      "photoUrl": "https://lh3.googleusercontent.com/a-/AOh14Gi5bptZVpT8uPV-rsu1k3GPYeG1CXzkWxwYtJ_160M=s64",
      "userId": "06106219622026670571"
     },
     "user_tz": 300
    },
    "id": "z7U-YarTNiBj",
    "outputId": "7aecd5ff-47f8-464f-8e3a-72e30bc4bfe5"
   },
   "outputs": [],
   "source": [
    "5 ** 2 # potencia"
   ]
  },
  {
   "cell_type": "markdown",
   "metadata": {
    "id": "eOmlhwa1NiBj"
   },
   "source": [
    "También se pueden declarar y usar variables en la ejecución interactiva."
   ]
  },
  {
   "cell_type": "code",
   "execution_count": null,
   "metadata": {
    "colab": {
     "base_uri": "https://localhost:8080/"
    },
    "executionInfo": {
     "elapsed": 42,
     "status": "ok",
     "timestamp": 1646284699404,
     "user": {
      "displayName": "Alexander Zuluaga Quintero",
      "photoUrl": "https://lh3.googleusercontent.com/a-/AOh14Gi5bptZVpT8uPV-rsu1k3GPYeG1CXzkWxwYtJ_160M=s64",
      "userId": "06106219622026670571"
     },
     "user_tz": 300
    },
    "id": "Nu47al8vNiBk",
    "outputId": "57e015cc-d848-4828-d1b4-d1e4e7b7ff3c"
   },
   "outputs": [],
   "source": [
    "x = 20\n",
    "y = 5 * 9\n",
    "x * y"
   ]
  },
  {
   "cell_type": "code",
   "execution_count": null,
   "metadata": {
    "colab": {
     "base_uri": "https://localhost:8080/"
    },
    "executionInfo": {
     "elapsed": 41,
     "status": "ok",
     "timestamp": 1646284699405,
     "user": {
      "displayName": "Alexander Zuluaga Quintero",
      "photoUrl": "https://lh3.googleusercontent.com/a-/AOh14Gi5bptZVpT8uPV-rsu1k3GPYeG1CXzkWxwYtJ_160M=s64",
      "userId": "06106219622026670571"
     },
     "user_tz": 300
    },
    "id": "lRIWf77NNiBk",
    "outputId": "6145c62b-cf20-4893-cd3f-3f4663ff2a5b"
   },
   "outputs": [],
   "source": [
    "a = 12.5 / 100\n",
    "b = 100.50\n",
    "a * b"
   ]
  },
  {
   "cell_type": "markdown",
   "metadata": {
    "id": "rO1kx1aPNiBl"
   },
   "source": [
    "Un caracter de subrayado `_` se usa para indicar el resultado del calculo anterior. Dos caracteres `__` indican el penúltimo resultado; tres caracteres `_` indican el antepenúltimo resultado. Igualmente, se puede usan `In[1]` para obtener el contenido de la primera celda, `In[2]` para la segunda y así sucesivamente. De igual forma, los resultados pueden obtenerse como `Out[1]`, `Out[2]`, etc.  "
   ]
  },
  {
   "cell_type": "code",
   "execution_count": null,
   "metadata": {
    "colab": {
     "base_uri": "https://localhost:8080/"
    },
    "executionInfo": {
     "elapsed": 39,
     "status": "ok",
     "timestamp": 1646284699405,
     "user": {
      "displayName": "Alexander Zuluaga Quintero",
      "photoUrl": "https://lh3.googleusercontent.com/a-/AOh14Gi5bptZVpT8uPV-rsu1k3GPYeG1CXzkWxwYtJ_160M=s64",
      "userId": "06106219622026670571"
     },
     "user_tz": 300
    },
    "id": "7eqi4_xfNiBl",
    "outputId": "8db2bc94-b3c0-4af4-caa5-54416d746752"
   },
   "outputs": [],
   "source": [
    "1.1"
   ]
  },
  {
   "cell_type": "code",
   "execution_count": null,
   "metadata": {
    "colab": {
     "base_uri": "https://localhost:8080/"
    },
    "executionInfo": {
     "elapsed": 38,
     "status": "ok",
     "timestamp": 1646284699406,
     "user": {
      "displayName": "Alexander Zuluaga Quintero",
      "photoUrl": "https://lh3.googleusercontent.com/a-/AOh14Gi5bptZVpT8uPV-rsu1k3GPYeG1CXzkWxwYtJ_160M=s64",
      "userId": "06106219622026670571"
     },
     "user_tz": 300
    },
    "id": "19FBBAYPNiBl",
    "outputId": "b16f08fe-a0d7-47d9-c50a-72378ad3e923"
   },
   "outputs": [],
   "source": [
    "1.1 + _"
   ]
  },
  {
   "cell_type": "code",
   "execution_count": null,
   "metadata": {
    "colab": {
     "base_uri": "https://localhost:8080/"
    },
    "executionInfo": {
     "elapsed": 36,
     "status": "ok",
     "timestamp": 1646284699406,
     "user": {
      "displayName": "Alexander Zuluaga Quintero",
      "photoUrl": "https://lh3.googleusercontent.com/a-/AOh14Gi5bptZVpT8uPV-rsu1k3GPYeG1CXzkWxwYtJ_160M=s64",
      "userId": "06106219622026670571"
     },
     "user_tz": 300
    },
    "id": "qwWLTqc7NiBm",
    "outputId": "b2e1269f-46be-4da1-8612-74f7650b25ba"
   },
   "outputs": [],
   "source": [
    "1.1 + _"
   ]
  },
  {
   "cell_type": "code",
   "execution_count": null,
   "metadata": {
    "colab": {
     "base_uri": "https://localhost:8080/"
    },
    "executionInfo": {
     "elapsed": 36,
     "status": "ok",
     "timestamp": 1646284699407,
     "user": {
      "displayName": "Alexander Zuluaga Quintero",
      "photoUrl": "https://lh3.googleusercontent.com/a-/AOh14Gi5bptZVpT8uPV-rsu1k3GPYeG1CXzkWxwYtJ_160M=s64",
      "userId": "06106219622026670571"
     },
     "user_tz": 300
    },
    "id": "7mga3ZRXNiBm",
    "outputId": "a4fb6e6f-916b-48db-850c-0191caf148a1"
   },
   "outputs": [],
   "source": [
    "round(_, 2)"
   ]
  },
  {
   "cell_type": "code",
   "execution_count": null,
   "metadata": {
    "colab": {
     "base_uri": "https://localhost:8080/"
    },
    "executionInfo": {
     "elapsed": 35,
     "status": "ok",
     "timestamp": 1646284699408,
     "user": {
      "displayName": "Alexander Zuluaga Quintero",
      "photoUrl": "https://lh3.googleusercontent.com/a-/AOh14Gi5bptZVpT8uPV-rsu1k3GPYeG1CXzkWxwYtJ_160M=s64",
      "userId": "06106219622026670571"
     },
     "user_tz": 300
    },
    "id": "VzUvq9-nNiBm",
    "outputId": "7c7058b1-62f4-48af-b446-693b310d725f"
   },
   "outputs": [],
   "source": [
    "Out[8]"
   ]
  },
  {
   "cell_type": "code",
   "execution_count": null,
   "metadata": {
    "colab": {
     "base_uri": "https://localhost:8080/",
     "height": 35
    },
    "executionInfo": {
     "elapsed": 33,
     "status": "ok",
     "timestamp": 1646284699408,
     "user": {
      "displayName": "Alexander Zuluaga Quintero",
      "photoUrl": "https://lh3.googleusercontent.com/a-/AOh14Gi5bptZVpT8uPV-rsu1k3GPYeG1CXzkWxwYtJ_160M=s64",
      "userId": "06106219622026670571"
     },
     "user_tz": 300
    },
    "id": "6fkoBGK3NiBn",
    "outputId": "deefb831-38bf-47a6-9d33-55d9b7414fcf"
   },
   "outputs": [],
   "source": [
    "In[13]"
   ]
  },
  {
   "cell_type": "markdown",
   "metadata": {
    "id": "j0wQ7c5jNiBn"
   },
   "source": [
    "# Funciones de usuario"
   ]
  },
  {
   "cell_type": "markdown",
   "metadata": {
    "id": "2ZJfF5J9NiBn"
   },
   "source": [
    "[Contenido](#Contenido)"
   ]
  },
  {
   "cell_type": "markdown",
   "metadata": {
    "id": "QmokQLwjNiBn"
   },
   "source": [
    "Las funciones son definidas mediante la palabra reservada `def`. La siguiente función devuelve el cuadrado de su argumento."
   ]
  },
  {
   "cell_type": "code",
   "execution_count": null,
   "metadata": {
    "executionInfo": {
     "elapsed": 33,
     "status": "ok",
     "timestamp": 1646284699409,
     "user": {
      "displayName": "Alexander Zuluaga Quintero",
      "photoUrl": "https://lh3.googleusercontent.com/a-/AOh14Gi5bptZVpT8uPV-rsu1k3GPYeG1CXzkWxwYtJ_160M=s64",
      "userId": "06106219622026670571"
     },
     "user_tz": 300
    },
    "id": "hdNNXw7xNiBo"
   },
   "outputs": [],
   "source": [
    "def square(x):   # el caracter `:` es obligatorio\n",
    "    return x**2  # el cuerpo de la función esta definido por la identación (espacios en blanco)\n",
    "                 # es obligatorio usar `return` para devolver valores"
   ]
  },
  {
   "cell_type": "code",
   "execution_count": null,
   "metadata": {
    "colab": {
     "base_uri": "https://localhost:8080/"
    },
    "executionInfo": {
     "elapsed": 35,
     "status": "ok",
     "timestamp": 1646284699411,
     "user": {
      "displayName": "Alexander Zuluaga Quintero",
      "photoUrl": "https://lh3.googleusercontent.com/a-/AOh14Gi5bptZVpT8uPV-rsu1k3GPYeG1CXzkWxwYtJ_160M=s64",
      "userId": "06106219622026670571"
     },
     "user_tz": 300
    },
    "id": "QLfqumzTNiBo",
    "outputId": "f83111d5-0e8b-4027-befd-9941903af507"
   },
   "outputs": [],
   "source": [
    "square(2)"
   ]
  },
  {
   "cell_type": "code",
   "execution_count": null,
   "metadata": {
    "colab": {
     "base_uri": "https://localhost:8080/"
    },
    "executionInfo": {
     "elapsed": 33,
     "status": "ok",
     "timestamp": 1646284699412,
     "user": {
      "displayName": "Alexander Zuluaga Quintero",
      "photoUrl": "https://lh3.googleusercontent.com/a-/AOh14Gi5bptZVpT8uPV-rsu1k3GPYeG1CXzkWxwYtJ_160M=s64",
      "userId": "06106219622026670571"
     },
     "user_tz": 300
    },
    "id": "0QoGsFBwNiBo",
    "outputId": "72766bb4-4bfc-44ef-cd8a-2a730d659f5b"
   },
   "outputs": [],
   "source": [
    "square(1+2)"
   ]
  },
  {
   "cell_type": "code",
   "execution_count": null,
   "metadata": {
    "colab": {
     "base_uri": "https://localhost:8080/"
    },
    "executionInfo": {
     "elapsed": 31,
     "status": "ok",
     "timestamp": 1646284699412,
     "user": {
      "displayName": "Alexander Zuluaga Quintero",
      "photoUrl": "https://lh3.googleusercontent.com/a-/AOh14Gi5bptZVpT8uPV-rsu1k3GPYeG1CXzkWxwYtJ_160M=s64",
      "userId": "06106219622026670571"
     },
     "user_tz": 300
    },
    "id": "ruXNz2byNiBo",
    "outputId": "e4fb946d-aa32-4023-a6fa-1f9d7d5392c3"
   },
   "outputs": [],
   "source": [
    "square(square(2))"
   ]
  },
  {
   "cell_type": "code",
   "execution_count": null,
   "metadata": {
    "colab": {
     "base_uri": "https://localhost:8080/"
    },
    "executionInfo": {
     "elapsed": 30,
     "status": "ok",
     "timestamp": 1646284699413,
     "user": {
      "displayName": "Alexander Zuluaga Quintero",
      "photoUrl": "https://lh3.googleusercontent.com/a-/AOh14Gi5bptZVpT8uPV-rsu1k3GPYeG1CXzkWxwYtJ_160M=s64",
      "userId": "06106219622026670571"
     },
     "user_tz": 300
    },
    "id": "8o9OlSMdNiBp",
    "outputId": "847c8198-0c02-4c9c-bddb-df18a2e9d3f3"
   },
   "outputs": [],
   "source": [
    "square(1) + square(2)"
   ]
  },
  {
   "cell_type": "code",
   "execution_count": null,
   "metadata": {
    "executionInfo": {
     "elapsed": 28,
     "status": "ok",
     "timestamp": 1646284699413,
     "user": {
      "displayName": "Alexander Zuluaga Quintero",
      "photoUrl": "https://lh3.googleusercontent.com/a-/AOh14Gi5bptZVpT8uPV-rsu1k3GPYeG1CXzkWxwYtJ_160M=s64",
      "userId": "06106219622026670571"
     },
     "user_tz": 300
    },
    "id": "5W8wr6kpNiBp"
   },
   "outputs": [],
   "source": [
    "def sum_of_squares(x, y):          \n",
    "    return square(x) + square(y) # las funciones puden ser llamadas dentro de otras"
   ]
  },
  {
   "cell_type": "code",
   "execution_count": null,
   "metadata": {
    "colab": {
     "base_uri": "https://localhost:8080/"
    },
    "executionInfo": {
     "elapsed": 29,
     "status": "ok",
     "timestamp": 1646284699414,
     "user": {
      "displayName": "Alexander Zuluaga Quintero",
      "photoUrl": "https://lh3.googleusercontent.com/a-/AOh14Gi5bptZVpT8uPV-rsu1k3GPYeG1CXzkWxwYtJ_160M=s64",
      "userId": "06106219622026670571"
     },
     "user_tz": 300
    },
    "id": "3ELUYrTQNiBp",
    "outputId": "b2eace38-72f9-4025-aaca-a24981c97b32"
   },
   "outputs": [],
   "source": [
    "sum_of_squares(1, 2)"
   ]
  },
  {
   "cell_type": "markdown",
   "metadata": {
    "id": "zi36v2lhNiBp"
   },
   "source": [
    "# Funciones matemáticas"
   ]
  },
  {
   "cell_type": "markdown",
   "metadata": {
    "id": "jX3j9tpKNiBp"
   },
   "source": [
    "[Contenido](#Contenido)"
   ]
  },
  {
   "cell_type": "markdown",
   "metadata": {
    "id": "X1yntO-zNiBq"
   },
   "source": [
    "> La lista completa de funciones matemáticas se encuentra disponible [aquí](https://docs.python.org/3/library/math.html)."
   ]
  },
  {
   "cell_type": "code",
   "execution_count": null,
   "metadata": {
    "colab": {
     "base_uri": "https://localhost:8080/"
    },
    "executionInfo": {
     "elapsed": 28,
     "status": "ok",
     "timestamp": 1646284699414,
     "user": {
      "displayName": "Alexander Zuluaga Quintero",
      "photoUrl": "https://lh3.googleusercontent.com/a-/AOh14Gi5bptZVpT8uPV-rsu1k3GPYeG1CXzkWxwYtJ_160M=s64",
      "userId": "06106219622026670571"
     },
     "user_tz": 300
    },
    "id": "e6U19o2iNiBq",
    "outputId": "c93510bf-d24f-4d15-cce4-a1af678f0d18"
   },
   "outputs": [],
   "source": [
    "import math           # importa la libreria de funciones matemáticas\n",
    "math.cos(3.141516)    # llama la función cos en la librería math"
   ]
  },
  {
   "cell_type": "markdown",
   "metadata": {
    "id": "RpSH3iD9NiBq"
   },
   "source": [
    "**Ejercicio.** Calcule el valor de la siguiente expresión:\n",
    "\n",
    "$$\\frac{5-(1 -(3 - \\exp(\\frac{1}{8}))}{3(4-2)(2-\\frac{3}{8})} - 2!(-1)^3 + \\sin (0.98\\pi) $$"
   ]
  },
  {
   "cell_type": "markdown",
   "metadata": {
    "id": "RGOF2-YcNiBr"
   },
   "source": [
    "# Cadenas de caracteres"
   ]
  },
  {
   "cell_type": "markdown",
   "metadata": {
    "id": "ZP0kMkJSNiBr"
   },
   "source": [
    "[Contenido](#Contenido)"
   ]
  },
  {
   "cell_type": "markdown",
   "metadata": {
    "id": "rh_6RVJLNiBr"
   },
   "source": [
    "En IPython también pueden usarse cadenas de caracteres (strings). Ellas pueden delimitarse usando comillas simples o dobles. "
   ]
  },
  {
   "cell_type": "code",
   "execution_count": null,
   "metadata": {
    "colab": {
     "base_uri": "https://localhost:8080/",
     "height": 35
    },
    "executionInfo": {
     "elapsed": 45,
     "status": "ok",
     "timestamp": 1646284699797,
     "user": {
      "displayName": "Alexander Zuluaga Quintero",
      "photoUrl": "https://lh3.googleusercontent.com/a-/AOh14Gi5bptZVpT8uPV-rsu1k3GPYeG1CXzkWxwYtJ_160M=s64",
      "userId": "06106219622026670571"
     },
     "user_tz": 300
    },
    "id": "u68jGaZJNiBr",
    "outputId": "f15eafe2-8925-41ed-ebe4-667d9b1740da"
   },
   "outputs": [],
   "source": [
    "'hola mundo'  # comillas simples"
   ]
  },
  {
   "cell_type": "code",
   "execution_count": null,
   "metadata": {
    "colab": {
     "base_uri": "https://localhost:8080/",
     "height": 35
    },
    "executionInfo": {
     "elapsed": 44,
     "status": "ok",
     "timestamp": 1646284699798,
     "user": {
      "displayName": "Alexander Zuluaga Quintero",
      "photoUrl": "https://lh3.googleusercontent.com/a-/AOh14Gi5bptZVpT8uPV-rsu1k3GPYeG1CXzkWxwYtJ_160M=s64",
      "userId": "06106219622026670571"
     },
     "user_tz": 300
    },
    "id": "A1XayWBQNiBs",
    "outputId": "ed3abd44-72e8-4799-ece4-ed8f12975383"
   },
   "outputs": [],
   "source": [
    "\"hola mundo\"  # comillas dobles"
   ]
  },
  {
   "cell_type": "code",
   "execution_count": null,
   "metadata": {
    "colab": {
     "base_uri": "https://localhost:8080/",
     "height": 35
    },
    "executionInfo": {
     "elapsed": 44,
     "status": "ok",
     "timestamp": 1646284699799,
     "user": {
      "displayName": "Alexander Zuluaga Quintero",
      "photoUrl": "https://lh3.googleusercontent.com/a-/AOh14Gi5bptZVpT8uPV-rsu1k3GPYeG1CXzkWxwYtJ_160M=s64",
      "userId": "06106219622026670571"
     },
     "user_tz": 300
    },
    "id": "u-O_vb8iNiBs",
    "outputId": "60225de0-ae72-422b-d866-51b159d9e21e"
   },
   "outputs": [],
   "source": [
    "'--\"--'  # uso alternado de comillas. IPython entiende que se usa la comilla simples para delimitar el string."
   ]
  },
  {
   "cell_type": "code",
   "execution_count": null,
   "metadata": {
    "colab": {
     "base_uri": "https://localhost:8080/",
     "height": 35
    },
    "executionInfo": {
     "elapsed": 42,
     "status": "ok",
     "timestamp": 1646284699799,
     "user": {
      "displayName": "Alexander Zuluaga Quintero",
      "photoUrl": "https://lh3.googleusercontent.com/a-/AOh14Gi5bptZVpT8uPV-rsu1k3GPYeG1CXzkWxwYtJ_160M=s64",
      "userId": "06106219622026670571"
     },
     "user_tz": 300
    },
    "id": "7Z73_QehNiBs",
    "outputId": "8e5ba234-98b1-4974-d10f-6898587b2fb2"
   },
   "outputs": [],
   "source": [
    "\"--'--\""
   ]
  },
  {
   "cell_type": "code",
   "execution_count": null,
   "metadata": {
    "colab": {
     "base_uri": "https://localhost:8080/",
     "height": 35
    },
    "executionInfo": {
     "elapsed": 41,
     "status": "ok",
     "timestamp": 1646284699800,
     "user": {
      "displayName": "Alexander Zuluaga Quintero",
      "photoUrl": "https://lh3.googleusercontent.com/a-/AOh14Gi5bptZVpT8uPV-rsu1k3GPYeG1CXzkWxwYtJ_160M=s64",
      "userId": "06106219622026670571"
     },
     "user_tz": 300
    },
    "id": "dt_JK09JNiBs",
    "outputId": "ae10939b-0052-4de5-8fc3-757c9621ad2f"
   },
   "outputs": [],
   "source": [
    "'--\\'--'  # En estos dos casos se requiere usar el `\\` para indicar que la comilla intermedia no es el delimitador."
   ]
  },
  {
   "cell_type": "code",
   "execution_count": null,
   "metadata": {
    "colab": {
     "base_uri": "https://localhost:8080/",
     "height": 35
    },
    "executionInfo": {
     "elapsed": 40,
     "status": "ok",
     "timestamp": 1646284699800,
     "user": {
      "displayName": "Alexander Zuluaga Quintero",
      "photoUrl": "https://lh3.googleusercontent.com/a-/AOh14Gi5bptZVpT8uPV-rsu1k3GPYeG1CXzkWxwYtJ_160M=s64",
      "userId": "06106219622026670571"
     },
     "user_tz": 300
    },
    "id": "ruU4G-1NNiBs",
    "outputId": "b7b12dee-4d50-4dbb-afa9-73fdc3a799af"
   },
   "outputs": [],
   "source": [
    "\"--\\\"--\""
   ]
  },
  {
   "cell_type": "markdown",
   "metadata": {
    "id": "z0ou1PN7NiBt"
   },
   "source": [
    "El caracter de escape `\\n` indica retorno-de-carro o nueva-linea."
   ]
  },
  {
   "cell_type": "code",
   "execution_count": null,
   "metadata": {
    "colab": {
     "base_uri": "https://localhost:8080/",
     "height": 35
    },
    "executionInfo": {
     "elapsed": 40,
     "status": "ok",
     "timestamp": 1646284699801,
     "user": {
      "displayName": "Alexander Zuluaga Quintero",
      "photoUrl": "https://lh3.googleusercontent.com/a-/AOh14Gi5bptZVpT8uPV-rsu1k3GPYeG1CXzkWxwYtJ_160M=s64",
      "userId": "06106219622026670571"
     },
     "user_tz": 300
    },
    "id": "imzUd1eQNiBt",
    "outputId": "38af738e-1151-4199-aed3-600884a14339"
   },
   "outputs": [],
   "source": [
    "s = 'Primera linea.\\nsegunda linea.'  \n",
    "s"
   ]
  },
  {
   "cell_type": "code",
   "execution_count": null,
   "metadata": {
    "colab": {
     "base_uri": "https://localhost:8080/"
    },
    "executionInfo": {
     "elapsed": 38,
     "status": "ok",
     "timestamp": 1646284699801,
     "user": {
      "displayName": "Alexander Zuluaga Quintero",
      "photoUrl": "https://lh3.googleusercontent.com/a-/AOh14Gi5bptZVpT8uPV-rsu1k3GPYeG1CXzkWxwYtJ_160M=s64",
      "userId": "06106219622026670571"
     },
     "user_tz": 300
    },
    "id": "i7WhrI4pNiBt",
    "outputId": "c5f298ad-4ea4-4d74-f631-fbc2af7d995a"
   },
   "outputs": [],
   "source": [
    "print(s)  # se debe usar la función print para imprimir con formato."
   ]
  },
  {
   "cell_type": "code",
   "execution_count": null,
   "metadata": {
    "colab": {
     "base_uri": "https://localhost:8080/"
    },
    "executionInfo": {
     "elapsed": 38,
     "status": "ok",
     "timestamp": 1646284699802,
     "user": {
      "displayName": "Alexander Zuluaga Quintero",
      "photoUrl": "https://lh3.googleusercontent.com/a-/AOh14Gi5bptZVpT8uPV-rsu1k3GPYeG1CXzkWxwYtJ_160M=s64",
      "userId": "06106219622026670571"
     },
     "user_tz": 300
    },
    "id": "QrSMZ_9KNiBt",
    "outputId": "9dfc6b7c-6479-446c-e82e-d2916b41a037"
   },
   "outputs": [],
   "source": [
    "print(r'Primera linea.\\nsegunda linea.')  # note la r antes de la comilla inicial"
   ]
  },
  {
   "cell_type": "code",
   "execution_count": null,
   "metadata": {
    "colab": {
     "base_uri": "https://localhost:8080/"
    },
    "executionInfo": {
     "elapsed": 37,
     "status": "ok",
     "timestamp": 1646284699802,
     "user": {
      "displayName": "Alexander Zuluaga Quintero",
      "photoUrl": "https://lh3.googleusercontent.com/a-/AOh14Gi5bptZVpT8uPV-rsu1k3GPYeG1CXzkWxwYtJ_160M=s64",
      "userId": "06106219622026670571"
     },
     "user_tz": 300
    },
    "id": "sqMQX52XNiBt",
    "outputId": "5013e97e-764d-43e1-a955-5dd5e1eecce1"
   },
   "outputs": [],
   "source": [
    "print(f'Primera linea.\\nsegunda linea.')  # note la f antes de la comilla inicial"
   ]
  },
  {
   "cell_type": "code",
   "execution_count": null,
   "metadata": {
    "colab": {
     "base_uri": "https://localhost:8080/"
    },
    "executionInfo": {
     "elapsed": 37,
     "status": "ok",
     "timestamp": 1646284699803,
     "user": {
      "displayName": "Alexander Zuluaga Quintero",
      "photoUrl": "https://lh3.googleusercontent.com/a-/AOh14Gi5bptZVpT8uPV-rsu1k3GPYeG1CXzkWxwYtJ_160M=s64",
      "userId": "06106219622026670571"
     },
     "user_tz": 300
    },
    "id": "j5Kc5C8oNiBt",
    "outputId": "ba760015-3e25-466f-b753-b318310be0fd"
   },
   "outputs": [],
   "source": [
    "t = r'C:\\Users\\Restrepo\\flat.txt'\n",
    "t\n",
    "print(t)"
   ]
  },
  {
   "cell_type": "code",
   "execution_count": null,
   "metadata": {
    "colab": {
     "base_uri": "https://localhost:8080/"
    },
    "executionInfo": {
     "elapsed": 37,
     "status": "ok",
     "timestamp": 1646284699803,
     "user": {
      "displayName": "Alexander Zuluaga Quintero",
      "photoUrl": "https://lh3.googleusercontent.com/a-/AOh14Gi5bptZVpT8uPV-rsu1k3GPYeG1CXzkWxwYtJ_160M=s64",
      "userId": "06106219622026670571"
     },
     "user_tz": 300
    },
    "id": "yVsJObCDNiBu",
    "outputId": "01daab7c-d2fa-4e23-f151-d5fdd482b6c1"
   },
   "outputs": [],
   "source": [
    "tf = f'C:\\\\Users\\\\Restrepo\\\\flat.txt'\n",
    "tf\n",
    "print(tf)"
   ]
  },
  {
   "cell_type": "code",
   "execution_count": null,
   "metadata": {
    "colab": {
     "base_uri": "https://localhost:8080/",
     "height": 35
    },
    "executionInfo": {
     "elapsed": 37,
     "status": "ok",
     "timestamp": 1646284699804,
     "user": {
      "displayName": "Alexander Zuluaga Quintero",
      "photoUrl": "https://lh3.googleusercontent.com/a-/AOh14Gi5bptZVpT8uPV-rsu1k3GPYeG1CXzkWxwYtJ_160M=s64",
      "userId": "06106219622026670571"
     },
     "user_tz": 300
    },
    "id": "lz7jE_RjNiBu",
    "outputId": "2f71c967-30af-443d-97b7-5874ded28305"
   },
   "outputs": [],
   "source": [
    "\"\"\"\n",
    "  Los strings de varias lineas pueden\n",
    "  escribirse delimitándolos tres comillas \n",
    "  dobles y son usados corrientemente como\n",
    "  comentarios\n",
    "\"\"\""
   ]
  },
  {
   "cell_type": "code",
   "execution_count": null,
   "metadata": {
    "colab": {
     "base_uri": "https://localhost:8080/"
    },
    "executionInfo": {
     "elapsed": 37,
     "status": "ok",
     "timestamp": 1646284699805,
     "user": {
      "displayName": "Alexander Zuluaga Quintero",
      "photoUrl": "https://lh3.googleusercontent.com/a-/AOh14Gi5bptZVpT8uPV-rsu1k3GPYeG1CXzkWxwYtJ_160M=s64",
      "userId": "06106219622026670571"
     },
     "user_tz": 300
    },
    "id": "T1asq5btNiBu",
    "outputId": "b104a714-0315-4dc8-b2ca-dbd9bfdfd7b0"
   },
   "outputs": [],
   "source": [
    "print(\"\"\" \n",
    "  Los strings de varias lineas pueden\n",
    "  escribirse delimitándolos tres comillas \n",
    "  dobles y son usados corrientemente como\n",
    "  comentarios\n",
    "\"\"\")"
   ]
  },
  {
   "cell_type": "code",
   "execution_count": null,
   "metadata": {
    "colab": {
     "base_uri": "https://localhost:8080/",
     "height": 35
    },
    "executionInfo": {
     "elapsed": 36,
     "status": "ok",
     "timestamp": 1646284699805,
     "user": {
      "displayName": "Alexander Zuluaga Quintero",
      "photoUrl": "https://lh3.googleusercontent.com/a-/AOh14Gi5bptZVpT8uPV-rsu1k3GPYeG1CXzkWxwYtJ_160M=s64",
      "userId": "06106219622026670571"
     },
     "user_tz": 300
    },
    "id": "G33ME2fANiBu",
    "outputId": "53cdb285-fd31-4f8a-d550-20d32ff393b3"
   },
   "outputs": [],
   "source": [
    "3 * 'abc ' + '012'  # los strings usan `*` para indicar repetición y `+` para indicar concatenación."
   ]
  },
  {
   "cell_type": "code",
   "execution_count": null,
   "metadata": {
    "colab": {
     "base_uri": "https://localhost:8080/",
     "height": 35
    },
    "executionInfo": {
     "elapsed": 36,
     "status": "ok",
     "timestamp": 1646284699805,
     "user": {
      "displayName": "Alexander Zuluaga Quintero",
      "photoUrl": "https://lh3.googleusercontent.com/a-/AOh14Gi5bptZVpT8uPV-rsu1k3GPYeG1CXzkWxwYtJ_160M=s64",
      "userId": "06106219622026670571"
     },
     "user_tz": 300
    },
    "id": "SugXOpIVNiBv",
    "outputId": "90efc643-d543-4c6c-9524-a684a278e05e"
   },
   "outputs": [],
   "source": [
    "'abc ' * 3 + '012'"
   ]
  },
  {
   "cell_type": "code",
   "execution_count": null,
   "metadata": {
    "colab": {
     "base_uri": "https://localhost:8080/",
     "height": 35
    },
    "executionInfo": {
     "elapsed": 36,
     "status": "ok",
     "timestamp": 1646284699806,
     "user": {
      "displayName": "Alexander Zuluaga Quintero",
      "photoUrl": "https://lh3.googleusercontent.com/a-/AOh14Gi5bptZVpT8uPV-rsu1k3GPYeG1CXzkWxwYtJ_160M=s64",
      "userId": "06106219622026670571"
     },
     "user_tz": 300
    },
    "id": "wn9ZNZkDNiBv",
    "outputId": "e70baec1-75a0-4707-dcbe-0f135fc033d0"
   },
   "outputs": [],
   "source": [
    "'Py' 'thon'   # note que acá se ignoran los espacios entre las comillas interiores"
   ]
  },
  {
   "cell_type": "code",
   "execution_count": null,
   "metadata": {
    "colab": {
     "base_uri": "https://localhost:8080/"
    },
    "executionInfo": {
     "elapsed": 36,
     "status": "ok",
     "timestamp": 1646284699807,
     "user": {
      "displayName": "Alexander Zuluaga Quintero",
      "photoUrl": "https://lh3.googleusercontent.com/a-/AOh14Gi5bptZVpT8uPV-rsu1k3GPYeG1CXzkWxwYtJ_160M=s64",
      "userId": "06106219622026670571"
     },
     "user_tz": 300
    },
    "id": "ZqLEZBjJNiBv",
    "outputId": "81ff4262-d77a-4a93-b7c8-35a638080a68"
   },
   "outputs": [],
   "source": [
    "# los strings pueden escribirse en varias líneas delimitandolos por paréntesis.\n",
    "text = ('Linea 1 '\n",
    "        'Linea 2 '\n",
    "        'Linea 3')\n",
    "\n",
    "print(text)"
   ]
  },
  {
   "cell_type": "code",
   "execution_count": null,
   "metadata": {
    "colab": {
     "base_uri": "https://localhost:8080/"
    },
    "executionInfo": {
     "elapsed": 1017,
     "status": "ok",
     "timestamp": 1646284700789,
     "user": {
      "displayName": "Alexander Zuluaga Quintero",
      "photoUrl": "https://lh3.googleusercontent.com/a-/AOh14Gi5bptZVpT8uPV-rsu1k3GPYeG1CXzkWxwYtJ_160M=s64",
      "userId": "06106219622026670571"
     },
     "user_tz": 300
    },
    "id": "R1N5BlWhNiBv",
    "outputId": "b343907a-31b1-41d3-c5aa-fc406e408633"
   },
   "outputs": [],
   "source": [
    "# los strings pueden escribirse en varias líneas delimitandolos por paréntesis.\n",
    "text = \" - \".join(['Linea 1',\n",
    "        'Linea 2',\n",
    "        'Linea 3'])\n",
    "\n",
    "print(text)"
   ]
  },
  {
   "cell_type": "code",
   "execution_count": null,
   "metadata": {
    "colab": {
     "base_uri": "https://localhost:8080/",
     "height": 35
    },
    "executionInfo": {
     "elapsed": 55,
     "status": "ok",
     "timestamp": 1646284700790,
     "user": {
      "displayName": "Alexander Zuluaga Quintero",
      "photoUrl": "https://lh3.googleusercontent.com/a-/AOh14Gi5bptZVpT8uPV-rsu1k3GPYeG1CXzkWxwYtJ_160M=s64",
      "userId": "06106219622026670571"
     },
     "user_tz": 300
    },
    "id": "q5NoLjN8NiBv",
    "outputId": "835de8b1-37b5-448c-8bf9-949548897483"
   },
   "outputs": [],
   "source": [
    "# borra los caracteres '-' de la cadena de texto\n",
    "'h-o-l-a- -m-u-n-d-o'.replace('-', '')"
   ]
  },
  {
   "cell_type": "code",
   "execution_count": null,
   "metadata": {
    "colab": {
     "base_uri": "https://localhost:8080/",
     "height": 35
    },
    "executionInfo": {
     "elapsed": 54,
     "status": "ok",
     "timestamp": 1646284700791,
     "user": {
      "displayName": "Alexander Zuluaga Quintero",
      "photoUrl": "https://lh3.googleusercontent.com/a-/AOh14Gi5bptZVpT8uPV-rsu1k3GPYeG1CXzkWxwYtJ_160M=s64",
      "userId": "06106219622026670571"
     },
     "user_tz": 300
    },
    "id": "2Gaqb6yLNiBv",
    "outputId": "552532a9-2e00-44ba-b9c8-ea83e7803572"
   },
   "outputs": [],
   "source": [
    "# cambia los '-'  por '='\n",
    "'h-o-l-a- -m-u-n-d-o'.replace('-', '=')"
   ]
  },
  {
   "cell_type": "code",
   "execution_count": null,
   "metadata": {
    "colab": {
     "base_uri": "https://localhost:8080/",
     "height": 35
    },
    "executionInfo": {
     "elapsed": 55,
     "status": "ok",
     "timestamp": 1646284700792,
     "user": {
      "displayName": "Alexander Zuluaga Quintero",
      "photoUrl": "https://lh3.googleusercontent.com/a-/AOh14Gi5bptZVpT8uPV-rsu1k3GPYeG1CXzkWxwYtJ_160M=s64",
      "userId": "06106219622026670571"
     },
     "user_tz": 300
    },
    "id": "Y1u2l6dwNiBw",
    "outputId": "cbe27b3f-d23b-4a61-c835-bc64d1de714e"
   },
   "outputs": [],
   "source": [
    "# convierte a mayúsculas\n",
    "'hola mundo'.upper()"
   ]
  },
  {
   "cell_type": "code",
   "execution_count": null,
   "metadata": {
    "colab": {
     "base_uri": "https://localhost:8080/",
     "height": 35
    },
    "executionInfo": {
     "elapsed": 54,
     "status": "ok",
     "timestamp": 1646284700792,
     "user": {
      "displayName": "Alexander Zuluaga Quintero",
      "photoUrl": "https://lh3.googleusercontent.com/a-/AOh14Gi5bptZVpT8uPV-rsu1k3GPYeG1CXzkWxwYtJ_160M=s64",
      "userId": "06106219622026670571"
     },
     "user_tz": 300
    },
    "id": "rbz8RCl0NiBw",
    "outputId": "71ecc963-fb81-4cb1-e789-e01c26e3f22d"
   },
   "outputs": [],
   "source": [
    "# convierte a minúsculas\n",
    "'HOLA MUNDO'.lower()"
   ]
  },
  {
   "cell_type": "code",
   "execution_count": null,
   "metadata": {
    "colab": {
     "base_uri": "https://localhost:8080/",
     "height": 35
    },
    "executionInfo": {
     "elapsed": 54,
     "status": "ok",
     "timestamp": 1646284700793,
     "user": {
      "displayName": "Alexander Zuluaga Quintero",
      "photoUrl": "https://lh3.googleusercontent.com/a-/AOh14Gi5bptZVpT8uPV-rsu1k3GPYeG1CXzkWxwYtJ_160M=s64",
      "userId": "06106219622026670571"
     },
     "user_tz": 300
    },
    "id": "1Qqk5N72NiBw",
    "outputId": "61137974-742d-42fc-facf-c541965f660d"
   },
   "outputs": [],
   "source": [
    "'hola mundo'.capitalize()"
   ]
  },
  {
   "cell_type": "code",
   "execution_count": null,
   "metadata": {
    "colab": {
     "base_uri": "https://localhost:8080/",
     "height": 35
    },
    "executionInfo": {
     "elapsed": 53,
     "status": "ok",
     "timestamp": 1646284700793,
     "user": {
      "displayName": "Alexander Zuluaga Quintero",
      "photoUrl": "https://lh3.googleusercontent.com/a-/AOh14Gi5bptZVpT8uPV-rsu1k3GPYeG1CXzkWxwYtJ_160M=s64",
      "userId": "06106219622026670571"
     },
     "user_tz": 300
    },
    "id": "l9eR5_2CNiBw",
    "outputId": "c2c867f1-2f26-489d-b901-3426ca0f1393"
   },
   "outputs": [],
   "source": [
    "'Hola Mundo Cruel'.swapcase()"
   ]
  },
  {
   "cell_type": "code",
   "execution_count": null,
   "metadata": {
    "colab": {
     "base_uri": "https://localhost:8080/",
     "height": 35
    },
    "executionInfo": {
     "elapsed": 53,
     "status": "ok",
     "timestamp": 1646284700794,
     "user": {
      "displayName": "Alexander Zuluaga Quintero",
      "photoUrl": "https://lh3.googleusercontent.com/a-/AOh14Gi5bptZVpT8uPV-rsu1k3GPYeG1CXzkWxwYtJ_160M=s64",
      "userId": "06106219622026670571"
     },
     "user_tz": 300
    },
    "id": "flLE5en3NiBw",
    "outputId": "0477a4bd-19ed-4da4-846e-9bd3fc26494a"
   },
   "outputs": [],
   "source": [
    "'hola mundo cruel'.title()"
   ]
  },
  {
   "cell_type": "code",
   "execution_count": null,
   "metadata": {
    "colab": {
     "base_uri": "https://localhost:8080/",
     "height": 35
    },
    "executionInfo": {
     "elapsed": 52,
     "status": "ok",
     "timestamp": 1646284700794,
     "user": {
      "displayName": "Alexander Zuluaga Quintero",
      "photoUrl": "https://lh3.googleusercontent.com/a-/AOh14Gi5bptZVpT8uPV-rsu1k3GPYeG1CXzkWxwYtJ_160M=s64",
      "userId": "06106219622026670571"
     },
     "user_tz": 300
    },
    "id": "fkXAbVYgNiBx",
    "outputId": "64c235e4-5e25-417c-8c96-8ab6ceac8957"
   },
   "outputs": [],
   "source": [
    "'hola mundo'.center(20, '-')"
   ]
  },
  {
   "cell_type": "code",
   "execution_count": null,
   "metadata": {
    "colab": {
     "base_uri": "https://localhost:8080/",
     "height": 35
    },
    "executionInfo": {
     "elapsed": 51,
     "status": "ok",
     "timestamp": 1646284700795,
     "user": {
      "displayName": "Alexander Zuluaga Quintero",
      "photoUrl": "https://lh3.googleusercontent.com/a-/AOh14Gi5bptZVpT8uPV-rsu1k3GPYeG1CXzkWxwYtJ_160M=s64",
      "userId": "06106219622026670571"
     },
     "user_tz": 300
    },
    "id": "BDCk2LngNiBx",
    "outputId": "dd681db0-b4a3-4711-ac31-cb8665a9e38d"
   },
   "outputs": [],
   "source": [
    "'hola mundo'.ljust(20, '-')"
   ]
  },
  {
   "cell_type": "code",
   "execution_count": null,
   "metadata": {
    "colab": {
     "base_uri": "https://localhost:8080/",
     "height": 35
    },
    "executionInfo": {
     "elapsed": 51,
     "status": "ok",
     "timestamp": 1646284700796,
     "user": {
      "displayName": "Alexander Zuluaga Quintero",
      "photoUrl": "https://lh3.googleusercontent.com/a-/AOh14Gi5bptZVpT8uPV-rsu1k3GPYeG1CXzkWxwYtJ_160M=s64",
      "userId": "06106219622026670571"
     },
     "user_tz": 300
    },
    "id": "xQcI82hPNiBx",
    "outputId": "1317f0be-d97c-4a99-aef6-e84723cb32b3"
   },
   "outputs": [],
   "source": [
    "'hola mundo'.rjust(20, '-')"
   ]
  },
  {
   "cell_type": "code",
   "execution_count": null,
   "metadata": {
    "colab": {
     "base_uri": "https://localhost:8080/"
    },
    "executionInfo": {
     "elapsed": 50,
     "status": "ok",
     "timestamp": 1646284700796,
     "user": {
      "displayName": "Alexander Zuluaga Quintero",
      "photoUrl": "https://lh3.googleusercontent.com/a-/AOh14Gi5bptZVpT8uPV-rsu1k3GPYeG1CXzkWxwYtJ_160M=s64",
      "userId": "06106219622026670571"
     },
     "user_tz": 300
    },
    "id": "O8s6qR3rNiBx",
    "outputId": "e0abb191-6f28-45f5-b531-e30b3741b2d6"
   },
   "outputs": [],
   "source": [
    "'abcdeabcdeabcde'.count('ab')"
   ]
  },
  {
   "cell_type": "code",
   "execution_count": null,
   "metadata": {
    "colab": {
     "base_uri": "https://localhost:8080/"
    },
    "executionInfo": {
     "elapsed": 50,
     "status": "ok",
     "timestamp": 1646284700797,
     "user": {
      "displayName": "Alexander Zuluaga Quintero",
      "photoUrl": "https://lh3.googleusercontent.com/a-/AOh14Gi5bptZVpT8uPV-rsu1k3GPYeG1CXzkWxwYtJ_160M=s64",
      "userId": "06106219622026670571"
     },
     "user_tz": 300
    },
    "id": "FYb4pKt7NiBx",
    "outputId": "edb88a59-0675-42ca-a428-305b02ab6ac2"
   },
   "outputs": [],
   "source": [
    "'abcdeabcdeabcde'.find('cd') # posicion de la primera aparación de la cadena 'cd'"
   ]
  },
  {
   "cell_type": "code",
   "execution_count": null,
   "metadata": {
    "colab": {
     "base_uri": "https://localhost:8080/"
    },
    "executionInfo": {
     "elapsed": 49,
     "status": "ok",
     "timestamp": 1646284700797,
     "user": {
      "displayName": "Alexander Zuluaga Quintero",
      "photoUrl": "https://lh3.googleusercontent.com/a-/AOh14Gi5bptZVpT8uPV-rsu1k3GPYeG1CXzkWxwYtJ_160M=s64",
      "userId": "06106219622026670571"
     },
     "user_tz": 300
    },
    "id": "QOiQ08aCNiBy",
    "outputId": "f59286b9-78e2-4003-84c1-c63660930d2f"
   },
   "outputs": [],
   "source": [
    "'abc123'.isalnum() # alfanumérico?"
   ]
  },
  {
   "cell_type": "code",
   "execution_count": null,
   "metadata": {
    "colab": {
     "base_uri": "https://localhost:8080/"
    },
    "executionInfo": {
     "elapsed": 49,
     "status": "ok",
     "timestamp": 1646284700798,
     "user": {
      "displayName": "Alexander Zuluaga Quintero",
      "photoUrl": "https://lh3.googleusercontent.com/a-/AOh14Gi5bptZVpT8uPV-rsu1k3GPYeG1CXzkWxwYtJ_160M=s64",
      "userId": "06106219622026670571"
     },
     "user_tz": 300
    },
    "id": "j3BvM8PGNiBy",
    "outputId": "7f3458a6-bde7-4ef8-d2c8-fac06bf9a0f1"
   },
   "outputs": [],
   "source": [
    "'()#@'.isalnum() # alfanumérico?"
   ]
  },
  {
   "cell_type": "code",
   "execution_count": null,
   "metadata": {
    "colab": {
     "base_uri": "https://localhost:8080/"
    },
    "executionInfo": {
     "elapsed": 49,
     "status": "ok",
     "timestamp": 1646284700799,
     "user": {
      "displayName": "Alexander Zuluaga Quintero",
      "photoUrl": "https://lh3.googleusercontent.com/a-/AOh14Gi5bptZVpT8uPV-rsu1k3GPYeG1CXzkWxwYtJ_160M=s64",
      "userId": "06106219622026670571"
     },
     "user_tz": 300
    },
    "id": "LGshgmpRNiBy",
    "outputId": "3a22ca22-b012-43dc-c462-e1a75d54863a"
   },
   "outputs": [],
   "source": [
    "'abc'.isalpha() # alfabético?"
   ]
  },
  {
   "cell_type": "code",
   "execution_count": null,
   "metadata": {
    "colab": {
     "base_uri": "https://localhost:8080/"
    },
    "executionInfo": {
     "elapsed": 48,
     "status": "ok",
     "timestamp": 1646284700799,
     "user": {
      "displayName": "Alexander Zuluaga Quintero",
      "photoUrl": "https://lh3.googleusercontent.com/a-/AOh14Gi5bptZVpT8uPV-rsu1k3GPYeG1CXzkWxwYtJ_160M=s64",
      "userId": "06106219622026670571"
     },
     "user_tz": 300
    },
    "id": "NYcpilWyNiBy",
    "outputId": "be151199-402d-4ffb-e79e-84d5c197fd38"
   },
   "outputs": [],
   "source": [
    "'1234'.isdigit()"
   ]
  },
  {
   "cell_type": "code",
   "execution_count": null,
   "metadata": {
    "colab": {
     "base_uri": "https://localhost:8080/"
    },
    "executionInfo": {
     "elapsed": 48,
     "status": "ok",
     "timestamp": 1646284700800,
     "user": {
      "displayName": "Alexander Zuluaga Quintero",
      "photoUrl": "https://lh3.googleusercontent.com/a-/AOh14Gi5bptZVpT8uPV-rsu1k3GPYeG1CXzkWxwYtJ_160M=s64",
      "userId": "06106219622026670571"
     },
     "user_tz": 300
    },
    "id": "DWjPPTQ0NiBy",
    "outputId": "46c82d1f-bc0b-465b-f44a-eb5549e1bd2d"
   },
   "outputs": [],
   "source": [
    "'1.234'.isdigit()"
   ]
  },
  {
   "cell_type": "code",
   "execution_count": null,
   "metadata": {
    "colab": {
     "base_uri": "https://localhost:8080/"
    },
    "executionInfo": {
     "elapsed": 49,
     "status": "ok",
     "timestamp": 1646284700801,
     "user": {
      "displayName": "Alexander Zuluaga Quintero",
      "photoUrl": "https://lh3.googleusercontent.com/a-/AOh14Gi5bptZVpT8uPV-rsu1k3GPYeG1CXzkWxwYtJ_160M=s64",
      "userId": "06106219622026670571"
     },
     "user_tz": 300
    },
    "id": "i25_65ohNiBz",
    "outputId": "5fcf22c7-d502-44ea-f714-5b878f96855d"
   },
   "outputs": [],
   "source": [
    "'1.234'.isnumeric()"
   ]
  },
  {
   "cell_type": "code",
   "execution_count": null,
   "metadata": {
    "colab": {
     "base_uri": "https://localhost:8080/"
    },
    "executionInfo": {
     "elapsed": 48,
     "status": "ok",
     "timestamp": 1646284700801,
     "user": {
      "displayName": "Alexander Zuluaga Quintero",
      "photoUrl": "https://lh3.googleusercontent.com/a-/AOh14Gi5bptZVpT8uPV-rsu1k3GPYeG1CXzkWxwYtJ_160M=s64",
      "userId": "06106219622026670571"
     },
     "user_tz": 300
    },
    "id": "fWeAkwVMNiBz",
    "outputId": "e663ff33-3c9d-403b-a2d9-5e0a0cecb41b"
   },
   "outputs": [],
   "source": [
    "'1,2,3,4,5'.partition(',')"
   ]
  },
  {
   "cell_type": "code",
   "execution_count": null,
   "metadata": {
    "colab": {
     "base_uri": "https://localhost:8080/"
    },
    "executionInfo": {
     "elapsed": 48,
     "status": "ok",
     "timestamp": 1646284700802,
     "user": {
      "displayName": "Alexander Zuluaga Quintero",
      "photoUrl": "https://lh3.googleusercontent.com/a-/AOh14Gi5bptZVpT8uPV-rsu1k3GPYeG1CXzkWxwYtJ_160M=s64",
      "userId": "06106219622026670571"
     },
     "user_tz": 300
    },
    "id": "ItY1lnQbNiBz",
    "outputId": "3583b7e6-4d94-4f2d-9809-ced23f4bb01e"
   },
   "outputs": [],
   "source": [
    "'1,2,3,4,5'.rsplit(',')"
   ]
  },
  {
   "cell_type": "code",
   "execution_count": null,
   "metadata": {
    "colab": {
     "base_uri": "https://localhost:8080/"
    },
    "executionInfo": {
     "elapsed": 49,
     "status": "ok",
     "timestamp": 1646284700803,
     "user": {
      "displayName": "Alexander Zuluaga Quintero",
      "photoUrl": "https://lh3.googleusercontent.com/a-/AOh14Gi5bptZVpT8uPV-rsu1k3GPYeG1CXzkWxwYtJ_160M=s64",
      "userId": "06106219622026670571"
     },
     "user_tz": 300
    },
    "id": "E-ujzwciNiBz",
    "outputId": "7f95e08f-b13d-4f33-edb1-f4a6088d44c6"
   },
   "outputs": [],
   "source": [
    "'hola\\nmundo\\ncruel'.splitlines()"
   ]
  },
  {
   "cell_type": "code",
   "execution_count": null,
   "metadata": {
    "executionInfo": {
     "elapsed": 48,
     "status": "ok",
     "timestamp": 1646284700803,
     "user": {
      "displayName": "Alexander Zuluaga Quintero",
      "photoUrl": "https://lh3.googleusercontent.com/a-/AOh14Gi5bptZVpT8uPV-rsu1k3GPYeG1CXzkWxwYtJ_160M=s64",
      "userId": "06106219622026670571"
     },
     "user_tz": 300
    },
    "id": "cJ7xFTSVNiBz"
   },
   "outputs": [],
   "source": [
    "# concatenación de strings\n",
    "x = 'foo'\n",
    "y = 'bar'\n",
    "xy = x + y              # Ok\n",
    "x += 'ooo'              # Mal\n",
    "x = ''.join([x, 'ooo']) # Alternativa"
   ]
  },
  {
   "cell_type": "markdown",
   "metadata": {
    "id": "JspSX3omNiBz"
   },
   "source": [
    "En Python, los strings son vectores de caracteres; el primer caracter ocupa la posición 0, el segundo la 1 y así sucesivamente. Los índices negativos (iniciando en `-1`) se usan para indicar la posición contando desde atrás. Poe ejemplo: \n",
    " \n",
    "     +---+---+---+---+---+---+\n",
    "     | P | y | t | h | o | n |\n",
    "     +---+---+---+---+---+---+\n",
    "     0   1   2   3   4   5   \n",
    "    -6  -5  -4  -3  -2  -1"
   ]
  },
  {
   "cell_type": "code",
   "execution_count": null,
   "metadata": {
    "colab": {
     "base_uri": "https://localhost:8080/",
     "height": 35
    },
    "executionInfo": {
     "elapsed": 49,
     "status": "ok",
     "timestamp": 1646284700804,
     "user": {
      "displayName": "Alexander Zuluaga Quintero",
      "photoUrl": "https://lh3.googleusercontent.com/a-/AOh14Gi5bptZVpT8uPV-rsu1k3GPYeG1CXzkWxwYtJ_160M=s64",
      "userId": "06106219622026670571"
     },
     "user_tz": 300
    },
    "id": "YkMcHObeNiB0",
    "outputId": "e925c137-74e8-4c36-bc55-a0e02ecf5899"
   },
   "outputs": [],
   "source": [
    "word = 'Python'\n",
    "word[0]    # caracter en la posición 0"
   ]
  },
  {
   "cell_type": "code",
   "execution_count": null,
   "metadata": {
    "colab": {
     "base_uri": "https://localhost:8080/",
     "height": 35
    },
    "executionInfo": {
     "elapsed": 48,
     "status": "ok",
     "timestamp": 1646284700805,
     "user": {
      "displayName": "Alexander Zuluaga Quintero",
      "photoUrl": "https://lh3.googleusercontent.com/a-/AOh14Gi5bptZVpT8uPV-rsu1k3GPYeG1CXzkWxwYtJ_160M=s64",
      "userId": "06106219622026670571"
     },
     "user_tz": 300
    },
    "id": "u-E0pDr5NiB0",
    "outputId": "ce1c532a-125e-47b8-cec1-f2b3973f53cb"
   },
   "outputs": [],
   "source": [
    "word[5]    # caracter en la posición 5"
   ]
  },
  {
   "cell_type": "code",
   "execution_count": null,
   "metadata": {
    "colab": {
     "base_uri": "https://localhost:8080/",
     "height": 35
    },
    "executionInfo": {
     "elapsed": 47,
     "status": "ok",
     "timestamp": 1646284700805,
     "user": {
      "displayName": "Alexander Zuluaga Quintero",
      "photoUrl": "https://lh3.googleusercontent.com/a-/AOh14Gi5bptZVpT8uPV-rsu1k3GPYeG1CXzkWxwYtJ_160M=s64",
      "userId": "06106219622026670571"
     },
     "user_tz": 300
    },
    "id": "y557V_M8NiB0",
    "outputId": "61d4f267-6221-4c8b-ff35-63a100475074"
   },
   "outputs": [],
   "source": [
    "word[-1]   # último caracter"
   ]
  },
  {
   "cell_type": "code",
   "execution_count": null,
   "metadata": {
    "colab": {
     "base_uri": "https://localhost:8080/",
     "height": 35
    },
    "executionInfo": {
     "elapsed": 47,
     "status": "ok",
     "timestamp": 1646284700806,
     "user": {
      "displayName": "Alexander Zuluaga Quintero",
      "photoUrl": "https://lh3.googleusercontent.com/a-/AOh14Gi5bptZVpT8uPV-rsu1k3GPYeG1CXzkWxwYtJ_160M=s64",
      "userId": "06106219622026670571"
     },
     "user_tz": 300
    },
    "id": "mMzedfm-NiB0",
    "outputId": "abbb5f29-1596-4479-ad34-886564a6f39a"
   },
   "outputs": [],
   "source": [
    "word[-2]   # antepenúltimo caracter"
   ]
  },
  {
   "cell_type": "code",
   "execution_count": null,
   "metadata": {
    "colab": {
     "base_uri": "https://localhost:8080/",
     "height": 35
    },
    "executionInfo": {
     "elapsed": 305,
     "status": "ok",
     "timestamp": 1646284820380,
     "user": {
      "displayName": "Alexander Zuluaga Quintero",
      "photoUrl": "https://lh3.googleusercontent.com/a-/AOh14Gi5bptZVpT8uPV-rsu1k3GPYeG1CXzkWxwYtJ_160M=s64",
      "userId": "06106219622026670571"
     },
     "user_tz": 300
    },
    "id": "g6eEGH3GNiB0",
    "outputId": "cdf5464e-80ec-4641-ea53-3c2c19ca5311"
   },
   "outputs": [],
   "source": [
    "word[-6]   # primer caracter "
   ]
  },
  {
   "cell_type": "code",
   "execution_count": null,
   "metadata": {
    "colab": {
     "base_uri": "https://localhost:8080/",
     "height": 35
    },
    "executionInfo": {
     "elapsed": 23,
     "status": "ok",
     "timestamp": 1646284820699,
     "user": {
      "displayName": "Alexander Zuluaga Quintero",
      "photoUrl": "https://lh3.googleusercontent.com/a-/AOh14Gi5bptZVpT8uPV-rsu1k3GPYeG1CXzkWxwYtJ_160M=s64",
      "userId": "06106219622026670571"
     },
     "user_tz": 300
    },
    "id": "8swQcbe1NiB4",
    "outputId": "3dab3dc4-ad92-4f24-e0d4-ac34f29b6f9f"
   },
   "outputs": [],
   "source": [
    "word[0:2]  # el operador `:` se usa para indicar rangos"
   ]
  },
  {
   "cell_type": "code",
   "execution_count": null,
   "metadata": {
    "colab": {
     "base_uri": "https://localhost:8080/",
     "height": 35
    },
    "executionInfo": {
     "elapsed": 22,
     "status": "ok",
     "timestamp": 1646284820700,
     "user": {
      "displayName": "Alexander Zuluaga Quintero",
      "photoUrl": "https://lh3.googleusercontent.com/a-/AOh14Gi5bptZVpT8uPV-rsu1k3GPYeG1CXzkWxwYtJ_160M=s64",
      "userId": "06106219622026670571"
     },
     "user_tz": 300
    },
    "id": "KjRf1QqUNiB4",
    "outputId": "8f166ac2-191f-4579-dfab-e5017173366b"
   },
   "outputs": [],
   "source": [
    "word[:2]   # ':2' indica desde el principio hasta la posición 2 (sin incluirla)"
   ]
  },
  {
   "cell_type": "code",
   "execution_count": null,
   "metadata": {
    "colab": {
     "base_uri": "https://localhost:8080/",
     "height": 35
    },
    "executionInfo": {
     "elapsed": 22,
     "status": "ok",
     "timestamp": 1646284820701,
     "user": {
      "displayName": "Alexander Zuluaga Quintero",
      "photoUrl": "https://lh3.googleusercontent.com/a-/AOh14Gi5bptZVpT8uPV-rsu1k3GPYeG1CXzkWxwYtJ_160M=s64",
      "userId": "06106219622026670571"
     },
     "user_tz": 300
    },
    "id": "fOkJay5FNiB4",
    "outputId": "f024e8b3-dde2-462d-e703-7fd29b6de1d0"
   },
   "outputs": [],
   "source": [
    "word[2:5]"
   ]
  },
  {
   "cell_type": "code",
   "execution_count": null,
   "metadata": {
    "colab": {
     "base_uri": "https://localhost:8080/",
     "height": 35
    },
    "executionInfo": {
     "elapsed": 22,
     "status": "ok",
     "timestamp": 1646284820702,
     "user": {
      "displayName": "Alexander Zuluaga Quintero",
      "photoUrl": "https://lh3.googleusercontent.com/a-/AOh14Gi5bptZVpT8uPV-rsu1k3GPYeG1CXzkWxwYtJ_160M=s64",
      "userId": "06106219622026670571"
     },
     "user_tz": 300
    },
    "id": "hvSREK0SNiB5",
    "outputId": "8cf8cfa0-f944-41c2-f111-d85c9e845c34"
   },
   "outputs": [],
   "source": [
    "word[2:]   # desde la posición 2 hasta el final"
   ]
  },
  {
   "cell_type": "code",
   "execution_count": null,
   "metadata": {
    "colab": {
     "base_uri": "https://localhost:8080/",
     "height": 35
    },
    "executionInfo": {
     "elapsed": 22,
     "status": "ok",
     "timestamp": 1646284820702,
     "user": {
      "displayName": "Alexander Zuluaga Quintero",
      "photoUrl": "https://lh3.googleusercontent.com/a-/AOh14Gi5bptZVpT8uPV-rsu1k3GPYeG1CXzkWxwYtJ_160M=s64",
      "userId": "06106219622026670571"
     },
     "user_tz": 300
    },
    "id": "QBFZy1h8NiB5",
    "outputId": "0ed62084-da58-432a-e04d-e5dddb47bd91"
   },
   "outputs": [],
   "source": [
    "word[:2] + word[2:]  "
   ]
  },
  {
   "cell_type": "code",
   "execution_count": null,
   "metadata": {
    "colab": {
     "base_uri": "https://localhost:8080/",
     "height": 35
    },
    "executionInfo": {
     "elapsed": 22,
     "status": "ok",
     "timestamp": 1646284820703,
     "user": {
      "displayName": "Alexander Zuluaga Quintero",
      "photoUrl": "https://lh3.googleusercontent.com/a-/AOh14Gi5bptZVpT8uPV-rsu1k3GPYeG1CXzkWxwYtJ_160M=s64",
      "userId": "06106219622026670571"
     },
     "user_tz": 300
    },
    "id": "Yu6DnCgNNiB5",
    "outputId": "a8bbb6ef-2131-4c17-9294-ed505bc2411b"
   },
   "outputs": [],
   "source": [
    "word[:4] + word[4:]"
   ]
  },
  {
   "cell_type": "code",
   "execution_count": null,
   "metadata": {
    "colab": {
     "base_uri": "https://localhost:8080/",
     "height": 35
    },
    "executionInfo": {
     "elapsed": 22,
     "status": "ok",
     "timestamp": 1646284820704,
     "user": {
      "displayName": "Alexander Zuluaga Quintero",
      "photoUrl": "https://lh3.googleusercontent.com/a-/AOh14Gi5bptZVpT8uPV-rsu1k3GPYeG1CXzkWxwYtJ_160M=s64",
      "userId": "06106219622026670571"
     },
     "user_tz": 300
    },
    "id": "-sJ9QgK6NiB5",
    "outputId": "0e6a9db4-3f00-46d3-820a-4eeb98748ac3"
   },
   "outputs": [],
   "source": [
    "word[-2:]  # desde la posición -2 hasta el final, o sea, los últimos dos caracteres."
   ]
  },
  {
   "cell_type": "code",
   "execution_count": null,
   "metadata": {
    "colab": {
     "base_uri": "https://localhost:8080/",
     "height": 35
    },
    "executionInfo": {
     "elapsed": 21,
     "status": "ok",
     "timestamp": 1646284820704,
     "user": {
      "displayName": "Alexander Zuluaga Quintero",
      "photoUrl": "https://lh3.googleusercontent.com/a-/AOh14Gi5bptZVpT8uPV-rsu1k3GPYeG1CXzkWxwYtJ_160M=s64",
      "userId": "06106219622026670571"
     },
     "user_tz": 300
    },
    "id": "D9mpsCReNiB6",
    "outputId": "babdc22f-e575-47fc-cb98-9fb5acecd938"
   },
   "outputs": [],
   "source": [
    "word[:]    # desde el primero hasta el último caracter."
   ]
  },
  {
   "cell_type": "code",
   "execution_count": null,
   "metadata": {
    "colab": {
     "base_uri": "https://localhost:8080/"
    },
    "executionInfo": {
     "elapsed": 21,
     "status": "ok",
     "timestamp": 1646284820705,
     "user": {
      "displayName": "Alexander Zuluaga Quintero",
      "photoUrl": "https://lh3.googleusercontent.com/a-/AOh14Gi5bptZVpT8uPV-rsu1k3GPYeG1CXzkWxwYtJ_160M=s64",
      "userId": "06106219622026670571"
     },
     "user_tz": 300
    },
    "id": "uKx2ofO0NiB6",
    "outputId": "162a4c1f-7960-4851-b701-15cb4d889872"
   },
   "outputs": [],
   "source": [
    "s = 'abcde'  # la función len calcula la longitud de una cadena de caracteres.\n",
    "len(s)"
   ]
  },
  {
   "cell_type": "markdown",
   "metadata": {
    "id": "cvU4olnQNiB6"
   },
   "source": [
    "**Ejercicio.** Convierta las letras en las posiciones 3, 6, ... de la cadena `'abcdefghijklm'` en mayúsculas."
   ]
  },
  {
   "cell_type": "markdown",
   "metadata": {
    "id": "RdDRT-AkNiB6"
   },
   "source": [
    "# Listas"
   ]
  },
  {
   "cell_type": "markdown",
   "metadata": {
    "id": "dHUSCHLwNiB6"
   },
   "source": [
    "[Contenido](#Contenido)"
   ]
  },
  {
   "cell_type": "markdown",
   "metadata": {
    "id": "cER2yLXONiB6"
   },
   "source": [
    "Las listas son una de las principales estructuras para almacenar información en Python. En esta primera parte se presentan los elementos más básicos sobre el manejo de listas. Una revisión más detallada es presentada en este mismo documento más adelante."
   ]
  },
  {
   "cell_type": "code",
   "execution_count": null,
   "metadata": {
    "colab": {
     "base_uri": "https://localhost:8080/"
    },
    "executionInfo": {
     "elapsed": 331,
     "status": "ok",
     "timestamp": 1646284821019,
     "user": {
      "displayName": "Alexander Zuluaga Quintero",
      "photoUrl": "https://lh3.googleusercontent.com/a-/AOh14Gi5bptZVpT8uPV-rsu1k3GPYeG1CXzkWxwYtJ_160M=s64",
      "userId": "06106219622026670571"
     },
     "user_tz": 300
    },
    "id": "wjpHlW1iNiB7",
    "outputId": "cdbc8b77-023c-474d-eac0-19367c3d3326"
   },
   "outputs": [],
   "source": [
    "['hola', 1, 0.98]"
   ]
  },
  {
   "cell_type": "code",
   "execution_count": null,
   "metadata": {
    "colab": {
     "base_uri": "https://localhost:8080/"
    },
    "executionInfo": {
     "elapsed": 38,
     "status": "ok",
     "timestamp": 1646284821020,
     "user": {
      "displayName": "Alexander Zuluaga Quintero",
      "photoUrl": "https://lh3.googleusercontent.com/a-/AOh14Gi5bptZVpT8uPV-rsu1k3GPYeG1CXzkWxwYtJ_160M=s64",
      "userId": "06106219622026670571"
     },
     "user_tz": 300
    },
    "id": "b-h0HLdmNiB7",
    "outputId": "9fecde36-3332-408d-f018-e8c0087eabe4"
   },
   "outputs": [],
   "source": [
    "squares = [1, 4, 9, 16, 25]  # las listas se crean delimitando sus elementos entre [ y ]\n",
    "squares"
   ]
  },
  {
   "cell_type": "code",
   "execution_count": null,
   "metadata": {
    "colab": {
     "base_uri": "https://localhost:8080/"
    },
    "executionInfo": {
     "elapsed": 37,
     "status": "ok",
     "timestamp": 1646284821021,
     "user": {
      "displayName": "Alexander Zuluaga Quintero",
      "photoUrl": "https://lh3.googleusercontent.com/a-/AOh14Gi5bptZVpT8uPV-rsu1k3GPYeG1CXzkWxwYtJ_160M=s64",
      "userId": "06106219622026670571"
     },
     "user_tz": 300
    },
    "id": "qCXnj6JRNiB7",
    "outputId": "e604c1af-f979-4054-d39d-e8e1abe2f8a3"
   },
   "outputs": [],
   "source": [
    "squares[0]  # Sus elementos se indexan desde cero al igual que en los strings"
   ]
  },
  {
   "cell_type": "code",
   "execution_count": null,
   "metadata": {
    "colab": {
     "base_uri": "https://localhost:8080/"
    },
    "executionInfo": {
     "elapsed": 36,
     "status": "ok",
     "timestamp": 1646284821021,
     "user": {
      "displayName": "Alexander Zuluaga Quintero",
      "photoUrl": "https://lh3.googleusercontent.com/a-/AOh14Gi5bptZVpT8uPV-rsu1k3GPYeG1CXzkWxwYtJ_160M=s64",
      "userId": "06106219622026670571"
     },
     "user_tz": 300
    },
    "id": "f6vj9MPMNiB7",
    "outputId": "db52b7eb-e0cf-4730-9f86-ca9b09d4e9ef"
   },
   "outputs": [],
   "source": [
    "squares[-1] # también funcionan los índices negativos."
   ]
  },
  {
   "cell_type": "code",
   "execution_count": null,
   "metadata": {
    "colab": {
     "base_uri": "https://localhost:8080/"
    },
    "executionInfo": {
     "elapsed": 35,
     "status": "ok",
     "timestamp": 1646284821022,
     "user": {
      "displayName": "Alexander Zuluaga Quintero",
      "photoUrl": "https://lh3.googleusercontent.com/a-/AOh14Gi5bptZVpT8uPV-rsu1k3GPYeG1CXzkWxwYtJ_160M=s64",
      "userId": "06106219622026670571"
     },
     "user_tz": 300
    },
    "id": "krgyrxnpNiB7",
    "outputId": "19cb18bc-e275-4780-9d6b-82c9dbc0954d"
   },
   "outputs": [],
   "source": [
    "squares[-3:]  # desde la posición -3 hasta el final"
   ]
  },
  {
   "cell_type": "code",
   "execution_count": null,
   "metadata": {
    "colab": {
     "base_uri": "https://localhost:8080/"
    },
    "executionInfo": {
     "elapsed": 35,
     "status": "ok",
     "timestamp": 1646284821023,
     "user": {
      "displayName": "Alexander Zuluaga Quintero",
      "photoUrl": "https://lh3.googleusercontent.com/a-/AOh14Gi5bptZVpT8uPV-rsu1k3GPYeG1CXzkWxwYtJ_160M=s64",
      "userId": "06106219622026670571"
     },
     "user_tz": 300
    },
    "id": "EbRhxJPRNiB7",
    "outputId": "4f578dec-ad87-451d-c33f-bdb8683b889b"
   },
   "outputs": [],
   "source": [
    "squares[:]  # desde el primer hasta el último elemento."
   ]
  },
  {
   "cell_type": "code",
   "execution_count": null,
   "metadata": {
    "colab": {
     "base_uri": "https://localhost:8080/"
    },
    "executionInfo": {
     "elapsed": 35,
     "status": "ok",
     "timestamp": 1646284821024,
     "user": {
      "displayName": "Alexander Zuluaga Quintero",
      "photoUrl": "https://lh3.googleusercontent.com/a-/AOh14Gi5bptZVpT8uPV-rsu1k3GPYeG1CXzkWxwYtJ_160M=s64",
      "userId": "06106219622026670571"
     },
     "user_tz": 300
    },
    "id": "1Cd1bxNNNiB8",
    "outputId": "4dcdad2f-79b0-4e8c-a55a-675d8d48b2cf"
   },
   "outputs": [],
   "source": [
    "squares + [36, 49, 64, 81, 100]  # concatenacion de listas usando el operador +"
   ]
  },
  {
   "cell_type": "code",
   "execution_count": null,
   "metadata": {
    "colab": {
     "base_uri": "https://localhost:8080/"
    },
    "executionInfo": {
     "elapsed": 36,
     "status": "ok",
     "timestamp": 1646284821026,
     "user": {
      "displayName": "Alexander Zuluaga Quintero",
      "photoUrl": "https://lh3.googleusercontent.com/a-/AOh14Gi5bptZVpT8uPV-rsu1k3GPYeG1CXzkWxwYtJ_160M=s64",
      "userId": "06106219622026670571"
     },
     "user_tz": 300
    },
    "id": "63_VIlt3NiB8",
    "outputId": "6a3cc270-cda8-4694-95ee-f74e7670288b"
   },
   "outputs": [],
   "source": [
    "cubes = [1, 8, 27, 65, 125]  # lista de cubos con un elemento malo\n",
    "4 ** 3  # el cubo de 4 es 64, no 65!"
   ]
  },
  {
   "cell_type": "code",
   "execution_count": null,
   "metadata": {
    "colab": {
     "base_uri": "https://localhost:8080/"
    },
    "executionInfo": {
     "elapsed": 34,
     "status": "ok",
     "timestamp": 1646284821026,
     "user": {
      "displayName": "Alexander Zuluaga Quintero",
      "photoUrl": "https://lh3.googleusercontent.com/a-/AOh14Gi5bptZVpT8uPV-rsu1k3GPYeG1CXzkWxwYtJ_160M=s64",
      "userId": "06106219622026670571"
     },
     "user_tz": 300
    },
    "id": "qz0O9juBNiB8",
    "outputId": "6094f0f4-d6ef-406a-f424-d79f905bb8fd"
   },
   "outputs": [],
   "source": [
    "cubes[3] = 64  # se reemplaza el valor erróneo\n",
    "cubes"
   ]
  },
  {
   "cell_type": "code",
   "execution_count": null,
   "metadata": {
    "colab": {
     "base_uri": "https://localhost:8080/"
    },
    "executionInfo": {
     "elapsed": 34,
     "status": "ok",
     "timestamp": 1646284821027,
     "user": {
      "displayName": "Alexander Zuluaga Quintero",
      "photoUrl": "https://lh3.googleusercontent.com/a-/AOh14Gi5bptZVpT8uPV-rsu1k3GPYeG1CXzkWxwYtJ_160M=s64",
      "userId": "06106219622026670571"
     },
     "user_tz": 300
    },
    "id": "2BpAhBKTNiB8",
    "outputId": "3a1c77b3-e16b-48c1-8688-9c8ef6694070"
   },
   "outputs": [],
   "source": [
    "cubes.append(216)     # se agrega el cubo de 6 al final de la lista.\n",
    "cubes.append(7 ** 3)  # y nuevamente se agrega el cubo de 7 al final\n",
    "cubes"
   ]
  },
  {
   "cell_type": "code",
   "execution_count": null,
   "metadata": {
    "colab": {
     "base_uri": "https://localhost:8080/"
    },
    "executionInfo": {
     "elapsed": 33,
     "status": "ok",
     "timestamp": 1646284821028,
     "user": {
      "displayName": "Alexander Zuluaga Quintero",
      "photoUrl": "https://lh3.googleusercontent.com/a-/AOh14Gi5bptZVpT8uPV-rsu1k3GPYeG1CXzkWxwYtJ_160M=s64",
      "userId": "06106219622026670571"
     },
     "user_tz": 300
    },
    "id": "nw_jn70kNiB8",
    "outputId": "3905f923-e107-4cc3-c84e-2bd6a2c9afaf"
   },
   "outputs": [],
   "source": [
    "cubes = cubes + [1500, 1600]\n",
    "cubes"
   ]
  },
  {
   "cell_type": "code",
   "execution_count": null,
   "metadata": {
    "colab": {
     "base_uri": "https://localhost:8080/"
    },
    "executionInfo": {
     "elapsed": 32,
     "status": "ok",
     "timestamp": 1646284821028,
     "user": {
      "displayName": "Alexander Zuluaga Quintero",
      "photoUrl": "https://lh3.googleusercontent.com/a-/AOh14Gi5bptZVpT8uPV-rsu1k3GPYeG1CXzkWxwYtJ_160M=s64",
      "userId": "06106219622026670571"
     },
     "user_tz": 300
    },
    "id": "zRZ7jTbDNiB9",
    "outputId": "035ef778-0bcb-412e-8060-40da75039db8"
   },
   "outputs": [],
   "source": [
    "cubes + [10]"
   ]
  },
  {
   "cell_type": "code",
   "execution_count": null,
   "metadata": {
    "colab": {
     "base_uri": "https://localhost:8080/"
    },
    "executionInfo": {
     "elapsed": 32,
     "status": "ok",
     "timestamp": 1646284821029,
     "user": {
      "displayName": "Alexander Zuluaga Quintero",
      "photoUrl": "https://lh3.googleusercontent.com/a-/AOh14Gi5bptZVpT8uPV-rsu1k3GPYeG1CXzkWxwYtJ_160M=s64",
      "userId": "06106219622026670571"
     },
     "user_tz": 300
    },
    "id": "EQzPeG31NiB9",
    "outputId": "c0417e6f-c700-4ef3-ca71-934cef5c35ff"
   },
   "outputs": [],
   "source": [
    "letters = ['a', 'b', 'c', 'd', 'e', 'f', 'g'] \n",
    "letters"
   ]
  },
  {
   "cell_type": "code",
   "execution_count": null,
   "metadata": {
    "colab": {
     "base_uri": "https://localhost:8080/"
    },
    "executionInfo": {
     "elapsed": 31,
     "status": "ok",
     "timestamp": 1646284821029,
     "user": {
      "displayName": "Alexander Zuluaga Quintero",
      "photoUrl": "https://lh3.googleusercontent.com/a-/AOh14Gi5bptZVpT8uPV-rsu1k3GPYeG1CXzkWxwYtJ_160M=s64",
      "userId": "06106219622026670571"
     },
     "user_tz": 300
    },
    "id": "exuhoYY7NiB9",
    "outputId": "27720376-eb34-4e3a-9672-f6374741615a"
   },
   "outputs": [],
   "source": [
    "letters[2:5] = ['C', 'D', 'E']  # se puede reemplazar un rango de posiciones \n",
    "letters"
   ]
  },
  {
   "cell_type": "code",
   "execution_count": null,
   "metadata": {
    "colab": {
     "base_uri": "https://localhost:8080/"
    },
    "executionInfo": {
     "elapsed": 30,
     "status": "ok",
     "timestamp": 1646284821030,
     "user": {
      "displayName": "Alexander Zuluaga Quintero",
      "photoUrl": "https://lh3.googleusercontent.com/a-/AOh14Gi5bptZVpT8uPV-rsu1k3GPYeG1CXzkWxwYtJ_160M=s64",
      "userId": "06106219622026670571"
     },
     "user_tz": 300
    },
    "id": "qLQUFB2fNiB9",
    "outputId": "cc5710eb-f963-4cc3-f28c-cd1d2df65378"
   },
   "outputs": [],
   "source": [
    "letters[2:5] = []  # ahora se remueven.\n",
    "letters"
   ]
  },
  {
   "cell_type": "code",
   "execution_count": null,
   "metadata": {
    "colab": {
     "base_uri": "https://localhost:8080/"
    },
    "executionInfo": {
     "elapsed": 29,
     "status": "ok",
     "timestamp": 1646284821031,
     "user": {
      "displayName": "Alexander Zuluaga Quintero",
      "photoUrl": "https://lh3.googleusercontent.com/a-/AOh14Gi5bptZVpT8uPV-rsu1k3GPYeG1CXzkWxwYtJ_160M=s64",
      "userId": "06106219622026670571"
     },
     "user_tz": 300
    },
    "id": "Ln-I9Dg8NiB9",
    "outputId": "7ccf6768-8bd7-4f96-fd67-b7695421964b"
   },
   "outputs": [],
   "source": [
    "letters = ['a', 'b', 'c', 'd', 'e', 'f', 'g'] \n",
    "letters"
   ]
  },
  {
   "cell_type": "code",
   "execution_count": null,
   "metadata": {
    "colab": {
     "base_uri": "https://localhost:8080/"
    },
    "executionInfo": {
     "elapsed": 29,
     "status": "ok",
     "timestamp": 1646284821032,
     "user": {
      "displayName": "Alexander Zuluaga Quintero",
      "photoUrl": "https://lh3.googleusercontent.com/a-/AOh14Gi5bptZVpT8uPV-rsu1k3GPYeG1CXzkWxwYtJ_160M=s64",
      "userId": "06106219622026670571"
     },
     "user_tz": 300
    },
    "id": "k3hjn2CxNiB9",
    "outputId": "606480a3-7f76-44bf-f495-681205ff8ebd"
   },
   "outputs": [],
   "source": [
    "letters[0:7:2] # cada 2"
   ]
  },
  {
   "cell_type": "code",
   "execution_count": null,
   "metadata": {
    "colab": {
     "base_uri": "https://localhost:8080/"
    },
    "executionInfo": {
     "elapsed": 27,
     "status": "ok",
     "timestamp": 1646284821032,
     "user": {
      "displayName": "Alexander Zuluaga Quintero",
      "photoUrl": "https://lh3.googleusercontent.com/a-/AOh14Gi5bptZVpT8uPV-rsu1k3GPYeG1CXzkWxwYtJ_160M=s64",
      "userId": "06106219622026670571"
     },
     "user_tz": 300
    },
    "id": "OU5J8b2pNiB-",
    "outputId": "a26a46e5-1e64-41c3-c7c0-adb57070cb6c"
   },
   "outputs": [],
   "source": [
    "letters[0:7:2] = ['A', 'C', 'E', 'G']\n",
    "letters"
   ]
  },
  {
   "cell_type": "code",
   "execution_count": null,
   "metadata": {
    "colab": {
     "base_uri": "https://localhost:8080/"
    },
    "executionInfo": {
     "elapsed": 27,
     "status": "ok",
     "timestamp": 1646284821033,
     "user": {
      "displayName": "Alexander Zuluaga Quintero",
      "photoUrl": "https://lh3.googleusercontent.com/a-/AOh14Gi5bptZVpT8uPV-rsu1k3GPYeG1CXzkWxwYtJ_160M=s64",
      "userId": "06106219622026670571"
     },
     "user_tz": 300
    },
    "id": "kY9A1hE2NiB-",
    "outputId": "4f8933c9-1d9a-486a-95bc-bbf09085317b"
   },
   "outputs": [],
   "source": [
    "letters[:] = []  # borrado del contenido de la lista\n",
    "letters"
   ]
  },
  {
   "cell_type": "code",
   "execution_count": null,
   "metadata": {
    "colab": {
     "base_uri": "https://localhost:8080/"
    },
    "executionInfo": {
     "elapsed": 25,
     "status": "ok",
     "timestamp": 1646284821033,
     "user": {
      "displayName": "Alexander Zuluaga Quintero",
      "photoUrl": "https://lh3.googleusercontent.com/a-/AOh14Gi5bptZVpT8uPV-rsu1k3GPYeG1CXzkWxwYtJ_160M=s64",
      "userId": "06106219622026670571"
     },
     "user_tz": 300
    },
    "id": "MONIdEyRNiB-",
    "outputId": "5f09b50f-75a2-4010-98a4-30f2bd44c35c"
   },
   "outputs": [],
   "source": [
    "letters = ['a', 'b', 'c', 'd'] # la función len retorna la longitud de la lista\n",
    "len(letters)"
   ]
  },
  {
   "cell_type": "code",
   "execution_count": null,
   "metadata": {
    "colab": {
     "base_uri": "https://localhost:8080/"
    },
    "executionInfo": {
     "elapsed": 24,
     "status": "ok",
     "timestamp": 1646284821034,
     "user": {
      "displayName": "Alexander Zuluaga Quintero",
      "photoUrl": "https://lh3.googleusercontent.com/a-/AOh14Gi5bptZVpT8uPV-rsu1k3GPYeG1CXzkWxwYtJ_160M=s64",
      "userId": "06106219622026670571"
     },
     "user_tz": 300
    },
    "id": "S30E5ey4NiB-",
    "outputId": "ac7777e6-7a93-4b93-aa99-7c10eaa05e1a"
   },
   "outputs": [],
   "source": [
    "a = ['a', 'b', 'c'] # los elementos de las listas pueden ser de cualquier tipo.\n",
    "n = [1, 2, 3]\n",
    "x = [a, n]          # x es una lista de listas\n",
    "x"
   ]
  },
  {
   "cell_type": "code",
   "execution_count": null,
   "metadata": {
    "colab": {
     "base_uri": "https://localhost:8080/"
    },
    "executionInfo": {
     "elapsed": 275,
     "status": "ok",
     "timestamp": 1646284821287,
     "user": {
      "displayName": "Alexander Zuluaga Quintero",
      "photoUrl": "https://lh3.googleusercontent.com/a-/AOh14Gi5bptZVpT8uPV-rsu1k3GPYeG1CXzkWxwYtJ_160M=s64",
      "userId": "06106219622026670571"
     },
     "user_tz": 300
    },
    "id": "ap2kPgUkNiB-",
    "outputId": "6bbef7d3-0a47-4a5f-9e1b-0456e5310087"
   },
   "outputs": [],
   "source": [
    "x[0]  # el primer elemento de x"
   ]
  },
  {
   "cell_type": "code",
   "execution_count": null,
   "metadata": {
    "colab": {
     "base_uri": "https://localhost:8080/",
     "height": 35
    },
    "executionInfo": {
     "elapsed": 23,
     "status": "ok",
     "timestamp": 1646284821287,
     "user": {
      "displayName": "Alexander Zuluaga Quintero",
      "photoUrl": "https://lh3.googleusercontent.com/a-/AOh14Gi5bptZVpT8uPV-rsu1k3GPYeG1CXzkWxwYtJ_160M=s64",
      "userId": "06106219622026670571"
     },
     "user_tz": 300
    },
    "id": "-3mhfBlJNiB_",
    "outputId": "60d9ada1-1e4f-453a-a5f4-10bd00c44da4"
   },
   "outputs": [],
   "source": [
    "x[0][1]  # el elemento en la posición 1 de la primera lista"
   ]
  },
  {
   "cell_type": "code",
   "execution_count": null,
   "metadata": {
    "colab": {
     "base_uri": "https://localhost:8080/"
    },
    "executionInfo": {
     "elapsed": 22,
     "status": "ok",
     "timestamp": 1646284821288,
     "user": {
      "displayName": "Alexander Zuluaga Quintero",
      "photoUrl": "https://lh3.googleusercontent.com/a-/AOh14Gi5bptZVpT8uPV-rsu1k3GPYeG1CXzkWxwYtJ_160M=s64",
      "userId": "06106219622026670571"
     },
     "user_tz": 300
    },
    "id": "Xt3kYJvkNiB_",
    "outputId": "c967dc38-e893-4998-b803-4a7c1945593c"
   },
   "outputs": [],
   "source": [
    "x[1]  # el segundo elemento de x"
   ]
  },
  {
   "cell_type": "code",
   "execution_count": null,
   "metadata": {
    "colab": {
     "base_uri": "https://localhost:8080/"
    },
    "executionInfo": {
     "elapsed": 20,
     "status": "ok",
     "timestamp": 1646284821289,
     "user": {
      "displayName": "Alexander Zuluaga Quintero",
      "photoUrl": "https://lh3.googleusercontent.com/a-/AOh14Gi5bptZVpT8uPV-rsu1k3GPYeG1CXzkWxwYtJ_160M=s64",
      "userId": "06106219622026670571"
     },
     "user_tz": 300
    },
    "id": "7ZJ3_WHhNiB_",
    "outputId": "b69a6675-8b04-4399-a770-3c5fcb561969"
   },
   "outputs": [],
   "source": [
    "x[1][2] # el elemento en la posición 2 de la segunda lista"
   ]
  },
  {
   "cell_type": "markdown",
   "metadata": {
    "id": "NyvuxPrLNiB_"
   },
   "source": [
    "**Ejercicio.** Escriba la función `car` que recibe como argumento una lista y devuelve el primer elemento.\n",
    "```\n",
    "car([1, 2 ,3)]   ==>  1\n",
    "car([[1, 2], [3, 4], [5, 6]])  ==> [1, 2]\n",
    "```"
   ]
  },
  {
   "cell_type": "markdown",
   "metadata": {
    "id": "eflcvhi0NiB_"
   },
   "source": [
    "**Ejercicio.** Escriba la función `cdr` que recibe una lista como argumento y devuelve la lista sin el primer elemento.\n",
    "```\n",
    "cdr([1, 2 ,3)]   ==>  [2, 4]\n",
    "cdr([[1, 2], [3, 4], [5, 6]])  ==> [[3, 4], [5, 6]]\n",
    "```"
   ]
  },
  {
   "cell_type": "markdown",
   "metadata": {
    "id": "lN-C01rWNiB_"
   },
   "source": [
    "[Contenido](#Contenido)"
   ]
  }
 ],
 "metadata": {
  "colab": {
   "collapsed_sections": [],
   "name": "02-uso-interactivo.ipynb",
   "provenance": []
  },
  "kernelspec": {
   "display_name": "Python 3 (ipykernel)",
   "language": "python",
   "name": "python3"
  },
  "language_info": {
   "codemirror_mode": {
    "name": "ipython",
    "version": 3
   },
   "file_extension": ".py",
   "mimetype": "text/x-python",
   "name": "python",
   "nbconvert_exporter": "python",
   "pygments_lexer": "ipython3",
   "version": "3.8.12"
  }
 },
 "nbformat": 4,
 "nbformat_minor": 1
}
