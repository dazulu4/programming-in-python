{
 "cells": [
  {
   "cell_type": "markdown",
   "metadata": {
    "id": "CxNdbE7wPTIK"
   },
   "source": [
    "Manejo de archivos en Python\n",
    "===\n",
    "\n",
    "No en todos los casos los datos se toman directamente del usuario. Pueden surgir casos en los que tenga que obtener información de un archivo, en tales casos, deberá conectar esos archivos con un programa que pueda leer, escribir o modificar los datos."
   ]
  },
  {
   "cell_type": "markdown",
   "metadata": {
    "id": "TXR3t2VXPTIO"
   },
   "source": [
    "#### Contenido"
   ]
  },
  {
   "cell_type": "markdown",
   "metadata": {
    "id": "G9SHawlPPTIP"
   },
   "source": [
    "* [Lectura y escritura de archivos con `open`](#Lectura-y-escritura-de-archivos-con-open)\n",
    "* [Lectura de archivos con la Python Standard Library](#Lectura-de-archivos-con-la-Python-Standard-Library)\n",
    "   * [Formato nativo de Python usando la PSL](#Formato-nativo-de-Python-usando-la-PSL)\n",
    "   * [TXT como formato libre usando la PSL](#TXT-como-formato-libre-usando-la-PSL)\n",
    "   * [TXT como tablas de texto delimitado usando la PSL](#TXT-como-tablas-de-texto-delimitado-usando-la-PSL)\n",
    "   * [JSON usando la PSL](#JSON-usando-la-PSL)\n",
    "* [Lectura y escritura de archivos usando Pandas](#Lectura-y-escritura-de-archivos-usando-Pandas)\n",
    "   * [Formato nativo de Python con Pandas](#Formato-nativo-de-Python-con-Pandas)\n",
    "   * [Archivos delimitados por caracteres con Pandas](#Archivos-delimitados-por-caracteres-con-Pandas)\n",
    "   * [TXT como tabla de texto con Pandas](#TXT-como-tabla-de-texto-con-Pandas)\n",
    "   * [Formato de ancho fijo con Pandas](#Formato-de-ancho-fijo-con-Pandas)\n",
    "   * [JSON con Pandas](#JSON-con-Pandas)\n",
    "   * [HTML con Pandas](#HTML-con-Pandas)\n",
    "   * [Excel con Pandas](#Excel-con-Pandas)"
   ]
  },
  {
   "cell_type": "markdown",
   "metadata": {
    "id": "szXm7JLlPTIQ"
   },
   "source": [
    "# Lectura y escritura de archivos con `open`"
   ]
  },
  {
   "cell_type": "markdown",
   "metadata": {
    "id": "OOuLbnbYPTIQ"
   },
   "source": [
    "[Contenido](#Contenido)"
   ]
  },
  {
   "cell_type": "markdown",
   "metadata": {
    "id": "xrMyWa26PTIR"
   },
   "source": [
    "> [`open`](https://docs.python.org/3/tutorial/inputoutput.html)\n"
   ]
  },
  {
   "cell_type": "markdown",
   "metadata": {
    "id": "lgfkvoCrPTIR"
   },
   "source": [
    "La función `open(` _`filename`_ `,` _`mode`_ `)` permite abrir el archivo llamada _`filename`_; _`mode`_  es una cadena de texto que especifica la forma en que se habre el archivo asi: `'r'` para lectura, `'w'` para escritura (borra el contenido del archivo) y `'a'` para escribir al final (append); adicionalmente, se puede agregar `'b'` para indicar que el archivo se abre en modo binario (por defecto se abre en mdoeo texto). `open` devuelve un objeto que permite manipuar el archivo. "
   ]
  },
  {
   "cell_type": "code",
   "execution_count": null,
   "metadata": {
    "colab": {
     "base_uri": "https://localhost:8080/"
    },
    "executionInfo": {
     "elapsed": 42,
     "status": "ok",
     "timestamp": 1646285184372,
     "user": {
      "displayName": "Alexander Zuluaga Quintero",
      "photoUrl": "https://lh3.googleusercontent.com/a-/AOh14Gi5bptZVpT8uPV-rsu1k3GPYeG1CXzkWxwYtJ_160M=s64",
      "userId": "06106219622026670571"
     },
     "user_tz": 300
    },
    "id": "BEjtx2b5PTIS",
    "outputId": "4ca434bf-b912-45b8-ba3d-e5fa5a7f48c4"
   },
   "outputs": [],
   "source": [
    "# abre el archivo, escribe y luego lo cierra.\n",
    "open('out.1', 'w').write('linea 1\\nlinea 2\\nlinea 3\\n') # retorna la cantidad de caracteres escritos"
   ]
  },
  {
   "cell_type": "code",
   "execution_count": null,
   "metadata": {
    "colab": {
     "base_uri": "https://localhost:8080/",
     "height": 35
    },
    "executionInfo": {
     "elapsed": 36,
     "status": "ok",
     "timestamp": 1646285184374,
     "user": {
      "displayName": "Alexander Zuluaga Quintero",
      "photoUrl": "https://lh3.googleusercontent.com/a-/AOh14Gi5bptZVpT8uPV-rsu1k3GPYeG1CXzkWxwYtJ_160M=s64",
      "userId": "06106219622026670571"
     },
     "user_tz": 300
    },
    "id": "J_EXpPKkPTIU",
    "outputId": "f2012807-6bcb-4cd2-e0f6-d71606b6a477"
   },
   "outputs": [],
   "source": [
    "# abre el archivo, lee todo el contenido del archivo y luego lo cierra.\n",
    "open('out.1', 'r').read()"
   ]
  },
  {
   "cell_type": "markdown",
   "metadata": {
    "id": "PMEGTiHiPTIV"
   },
   "source": [
    "En el siguiente ejemplo se ilustra como escribir en un archivo después de abrirlo."
   ]
  },
  {
   "cell_type": "code",
   "execution_count": null,
   "metadata": {
    "executionInfo": {
     "elapsed": 32,
     "status": "ok",
     "timestamp": 1646285184374,
     "user": {
      "displayName": "Alexander Zuluaga Quintero",
      "photoUrl": "https://lh3.googleusercontent.com/a-/AOh14Gi5bptZVpT8uPV-rsu1k3GPYeG1CXzkWxwYtJ_160M=s64",
      "userId": "06106219622026670571"
     },
     "user_tz": 300
    },
    "id": "4aNVgshMPTIV"
   },
   "outputs": [],
   "source": [
    "f = open('out.1', 'w') # abre el archivo para escritura\n",
    "\n",
    "# impresión de varias lineas en un solo print \n",
    "print(\"linea 1\", \"linea 2\", \"linea 3\", sep='\\n', file=f) \n",
    "\n",
    "# impresión de una línea por print\n",
    "print(\"linea 4\", file=f)   \n",
    "print(\"linea 5\", file=f)\n",
    "print(\"linea 6\", file=f)\n",
    "\n",
    "# impresión usando write\n",
    "f.write('linea 7')\n",
    "\n",
    "# cierra el archivo\n",
    "f.close()"
   ]
  },
  {
   "cell_type": "code",
   "execution_count": null,
   "metadata": {
    "colab": {
     "base_uri": "https://localhost:8080/",
     "height": 35
    },
    "executionInfo": {
     "elapsed": 31,
     "status": "ok",
     "timestamp": 1646285184375,
     "user": {
      "displayName": "Alexander Zuluaga Quintero",
      "photoUrl": "https://lh3.googleusercontent.com/a-/AOh14Gi5bptZVpT8uPV-rsu1k3GPYeG1CXzkWxwYtJ_160M=s64",
      "userId": "06106219622026670571"
     },
     "user_tz": 300
    },
    "id": "tj7I7Q-6PTIW",
    "outputId": "7eb660a1-1bf8-4b7c-dcb8-1c9a707f4b3a"
   },
   "outputs": [],
   "source": [
    "open('out.1', 'r').read()"
   ]
  },
  {
   "cell_type": "code",
   "execution_count": null,
   "metadata": {
    "colab": {
     "base_uri": "https://localhost:8080/"
    },
    "executionInfo": {
     "elapsed": 29,
     "status": "ok",
     "timestamp": 1646285184375,
     "user": {
      "displayName": "Alexander Zuluaga Quintero",
      "photoUrl": "https://lh3.googleusercontent.com/a-/AOh14Gi5bptZVpT8uPV-rsu1k3GPYeG1CXzkWxwYtJ_160M=s64",
      "userId": "06106219622026670571"
     },
     "user_tz": 300
    },
    "id": "mQpbphXOPTIW",
    "outputId": "8e189a4f-757f-4974-8318-b46308094d0c"
   },
   "outputs": [],
   "source": [
    "# impresión con formato del contenido de un archivo.\n",
    "print(open('out.1', 'r').read())"
   ]
  },
  {
   "cell_type": "code",
   "execution_count": null,
   "metadata": {
    "colab": {
     "base_uri": "https://localhost:8080/",
     "height": 35
    },
    "executionInfo": {
     "elapsed": 25,
     "status": "ok",
     "timestamp": 1646285184376,
     "user": {
      "displayName": "Alexander Zuluaga Quintero",
      "photoUrl": "https://lh3.googleusercontent.com/a-/AOh14Gi5bptZVpT8uPV-rsu1k3GPYeG1CXzkWxwYtJ_160M=s64",
      "userId": "06106219622026670571"
     },
     "user_tz": 300
    },
    "id": "73IiJk4xPTIX",
    "outputId": "51eff418-345e-4b4e-9abd-3e8b6b0debae"
   },
   "outputs": [],
   "source": [
    "# forma alternativa para leer el contenido de un archivo línea a línea.\n",
    "f = open('out.1', 'r')\n",
    "f.readline() # lee la primera línea."
   ]
  },
  {
   "cell_type": "code",
   "execution_count": null,
   "metadata": {
    "colab": {
     "base_uri": "https://localhost:8080/",
     "height": 35
    },
    "executionInfo": {
     "elapsed": 24,
     "status": "ok",
     "timestamp": 1646285184376,
     "user": {
      "displayName": "Alexander Zuluaga Quintero",
      "photoUrl": "https://lh3.googleusercontent.com/a-/AOh14Gi5bptZVpT8uPV-rsu1k3GPYeG1CXzkWxwYtJ_160M=s64",
      "userId": "06106219622026670571"
     },
     "user_tz": 300
    },
    "id": "LtRAXcArPTIX",
    "outputId": "c12cb3aa-b106-482e-b92d-ddb0ca5f7eda"
   },
   "outputs": [],
   "source": [
    "f.readline() # lee la segunda línea."
   ]
  },
  {
   "cell_type": "code",
   "execution_count": null,
   "metadata": {
    "colab": {
     "base_uri": "https://localhost:8080/",
     "height": 35
    },
    "executionInfo": {
     "elapsed": 23,
     "status": "ok",
     "timestamp": 1646285184377,
     "user": {
      "displayName": "Alexander Zuluaga Quintero",
      "photoUrl": "https://lh3.googleusercontent.com/a-/AOh14Gi5bptZVpT8uPV-rsu1k3GPYeG1CXzkWxwYtJ_160M=s64",
      "userId": "06106219622026670571"
     },
     "user_tz": 300
    },
    "id": "4oxd6yuuPTIX",
    "outputId": "3147c21d-d6e0-4a0b-f951-b9fede153f1a"
   },
   "outputs": [],
   "source": [
    "f.readline() # lee la tercera línea.\n",
    "# y así sucesivamente hasta alcanzar el final del archivo"
   ]
  },
  {
   "cell_type": "code",
   "execution_count": null,
   "metadata": {
    "executionInfo": {
     "elapsed": 23,
     "status": "ok",
     "timestamp": 1646285184378,
     "user": {
      "displayName": "Alexander Zuluaga Quintero",
      "photoUrl": "https://lh3.googleusercontent.com/a-/AOh14Gi5bptZVpT8uPV-rsu1k3GPYeG1CXzkWxwYtJ_160M=s64",
      "userId": "06106219622026670571"
     },
     "user_tz": 300
    },
    "id": "cBRIwkwoPTIY"
   },
   "outputs": [],
   "source": [
    "f.close() # cierra el archivo."
   ]
  },
  {
   "cell_type": "markdown",
   "metadata": {
    "id": "D0w9nlsEPTIY"
   },
   "source": [
    "Se almacena un texto en una variable."
   ]
  },
  {
   "cell_type": "code",
   "execution_count": null,
   "metadata": {
    "executionInfo": {
     "elapsed": 22,
     "status": "ok",
     "timestamp": 1646285184378,
     "user": {
      "displayName": "Alexander Zuluaga Quintero",
      "photoUrl": "https://lh3.googleusercontent.com/a-/AOh14Gi5bptZVpT8uPV-rsu1k3GPYeG1CXzkWxwYtJ_160M=s64",
      "userId": "06106219622026670571"
     },
     "user_tz": 300
    },
    "id": "DqZR7R_tPTIY"
   },
   "outputs": [],
   "source": [
    "txt = '''R is a programming language and software environment for statistical computing \n",
    "and graphics supported by the R Foundation for Statistical Computing.[3] The R language \n",
    "is widely used among statisticians and data miners for developing statistical software[4] \n",
    "and data analysis.[5] Polls, surveys of data miners, and studies of scholarly literature \n",
    "databases show that R's popularity has increased substantially in recent years.[6]\n",
    "'''"
   ]
  },
  {
   "cell_type": "code",
   "execution_count": null,
   "metadata": {
    "colab": {
     "base_uri": "https://localhost:8080/"
    },
    "executionInfo": {
     "elapsed": 23,
     "status": "ok",
     "timestamp": 1646285184379,
     "user": {
      "displayName": "Alexander Zuluaga Quintero",
      "photoUrl": "https://lh3.googleusercontent.com/a-/AOh14Gi5bptZVpT8uPV-rsu1k3GPYeG1CXzkWxwYtJ_160M=s64",
      "userId": "06106219622026670571"
     },
     "user_tz": 300
    },
    "id": "WEKk_f-wPTIY",
    "outputId": "f25414c5-8d15-4ac8-cd5e-468efd044724",
    "scrolled": true
   },
   "outputs": [],
   "source": [
    "print(txt)"
   ]
  },
  {
   "cell_type": "markdown",
   "metadata": {
    "id": "rmu4dTziPTIZ"
   },
   "source": [
    "Se escribe el contenido de la variable en el archivo."
   ]
  },
  {
   "cell_type": "code",
   "execution_count": null,
   "metadata": {
    "colab": {
     "base_uri": "https://localhost:8080/",
     "height": 183
    },
    "executionInfo": {
     "elapsed": 1788,
     "status": "error",
     "timestamp": 1646285186149,
     "user": {
      "displayName": "Alexander Zuluaga Quintero",
      "photoUrl": "https://lh3.googleusercontent.com/a-/AOh14Gi5bptZVpT8uPV-rsu1k3GPYeG1CXzkWxwYtJ_160M=s64",
      "userId": "06106219622026670571"
     },
     "user_tz": 300
    },
    "id": "eTjn7sN0PTIZ",
    "outputId": "3f40c047-62ec-43f2-a274-99fb6b4a144f"
   },
   "outputs": [],
   "source": [
    "## escribe el archivo en disco\n",
    "open('files/wikipedia.txt', 'w').write(txt) "
   ]
  },
  {
   "cell_type": "markdown",
   "metadata": {
    "id": "v-84rDSNPTIZ"
   },
   "source": [
    "**Ejercicio.** Imprima la primera línea del archivo `files/customer`."
   ]
  },
  {
   "cell_type": "markdown",
   "metadata": {
    "id": "SxG4W4hQPTIZ"
   },
   "source": [
    "En el siguiente ejemplo se ilustra como usar un ciclo `for` para leer el contenido de un archivo."
   ]
  },
  {
   "cell_type": "code",
   "execution_count": null,
   "metadata": {
    "executionInfo": {
     "elapsed": 346,
     "status": "aborted",
     "timestamp": 1646285185064,
     "user": {
      "displayName": "Alexander Zuluaga Quintero",
      "photoUrl": "https://lh3.googleusercontent.com/a-/AOh14Gi5bptZVpT8uPV-rsu1k3GPYeG1CXzkWxwYtJ_160M=s64",
      "userId": "06106219622026670571"
     },
     "user_tz": 300
    },
    "id": "PAuAQcmwPTIa"
   },
   "outputs": [],
   "source": [
    "f = open('out.1', 'r')\n",
    "for line in f:\n",
    "    print(line, end='')\n",
    "f.close()"
   ]
  },
  {
   "cell_type": "code",
   "execution_count": null,
   "metadata": {
    "executionInfo": {
     "elapsed": 345,
     "status": "aborted",
     "timestamp": 1646285185064,
     "user": {
      "displayName": "Alexander Zuluaga Quintero",
      "photoUrl": "https://lh3.googleusercontent.com/a-/AOh14Gi5bptZVpT8uPV-rsu1k3GPYeG1CXzkWxwYtJ_160M=s64",
      "userId": "06106219622026670571"
     },
     "user_tz": 300
    },
    "id": "RS7zkmUdPTIa"
   },
   "outputs": [],
   "source": [
    "# forma alternativa \n",
    "with open('out.1', 'r') as f:\n",
    "    print(f.read(), end='')    # el archivo se cierra al salir del bloque `with`\n",
    "\n",
    "f.closed # es una función que devuelve `True` cuando el archivo está cerrado. "
   ]
  },
  {
   "cell_type": "markdown",
   "metadata": {
    "collapsed": true,
    "id": "alWE5W6GPTIa"
   },
   "source": [
    "En los siguientes ejemplo se leen las líneas del archivo y se almacenan en una lista. Esto permite manipular facilmente el contenido de un archivo a traves de las funciones para manejar listas, tal como se ilustra seguidamente."
   ]
  },
  {
   "cell_type": "code",
   "execution_count": null,
   "metadata": {
    "executionInfo": {
     "elapsed": 346,
     "status": "aborted",
     "timestamp": 1646285185065,
     "user": {
      "displayName": "Alexander Zuluaga Quintero",
      "photoUrl": "https://lh3.googleusercontent.com/a-/AOh14Gi5bptZVpT8uPV-rsu1k3GPYeG1CXzkWxwYtJ_160M=s64",
      "userId": "06106219622026670571"
     },
     "user_tz": 300
    },
    "id": "RpBNFaSVPTIa"
   },
   "outputs": [],
   "source": [
    "f = open('out.1', 'r')\n",
    "x = list(f)\n",
    "f.close()\n",
    "x  # note que aparece el retorno de carro '\\n' al final de cada línea"
   ]
  },
  {
   "cell_type": "code",
   "execution_count": null,
   "metadata": {
    "executionInfo": {
     "elapsed": 346,
     "status": "aborted",
     "timestamp": 1646285185065,
     "user": {
      "displayName": "Alexander Zuluaga Quintero",
      "photoUrl": "https://lh3.googleusercontent.com/a-/AOh14Gi5bptZVpT8uPV-rsu1k3GPYeG1CXzkWxwYtJ_160M=s64",
      "userId": "06106219622026670571"
     },
     "user_tz": 300
    },
    "id": "j-lfGEz-PTIa"
   },
   "outputs": [],
   "source": [
    "# se imprimen únicamente las tres primeras líneas del archivo\n",
    "print(x[0:3])"
   ]
  },
  {
   "cell_type": "code",
   "execution_count": null,
   "metadata": {
    "executionInfo": {
     "elapsed": 347,
     "status": "aborted",
     "timestamp": 1646285185066,
     "user": {
      "displayName": "Alexander Zuluaga Quintero",
      "photoUrl": "https://lh3.googleusercontent.com/a-/AOh14Gi5bptZVpT8uPV-rsu1k3GPYeG1CXzkWxwYtJ_160M=s64",
      "userId": "06106219622026670571"
     },
     "user_tz": 300
    },
    "id": "Uv3k2wlwPTIb"
   },
   "outputs": [],
   "source": [
    "# mejor\n",
    "for z in x[0:3]:\n",
    "    print(z, end = '')"
   ]
  },
  {
   "cell_type": "code",
   "execution_count": null,
   "metadata": {
    "executionInfo": {
     "elapsed": 347,
     "status": "aborted",
     "timestamp": 1646285185066,
     "user": {
      "displayName": "Alexander Zuluaga Quintero",
      "photoUrl": "https://lh3.googleusercontent.com/a-/AOh14Gi5bptZVpT8uPV-rsu1k3GPYeG1CXzkWxwYtJ_160M=s64",
      "userId": "06106219622026670571"
     },
     "user_tz": 300
    },
    "id": "od7hWQh3PTIb"
   },
   "outputs": [],
   "source": [
    "# se imprimen únicamente las tres últimas líneas del archivo\n",
    "print(x[-3:])"
   ]
  },
  {
   "cell_type": "code",
   "execution_count": null,
   "metadata": {
    "executionInfo": {
     "elapsed": 348,
     "status": "aborted",
     "timestamp": 1646285185067,
     "user": {
      "displayName": "Alexander Zuluaga Quintero",
      "photoUrl": "https://lh3.googleusercontent.com/a-/AOh14Gi5bptZVpT8uPV-rsu1k3GPYeG1CXzkWxwYtJ_160M=s64",
      "userId": "06106219622026670571"
     },
     "user_tz": 300
    },
    "id": "N8SgbRNePTIb"
   },
   "outputs": [],
   "source": [
    "# mejor\n",
    "for z in x[-3:]:\n",
    "    print(z, end = '')"
   ]
  },
  {
   "cell_type": "code",
   "execution_count": null,
   "metadata": {
    "executionInfo": {
     "elapsed": 347,
     "status": "aborted",
     "timestamp": 1646285185067,
     "user": {
      "displayName": "Alexander Zuluaga Quintero",
      "photoUrl": "https://lh3.googleusercontent.com/a-/AOh14Gi5bptZVpT8uPV-rsu1k3GPYeG1CXzkWxwYtJ_160M=s64",
      "userId": "06106219622026670571"
     },
     "user_tz": 300
    },
    "id": "38clECzxPTIb"
   },
   "outputs": [],
   "source": [
    "# se imprime todo el contenido del archivo, excepto las primeras tres lineas\n",
    "# mejor\n",
    "for z in x[3:]:\n",
    "    print(z, end = '')"
   ]
  },
  {
   "cell_type": "markdown",
   "metadata": {
    "id": "vuUWg1ozPTIb"
   },
   "source": [
    "La manipulación de las líneas de un archivo permite hacer operaciones más complejas como concatenar archivos."
   ]
  },
  {
   "cell_type": "markdown",
   "metadata": {
    "id": "pb4TCv6hPTIb"
   },
   "source": [
    "El comando `cat` en los sistemas Unix permite la impresión de un conjunto de archivos de texto uno después de otro, tal que se puede usar para concaternar archivos. Por ejemplo,\n",
    "\n",
    "```bash\n",
    "      $ cat out.1 out.1\n",
    "      linea 1\n",
    "      linea 2\n",
    "      linea 3\n",
    "      linea 4\n",
    "      liena 5\n",
    "      linea 6\n",
    "      linea 7\n",
    "      linea 1\n",
    "      linea 2\n",
    "      linea 3\n",
    "      linea 4\n",
    "      liena 5\n",
    "      linea 6\n",
    "      linea 7\n",
    "```\n",
    "\n",
    "El siguiente código permite hacer lo mismo.      "
   ]
  },
  {
   "cell_type": "code",
   "execution_count": null,
   "metadata": {
    "executionInfo": {
     "elapsed": 20,
     "status": "aborted",
     "timestamp": 1646285185068,
     "user": {
      "displayName": "Alexander Zuluaga Quintero",
      "photoUrl": "https://lh3.googleusercontent.com/a-/AOh14Gi5bptZVpT8uPV-rsu1k3GPYeG1CXzkWxwYtJ_160M=s64",
      "userId": "06106219622026670571"
     },
     "user_tz": 300
    },
    "id": "Vg8WcRdBPTIc",
    "scrolled": true
   },
   "outputs": [],
   "source": [
    "# abre el archivo 'out.1', lo lee y luego lo cierra\n",
    "a =  open('out.1').readlines()  \n",
    "\n",
    "# abre nuevamente el archivo 'out.1', lo lee y luego lo cierra\n",
    "a += open('out.1').readlines()  \n",
    "\n",
    "# se crea una nueva lista `z` que contiene las mismas cadenas de \n",
    "# caracteres de `a` pero eliminando los retornos de carro '\\n' \n",
    "\n",
    "z = []\n",
    "for x in a:\n",
    "    if x[-1] == '\\n':\n",
    "        z.append(x[:-1])\n",
    "    else:\n",
    "        z.append(x) \n",
    "    \n",
    "# se imprime con formato usando un ciclo `for`.\n",
    "for x in z:\n",
    "    print(x, end = '\\n')"
   ]
  },
  {
   "cell_type": "markdown",
   "metadata": {
    "id": "HAIPJLx8PTIc"
   },
   "source": [
    "**Ejercicio.** Algunos sistemas Unix tienen el comando `tac` (reverso de `cat`) el cual imprime el contenido de un archivo en inverso, es decir, empezando por la última línea. Implemente esta función en Python."
   ]
  },
  {
   "cell_type": "markdown",
   "metadata": {
    "id": "nMTVNqa_PTIc"
   },
   "source": [
    "**Ejercicio.** En Unix, el comando `rev` imprime el contenido de un archivo invirtiendo el orden de los caracteres de cada línea. Por ejemplo, si el archivo contiene las lineas `1234` y `abcd`, `rev` imprime `4321` y `dcba`. Implemente esta función en Python."
   ]
  },
  {
   "cell_type": "markdown",
   "metadata": {
    "id": "yb0mukJXPTIc"
   },
   "source": [
    "A continuación se presenta como implementar la funcionalidad del comando `wc` de Unix."
   ]
  },
  {
   "cell_type": "code",
   "execution_count": null,
   "metadata": {
    "executionInfo": {
     "elapsed": 21,
     "status": "aborted",
     "timestamp": 1646285185069,
     "user": {
      "displayName": "Alexander Zuluaga Quintero",
      "photoUrl": "https://lh3.googleusercontent.com/a-/AOh14Gi5bptZVpT8uPV-rsu1k3GPYeG1CXzkWxwYtJ_160M=s64",
      "userId": "06106219622026670571"
     },
     "user_tz": 300
    },
    "id": "vVLZ843zPTId"
   },
   "outputs": [],
   "source": [
    "# se cuentan las líneas de un archivo\n",
    "len(open('out.1','r').readlines())"
   ]
  },
  {
   "cell_type": "code",
   "execution_count": null,
   "metadata": {
    "executionInfo": {
     "elapsed": 20,
     "status": "aborted",
     "timestamp": 1646285185069,
     "user": {
      "displayName": "Alexander Zuluaga Quintero",
      "photoUrl": "https://lh3.googleusercontent.com/a-/AOh14Gi5bptZVpT8uPV-rsu1k3GPYeG1CXzkWxwYtJ_160M=s64",
      "userId": "06106219622026670571"
     },
     "user_tz": 300
    },
    "id": "yW8_7ApCPTId"
   },
   "outputs": [],
   "source": [
    "# se cuentan las palabras que tiene un archivo\n",
    "x = open('out.1','r').readlines()\n",
    "y = ' '.join(x)\n",
    "len(y.split(' '))"
   ]
  },
  {
   "cell_type": "code",
   "execution_count": null,
   "metadata": {
    "executionInfo": {
     "elapsed": 21,
     "status": "aborted",
     "timestamp": 1646285185070,
     "user": {
      "displayName": "Alexander Zuluaga Quintero",
      "photoUrl": "https://lh3.googleusercontent.com/a-/AOh14Gi5bptZVpT8uPV-rsu1k3GPYeG1CXzkWxwYtJ_160M=s64",
      "userId": "06106219622026670571"
     },
     "user_tz": 300
    },
    "id": "o0W8VJtAPTId"
   },
   "outputs": [],
   "source": [
    "# se cuentan los caracteres que contiene un archivo\n",
    "x = open('out.1','r').readlines()\n",
    "x = ''.join(x)\n",
    "len(x)"
   ]
  },
  {
   "cell_type": "markdown",
   "metadata": {
    "id": "QW5oxQI-PTId"
   },
   "source": [
    "Una de las principales tareas en ciencia de los datos, es la lectura de tablas de datos para su manipulación posterior. Para generar los datos de prueba se usa el *cellmagic* `%%bash` el cual indica que el contenido de la celda debe ejecutarse en la línea de comandos de Unix."
   ]
  },
  {
   "cell_type": "code",
   "execution_count": null,
   "metadata": {
    "executionInfo": {
     "elapsed": 21,
     "status": "aborted",
     "timestamp": 1646285185070,
     "user": {
      "displayName": "Alexander Zuluaga Quintero",
      "photoUrl": "https://lh3.googleusercontent.com/a-/AOh14Gi5bptZVpT8uPV-rsu1k3GPYeG1CXzkWxwYtJ_160M=s64",
      "userId": "06106219622026670571"
     },
     "user_tz": 300
    },
    "id": "yPgmEJ7KPTId"
   },
   "outputs": [],
   "source": [
    "%%bash\n",
    "cat > out.1 <<EOF\n",
    "Date, Year, CustomerID, Value\n",
    "2013-01-12, 2013, 1, 100\n",
    "2014-05-12, 2014, 1, 100\n",
    "2013-02-25, 2013, 2, 200\n",
    "2013-04-04, 2013, 1, 100\n",
    "2013-06-21, 2013, 2, 200\n",
    "2014-05-18, 2014, 1, 100\n",
    "2014-06-23, 2014, 2, 200\n",
    "2013-02-28, 2013, 1, 100\n",
    "2013-08-02, 2013, 1, 100\n",
    "EOF"
   ]
  },
  {
   "cell_type": "markdown",
   "metadata": {
    "id": "Y9IIxEUzPTId"
   },
   "source": [
    "Seguidamente se carga el archivo (cada línea del archivo es almacenada como un string):"
   ]
  },
  {
   "cell_type": "code",
   "execution_count": null,
   "metadata": {
    "executionInfo": {
     "elapsed": 22,
     "status": "aborted",
     "timestamp": 1646285185071,
     "user": {
      "displayName": "Alexander Zuluaga Quintero",
      "photoUrl": "https://lh3.googleusercontent.com/a-/AOh14Gi5bptZVpT8uPV-rsu1k3GPYeG1CXzkWxwYtJ_160M=s64",
      "userId": "06106219622026670571"
     },
     "user_tz": 300
    },
    "id": "s3k3pjYdPTIe"
   },
   "outputs": [],
   "source": [
    "x = open('out.1','r').readlines()\n",
    "x"
   ]
  },
  {
   "cell_type": "markdown",
   "metadata": {
    "id": "MalU-Z3PPTIe"
   },
   "source": [
    "Se remueven los retornos de carro ('`\\n`') usando una *list comprenhension*."
   ]
  },
  {
   "cell_type": "code",
   "execution_count": null,
   "metadata": {
    "executionInfo": {
     "elapsed": 22,
     "status": "aborted",
     "timestamp": 1646285185071,
     "user": {
      "displayName": "Alexander Zuluaga Quintero",
      "photoUrl": "https://lh3.googleusercontent.com/a-/AOh14Gi5bptZVpT8uPV-rsu1k3GPYeG1CXzkWxwYtJ_160M=s64",
      "userId": "06106219622026670571"
     },
     "user_tz": 300
    },
    "id": "NR1_uJiCPTIe"
   },
   "outputs": [],
   "source": [
    "x = [z.replace('\\n', '') for z in x]\n",
    "x"
   ]
  },
  {
   "cell_type": "markdown",
   "metadata": {
    "id": "Gg9vWeg4PTIe"
   },
   "source": [
    "Se usan los delimitadores para separar los campos."
   ]
  },
  {
   "cell_type": "code",
   "execution_count": null,
   "metadata": {
    "executionInfo": {
     "elapsed": 22,
     "status": "aborted",
     "timestamp": 1646285185071,
     "user": {
      "displayName": "Alexander Zuluaga Quintero",
      "photoUrl": "https://lh3.googleusercontent.com/a-/AOh14Gi5bptZVpT8uPV-rsu1k3GPYeG1CXzkWxwYtJ_160M=s64",
      "userId": "06106219622026670571"
     },
     "user_tz": 300
    },
    "id": "Wu2fGPkAPTIe"
   },
   "outputs": [],
   "source": [
    "x = [z.split(',') for z in x]\n",
    "x"
   ]
  },
  {
   "cell_type": "markdown",
   "metadata": {
    "id": "2FFQ464xPTIe"
   },
   "source": [
    "Cada registro es almacenado como una lista."
   ]
  },
  {
   "cell_type": "markdown",
   "metadata": {
    "id": "of2D248XPTIf"
   },
   "source": [
    "Ahora, por ejemplo, se agregará el campo `Month` extrayendo el mes del campo `Date`. El proceso se realizará incrementalmente para facilitar su visualización."
   ]
  },
  {
   "cell_type": "code",
   "execution_count": null,
   "metadata": {
    "executionInfo": {
     "elapsed": 23,
     "status": "aborted",
     "timestamp": 1646285185072,
     "user": {
      "displayName": "Alexander Zuluaga Quintero",
      "photoUrl": "https://lh3.googleusercontent.com/a-/AOh14Gi5bptZVpT8uPV-rsu1k3GPYeG1CXzkWxwYtJ_160M=s64",
      "userId": "06106219622026670571"
     },
     "user_tz": 300
    },
    "id": "oVlZfv5rPTIf"
   },
   "outputs": [],
   "source": [
    "# extrae el campo Date\n",
    "[z[0] for z in x[1:]] "
   ]
  },
  {
   "cell_type": "code",
   "execution_count": null,
   "metadata": {
    "executionInfo": {
     "elapsed": 23,
     "status": "aborted",
     "timestamp": 1646285185072,
     "user": {
      "displayName": "Alexander Zuluaga Quintero",
      "photoUrl": "https://lh3.googleusercontent.com/a-/AOh14Gi5bptZVpT8uPV-rsu1k3GPYeG1CXzkWxwYtJ_160M=s64",
      "userId": "06106219622026670571"
     },
     "user_tz": 300
    },
    "id": "Jbuc_VQoPTIf"
   },
   "outputs": [],
   "source": [
    "# separa Date en sus partes\n",
    "[z[0].split('-') for z in x[1:]] "
   ]
  },
  {
   "cell_type": "code",
   "execution_count": null,
   "metadata": {
    "executionInfo": {
     "elapsed": 23,
     "status": "aborted",
     "timestamp": 1646285185073,
     "user": {
      "displayName": "Alexander Zuluaga Quintero",
      "photoUrl": "https://lh3.googleusercontent.com/a-/AOh14Gi5bptZVpT8uPV-rsu1k3GPYeG1CXzkWxwYtJ_160M=s64",
      "userId": "06106219622026670571"
     },
     "user_tz": 300
    },
    "id": "CRD1bB7kPTIf"
   },
   "outputs": [],
   "source": [
    "# el mes ocupa la posicion 1\n",
    "[z[0].split('-')[1] for z in x[1:]] # el mes"
   ]
  },
  {
   "cell_type": "markdown",
   "metadata": {
    "id": "OLuVruWTPTIf"
   },
   "source": [
    "Pega el mes al final de la lista"
   ]
  },
  {
   "cell_type": "code",
   "execution_count": null,
   "metadata": {
    "executionInfo": {
     "elapsed": 23,
     "status": "aborted",
     "timestamp": 1646285185073,
     "user": {
      "displayName": "Alexander Zuluaga Quintero",
      "photoUrl": "https://lh3.googleusercontent.com/a-/AOh14Gi5bptZVpT8uPV-rsu1k3GPYeG1CXzkWxwYtJ_160M=s64",
      "userId": "06106219622026670571"
     },
     "user_tz": 300
    },
    "id": "KomH-GHMPTIf",
    "scrolled": true
   },
   "outputs": [],
   "source": [
    "x[1:] = [z+[z[0].split('-')[1]] for z in x[1:]] \n",
    "x"
   ]
  },
  {
   "cell_type": "markdown",
   "metadata": {
    "id": "Bd91ZWCXPTIf"
   },
   "source": [
    "Agrega el nombre del campo y los compoentes"
   ]
  },
  {
   "cell_type": "code",
   "execution_count": null,
   "metadata": {
    "executionInfo": {
     "elapsed": 24,
     "status": "aborted",
     "timestamp": 1646285185074,
     "user": {
      "displayName": "Alexander Zuluaga Quintero",
      "photoUrl": "https://lh3.googleusercontent.com/a-/AOh14Gi5bptZVpT8uPV-rsu1k3GPYeG1CXzkWxwYtJ_160M=s64",
      "userId": "06106219622026670571"
     },
     "user_tz": 300
    },
    "id": "WETGjskKPTIg",
    "scrolled": true
   },
   "outputs": [],
   "source": [
    "x[0].append('Month')\n",
    "x"
   ]
  },
  {
   "cell_type": "markdown",
   "metadata": {
    "id": "tIelhOzzPTIg"
   },
   "source": [
    "También resulta muy simple la aplicación de filtros para seleccionar solo una porción de los datos. Por ejemplo, para obtener únicamente los registros del año 2013:"
   ]
  },
  {
   "cell_type": "code",
   "execution_count": null,
   "metadata": {
    "executionInfo": {
     "elapsed": 24,
     "status": "aborted",
     "timestamp": 1646285185074,
     "user": {
      "displayName": "Alexander Zuluaga Quintero",
      "photoUrl": "https://lh3.googleusercontent.com/a-/AOh14Gi5bptZVpT8uPV-rsu1k3GPYeG1CXzkWxwYtJ_160M=s64",
      "userId": "06106219622026670571"
     },
     "user_tz": 300
    },
    "id": "ZCyjj8ClPTIg"
   },
   "outputs": [],
   "source": [
    "[z for z in x if z[1] == ' 2013']"
   ]
  },
  {
   "cell_type": "markdown",
   "metadata": {
    "id": "j7Jz_LrkPTIg"
   },
   "source": [
    "**Ejercicio.** Imprima un listado de valores únicos para el campo `City` del archivo `files/customer`."
   ]
  },
  {
   "cell_type": "markdown",
   "metadata": {
    "id": "CDKqhZmPPTIg"
   },
   "source": [
    "**Ejercicio.** Agregue el campo `subtotal` a la tabla `orderline` el cual es calculado como `Quantity` por `Price`."
   ]
  },
  {
   "cell_type": "markdown",
   "metadata": {
    "id": "vd25noKSPTIg"
   },
   "source": [
    "**Ejercicio.** Agregue el campo `ProductName` a la tabla `orderline`."
   ]
  },
  {
   "cell_type": "markdown",
   "metadata": {
    "id": "Ydryqc0YPTIg"
   },
   "source": [
    "**Ejercicio.** Agregue el campo `Total` a la tabla `order`. Este campo se calcula como la suma de `ProductID` * `Price` para cada `OrderID` en la tabla `orderline`."
   ]
  },
  {
   "cell_type": "markdown",
   "metadata": {
    "id": "zTyod-TpPTIh"
   },
   "source": [
    "**Ejercicio.** Escriba una función que implemente la funcionaldad del comando `sort` del `bash`. \n",
    "* Recibe el nombre de un archivo.\n",
    "* Lo lee del disco duro.\n",
    "* Tiene un parámetros que le indica si es orden ascendente o descendente.\n",
    "* Imprime el archivo ordenado en pantalla (podría ser al disco duro si se desea emular toda la funcionalidad de sort)."
   ]
  },
  {
   "cell_type": "markdown",
   "metadata": {
    "id": "Du8LAlX8PTIh"
   },
   "source": [
    "**Ejercicio.** Modifique el programa anterior para poder indicar el número del campo (o campos) a partir de los cuales se realizará el ordenamiento."
   ]
  },
  {
   "cell_type": "markdown",
   "metadata": {
    "id": "NQT8TKk_PTIh"
   },
   "source": [
    "**Ejercicio.** Escriba una función que implemente la funcionaldad del comando `uniq` del `bash`. \n",
    "* Recibe el nombre de un archivo.\n",
    "* Lo lee del disco duro.\n",
    "* Elimina líneas consecutivas iguales.\n",
    "* Imprime el resultado en la pantalla."
   ]
  },
  {
   "cell_type": "markdown",
   "metadata": {
    "id": "NLWikRJuPTIh"
   },
   "source": [
    "**Ejercicio.** Escriba una función que implemente la funcionaldad del comando `join` del `bash`. \n",
    "* Recibe el nombre de dos archivos.\n",
    "* Suponga que la primera columna de cada archivo contiene la clave a partir de la cual se hará el `join`.\n",
    "* Imprima el resultado en pantalla."
   ]
  },
  {
   "cell_type": "markdown",
   "metadata": {
    "id": "MKBLFDiIPTIh"
   },
   "source": [
    "**Ejercicio.** Escriba una función que implemente la funcionaldad del comando `paste` del `bash`. \n",
    "* Recibe el nombre de dos archivos.\n",
    "* Imprima el resultado en pantalla."
   ]
  },
  {
   "cell_type": "markdown",
   "metadata": {
    "id": "wK-YQyvFPTIh"
   },
   "source": [
    "# Lectura de archivos con la Python Standard Library"
   ]
  },
  {
   "cell_type": "markdown",
   "metadata": {
    "id": "Y-OoJJGDPTIh"
   },
   "source": [
    "[Contenido](#Contenido)"
   ]
  },
  {
   "cell_type": "markdown",
   "metadata": {
    "id": "CBk_JD-3PTIh"
   },
   "source": [
    "Se crea una tabla para los realizar los ejemplos."
   ]
  },
  {
   "cell_type": "code",
   "execution_count": null,
   "metadata": {
    "executionInfo": {
     "elapsed": 24,
     "status": "aborted",
     "timestamp": 1646285185075,
     "user": {
      "displayName": "Alexander Zuluaga Quintero",
      "photoUrl": "https://lh3.googleusercontent.com/a-/AOh14Gi5bptZVpT8uPV-rsu1k3GPYeG1CXzkWxwYtJ_160M=s64",
      "userId": "06106219622026670571"
     },
     "user_tz": 300
    },
    "id": "NIxCwA9fPTIi"
   },
   "outputs": [],
   "source": [
    "## crea la tabla de datos de prueba.\n",
    "## cada fila es un vector\n",
    "df = [[\"index\", \"name\", \"value\"],\n",
    "      [1, \"A\", 3.03],\n",
    "      [2, \"B\", 5.14],\n",
    "      [3, \"C\", 0.40],\n",
    "      [4, \"D\", 1.13],\n",
    "      [5, \"E\", 8.25]]\n",
    "df"
   ]
  },
  {
   "cell_type": "markdown",
   "metadata": {
    "id": "-vV15UJZPTIi"
   },
   "source": [
    "## Formato nativo de Python usando la PSL"
   ]
  },
  {
   "cell_type": "markdown",
   "metadata": {
    "id": "u1VAOZ0HPTIi"
   },
   "source": [
    "[Contenido](#Contenido)"
   ]
  },
  {
   "cell_type": "markdown",
   "metadata": {
    "id": "AtoWq-8zPTIi"
   },
   "source": [
    "> [`pickle`](https://docs.python.org/3/library/pickle.html#module-pickle)  "
   ]
  },
  {
   "cell_type": "code",
   "execution_count": null,
   "metadata": {
    "executionInfo": {
     "elapsed": 24,
     "status": "aborted",
     "timestamp": 1646285185075,
     "user": {
      "displayName": "Alexander Zuluaga Quintero",
      "photoUrl": "https://lh3.googleusercontent.com/a-/AOh14Gi5bptZVpT8uPV-rsu1k3GPYeG1CXzkWxwYtJ_160M=s64",
      "userId": "06106219622026670571"
     },
     "user_tz": 300
    },
    "id": "1mtOdzKGPTIi"
   },
   "outputs": [],
   "source": [
    "## carga la librería\n",
    "import pickle"
   ]
  },
  {
   "cell_type": "code",
   "execution_count": null,
   "metadata": {
    "executionInfo": {
     "elapsed": 23,
     "status": "aborted",
     "timestamp": 1646285185075,
     "user": {
      "displayName": "Alexander Zuluaga Quintero",
      "photoUrl": "https://lh3.googleusercontent.com/a-/AOh14Gi5bptZVpT8uPV-rsu1k3GPYeG1CXzkWxwYtJ_160M=s64",
      "userId": "06106219622026670571"
     },
     "user_tz": 300
    },
    "id": "_X7pzhzTPTIi"
   },
   "outputs": [],
   "source": [
    "## salva el objeto en el disco\n",
    "with open('files/data.pickle', 'wb') as f:\n",
    "    pickle.dump(obj = df, file = f)"
   ]
  },
  {
   "cell_type": "code",
   "execution_count": null,
   "metadata": {
    "executionInfo": {
     "elapsed": 24,
     "status": "aborted",
     "timestamp": 1646285185076,
     "user": {
      "displayName": "Alexander Zuluaga Quintero",
      "photoUrl": "https://lh3.googleusercontent.com/a-/AOh14Gi5bptZVpT8uPV-rsu1k3GPYeG1CXzkWxwYtJ_160M=s64",
      "userId": "06106219622026670571"
     },
     "user_tz": 300
    },
    "id": "WbTgP4kEPTIj"
   },
   "outputs": [],
   "source": [
    "## borra la variable x\n",
    "del df"
   ]
  },
  {
   "cell_type": "code",
   "execution_count": null,
   "metadata": {
    "executionInfo": {
     "elapsed": 23,
     "status": "aborted",
     "timestamp": 1646285185076,
     "user": {
      "displayName": "Alexander Zuluaga Quintero",
      "photoUrl": "https://lh3.googleusercontent.com/a-/AOh14Gi5bptZVpT8uPV-rsu1k3GPYeG1CXzkWxwYtJ_160M=s64",
      "userId": "06106219622026670571"
     },
     "user_tz": 300
    },
    "id": "tdKF0wFbPTIj"
   },
   "outputs": [],
   "source": [
    "whos"
   ]
  },
  {
   "cell_type": "code",
   "execution_count": null,
   "metadata": {
    "executionInfo": {
     "elapsed": 23,
     "status": "aborted",
     "timestamp": 1646285185076,
     "user": {
      "displayName": "Alexander Zuluaga Quintero",
      "photoUrl": "https://lh3.googleusercontent.com/a-/AOh14Gi5bptZVpT8uPV-rsu1k3GPYeG1CXzkWxwYtJ_160M=s64",
      "userId": "06106219622026670571"
     },
     "user_tz": 300
    },
    "id": "E1d4qOtqPTIj"
   },
   "outputs": [],
   "source": [
    "## recupera el objeto del disco\n",
    "with open('files/data.pickle', 'rb') as f:\n",
    "    df = pickle.load(f)\n",
    "    \n",
    "print(df)"
   ]
  },
  {
   "cell_type": "code",
   "execution_count": null,
   "metadata": {
    "executionInfo": {
     "elapsed": 23,
     "status": "aborted",
     "timestamp": 1646285185077,
     "user": {
      "displayName": "Alexander Zuluaga Quintero",
      "photoUrl": "https://lh3.googleusercontent.com/a-/AOh14Gi5bptZVpT8uPV-rsu1k3GPYeG1CXzkWxwYtJ_160M=s64",
      "userId": "06106219622026670571"
     },
     "user_tz": 300
    },
    "id": "gSjwUNofPTIj"
   },
   "outputs": [],
   "source": [
    "type(df)"
   ]
  },
  {
   "cell_type": "markdown",
   "metadata": {
    "id": "qs47UVduPTIj"
   },
   "source": [
    "## TXT como formato libre usando la PSL"
   ]
  },
  {
   "cell_type": "markdown",
   "metadata": {
    "id": "_ohQpdAXPTIj"
   },
   "source": [
    "[Contenido](#Contenido)"
   ]
  },
  {
   "cell_type": "markdown",
   "metadata": {
    "id": "U1dFam0fPTIj"
   },
   "source": [
    "> [`open`](https://docs.python.org/3/tutorial/inputoutput.html)"
   ]
  },
  {
   "cell_type": "code",
   "execution_count": null,
   "metadata": {
    "executionInfo": {
     "elapsed": 2007,
     "status": "aborted",
     "timestamp": 1646285185077,
     "user": {
      "displayName": "Alexander Zuluaga Quintero",
      "photoUrl": "https://lh3.googleusercontent.com/a-/AOh14Gi5bptZVpT8uPV-rsu1k3GPYeG1CXzkWxwYtJ_160M=s64",
      "userId": "06106219622026670571"
     },
     "user_tz": 300
    },
    "id": "OsFSCYZzPTIj"
   },
   "outputs": [],
   "source": [
    "## lee el archivo de disco\n",
    "x = open('files/wikipedia.txt', 'r').read()\n",
    "x"
   ]
  },
  {
   "cell_type": "code",
   "execution_count": null,
   "metadata": {
    "executionInfo": {
     "elapsed": 2006,
     "status": "aborted",
     "timestamp": 1646285185078,
     "user": {
      "displayName": "Alexander Zuluaga Quintero",
      "photoUrl": "https://lh3.googleusercontent.com/a-/AOh14Gi5bptZVpT8uPV-rsu1k3GPYeG1CXzkWxwYtJ_160M=s64",
      "userId": "06106219622026670571"
     },
     "user_tz": 300
    },
    "id": "Jbmt05gJPTIk"
   },
   "outputs": [],
   "source": [
    "## divide el texto en palabras.\n",
    "x.split()"
   ]
  },
  {
   "cell_type": "code",
   "execution_count": null,
   "metadata": {
    "executionInfo": {
     "elapsed": 2005,
     "status": "aborted",
     "timestamp": 1646285185078,
     "user": {
      "displayName": "Alexander Zuluaga Quintero",
      "photoUrl": "https://lh3.googleusercontent.com/a-/AOh14Gi5bptZVpT8uPV-rsu1k3GPYeG1CXzkWxwYtJ_160M=s64",
      "userId": "06106219622026670571"
     },
     "user_tz": 300
    },
    "id": "Mlla7Qo6PTIk"
   },
   "outputs": [],
   "source": [
    "## divide el texto en líneas\n",
    "x.split('\\n')"
   ]
  },
  {
   "cell_type": "code",
   "execution_count": null,
   "metadata": {
    "executionInfo": {
     "elapsed": 2003,
     "status": "aborted",
     "timestamp": 1646285185078,
     "user": {
      "displayName": "Alexander Zuluaga Quintero",
      "photoUrl": "https://lh3.googleusercontent.com/a-/AOh14Gi5bptZVpT8uPV-rsu1k3GPYeG1CXzkWxwYtJ_160M=s64",
      "userId": "06106219622026670571"
     },
     "user_tz": 300
    },
    "id": "Qf44U5RSPTIk"
   },
   "outputs": [],
   "source": [
    "## separa el texto por '.'\n",
    "x.split('.')   "
   ]
  },
  {
   "cell_type": "markdown",
   "metadata": {
    "id": "Wo4MUL9mPTIk"
   },
   "source": [
    "## TXT como tablas de texto delimitado usando la PSL"
   ]
  },
  {
   "cell_type": "markdown",
   "metadata": {
    "id": "2CJ6rH5APTIk"
   },
   "source": [
    "[Contenido](#Contenido)"
   ]
  },
  {
   "cell_type": "markdown",
   "metadata": {
    "id": "k2EUn_GtPTIk"
   },
   "source": [
    "> [`csv`](https://docs.python.org/3.5/library/csv.html)"
   ]
  },
  {
   "cell_type": "markdown",
   "metadata": {
    "id": "46wU7hqGPTIk"
   },
   "source": [
    "En esta sección se aborda la lectura de archivos delimitados por caracteres. Los delimitadores incluyen el espacio en blanco, la coma y el punto y coma. El parámetro `delimiter` permite especificar el caracter delimitador, mientrasq que el parámetro `quoting` permite especificar los delimitadores para los strings."
   ]
  },
  {
   "cell_type": "code",
   "execution_count": null,
   "metadata": {
    "executionInfo": {
     "elapsed": 2003,
     "status": "aborted",
     "timestamp": 1646285185079,
     "user": {
      "displayName": "Alexander Zuluaga Quintero",
      "photoUrl": "https://lh3.googleusercontent.com/a-/AOh14Gi5bptZVpT8uPV-rsu1k3GPYeG1CXzkWxwYtJ_160M=s64",
      "userId": "06106219622026670571"
     },
     "user_tz": 300
    },
    "id": "KItPt8RFPTIl"
   },
   "outputs": [],
   "source": [
    "## importa la librería\n",
    "import csv"
   ]
  },
  {
   "cell_type": "markdown",
   "metadata": {
    "id": "gYPVI1v7PTIl"
   },
   "source": [
    "**Archivos delimitados por espacios**"
   ]
  },
  {
   "cell_type": "code",
   "execution_count": null,
   "metadata": {
    "executionInfo": {
     "elapsed": 2001,
     "status": "aborted",
     "timestamp": 1646285185079,
     "user": {
      "displayName": "Alexander Zuluaga Quintero",
      "photoUrl": "https://lh3.googleusercontent.com/a-/AOh14Gi5bptZVpT8uPV-rsu1k3GPYeG1CXzkWxwYtJ_160M=s64",
      "userId": "06106219622026670571"
     },
     "user_tz": 300
    },
    "id": "YEicfYZDPTIl"
   },
   "outputs": [],
   "source": [
    "## escribe el archivo en forma de tabla de texto\n",
    "with open('files/data.txt', 'w') as f:             # abre el archivo para escritura\n",
    "    x = csv.writer(f,                              # crea el objeto x\n",
    "                   delimiter=' ',                  # delimitado por ' '\n",
    "                   quoting=csv.QUOTE_NONNUMERIC)   # sin \" \" para los strings\n",
    "    for r in df:\n",
    "        x.writerow(r)"
   ]
  },
  {
   "cell_type": "markdown",
   "metadata": {
    "id": "ZiKHaLL0PTIl"
   },
   "source": [
    "Note que los strings están entre comillas."
   ]
  },
  {
   "cell_type": "code",
   "execution_count": null,
   "metadata": {
    "executionInfo": {
     "elapsed": 2000,
     "status": "aborted",
     "timestamp": 1646285185079,
     "user": {
      "displayName": "Alexander Zuluaga Quintero",
      "photoUrl": "https://lh3.googleusercontent.com/a-/AOh14Gi5bptZVpT8uPV-rsu1k3GPYeG1CXzkWxwYtJ_160M=s64",
      "userId": "06106219622026670571"
     },
     "user_tz": 300
    },
    "id": "E3dFUulxPTIl"
   },
   "outputs": [],
   "source": [
    "## verifica el archivo creado\n",
    "print(open('files/data.txt', 'r').read())"
   ]
  },
  {
   "cell_type": "code",
   "execution_count": null,
   "metadata": {
    "executionInfo": {
     "elapsed": 2000,
     "status": "aborted",
     "timestamp": 1646285185080,
     "user": {
      "displayName": "Alexander Zuluaga Quintero",
      "photoUrl": "https://lh3.googleusercontent.com/a-/AOh14Gi5bptZVpT8uPV-rsu1k3GPYeG1CXzkWxwYtJ_160M=s64",
      "userId": "06106219622026670571"
     },
     "user_tz": 300
    },
    "id": "hTlnR4QePTIl"
   },
   "outputs": [],
   "source": [
    "## Lee el archivo como una tabla de texto\n",
    "with open('files/data.txt', 'r') as f:  \n",
    "    x = csv.reader(f, \n",
    "                    delimiter=' ', \n",
    "                    quoting=csv.QUOTE_NONNUMERIC) \n",
    "    for r in x:\n",
    "        print(r)"
   ]
  },
  {
   "cell_type": "markdown",
   "metadata": {
    "id": "zYmZlGjzPTIm"
   },
   "source": [
    "**Archivos delimitados por comas (CSV)**"
   ]
  },
  {
   "cell_type": "markdown",
   "metadata": {
    "id": "2JAnEnXkPTIm"
   },
   "source": [
    "[Contenido](#Contenido)"
   ]
  },
  {
   "cell_type": "markdown",
   "metadata": {
    "id": "C1-uaGPTPTIm"
   },
   "source": [
    "> [`csv`](https://docs.python.org/3.5/library/csv.html)"
   ]
  },
  {
   "cell_type": "code",
   "execution_count": null,
   "metadata": {
    "executionInfo": {
     "elapsed": 1999,
     "status": "aborted",
     "timestamp": 1646285185080,
     "user": {
      "displayName": "Alexander Zuluaga Quintero",
      "photoUrl": "https://lh3.googleusercontent.com/a-/AOh14Gi5bptZVpT8uPV-rsu1k3GPYeG1CXzkWxwYtJ_160M=s64",
      "userId": "06106219622026670571"
     },
     "user_tz": 300
    },
    "id": "J9uC1fZZPTIm"
   },
   "outputs": [],
   "source": [
    "with open('files/data.csv', 'w') as f:\n",
    "    x = csv.writer(f, \n",
    "                   delimiter = ',',\n",
    "                   quoting=csv.QUOTE_NONNUMERIC)\n",
    "    for r in df:\n",
    "        x.writerow(r)\n",
    "    \n",
    "## verifica el archivo creado\n",
    "print(open('files/data.csv', 'r').read())"
   ]
  },
  {
   "cell_type": "code",
   "execution_count": null,
   "metadata": {
    "executionInfo": {
     "elapsed": 1997,
     "status": "aborted",
     "timestamp": 1646285185080,
     "user": {
      "displayName": "Alexander Zuluaga Quintero",
      "photoUrl": "https://lh3.googleusercontent.com/a-/AOh14Gi5bptZVpT8uPV-rsu1k3GPYeG1CXzkWxwYtJ_160M=s64",
      "userId": "06106219622026670571"
     },
     "user_tz": 300
    },
    "id": "KM8EZKzaPTIm",
    "scrolled": true
   },
   "outputs": [],
   "source": [
    "## lee el archivo csv \n",
    "with open('files/data.csv', 'r') as f:\n",
    "    x = csv.reader(f, \n",
    "                    delimiter=',', \n",
    "                    quoting=csv.QUOTE_NONNUMERIC)\n",
    "    for r in x:\n",
    "        print(r)"
   ]
  },
  {
   "cell_type": "markdown",
   "metadata": {
    "id": "06ZQNW9qPTIm"
   },
   "source": [
    "**Ejercicio.** Escriba una función que permita convertir un archivo de formato csv a csv2 (español)."
   ]
  },
  {
   "cell_type": "markdown",
   "metadata": {
    "id": "u9BgvLjGPTIm"
   },
   "source": [
    "**Ejercicio.** Escriba una función que permita leer un archivo `csv` y lo convierta a formato de ancho fijo."
   ]
  },
  {
   "cell_type": "markdown",
   "metadata": {
    "id": "XnCRUMaaPTIn"
   },
   "source": [
    "## JSON usando la PSL"
   ]
  },
  {
   "cell_type": "markdown",
   "metadata": {
    "id": "QEwtQ8mRPTIn"
   },
   "source": [
    "[Contenido](#Contenido)"
   ]
  },
  {
   "cell_type": "markdown",
   "metadata": {
    "id": "OAU1-6llPTIn"
   },
   "source": [
    "> [`json`](https://docs.python.org/3/library/json.html#module-json)  "
   ]
  },
  {
   "cell_type": "code",
   "execution_count": null,
   "metadata": {
    "executionInfo": {
     "elapsed": 2001,
     "status": "aborted",
     "timestamp": 1646285185085,
     "user": {
      "displayName": "Alexander Zuluaga Quintero",
      "photoUrl": "https://lh3.googleusercontent.com/a-/AOh14Gi5bptZVpT8uPV-rsu1k3GPYeG1CXzkWxwYtJ_160M=s64",
      "userId": "06106219622026670571"
     },
     "user_tz": 300
    },
    "id": "mROZ97V_PTIn"
   },
   "outputs": [],
   "source": [
    "df"
   ]
  },
  {
   "cell_type": "code",
   "execution_count": null,
   "metadata": {
    "executionInfo": {
     "elapsed": 1999,
     "status": "aborted",
     "timestamp": 1646285185085,
     "user": {
      "displayName": "Alexander Zuluaga Quintero",
      "photoUrl": "https://lh3.googleusercontent.com/a-/AOh14Gi5bptZVpT8uPV-rsu1k3GPYeG1CXzkWxwYtJ_160M=s64",
      "userId": "06106219622026670571"
     },
     "user_tz": 300
    },
    "id": "pPAh4Hx3PTIn"
   },
   "outputs": [],
   "source": [
    "## importa la libreria\n",
    "import json\n",
    "\n",
    "## convierte los datos en string\n",
    "json.dumps(df)"
   ]
  },
  {
   "cell_type": "code",
   "execution_count": null,
   "metadata": {
    "executionInfo": {
     "elapsed": 1999,
     "status": "aborted",
     "timestamp": 1646285185086,
     "user": {
      "displayName": "Alexander Zuluaga Quintero",
      "photoUrl": "https://lh3.googleusercontent.com/a-/AOh14Gi5bptZVpT8uPV-rsu1k3GPYeG1CXzkWxwYtJ_160M=s64",
      "userId": "06106219622026670571"
     },
     "user_tz": 300
    },
    "id": "ZIu9jWFrPTIn"
   },
   "outputs": [],
   "source": [
    "## mismo caso anterior pero con impresion 'bonita'\n",
    "json.dumps(df, \n",
    "           sort_keys = True, \n",
    "           indent = 4)"
   ]
  },
  {
   "cell_type": "code",
   "execution_count": null,
   "metadata": {
    "executionInfo": {
     "elapsed": 1998,
     "status": "aborted",
     "timestamp": 1646285185086,
     "user": {
      "displayName": "Alexander Zuluaga Quintero",
      "photoUrl": "https://lh3.googleusercontent.com/a-/AOh14Gi5bptZVpT8uPV-rsu1k3GPYeG1CXzkWxwYtJ_160M=s64",
      "userId": "06106219622026670571"
     },
     "user_tz": 300
    },
    "id": "b0XCXCCAPTIn"
   },
   "outputs": [],
   "source": [
    "y = json.dumps(df, \n",
    "               sort_keys = True, \n",
    "               indent = 4)\n",
    "print(y)"
   ]
  },
  {
   "cell_type": "code",
   "execution_count": null,
   "metadata": {
    "executionInfo": {
     "elapsed": 1996,
     "status": "aborted",
     "timestamp": 1646285185086,
     "user": {
      "displayName": "Alexander Zuluaga Quintero",
      "photoUrl": "https://lh3.googleusercontent.com/a-/AOh14Gi5bptZVpT8uPV-rsu1k3GPYeG1CXzkWxwYtJ_160M=s64",
      "userId": "06106219622026670571"
     },
     "user_tz": 300
    },
    "id": "cwod_4tCPTIo"
   },
   "outputs": [],
   "source": [
    "## convierte el string en datos\n",
    "json.loads(y)"
   ]
  },
  {
   "cell_type": "code",
   "execution_count": null,
   "metadata": {
    "executionInfo": {
     "elapsed": 1996,
     "status": "aborted",
     "timestamp": 1646285185087,
     "user": {
      "displayName": "Alexander Zuluaga Quintero",
      "photoUrl": "https://lh3.googleusercontent.com/a-/AOh14Gi5bptZVpT8uPV-rsu1k3GPYeG1CXzkWxwYtJ_160M=s64",
      "userId": "06106219622026670571"
     },
     "user_tz": 300
    },
    "id": "C-RKVaY1PTIo"
   },
   "outputs": [],
   "source": [
    "## convierte los datos en string y\n",
    "## los guarda en un archivo \n",
    "with open('files/data.json', 'w') as f:\n",
    "    json.dump(obj = df,   # datos \n",
    "              fp = f)     # archivo"
   ]
  },
  {
   "cell_type": "code",
   "execution_count": null,
   "metadata": {
    "executionInfo": {
     "elapsed": 1995,
     "status": "aborted",
     "timestamp": 1646285185087,
     "user": {
      "displayName": "Alexander Zuluaga Quintero",
      "photoUrl": "https://lh3.googleusercontent.com/a-/AOh14Gi5bptZVpT8uPV-rsu1k3GPYeG1CXzkWxwYtJ_160M=s64",
      "userId": "06106219622026670571"
     },
     "user_tz": 300
    },
    "id": "G5Eb0UNLPTIo"
   },
   "outputs": [],
   "source": [
    "## recupera los datos desde el archivo\n",
    "with open('files/data.json', 'r') as f:\n",
    "    x = json.load(fp = f)\n",
    "x"
   ]
  },
  {
   "cell_type": "markdown",
   "metadata": {
    "id": "GZYME9UyPTIo"
   },
   "source": [
    "# Lectura y escritura de archivos usando Pandas"
   ]
  },
  {
   "cell_type": "markdown",
   "metadata": {
    "id": "ixe5qVthPTIo"
   },
   "source": [
    "[Contenido](#Contenido)"
   ]
  },
  {
   "cell_type": "code",
   "execution_count": null,
   "metadata": {
    "executionInfo": {
     "elapsed": 1994,
     "status": "aborted",
     "timestamp": 1646285185087,
     "user": {
      "displayName": "Alexander Zuluaga Quintero",
      "photoUrl": "https://lh3.googleusercontent.com/a-/AOh14Gi5bptZVpT8uPV-rsu1k3GPYeG1CXzkWxwYtJ_160M=s64",
      "userId": "06106219622026670571"
     },
     "user_tz": 300
    },
    "id": "yyfdJj2OPTIo"
   },
   "outputs": [],
   "source": [
    "import pandas\n",
    "\n",
    "## salida de texto\n",
    "pandas.set_option('display.notebook_repr_html', True)"
   ]
  },
  {
   "cell_type": "code",
   "execution_count": null,
   "metadata": {
    "executionInfo": {
     "elapsed": 1993,
     "status": "aborted",
     "timestamp": 1646285185088,
     "user": {
      "displayName": "Alexander Zuluaga Quintero",
      "photoUrl": "https://lh3.googleusercontent.com/a-/AOh14Gi5bptZVpT8uPV-rsu1k3GPYeG1CXzkWxwYtJ_160M=s64",
      "userId": "06106219622026670571"
     },
     "user_tz": 300
    },
    "id": "k_HnLzPGPTIo"
   },
   "outputs": [],
   "source": [
    "import pandas as pd"
   ]
  },
  {
   "cell_type": "markdown",
   "metadata": {
    "id": "-pBWXZntPTIp"
   },
   "source": [
    "**Datos de ejemplo**.  \n",
    "> [`pandas.DataFrame`](http://pandas.pydata.org/pandas-docs/stable/generated/pandas.DataFrame.html) "
   ]
  },
  {
   "cell_type": "code",
   "execution_count": null,
   "metadata": {
    "executionInfo": {
     "elapsed": 1992,
     "status": "aborted",
     "timestamp": 1646285185088,
     "user": {
      "displayName": "Alexander Zuluaga Quintero",
      "photoUrl": "https://lh3.googleusercontent.com/a-/AOh14Gi5bptZVpT8uPV-rsu1k3GPYeG1CXzkWxwYtJ_160M=s64",
      "userId": "06106219622026670571"
     },
     "user_tz": 300
    },
    "id": "-GjRE9PGPTIp"
   },
   "outputs": [],
   "source": [
    "## crea el DataFrame\n",
    "## los DataFrame en Pandas son diccionarios\n",
    "df = pandas.DataFrame( {'index': list(range(1,6)),\n",
    "                        'name': ['A', 'B', 'C', 'D', 'E'],\n",
    "                        'value': [3.03, 5.14, 0.40, 1.13, 8.25]})"
   ]
  },
  {
   "cell_type": "code",
   "execution_count": null,
   "metadata": {
    "executionInfo": {
     "elapsed": 1986,
     "status": "aborted",
     "timestamp": 1646285185089,
     "user": {
      "displayName": "Alexander Zuluaga Quintero",
      "photoUrl": "https://lh3.googleusercontent.com/a-/AOh14Gi5bptZVpT8uPV-rsu1k3GPYeG1CXzkWxwYtJ_160M=s64",
      "userId": "06106219622026670571"
     },
     "user_tz": 300
    },
    "id": "alty_9dqPTIp"
   },
   "outputs": [],
   "source": [
    "df"
   ]
  },
  {
   "cell_type": "markdown",
   "metadata": {
    "id": "0a1OgCX2PTIp"
   },
   "source": [
    "## Formato nativo de Python con Pandas"
   ]
  },
  {
   "cell_type": "markdown",
   "metadata": {
    "id": "_YiH0BUCPTIp"
   },
   "source": [
    "[Contenido](#Contenido)"
   ]
  },
  {
   "cell_type": "markdown",
   "metadata": {
    "id": "5ya9IjEuPTIq"
   },
   "source": [
    "> [`pandas.DataFrame`](http://pandas.pydata.org/pandas-docs/stable/generated/pandas.DataFrame.html)  \n",
    "[`pandas.DataFrame.to_pickle`](http://pandas.pydata.org/pandas-docs/stable/generated/pandas.DataFrame.to_pickle.html)  \n",
    "[`pandas.to_pickle`](http://pandas.pydata.org/pandas-docs/stable/io.html#io-pickle)  \n",
    "[`pandas.read_pickle`](http://pandas.pydata.org/pandas-docs/stable/io.html#io-pickle)"
   ]
  },
  {
   "cell_type": "code",
   "execution_count": null,
   "metadata": {
    "executionInfo": {
     "elapsed": 1985,
     "status": "aborted",
     "timestamp": 1646285185090,
     "user": {
      "displayName": "Alexander Zuluaga Quintero",
      "photoUrl": "https://lh3.googleusercontent.com/a-/AOh14Gi5bptZVpT8uPV-rsu1k3GPYeG1CXzkWxwYtJ_160M=s64",
      "userId": "06106219622026670571"
     },
     "user_tz": 300
    },
    "id": "2K8yb1egPTIq"
   },
   "outputs": [],
   "source": [
    "## pandas.DataFrame\n",
    "df.to_pickle('files/data.pickle')"
   ]
  },
  {
   "cell_type": "code",
   "execution_count": null,
   "metadata": {
    "executionInfo": {
     "elapsed": 1979,
     "status": "aborted",
     "timestamp": 1646285185090,
     "user": {
      "displayName": "Alexander Zuluaga Quintero",
      "photoUrl": "https://lh3.googleusercontent.com/a-/AOh14Gi5bptZVpT8uPV-rsu1k3GPYeG1CXzkWxwYtJ_160M=s64",
      "userId": "06106219622026670571"
     },
     "user_tz": 300
    },
    "id": "imvggpZDPTIq"
   },
   "outputs": [],
   "source": [
    "pandas.read_pickle('files/data.pickle')"
   ]
  },
  {
   "cell_type": "code",
   "execution_count": null,
   "metadata": {
    "executionInfo": {
     "elapsed": 1973,
     "status": "aborted",
     "timestamp": 1646285185091,
     "user": {
      "displayName": "Alexander Zuluaga Quintero",
      "photoUrl": "https://lh3.googleusercontent.com/a-/AOh14Gi5bptZVpT8uPV-rsu1k3GPYeG1CXzkWxwYtJ_160M=s64",
      "userId": "06106219622026670571"
     },
     "user_tz": 300
    },
    "id": "_Qdr-4YZPTIq"
   },
   "outputs": [],
   "source": [
    "pd.read_pickle('files/data.pickle')"
   ]
  },
  {
   "cell_type": "markdown",
   "metadata": {
    "id": "9mxRJKl7PTIq"
   },
   "source": [
    "## Archivos delimitados por caracteres con Pandas"
   ]
  },
  {
   "cell_type": "markdown",
   "metadata": {
    "id": "pcacFTQ5PTIq"
   },
   "source": [
    "[Contenido](#Contenido)"
   ]
  },
  {
   "cell_type": "markdown",
   "metadata": {
    "id": "VW-fNsb5PTIr"
   },
   "source": [
    "> [`pandas.DataFrame.to_csv`](http://pandas.pydata.org/pandas-docs/stable/generated/pandas.DataFrame.to_csv.html)  \n",
    "[`pandas.DataFrame.from_csv`](http://pandas.pydata.org/pandas-docs/stable/generated/pandas.DataFrame.from_csv.html)  \n",
    "[`pandas.to_csv`](http://pandas.pydata.org/pandas-docs/stable/io.html#io-store-in-csv)  \n",
    "[`pandas.read_csv`](http://pandas.pydata.org/pandas-docs/stable/io.html#io-read-csv-table)"
   ]
  },
  {
   "cell_type": "code",
   "execution_count": null,
   "metadata": {
    "executionInfo": {
     "elapsed": 1966,
     "status": "aborted",
     "timestamp": 1646285185091,
     "user": {
      "displayName": "Alexander Zuluaga Quintero",
      "photoUrl": "https://lh3.googleusercontent.com/a-/AOh14Gi5bptZVpT8uPV-rsu1k3GPYeG1CXzkWxwYtJ_160M=s64",
      "userId": "06106219622026670571"
     },
     "user_tz": 300
    },
    "id": "sI-G4i5aPTIr"
   },
   "outputs": [],
   "source": [
    "## escribe el archivo\n",
    "df.to_csv('files/data.csv',   # el nombre del archivo\n",
    "          index = False)      # imprime los nombres de las filas?\n",
    "\n",
    "## verifica el archivo creado\n",
    "print(open('files/data.csv', 'r').read())"
   ]
  },
  {
   "cell_type": "code",
   "execution_count": null,
   "metadata": {
    "executionInfo": {
     "elapsed": 1960,
     "status": "aborted",
     "timestamp": 1646285185092,
     "user": {
      "displayName": "Alexander Zuluaga Quintero",
      "photoUrl": "https://lh3.googleusercontent.com/a-/AOh14Gi5bptZVpT8uPV-rsu1k3GPYeG1CXzkWxwYtJ_160M=s64",
      "userId": "06106219622026670571"
     },
     "user_tz": 300
    },
    "id": "l0H74Nj9PTIr"
   },
   "outputs": [],
   "source": [
    "pandas.read_csv('files/data.csv')"
   ]
  },
  {
   "cell_type": "code",
   "execution_count": null,
   "metadata": {
    "executionInfo": {
     "elapsed": 1949,
     "status": "aborted",
     "timestamp": 1646285185092,
     "user": {
      "displayName": "Alexander Zuluaga Quintero",
      "photoUrl": "https://lh3.googleusercontent.com/a-/AOh14Gi5bptZVpT8uPV-rsu1k3GPYeG1CXzkWxwYtJ_160M=s64",
      "userId": "06106219622026670571"
     },
     "user_tz": 300
    },
    "id": "8gNlpK3IPTIr"
   },
   "outputs": [],
   "source": [
    "## opciones mas importantes\n",
    "pandas.read_csv('files/data.csv',  # el archivo\n",
    "                    sep = ',',         # separador de campos\n",
    "                    thousands = None,  # separador de miles para números\n",
    "                    decimal = '.')     # separador de los decimales para números"
   ]
  },
  {
   "cell_type": "markdown",
   "metadata": {
    "id": "r0xuCH1QPTIr"
   },
   "source": [
    "En español: ';' como separador de campos y ',' como separador decimal. "
   ]
  },
  {
   "cell_type": "code",
   "execution_count": null,
   "metadata": {
    "executionInfo": {
     "elapsed": 1943,
     "status": "aborted",
     "timestamp": 1646285185093,
     "user": {
      "displayName": "Alexander Zuluaga Quintero",
      "photoUrl": "https://lh3.googleusercontent.com/a-/AOh14Gi5bptZVpT8uPV-rsu1k3GPYeG1CXzkWxwYtJ_160M=s64",
      "userId": "06106219622026670571"
     },
     "user_tz": 300
    },
    "id": "4tghMYtGPTIr"
   },
   "outputs": [],
   "source": [
    "## escribe el archivo\n",
    "df.to_csv('files/data.csv2',     # nombre del archivo\n",
    "           sep = ';',            # separador de campos\n",
    "           decimal = ',',        # caracter decimal\n",
    "           index = False)        # imprime indice de las filas?\n",
    "\n",
    "## verifica el archivo creado\n",
    "print(open('files/data.csv2', 'r').read())"
   ]
  },
  {
   "cell_type": "code",
   "execution_count": null,
   "metadata": {
    "executionInfo": {
     "elapsed": 1937,
     "status": "aborted",
     "timestamp": 1646285185093,
     "user": {
      "displayName": "Alexander Zuluaga Quintero",
      "photoUrl": "https://lh3.googleusercontent.com/a-/AOh14Gi5bptZVpT8uPV-rsu1k3GPYeG1CXzkWxwYtJ_160M=s64",
      "userId": "06106219622026670571"
     },
     "user_tz": 300
    },
    "id": "kml5E4uYPTIs"
   },
   "outputs": [],
   "source": [
    "## lee el archivo\n",
    "pandas.read_csv('files/data.csv2',\n",
    "                 sep = ';',\n",
    "                 thousands = None,\n",
    "                 decimal = ',')"
   ]
  },
  {
   "cell_type": "markdown",
   "metadata": {
    "id": "ZMpOxY-0PTIs"
   },
   "source": [
    "## TXT como tabla de texto con Pandas"
   ]
  },
  {
   "cell_type": "markdown",
   "metadata": {
    "id": "PyDaHaJxPTIs"
   },
   "source": [
    "[Contenido](#Contenido)"
   ]
  },
  {
   "cell_type": "markdown",
   "metadata": {
    "id": "kClspTQaPTIs"
   },
   "source": [
    "> [`pandas.read_table`](http://pandas.pydata.org/pandas-docs/stable/generated/pandas.read_table.html#pandas.read_table)"
   ]
  },
  {
   "cell_type": "code",
   "execution_count": null,
   "metadata": {
    "executionInfo": {
     "elapsed": 1930,
     "status": "aborted",
     "timestamp": 1646285185093,
     "user": {
      "displayName": "Alexander Zuluaga Quintero",
      "photoUrl": "https://lh3.googleusercontent.com/a-/AOh14Gi5bptZVpT8uPV-rsu1k3GPYeG1CXzkWxwYtJ_160M=s64",
      "userId": "06106219622026670571"
     },
     "user_tz": 300
    },
    "id": "10RLiRbOPTIs"
   },
   "outputs": [],
   "source": [
    "## escribe el archivo\n",
    "df.to_csv('files/data.txt',     # nombre del archivo\n",
    "          sep = ' ',            # separador de campos\n",
    "          decimal = '.',        # caracter decimal\n",
    "          index = False)        # imprime indice de las filas?\n",
    "\n",
    "## verifica el archivo creado\n",
    "print(open('files/data.txt', 'r').read())"
   ]
  },
  {
   "cell_type": "code",
   "execution_count": null,
   "metadata": {
    "executionInfo": {
     "elapsed": 1924,
     "status": "aborted",
     "timestamp": 1646285185094,
     "user": {
      "displayName": "Alexander Zuluaga Quintero",
      "photoUrl": "https://lh3.googleusercontent.com/a-/AOh14Gi5bptZVpT8uPV-rsu1k3GPYeG1CXzkWxwYtJ_160M=s64",
      "userId": "06106219622026670571"
     },
     "user_tz": 300
    },
    "id": "7aACmfznPTIt"
   },
   "outputs": [],
   "source": [
    "# lee el archivo del disco\n",
    "pandas.read_table('files/data.txt',\n",
    "                   sep = ' ',\n",
    "                   decimal = '.',\n",
    "                   thousands = None)"
   ]
  },
  {
   "cell_type": "markdown",
   "metadata": {
    "id": "b7BM-mEHPTIt"
   },
   "source": [
    "## Formato de ancho fijo con Pandas"
   ]
  },
  {
   "cell_type": "markdown",
   "metadata": {
    "id": "ixEkEcwnPTIt"
   },
   "source": [
    "[Contenido](#Contenido)"
   ]
  },
  {
   "cell_type": "markdown",
   "metadata": {
    "id": "7AlFETk8PTIt"
   },
   "source": [
    "> [`pandas.read_fwf`](http://pandas.pydata.org/pandas-docs/stable/generated/pandas.read_fwf.html)"
   ]
  },
  {
   "cell_type": "code",
   "execution_count": null,
   "metadata": {
    "executionInfo": {
     "elapsed": 1917,
     "status": "aborted",
     "timestamp": 1646285185094,
     "user": {
      "displayName": "Alexander Zuluaga Quintero",
      "photoUrl": "https://lh3.googleusercontent.com/a-/AOh14Gi5bptZVpT8uPV-rsu1k3GPYeG1CXzkWxwYtJ_160M=s64",
      "userId": "06106219622026670571"
     },
     "user_tz": 300
    },
    "id": "cRE-4NMgPTIt"
   },
   "outputs": [],
   "source": [
    "# crea un archivo separado por multiples espacios en blanco.\n",
    "# los nombres de las columnas están separados por comas.\n",
    "text = \"\"\"indexnames      valuescodes\n",
    "    1john wick    2.13   10\n",
    "    2mark twin    3.14   11\n",
    "    3louis ng     4.34   12\n",
    "    4dan brown    2.31   13\n",
    "    5ann marie    4.98   14\"\"\"\n",
    "\n",
    "with open('files/data.txt', 'w') as f:\n",
    "    f.write(text)\n",
    "    \n",
    "## verifica el archivo creado\n",
    "print(open('files/data.txt', 'r').read())"
   ]
  },
  {
   "cell_type": "code",
   "execution_count": null,
   "metadata": {
    "executionInfo": {
     "elapsed": 1910,
     "status": "aborted",
     "timestamp": 1646285185094,
     "user": {
      "displayName": "Alexander Zuluaga Quintero",
      "photoUrl": "https://lh3.googleusercontent.com/a-/AOh14Gi5bptZVpT8uPV-rsu1k3GPYeG1CXzkWxwYtJ_160M=s64",
      "userId": "06106219622026670571"
     },
     "user_tz": 300
    },
    "id": "sX6O0S9HPTIt"
   },
   "outputs": [],
   "source": [
    "pandas.read_fwf('files/data.txt', \n",
    "                colspecs = 'infer', \n",
    "                widths = [5, 9, 8, 5])"
   ]
  },
  {
   "cell_type": "markdown",
   "metadata": {
    "id": "yJWHeHmoPTIu"
   },
   "source": [
    "## JSON con Pandas"
   ]
  },
  {
   "cell_type": "markdown",
   "metadata": {
    "id": "GB31R1GFPTIu"
   },
   "source": [
    "[Contenido](#Contenido)"
   ]
  },
  {
   "cell_type": "markdown",
   "metadata": {
    "id": "A-SUo0F-PTIu"
   },
   "source": [
    "> [`pandas.DataFrame.to_json`](http://pandas.pydata.org/pandas-docs/stable/generated/pandas.DataFrame.to_json.html)  \n",
    "[`pandas.to_json`](http://pandas.pydata.org/pandas-docs/stable/io.html#io-json-writer)  \n",
    "[`pandas.read_json`](http://pandas.pydata.org/pandas-docs/stable/io.html#io-json-reader)  \n",
    "\n",
    "> `JSON` en [wikipedia](https://en.wikipedia.org/wiki/JSON)"
   ]
  },
  {
   "cell_type": "code",
   "execution_count": null,
   "metadata": {
    "executionInfo": {
     "elapsed": 1904,
     "status": "aborted",
     "timestamp": 1646285185095,
     "user": {
      "displayName": "Alexander Zuluaga Quintero",
      "photoUrl": "https://lh3.googleusercontent.com/a-/AOh14Gi5bptZVpT8uPV-rsu1k3GPYeG1CXzkWxwYtJ_160M=s64",
      "userId": "06106219622026670571"
     },
     "user_tz": 300
    },
    "id": "sd7qjgsBPTIu"
   },
   "outputs": [],
   "source": [
    "df"
   ]
  },
  {
   "cell_type": "code",
   "execution_count": null,
   "metadata": {
    "executionInfo": {
     "elapsed": 1897,
     "status": "aborted",
     "timestamp": 1646285185095,
     "user": {
      "displayName": "Alexander Zuluaga Quintero",
      "photoUrl": "https://lh3.googleusercontent.com/a-/AOh14Gi5bptZVpT8uPV-rsu1k3GPYeG1CXzkWxwYtJ_160M=s64",
      "userId": "06106219622026670571"
     },
     "user_tz": 300
    },
    "id": "ThX8RsOaPTIu"
   },
   "outputs": [],
   "source": [
    "## escribe el DataFrame al archivo\n",
    "df.to_json('files/data.json')\n",
    "\n",
    "## verifica el archivo creado\n",
    "print(open('files/data.json', 'r').read())"
   ]
  },
  {
   "cell_type": "code",
   "execution_count": null,
   "metadata": {
    "executionInfo": {
     "elapsed": 1889,
     "status": "aborted",
     "timestamp": 1646285185095,
     "user": {
      "displayName": "Alexander Zuluaga Quintero",
      "photoUrl": "https://lh3.googleusercontent.com/a-/AOh14Gi5bptZVpT8uPV-rsu1k3GPYeG1CXzkWxwYtJ_160M=s64",
      "userId": "06106219622026670571"
     },
     "user_tz": 300
    },
    "id": "KpWUNUo3PTIv"
   },
   "outputs": [],
   "source": [
    "## lo recupera \n",
    "pandas.read_json('files/data.json')"
   ]
  },
  {
   "cell_type": "code",
   "execution_count": null,
   "metadata": {
    "executionInfo": {
     "elapsed": 1882,
     "status": "aborted",
     "timestamp": 1646285185096,
     "user": {
      "displayName": "Alexander Zuluaga Quintero",
      "photoUrl": "https://lh3.googleusercontent.com/a-/AOh14Gi5bptZVpT8uPV-rsu1k3GPYeG1CXzkWxwYtJ_160M=s64",
      "userId": "06106219622026670571"
     },
     "user_tz": 300
    },
    "id": "dh1H6XMnPTIv"
   },
   "outputs": [],
   "source": [
    "## escribe el DataFrame al archivo\n",
    "df.to_json('files/data.json', index=False, orient='split')\n",
    "\n",
    "## verifica el archivo creado\n",
    "print(open('files/data.json', 'r').read())"
   ]
  },
  {
   "cell_type": "code",
   "execution_count": null,
   "metadata": {
    "executionInfo": {
     "elapsed": 1873,
     "status": "aborted",
     "timestamp": 1646285185096,
     "user": {
      "displayName": "Alexander Zuluaga Quintero",
      "photoUrl": "https://lh3.googleusercontent.com/a-/AOh14Gi5bptZVpT8uPV-rsu1k3GPYeG1CXzkWxwYtJ_160M=s64",
      "userId": "06106219622026670571"
     },
     "user_tz": 300
    },
    "id": "t1HEhdWtPTIv"
   },
   "outputs": [],
   "source": [
    "## lo recupera \n",
    "pandas.read_json('files/data.json', orient='split')"
   ]
  },
  {
   "cell_type": "code",
   "execution_count": null,
   "metadata": {
    "executionInfo": {
     "elapsed": 1865,
     "status": "aborted",
     "timestamp": 1646285185096,
     "user": {
      "displayName": "Alexander Zuluaga Quintero",
      "photoUrl": "https://lh3.googleusercontent.com/a-/AOh14Gi5bptZVpT8uPV-rsu1k3GPYeG1CXzkWxwYtJ_160M=s64",
      "userId": "06106219622026670571"
     },
     "user_tz": 300
    },
    "id": "9-pYD-miPTIv"
   },
   "outputs": [],
   "source": [
    "## escribe el DataFrame al archivo\n",
    "df.to_json('files/data.json', orient='records')\n",
    "\n",
    "## verifica el archivo creado\n",
    "print(open('files/data.json', 'r').read())"
   ]
  },
  {
   "cell_type": "code",
   "execution_count": null,
   "metadata": {
    "executionInfo": {
     "elapsed": 1857,
     "status": "aborted",
     "timestamp": 1646285185097,
     "user": {
      "displayName": "Alexander Zuluaga Quintero",
      "photoUrl": "https://lh3.googleusercontent.com/a-/AOh14Gi5bptZVpT8uPV-rsu1k3GPYeG1CXzkWxwYtJ_160M=s64",
      "userId": "06106219622026670571"
     },
     "user_tz": 300
    },
    "id": "-lqwI2uAPTIv"
   },
   "outputs": [],
   "source": [
    "## lo recupera \n",
    "pandas.read_json('files/data.json', orient='records')"
   ]
  },
  {
   "cell_type": "markdown",
   "metadata": {
    "id": "Dd93r3JfPTIv"
   },
   "source": [
    "## HTML con Pandas"
   ]
  },
  {
   "cell_type": "markdown",
   "metadata": {
    "id": "2g0XpRaIPTIw"
   },
   "source": [
    "[Contenido](#Contenido)"
   ]
  },
  {
   "cell_type": "markdown",
   "metadata": {
    "id": "U2vP7pE7PTIw"
   },
   "source": [
    "> [`pandas.DataFrame.to_html`](http://pandas.pydata.org/pandas-docs/stable/generated/pandas.DataFrame.to_html.html)   \n",
    "[`pandas.to_html`](http://pandas.pydata.org/pandas-docs/stable/io.html#io-html)  \n",
    "[`pandas.read_html`](http://pandas.pydata.org/pandas-docs/stable/io.html#io-read-html) "
   ]
  },
  {
   "cell_type": "code",
   "execution_count": null,
   "metadata": {
    "executionInfo": {
     "elapsed": 1848,
     "status": "aborted",
     "timestamp": 1646285185097,
     "user": {
      "displayName": "Alexander Zuluaga Quintero",
      "photoUrl": "https://lh3.googleusercontent.com/a-/AOh14Gi5bptZVpT8uPV-rsu1k3GPYeG1CXzkWxwYtJ_160M=s64",
      "userId": "06106219622026670571"
     },
     "user_tz": 300
    },
    "id": "FGLMYmMtPTIw"
   },
   "outputs": [],
   "source": [
    "## convierte el DataFrame a HTML\n",
    "df.to_html('files/data.html',\n",
    "           index = False)\n",
    "\n",
    "## verifica el archivo creado\n",
    "print(open('files/data.html', 'r').read())"
   ]
  },
  {
   "cell_type": "code",
   "execution_count": null,
   "metadata": {
    "executionInfo": {
     "elapsed": 1840,
     "status": "aborted",
     "timestamp": 1646285185097,
     "user": {
      "displayName": "Alexander Zuluaga Quintero",
      "photoUrl": "https://lh3.googleusercontent.com/a-/AOh14Gi5bptZVpT8uPV-rsu1k3GPYeG1CXzkWxwYtJ_160M=s64",
      "userId": "06106219622026670571"
     },
     "user_tz": 300
    },
    "id": "5VsLBW50PTIw"
   },
   "outputs": [],
   "source": [
    "pandas.read_html('files/data.html')"
   ]
  },
  {
   "cell_type": "code",
   "execution_count": null,
   "metadata": {
    "executionInfo": {
     "elapsed": 1833,
     "status": "aborted",
     "timestamp": 1646285185098,
     "user": {
      "displayName": "Alexander Zuluaga Quintero",
      "photoUrl": "https://lh3.googleusercontent.com/a-/AOh14Gi5bptZVpT8uPV-rsu1k3GPYeG1CXzkWxwYtJ_160M=s64",
      "userId": "06106219622026670571"
     },
     "user_tz": 300
    },
    "id": "jqQ2EW02PTIw"
   },
   "outputs": [],
   "source": [
    "df1 = pandas.read_html('files/data.html')\n",
    "type(df1[0])"
   ]
  },
  {
   "cell_type": "markdown",
   "metadata": {
    "id": "AHUo5EKiPTIw"
   },
   "source": [
    "## Excel con Pandas"
   ]
  },
  {
   "cell_type": "markdown",
   "metadata": {
    "id": "UQK5OgUNPTIx"
   },
   "source": [
    "[Contenido](#Contenido)"
   ]
  },
  {
   "cell_type": "markdown",
   "metadata": {
    "id": "GqrN99srPTIx"
   },
   "source": [
    "\n",
    "> [`pandas.DataFrame.to_excel`](http://pandas.pydata.org/pandas-docs/stable/generated/pandas.DataFrame.to_excel.html)  \n",
    "[`pandas.to_excel`](http://pandas.pydata.org/pandas-docs/stable/io.html#io-excel-writer)  \n",
    "[`pandas.read_excel`](http://pandas.pydata.org/pandas-docs/stable/io.html#io-excel-reader) "
   ]
  },
  {
   "cell_type": "code",
   "execution_count": null,
   "metadata": {
    "executionInfo": {
     "elapsed": 1831,
     "status": "aborted",
     "timestamp": 1646285185098,
     "user": {
      "displayName": "Alexander Zuluaga Quintero",
      "photoUrl": "https://lh3.googleusercontent.com/a-/AOh14Gi5bptZVpT8uPV-rsu1k3GPYeG1CXzkWxwYtJ_160M=s64",
      "userId": "06106219622026670571"
     },
     "user_tz": 300
    },
    "id": "HPMdCrAGPTIx"
   },
   "outputs": [],
   "source": [
    "df.to_excel('files/data.xlsx',\n",
    "            index = False)"
   ]
  },
  {
   "cell_type": "code",
   "execution_count": null,
   "metadata": {
    "executionInfo": {
     "elapsed": 1820,
     "status": "aborted",
     "timestamp": 1646285185098,
     "user": {
      "displayName": "Alexander Zuluaga Quintero",
      "photoUrl": "https://lh3.googleusercontent.com/a-/AOh14Gi5bptZVpT8uPV-rsu1k3GPYeG1CXzkWxwYtJ_160M=s64",
      "userId": "06106219622026670571"
     },
     "user_tz": 300
    },
    "id": "0xFgN2BpPTIx"
   },
   "outputs": [],
   "source": [
    "import pandas\n",
    "pandas.read_excel('files/data.xlsx')"
   ]
  }
 ],
 "metadata": {
  "anaconda-cloud": {},
  "colab": {
   "collapsed_sections": [
    "wK-YQyvFPTIh",
    "-vV15UJZPTIi",
    "qs47UVduPTIj",
    "Wo4MUL9mPTIk",
    "XnCRUMaaPTIn",
    "GZYME9UyPTIo",
    "0a1OgCX2PTIp",
    "9mxRJKl7PTIq",
    "ZMpOxY-0PTIs",
    "b7BM-mEHPTIt",
    "yJWHeHmoPTIu",
    "Dd93r3JfPTIv",
    "AHUo5EKiPTIw",
    "DqjRpe6tPTIx",
    "6beEikN1PTIy",
    "-nml3HgrPTIz",
    "ho42iKupPTIz"
   ],
   "name": "04-extraccion-datos.ipynb",
   "provenance": []
  },
  "kernelspec": {
   "display_name": "Python 3 (ipykernel)",
   "language": "python",
   "name": "python3"
  },
  "language_info": {
   "codemirror_mode": {
    "name": "ipython",
    "version": 3
   },
   "file_extension": ".py",
   "mimetype": "text/x-python",
   "name": "python",
   "nbconvert_exporter": "python",
   "pygments_lexer": "ipython3",
   "version": "3.8.12"
  }
 },
 "nbformat": 4,
 "nbformat_minor": 1
}
