{
 "cells": [
  {
   "cell_type": "markdown",
   "id": "c37f4663",
   "metadata": {},
   "source": [
    "Manejo de Excepciones en Python\n",
    "===\n",
    "\n",
    "Un pequeño error de tipeo puede conducir a un error en cualquier lenguaje de programación porque debemos seguir las reglas de sintaxis al codificar en cualquiera lenguaje. Lo mismo ocurre con python, por tanto, en este documento, aprenderemos sobre los errores de sintaxis y las excepciones, además de una lista de errores comunes en python. Usaremos las sentencias ```try```, ```catch``` y ```finally```, con la ayuda de ejemplos apropiados."
   ]
  },
  {
   "cell_type": "markdown",
   "id": "404b8cbb",
   "metadata": {},
   "source": [
    "## Contenido\n",
    ">- [Error de sintaxis y excepciones](#Error-de-sintaxis-y-excepciones)\n",
    ">- [Captura de excepciones](#Captura-de-excepciones)\n",
    ">- [Captura de una excepción específica](#Captura-de-una-excepción-específica)\n",
    ">- [Try con la cláusula Else](#Try-con-la-cláusula-Else)\n",
    ">- [Palabra clave Finally en Python](#Palabra-clave-Finally-en-Python)\n",
    ">- [Relanzando una Excepción](#Relanzando-una-Excepción)\n",
    ">- [Excepciones definidas por el usuario](#Excepciones-definidas-por-el-usuario)"
   ]
  },
  {
   "cell_type": "markdown",
   "id": "8164a6b1",
   "metadata": {},
   "source": [
    "## Error de sintaxis y excepciones\n",
    "\n",
    "[Contenido](#Contenido)\n",
    "\n",
    "### Error de sintaxis\n",
    "Como sugiere el nombre, este error se debe a una sintaxis incorrecta en el código. Conduce a la terminación del programa."
   ]
  },
  {
   "cell_type": "code",
   "execution_count": null,
   "id": "a3c99616",
   "metadata": {},
   "outputs": [],
   "source": [
    "# initialize the amount variable\n",
    "amount = 10000\n",
    "\n",
    "# check that You are eligible to\n",
    "# purchase Dsa Self Paced or not\n",
    "if(amount > 2999)\n",
    "print(\"You are eligible to purchase Dsa Self Paced\")"
   ]
  },
  {
   "cell_type": "markdown",
   "id": "ab2757a8",
   "metadata": {},
   "source": [
    "### Excepciones\n",
    "Se generan excepciones cuando el programa es sintácticamente correcto, pero la ejecución del código resultó en un error. Este error no detiene la ejecución del programa, sin embargo, cambia el flujo normal del mismo."
   ]
  },
  {
   "cell_type": "code",
   "execution_count": null,
   "id": "5e728ca4",
   "metadata": {},
   "outputs": [],
   "source": [
    "# initialize the amount variable\n",
    "marks = 10000\n",
    "\n",
    "# perform division with 0\n",
    "a = marks / 0\n",
    "print(a)"
   ]
  },
  {
   "cell_type": "markdown",
   "id": "e92b47c4",
   "metadata": {},
   "source": [
    "**Nota:** *Exception* es la clase base para todas las excepciones en Python. Puede consultar la jerarquía de excepciones haciendo clic [aquí](https://docs.python.org/2/library/exceptions.html#exception-hierarchy)."
   ]
  },
  {
   "cell_type": "markdown",
   "id": "a4b60280",
   "metadata": {},
   "source": [
    "## Captura de excepciones\n",
    "\n",
    "Las declaraciones **Try** y **Except** se utilizan para capturar y manejar excepciones en Python. Las declaraciones que pueden generar excepciones se mantienen dentro de la cláusula try y las declaraciones que manejan la excepción se escriben dentro de la cláusula except.\n",
    "\n",
    "### Sintaxis\n",
    "\n",
    "```\n",
    "try:\n",
    "    # Some Code\n",
    "except:\n",
    "    # Executed if error in the\n",
    "    # try block\n",
    "```\n",
    "\n",
    "### ¿Cómo funciona?\n",
    "\n",
    "- Primero, se ejecuta la cláusula Try, es decir, el código entre la cláusula Try y Except.\n",
    "- Si no hay ninguna excepción, solo se ejecutará la cláusula Try, excepto que la cláusula esté terminada.\n",
    "- Si se produce alguna excepción, se omitirá la cláusula Try y se ejecutará la cláusula Except.\n",
    "- Si ocurre alguna excepción, pero la cláusula Except no la maneja, se pasa a las declaraciones Try externas. - Si la excepción no se controla, la ejecución se detiene.\n",
    "- Una declaración Try puede tener más de una cláusula Except.\n",
    "\n",
    "[Contenido](#Contenido)"
   ]
  },
  {
   "cell_type": "code",
   "execution_count": null,
   "id": "593d76c6",
   "metadata": {},
   "outputs": [],
   "source": [
    "# Python program to handle simple runtime error\n",
    "\n",
    "a = [1, 2, 3]\n",
    "try:\n",
    "    print (\"Second element = %d\" %(a[1]))\n",
    "\n",
    "    # Throws error since there are only 3 elements in array\n",
    "    print (\"Fourth element = %d\" %(a[3]))\n",
    "\n",
    "except:\n",
    "    print (\"An error occurred\")"
   ]
  },
  {
   "cell_type": "markdown",
   "id": "c2c34f9d",
   "metadata": {},
   "source": [
    "La segunda declaración print() intenta acceder al cuarto elemento de la lista que no está allí y esto arroja una excepción. Luego, esta excepción es capturada por la declaración Except."
   ]
  },
  {
   "cell_type": "markdown",
   "id": "25f4087d",
   "metadata": {},
   "source": [
    "## Captura de una excepción específica\n",
    "\n",
    "Una sentencia puede tener más de una cláusula except, ésto para controlar diferentes excepciones. Tenga en cuenta que se ejecutará como máximo un control.\n",
    "\n",
    "[Contenido](#Contenido)"
   ]
  },
  {
   "cell_type": "code",
   "execution_count": null,
   "id": "6c69e3f8",
   "metadata": {},
   "outputs": [],
   "source": [
    "# Program to handle multiple errors\n",
    "\n",
    "def fun(a):\n",
    "    if a < 4:\n",
    "\n",
    "        # throws ZeroDivisionError for a = 3\n",
    "        b = a/(a-3)\n",
    "\n",
    "    # throws NameError if a >= 4\n",
    "    print(\"Value of b = \", b)\n",
    "\n",
    "try:\n",
    "    fun(3)\n",
    "    fun(5)\n",
    "\n",
    "# note that braces () are necessary here for\n",
    "# multiple exceptions\n",
    "except ZeroDivisionError:\n",
    "    print(\"ZeroDivisionError Occurred and Handled\")\n",
    "except NameError:\n",
    "    print(\"NameError Occurred and Handled\")"
   ]
  },
  {
   "cell_type": "code",
   "execution_count": null,
   "id": "022d1b04",
   "metadata": {},
   "outputs": [],
   "source": [
    "# Program to handle multiple errors\n",
    "\n",
    "def fun(a):\n",
    "    if a < 4:\n",
    "\n",
    "        # throws ZeroDivisionError for a = 3\n",
    "        b = a/(a-3)\n",
    "\n",
    "    # throws NameError if a >= 4\n",
    "    print(\"Value of b = \", b)\n",
    "\n",
    "try:\n",
    "    #]fun(3)\n",
    "    fun(5)\n",
    "\n",
    "# note that braces () are necessary here for\n",
    "# multiple exceptions\n",
    "except ZeroDivisionError:\n",
    "    print(\"ZeroDivisionError Occurred and Handled\")\n",
    "except NameError:\n",
    "    print(\"NameError Occurred and Handled\")"
   ]
  },
  {
   "cell_type": "markdown",
   "id": "50267e07",
   "metadata": {},
   "source": [
    "## Try con la cláusula Else\n",
    "\n",
    "En python, también puede usar la cláusula else en el bloque try-except, el cual debe estar presente después de todas las cláusulas except. El código ingresa al bloque else solo si la cláusula try no genera una excepción.\n",
    "\n",
    "[Contenido](#Contenido)"
   ]
  },
  {
   "cell_type": "code",
   "execution_count": null,
   "id": "c9239efe",
   "metadata": {},
   "outputs": [],
   "source": [
    "# Program to depict else clause with try-except\n",
    "# Function which returns a/b\n",
    "def AbyB(a, b):\n",
    "    try:\n",
    "        c = ((a+b) / (a-b))\n",
    "    except ZeroDivisionError:\n",
    "        print (\"a/b result in 0\")\n",
    "    else:\n",
    "        print (c)\n",
    "\n",
    "# Driver program to test above function\n",
    "AbyB(2.0, 3.0)\n",
    "AbyB(3.0, 3.0)"
   ]
  },
  {
   "cell_type": "markdown",
   "id": "dc6a866b",
   "metadata": {},
   "source": [
    "## Palabra clave Finally en Python\n",
    "\n",
    "Python proporciona una palabra clave finally, que siempre se ejecuta después de los bloques try y except. El bloque finally siempre se ejecuta después de la finalización normal del bloque de prueba o después de que finaliza el bloque normal debido a alguna excepción.\n",
    "\n",
    "[Contenido](#Contenido)"
   ]
  },
  {
   "cell_type": "code",
   "execution_count": null,
   "id": "1b195d9d",
   "metadata": {},
   "outputs": [],
   "source": [
    "# Python program to demonstrate finally\n",
    "\n",
    "# No exception Exception raised in try block\n",
    "try:\n",
    "    k = 5//0 # raises divide by zero exception.\n",
    "    print(k)\n",
    "\n",
    "# handles zerodivision exception\n",
    "except ZeroDivisionError:\n",
    "    print(\"Can't divide by zero\")\n",
    "\n",
    "finally:\n",
    "    # this block is always executed\n",
    "    # regardless of exception generation.\n",
    "    print('This is always executed')"
   ]
  },
  {
   "cell_type": "markdown",
   "id": "c3639b01",
   "metadata": {},
   "source": [
    "## Relanzando una Excepción\n",
    "\n",
    "La declaración raise permite al programador forzar que ocurra una excepción específica. El único argumento de raise indica la excepción que se va a generar. Debe ser una instancia de excepción o una clase de excepción (una clase que se deriva de Exception).\n",
    "\n",
    "[Contenido](#Contenido)"
   ]
  },
  {
   "cell_type": "code",
   "execution_count": null,
   "id": "2ca16fbd",
   "metadata": {},
   "outputs": [],
   "source": [
    "# raise Without Specifying Exception Class\n",
    "\n",
    "a = 10\n",
    "b = 0\n",
    "try:\n",
    "    print(a/b)\n",
    "except ZeroDivisionError:\n",
    "    raise"
   ]
  },
  {
   "cell_type": "code",
   "execution_count": null,
   "id": "e0f6776b",
   "metadata": {},
   "outputs": [],
   "source": [
    "# raise With an Argument\n",
    "\n",
    "a = 10\n",
    "b = 0\n",
    "try:\n",
    "    # condition for checking for negative values\n",
    "    if a < 0 or b < 0:\n",
    "        raise Exception(\"Please enter valid integer value\")\n",
    "    if b <= 0:\n",
    "        raise ZeroDivisionError(\"Please enter value greater than zero\")\n",
    "    print(a/b)\n",
    "except ZeroDivisionError:\n",
    "    print (\"An exception\")\n",
    "    raise  # To determine whether the exception was raised or not"
   ]
  },
  {
   "cell_type": "markdown",
   "id": "f1ba78df",
   "metadata": {},
   "source": [
    "## Excepciones definidas por el usuario\n",
    "\n",
    "Un desarrollador puede nombrar sus propias excepciones creando una nueva clase tipo excepción. Las excepciones deben heredarse de la clase Exception, ya sea directa o indirectamente. Aunque no es obligatorio, la mayoría de las excepciones se nombran usando como terminación \"Error\", similar a la denominación de las excepciones estándar en python.\n",
    "\n",
    "[Contenido](#Contenido)"
   ]
  },
  {
   "cell_type": "code",
   "execution_count": null,
   "id": "9a7c59f4",
   "metadata": {},
   "outputs": [],
   "source": [
    "# Knowing all about Exception Class\n",
    "\n",
    "help(Exception)"
   ]
  },
  {
   "cell_type": "code",
   "execution_count": null,
   "id": "14816fe1",
   "metadata": {},
   "outputs": [],
   "source": [
    "# A python program to create user-defined exception\n",
    "\n",
    "# class MyException is derived from super class Exception\n",
    "class MyException(Exception):\n",
    "\n",
    "    # Constructor or Initializer\n",
    "    def __init__(self, value):\n",
    "        self.value = value\n",
    "\n",
    "    # __str__ is to print() the value\n",
    "    def __str__(self):\n",
    "        return(repr(self.value))\n",
    "\n",
    "try:\n",
    "    raise(MyException(5*2))\n",
    "\n",
    "# Value of Exception is stored in error\n",
    "except MyException as error:\n",
    "    print('A New Exception occured: ', error.value)"
   ]
  }
 ],
 "metadata": {
  "kernelspec": {
   "display_name": "Python 3 (ipykernel)",
   "language": "python",
   "name": "python3"
  },
  "language_info": {
   "codemirror_mode": {
    "name": "ipython",
    "version": 3
   },
   "file_extension": ".py",
   "mimetype": "text/x-python",
   "name": "python",
   "nbconvert_exporter": "python",
   "pygments_lexer": "ipython3",
   "version": "3.8.12"
  }
 },
 "nbformat": 4,
 "nbformat_minor": 5
}
